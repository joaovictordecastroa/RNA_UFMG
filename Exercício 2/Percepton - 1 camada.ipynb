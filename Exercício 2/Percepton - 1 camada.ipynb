{
 "metadata": {
  "language_info": {
   "codemirror_mode": {
    "name": "ipython",
    "version": 3
   },
   "file_extension": ".py",
   "mimetype": "text/x-python",
   "name": "python",
   "nbconvert_exporter": "python",
   "pygments_lexer": "ipython3",
   "version": "3.9.0-final"
  },
  "orig_nbformat": 2,
  "kernelspec": {
   "name": "python3",
   "display_name": "Python 3.9.0 64-bit",
   "metadata": {
    "interpreter": {
     "hash": "c281f5ffad8d3378c584d1c1169736df5f9257f4be418c2211d183e02d5a4c0d"
    }
   }
  }
 },
 "nbformat": 4,
 "nbformat_minor": 2,
 "cells": [
  {
   "cell_type": "code",
   "execution_count": 2,
   "metadata": {},
   "outputs": [
    {
     "output_type": "stream",
     "name": "stdout",
     "text": [
      "Init training\nPeso atualizado:  [0. 0.]\nPeso atualizado:  [0. 0.]\nPeso atualizado:  [0. 0.]\nPeso atualizado:  [0. 0.]\nPeso atualizado:  [0. 0.]\nPeso atualizado:  [0. 0.]\nPeso atualizado:  [0.1 0. ]\nPeso atualizado:  [0.1 0.1]\nPeso atualizado:  [0.1 0.1]\nPeso atualizado:  [0.1 0.1]\nPeso atualizado:  [0.1 0.1]\nPeso atualizado:  [0.1 0.1]\nPeso atualizado:  [0.1 0.1]\nPeso atualizado:  [0.1 0.1]\nPeso atualizado:  [0.2 0.1]\nPeso atualizado:  [0.2 0.2]\nPeso atualizado:  [0.2 0.2]\nPeso atualizado:  [0.2 0.2]\nPeso atualizado:  [0.2 0.2]\nPeso atualizado:  [0.2 0.2]\nPeso atualizado:  [0.2 0.2]\nPeso atualizado:  [0.2 0.2]\nPeso atualizado:  [0.3 0.2]\nPeso atualizado:  [0.3 0.3]\nPeso atualizado:  [0.3 0.3]\nPeso atualizado:  [0.3 0.3]\nPeso atualizado:  [0.3 0.3]\nPeso atualizado:  [0.3 0.3]\nPeso atualizado:  [0.3 0.3]\nPeso atualizado:  [0.3 0.3]\nPeso atualizado:  [0.4 0.3]\nPeso atualizado:  [0.4 0.4]\nPeso atualizado:  [0.4 0.4]\nPeso atualizado:  [0.4 0.4]\nPeso atualizado:  [0.4 0.4]\nPeso atualizado:  [0.4 0.4]\nPeso atualizado:  [0.4 0.4]\nPeso atualizado:  [0.4 0.4]\nPeso atualizado:  [0.5 0.4]\nPeso atualizado:  [0.5 0.5]\nPeso atualizado:  [0.5 0.5]\nPeso atualizado:  [0.5 0.5]\nPeso atualizado:  [0.5 0.5]\nPeso atualizado:  [0.5 0.5]\nPeso atualizado:  [0.5 0.5]\nPeso atualizado:  [0.5 0.5]\nPeso atualizado:  [0.5 0.5]\nPeso atualizado:  [0.5 0.5]\n"
     ]
    },
    {
     "output_type": "execute_result",
     "data": {
      "text/plain": [
       "False"
      ]
     },
     "metadata": {},
     "execution_count": 2
    }
   ],
   "source": [
    "import numpy as np\n",
    "\n",
    "# Entradas\n",
    "inputs = np.array([[0.0, 0.0], [0.0,1.0], [1.0,0.0], [1.0,1.0]])\n",
    "# Saídas\n",
    "outputs = np.array([0.0, 0.0, 0.0, 1.0])\n",
    "# Pesos\n",
    "weights = np.array([0.0, 0.0])\n",
    "# Taxa de aprendizagem\n",
    "learning_rate = 0.1\n",
    "\n",
    "\n",
    "def step_function(sommatory):\n",
    "    return 1.0 if sommatory >= 1 else 0.0\n",
    "\n",
    "\n",
    "# Potêncial de ativação\n",
    "def activation_potential(inputs, weights):\n",
    "    return step_function(inputs.dot(weights))\n",
    "\n",
    "def training():\n",
    "    print('Init training')\n",
    "\n",
    "    recalculated_weight = []\n",
    "\n",
    "    while(True):\n",
    "        erro = 0\n",
    "        for i in range(len(outputs)):\n",
    "            u = activation_potential(inputs[i], weights)\n",
    "\n",
    "            output = step_function(u)\n",
    "\n",
    "            erro += outputs[i] - output\n",
    "\n",
    "            for j in range(len(weights)):\n",
    "                # delta rule\n",
    "                weights[j] = weights[j] + (learning_rate * inputs[i][j] * erro)\n",
    "                print('Peso atualizado: ', weights)\n",
    "            \n",
    "        if (erro == 0):\n",
    "            return False\n",
    "\n",
    "training()"
   ]
  }
 ]
}