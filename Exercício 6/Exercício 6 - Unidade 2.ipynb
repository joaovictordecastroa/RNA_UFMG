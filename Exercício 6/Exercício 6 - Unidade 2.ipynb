{
 "metadata": {
  "language_info": {
   "codemirror_mode": {
    "name": "ipython",
    "version": 3
   },
   "file_extension": ".py",
   "mimetype": "text/x-python",
   "name": "python",
   "nbconvert_exporter": "python",
   "pygments_lexer": "ipython3",
   "version": "3.9.0-final"
  },
  "orig_nbformat": 2,
  "kernelspec": {
   "name": "python3",
   "display_name": "Python 3.9.0 64-bit",
   "metadata": {
    "interpreter": {
     "hash": "c281f5ffad8d3378c584d1c1169736df5f9257f4be418c2211d183e02d5a4c0d"
    }
   }
  }
 },
 "nbformat": 4,
 "nbformat_minor": 2,
 "cells": [
  {
   "cell_type": "code",
   "execution_count": 2,
   "metadata": {},
   "outputs": [],
   "source": [
    "import pandas as pd\n",
    "from ELM import ELM \n",
    "import numpy as np\n",
    "\n",
    "#loading dataset \n",
    "df = pd.read_csv('./wdbc.data', sep=\",\")\n",
    "classes = df.iloc[:,1]\n",
    "classes = classes.to_frame('class')\n",
    "classes.iloc[classes['class'] == 'B'] = -1\n",
    "classes.iloc[classes['class'] == 'M'] = 1\n",
    "df.drop(df.columns[[0, 1]], axis = 1, inplace = True) "
   ]
  },
  {
   "cell_type": "code",
   "execution_count": 3,
   "metadata": {},
   "outputs": [],
   "source": [
    "N = df.shape[0]\n",
    "mean = int(N/2)\n",
    "\n",
    "train_df = df[0:mean]\n",
    "test_df = df[mean:N]"
   ]
  },
  {
   "cell_type": "code",
   "execution_count": 4,
   "metadata": {},
   "outputs": [
    {
     "output_type": "stream",
     "name": "stdout",
     "text": [
      "accuracy 100 = [[59.154929577464785]]\n",
      "accuracy 10000 = [[50.70422535211267]]\n"
     ]
    }
   ],
   "source": [
    "epoch = 5\n",
    "erro_per_epoch = []\n",
    "\n",
    "for i in range(epoch):\n",
    "    p = 10**(i+1)\n",
    "    elm = ELM(neurons=p, n=train_df.shape[1])\n",
    "    result = elm.train(train_df.to_numpy(), classes[:mean].to_numpy())\n",
    "    Z = result['Z']\n",
    "    W = result['W']\n",
    "    weights = result['weights']\n",
    "    bias = result['bias']\n",
    "    Y = elm.predict(test_df.to_numpy(), W)\n",
    "    actual = (classes[mean:N].values.tolist() - Y).T.dot(classes[mean:N].values.tolist() - Y)/mean\n",
    "    accuracy = (1 - (actual)) * 100\n",
    "    print('accuracy', p, '=', accuracy)\n",
    "    \n"
   ]
  },
  {
   "cell_type": "code",
   "execution_count": null,
   "metadata": {},
   "outputs": [],
   "source": []
  }
 ]
}