{
 "metadata": {
  "language_info": {
   "codemirror_mode": {
    "name": "ipython",
    "version": 3
   },
   "file_extension": ".py",
   "mimetype": "text/x-python",
   "name": "python",
   "nbconvert_exporter": "python",
   "pygments_lexer": "ipython3",
   "version": "3.9.0-final"
  },
  "orig_nbformat": 2,
  "kernelspec": {
   "name": "python3",
   "display_name": "Python 3.9.0 64-bit",
   "metadata": {
    "interpreter": {
     "hash": "c281f5ffad8d3378c584d1c1169736df5f9257f4be418c2211d183e02d5a4c0d"
    }
   }
  }
 },
 "nbformat": 4,
 "nbformat_minor": 2,
 "cells": [
  {
   "cell_type": "code",
   "execution_count": 28,
   "metadata": {},
   "outputs": [
    {
     "output_type": "stream",
     "name": "stdout",
     "text": [
      "N = 10\n[[  1.         -15.        ]\n [  1.         -12.22222222]\n [  1.          -9.44444444]\n [  1.          -6.66666667]\n [  1.          -3.88888889]\n [  1.          -1.11111111]\n [  1.           1.66666667]\n [  1.           4.44444444]\n [  1.           7.22222222]\n [  1.          10.        ]]\n"
     ]
    },
    {
     "output_type": "display_data",
     "data": {
      "application/vnd.plotly.v1+json": {
       "config": {
        "plotlyServerURL": "https://plot.ly"
       },
       "data": [
        {
         "hoverinfo": "skip",
         "hovertemplate": "x=%{x}<br>y=%{y}<extra></extra>",
         "legendgroup": "",
         "marker": {
          "color": "red",
          "line": {
           "color": "black",
           "width": 2
          },
          "size": 8,
          "symbol": "circle"
         },
         "mode": "markers",
         "name": "",
         "orientation": "v",
         "showlegend": false,
         "type": "scatter",
         "x": [
          -15,
          -12.222222222222221,
          -9.444444444444445,
          -6.666666666666668,
          -3.8888888888888893,
          -1.1111111111111107,
          1.6666666666666643,
          4.444444444444443,
          7.222222222222221,
          10
         ],
         "xaxis": "x",
         "y": [
          73.97843702679296,
          50.37026073256916,
          23.638896397007425,
          17.49394613337101,
          2.0071074871936783,
          4.004272346554971,
          19.1797905507133,
          33.63909395617573,
          61.996813086287155,
          86.2090637458025
         ],
         "yaxis": "y"
        },
        {
         "line": {
          "color": "green"
         },
         "mode": "lines",
         "name": "Aproximation",
         "type": "scatter",
         "x": [
          -15,
          -12.222222222222221,
          -9.444444444444445,
          -6.666666666666668,
          -3.8888888888888893,
          -1.1111111111111107,
          1.6666666666666643,
          4.444444444444443,
          7.222222222222221,
          10
         ],
         "y": [
          30.47402652294653,
          31.980191328124363,
          33.486356133302195,
          34.99252093848002,
          36.49868574365785,
          38.004850548835684,
          39.511015354013516,
          41.01718015919135,
          42.52334496436917,
          44.029509769547005
         ]
        },
        {
         "line": {
          "color": "royalblue",
          "dash": "dash"
         },
         "mode": "lines",
         "name": "Fg(x)",
         "type": "scatter",
         "x": [
          -15,
          -12.222222222222221,
          -9.444444444444445,
          -6.666666666666668,
          -3.8888888888888893,
          -1.1111111111111107,
          1.6666666666666643,
          4.444444444444443,
          7.222222222222221,
          10
         ],
         "y": [
          77.5,
          48.02469135802469,
          26.26543209876543,
          12.222222222222225,
          5.895061728395062,
          7.283950617283951,
          16.38888888888888,
          33.209876543209866,
          57.746913580246904,
          90
         ]
        }
       ],
       "layout": {
        "height": 700,
        "legend": {
         "tracegroupgap": 0
        },
        "template": {
         "data": {
          "bar": [
           {
            "error_x": {
             "color": "rgb(36,36,36)"
            },
            "error_y": {
             "color": "rgb(36,36,36)"
            },
            "marker": {
             "line": {
              "color": "rgb(234,234,242)",
              "width": 0.5
             }
            },
            "type": "bar"
           }
          ],
          "barpolar": [
           {
            "marker": {
             "line": {
              "color": "rgb(234,234,242)",
              "width": 0.5
             }
            },
            "type": "barpolar"
           }
          ],
          "carpet": [
           {
            "aaxis": {
             "endlinecolor": "rgb(36,36,36)",
             "gridcolor": "white",
             "linecolor": "white",
             "minorgridcolor": "white",
             "startlinecolor": "rgb(36,36,36)"
            },
            "baxis": {
             "endlinecolor": "rgb(36,36,36)",
             "gridcolor": "white",
             "linecolor": "white",
             "minorgridcolor": "white",
             "startlinecolor": "rgb(36,36,36)"
            },
            "type": "carpet"
           }
          ],
          "choropleth": [
           {
            "colorbar": {
             "outlinewidth": 0,
             "tickcolor": "rgb(36,36,36)",
             "ticklen": 8,
             "ticks": "outside",
             "tickwidth": 2
            },
            "type": "choropleth"
           }
          ],
          "contour": [
           {
            "colorbar": {
             "outlinewidth": 0,
             "tickcolor": "rgb(36,36,36)",
             "ticklen": 8,
             "ticks": "outside",
             "tickwidth": 2
            },
            "colorscale": [
             [
              0,
              "rgb(2,4,25)"
             ],
             [
              0.06274509803921569,
              "rgb(24,15,41)"
             ],
             [
              0.12549019607843137,
              "rgb(47,23,57)"
             ],
             [
              0.18823529411764706,
              "rgb(71,28,72)"
             ],
             [
              0.25098039215686274,
              "rgb(97,30,82)"
             ],
             [
              0.3137254901960784,
              "rgb(123,30,89)"
             ],
             [
              0.3764705882352941,
              "rgb(150,27,91)"
             ],
             [
              0.4392156862745098,
              "rgb(177,22,88)"
             ],
             [
              0.5019607843137255,
              "rgb(203,26,79)"
             ],
             [
              0.5647058823529412,
              "rgb(223,47,67)"
             ],
             [
              0.6274509803921569,
              "rgb(236,76,61)"
             ],
             [
              0.6901960784313725,
              "rgb(242,107,73)"
             ],
             [
              0.7529411764705882,
              "rgb(244,135,95)"
             ],
             [
              0.8156862745098039,
              "rgb(245,162,122)"
             ],
             [
              0.8784313725490196,
              "rgb(246,188,153)"
             ],
             [
              0.9411764705882353,
              "rgb(247,212,187)"
             ],
             [
              1,
              "rgb(250,234,220)"
             ]
            ],
            "type": "contour"
           }
          ],
          "contourcarpet": [
           {
            "colorbar": {
             "outlinewidth": 0,
             "tickcolor": "rgb(36,36,36)",
             "ticklen": 8,
             "ticks": "outside",
             "tickwidth": 2
            },
            "type": "contourcarpet"
           }
          ],
          "heatmap": [
           {
            "colorbar": {
             "outlinewidth": 0,
             "tickcolor": "rgb(36,36,36)",
             "ticklen": 8,
             "ticks": "outside",
             "tickwidth": 2
            },
            "colorscale": [
             [
              0,
              "rgb(2,4,25)"
             ],
             [
              0.06274509803921569,
              "rgb(24,15,41)"
             ],
             [
              0.12549019607843137,
              "rgb(47,23,57)"
             ],
             [
              0.18823529411764706,
              "rgb(71,28,72)"
             ],
             [
              0.25098039215686274,
              "rgb(97,30,82)"
             ],
             [
              0.3137254901960784,
              "rgb(123,30,89)"
             ],
             [
              0.3764705882352941,
              "rgb(150,27,91)"
             ],
             [
              0.4392156862745098,
              "rgb(177,22,88)"
             ],
             [
              0.5019607843137255,
              "rgb(203,26,79)"
             ],
             [
              0.5647058823529412,
              "rgb(223,47,67)"
             ],
             [
              0.6274509803921569,
              "rgb(236,76,61)"
             ],
             [
              0.6901960784313725,
              "rgb(242,107,73)"
             ],
             [
              0.7529411764705882,
              "rgb(244,135,95)"
             ],
             [
              0.8156862745098039,
              "rgb(245,162,122)"
             ],
             [
              0.8784313725490196,
              "rgb(246,188,153)"
             ],
             [
              0.9411764705882353,
              "rgb(247,212,187)"
             ],
             [
              1,
              "rgb(250,234,220)"
             ]
            ],
            "type": "heatmap"
           }
          ],
          "heatmapgl": [
           {
            "colorbar": {
             "outlinewidth": 0,
             "tickcolor": "rgb(36,36,36)",
             "ticklen": 8,
             "ticks": "outside",
             "tickwidth": 2
            },
            "colorscale": [
             [
              0,
              "rgb(2,4,25)"
             ],
             [
              0.06274509803921569,
              "rgb(24,15,41)"
             ],
             [
              0.12549019607843137,
              "rgb(47,23,57)"
             ],
             [
              0.18823529411764706,
              "rgb(71,28,72)"
             ],
             [
              0.25098039215686274,
              "rgb(97,30,82)"
             ],
             [
              0.3137254901960784,
              "rgb(123,30,89)"
             ],
             [
              0.3764705882352941,
              "rgb(150,27,91)"
             ],
             [
              0.4392156862745098,
              "rgb(177,22,88)"
             ],
             [
              0.5019607843137255,
              "rgb(203,26,79)"
             ],
             [
              0.5647058823529412,
              "rgb(223,47,67)"
             ],
             [
              0.6274509803921569,
              "rgb(236,76,61)"
             ],
             [
              0.6901960784313725,
              "rgb(242,107,73)"
             ],
             [
              0.7529411764705882,
              "rgb(244,135,95)"
             ],
             [
              0.8156862745098039,
              "rgb(245,162,122)"
             ],
             [
              0.8784313725490196,
              "rgb(246,188,153)"
             ],
             [
              0.9411764705882353,
              "rgb(247,212,187)"
             ],
             [
              1,
              "rgb(250,234,220)"
             ]
            ],
            "type": "heatmapgl"
           }
          ],
          "histogram": [
           {
            "marker": {
             "colorbar": {
              "outlinewidth": 0,
              "tickcolor": "rgb(36,36,36)",
              "ticklen": 8,
              "ticks": "outside",
              "tickwidth": 2
             }
            },
            "type": "histogram"
           }
          ],
          "histogram2d": [
           {
            "colorbar": {
             "outlinewidth": 0,
             "tickcolor": "rgb(36,36,36)",
             "ticklen": 8,
             "ticks": "outside",
             "tickwidth": 2
            },
            "colorscale": [
             [
              0,
              "rgb(2,4,25)"
             ],
             [
              0.06274509803921569,
              "rgb(24,15,41)"
             ],
             [
              0.12549019607843137,
              "rgb(47,23,57)"
             ],
             [
              0.18823529411764706,
              "rgb(71,28,72)"
             ],
             [
              0.25098039215686274,
              "rgb(97,30,82)"
             ],
             [
              0.3137254901960784,
              "rgb(123,30,89)"
             ],
             [
              0.3764705882352941,
              "rgb(150,27,91)"
             ],
             [
              0.4392156862745098,
              "rgb(177,22,88)"
             ],
             [
              0.5019607843137255,
              "rgb(203,26,79)"
             ],
             [
              0.5647058823529412,
              "rgb(223,47,67)"
             ],
             [
              0.6274509803921569,
              "rgb(236,76,61)"
             ],
             [
              0.6901960784313725,
              "rgb(242,107,73)"
             ],
             [
              0.7529411764705882,
              "rgb(244,135,95)"
             ],
             [
              0.8156862745098039,
              "rgb(245,162,122)"
             ],
             [
              0.8784313725490196,
              "rgb(246,188,153)"
             ],
             [
              0.9411764705882353,
              "rgb(247,212,187)"
             ],
             [
              1,
              "rgb(250,234,220)"
             ]
            ],
            "type": "histogram2d"
           }
          ],
          "histogram2dcontour": [
           {
            "colorbar": {
             "outlinewidth": 0,
             "tickcolor": "rgb(36,36,36)",
             "ticklen": 8,
             "ticks": "outside",
             "tickwidth": 2
            },
            "colorscale": [
             [
              0,
              "rgb(2,4,25)"
             ],
             [
              0.06274509803921569,
              "rgb(24,15,41)"
             ],
             [
              0.12549019607843137,
              "rgb(47,23,57)"
             ],
             [
              0.18823529411764706,
              "rgb(71,28,72)"
             ],
             [
              0.25098039215686274,
              "rgb(97,30,82)"
             ],
             [
              0.3137254901960784,
              "rgb(123,30,89)"
             ],
             [
              0.3764705882352941,
              "rgb(150,27,91)"
             ],
             [
              0.4392156862745098,
              "rgb(177,22,88)"
             ],
             [
              0.5019607843137255,
              "rgb(203,26,79)"
             ],
             [
              0.5647058823529412,
              "rgb(223,47,67)"
             ],
             [
              0.6274509803921569,
              "rgb(236,76,61)"
             ],
             [
              0.6901960784313725,
              "rgb(242,107,73)"
             ],
             [
              0.7529411764705882,
              "rgb(244,135,95)"
             ],
             [
              0.8156862745098039,
              "rgb(245,162,122)"
             ],
             [
              0.8784313725490196,
              "rgb(246,188,153)"
             ],
             [
              0.9411764705882353,
              "rgb(247,212,187)"
             ],
             [
              1,
              "rgb(250,234,220)"
             ]
            ],
            "type": "histogram2dcontour"
           }
          ],
          "mesh3d": [
           {
            "colorbar": {
             "outlinewidth": 0,
             "tickcolor": "rgb(36,36,36)",
             "ticklen": 8,
             "ticks": "outside",
             "tickwidth": 2
            },
            "type": "mesh3d"
           }
          ],
          "parcoords": [
           {
            "line": {
             "colorbar": {
              "outlinewidth": 0,
              "tickcolor": "rgb(36,36,36)",
              "ticklen": 8,
              "ticks": "outside",
              "tickwidth": 2
             }
            },
            "type": "parcoords"
           }
          ],
          "pie": [
           {
            "automargin": true,
            "type": "pie"
           }
          ],
          "scatter": [
           {
            "marker": {
             "colorbar": {
              "outlinewidth": 0,
              "tickcolor": "rgb(36,36,36)",
              "ticklen": 8,
              "ticks": "outside",
              "tickwidth": 2
             }
            },
            "type": "scatter"
           }
          ],
          "scatter3d": [
           {
            "line": {
             "colorbar": {
              "outlinewidth": 0,
              "tickcolor": "rgb(36,36,36)",
              "ticklen": 8,
              "ticks": "outside",
              "tickwidth": 2
             }
            },
            "marker": {
             "colorbar": {
              "outlinewidth": 0,
              "tickcolor": "rgb(36,36,36)",
              "ticklen": 8,
              "ticks": "outside",
              "tickwidth": 2
             }
            },
            "type": "scatter3d"
           }
          ],
          "scattercarpet": [
           {
            "marker": {
             "colorbar": {
              "outlinewidth": 0,
              "tickcolor": "rgb(36,36,36)",
              "ticklen": 8,
              "ticks": "outside",
              "tickwidth": 2
             }
            },
            "type": "scattercarpet"
           }
          ],
          "scattergeo": [
           {
            "marker": {
             "colorbar": {
              "outlinewidth": 0,
              "tickcolor": "rgb(36,36,36)",
              "ticklen": 8,
              "ticks": "outside",
              "tickwidth": 2
             }
            },
            "type": "scattergeo"
           }
          ],
          "scattergl": [
           {
            "marker": {
             "colorbar": {
              "outlinewidth": 0,
              "tickcolor": "rgb(36,36,36)",
              "ticklen": 8,
              "ticks": "outside",
              "tickwidth": 2
             }
            },
            "type": "scattergl"
           }
          ],
          "scattermapbox": [
           {
            "marker": {
             "colorbar": {
              "outlinewidth": 0,
              "tickcolor": "rgb(36,36,36)",
              "ticklen": 8,
              "ticks": "outside",
              "tickwidth": 2
             }
            },
            "type": "scattermapbox"
           }
          ],
          "scatterpolar": [
           {
            "marker": {
             "colorbar": {
              "outlinewidth": 0,
              "tickcolor": "rgb(36,36,36)",
              "ticklen": 8,
              "ticks": "outside",
              "tickwidth": 2
             }
            },
            "type": "scatterpolar"
           }
          ],
          "scatterpolargl": [
           {
            "marker": {
             "colorbar": {
              "outlinewidth": 0,
              "tickcolor": "rgb(36,36,36)",
              "ticklen": 8,
              "ticks": "outside",
              "tickwidth": 2
             }
            },
            "type": "scatterpolargl"
           }
          ],
          "scatterternary": [
           {
            "marker": {
             "colorbar": {
              "outlinewidth": 0,
              "tickcolor": "rgb(36,36,36)",
              "ticklen": 8,
              "ticks": "outside",
              "tickwidth": 2
             }
            },
            "type": "scatterternary"
           }
          ],
          "surface": [
           {
            "colorbar": {
             "outlinewidth": 0,
             "tickcolor": "rgb(36,36,36)",
             "ticklen": 8,
             "ticks": "outside",
             "tickwidth": 2
            },
            "colorscale": [
             [
              0,
              "rgb(2,4,25)"
             ],
             [
              0.06274509803921569,
              "rgb(24,15,41)"
             ],
             [
              0.12549019607843137,
              "rgb(47,23,57)"
             ],
             [
              0.18823529411764706,
              "rgb(71,28,72)"
             ],
             [
              0.25098039215686274,
              "rgb(97,30,82)"
             ],
             [
              0.3137254901960784,
              "rgb(123,30,89)"
             ],
             [
              0.3764705882352941,
              "rgb(150,27,91)"
             ],
             [
              0.4392156862745098,
              "rgb(177,22,88)"
             ],
             [
              0.5019607843137255,
              "rgb(203,26,79)"
             ],
             [
              0.5647058823529412,
              "rgb(223,47,67)"
             ],
             [
              0.6274509803921569,
              "rgb(236,76,61)"
             ],
             [
              0.6901960784313725,
              "rgb(242,107,73)"
             ],
             [
              0.7529411764705882,
              "rgb(244,135,95)"
             ],
             [
              0.8156862745098039,
              "rgb(245,162,122)"
             ],
             [
              0.8784313725490196,
              "rgb(246,188,153)"
             ],
             [
              0.9411764705882353,
              "rgb(247,212,187)"
             ],
             [
              1,
              "rgb(250,234,220)"
             ]
            ],
            "type": "surface"
           }
          ],
          "table": [
           {
            "cells": {
             "fill": {
              "color": "rgb(231,231,240)"
             },
             "line": {
              "color": "white"
             }
            },
            "header": {
             "fill": {
              "color": "rgb(183,183,191)"
             },
             "line": {
              "color": "white"
             }
            },
            "type": "table"
           }
          ]
         },
         "layout": {
          "annotationdefaults": {
           "arrowcolor": "rgb(67,103,167)"
          },
          "autotypenumbers": "strict",
          "coloraxis": {
           "colorbar": {
            "outlinewidth": 0,
            "tickcolor": "rgb(36,36,36)",
            "ticklen": 8,
            "ticks": "outside",
            "tickwidth": 2
           }
          },
          "colorscale": {
           "sequential": [
            [
             0,
             "rgb(2,4,25)"
            ],
            [
             0.06274509803921569,
             "rgb(24,15,41)"
            ],
            [
             0.12549019607843137,
             "rgb(47,23,57)"
            ],
            [
             0.18823529411764706,
             "rgb(71,28,72)"
            ],
            [
             0.25098039215686274,
             "rgb(97,30,82)"
            ],
            [
             0.3137254901960784,
             "rgb(123,30,89)"
            ],
            [
             0.3764705882352941,
             "rgb(150,27,91)"
            ],
            [
             0.4392156862745098,
             "rgb(177,22,88)"
            ],
            [
             0.5019607843137255,
             "rgb(203,26,79)"
            ],
            [
             0.5647058823529412,
             "rgb(223,47,67)"
            ],
            [
             0.6274509803921569,
             "rgb(236,76,61)"
            ],
            [
             0.6901960784313725,
             "rgb(242,107,73)"
            ],
            [
             0.7529411764705882,
             "rgb(244,135,95)"
            ],
            [
             0.8156862745098039,
             "rgb(245,162,122)"
            ],
            [
             0.8784313725490196,
             "rgb(246,188,153)"
            ],
            [
             0.9411764705882353,
             "rgb(247,212,187)"
            ],
            [
             1,
             "rgb(250,234,220)"
            ]
           ],
           "sequentialminus": [
            [
             0,
             "rgb(2,4,25)"
            ],
            [
             0.06274509803921569,
             "rgb(24,15,41)"
            ],
            [
             0.12549019607843137,
             "rgb(47,23,57)"
            ],
            [
             0.18823529411764706,
             "rgb(71,28,72)"
            ],
            [
             0.25098039215686274,
             "rgb(97,30,82)"
            ],
            [
             0.3137254901960784,
             "rgb(123,30,89)"
            ],
            [
             0.3764705882352941,
             "rgb(150,27,91)"
            ],
            [
             0.4392156862745098,
             "rgb(177,22,88)"
            ],
            [
             0.5019607843137255,
             "rgb(203,26,79)"
            ],
            [
             0.5647058823529412,
             "rgb(223,47,67)"
            ],
            [
             0.6274509803921569,
             "rgb(236,76,61)"
            ],
            [
             0.6901960784313725,
             "rgb(242,107,73)"
            ],
            [
             0.7529411764705882,
             "rgb(244,135,95)"
            ],
            [
             0.8156862745098039,
             "rgb(245,162,122)"
            ],
            [
             0.8784313725490196,
             "rgb(246,188,153)"
            ],
            [
             0.9411764705882353,
             "rgb(247,212,187)"
            ],
            [
             1,
             "rgb(250,234,220)"
            ]
           ]
          },
          "colorway": [
           "rgb(76,114,176)",
           "rgb(221,132,82)",
           "rgb(85,168,104)",
           "rgb(196,78,82)",
           "rgb(129,114,179)",
           "rgb(147,120,96)",
           "rgb(218,139,195)",
           "rgb(140,140,140)",
           "rgb(204,185,116)",
           "rgb(100,181,205)"
          ],
          "font": {
           "color": "rgb(36,36,36)"
          },
          "geo": {
           "bgcolor": "white",
           "lakecolor": "white",
           "landcolor": "rgb(234,234,242)",
           "showlakes": true,
           "showland": true,
           "subunitcolor": "white"
          },
          "hoverlabel": {
           "align": "left"
          },
          "hovermode": "closest",
          "paper_bgcolor": "white",
          "plot_bgcolor": "rgb(234,234,242)",
          "polar": {
           "angularaxis": {
            "gridcolor": "white",
            "linecolor": "white",
            "showgrid": true,
            "ticks": ""
           },
           "bgcolor": "rgb(234,234,242)",
           "radialaxis": {
            "gridcolor": "white",
            "linecolor": "white",
            "showgrid": true,
            "ticks": ""
           }
          },
          "scene": {
           "xaxis": {
            "backgroundcolor": "rgb(234,234,242)",
            "gridcolor": "white",
            "gridwidth": 2,
            "linecolor": "white",
            "showbackground": true,
            "showgrid": true,
            "ticks": "",
            "zerolinecolor": "white"
           },
           "yaxis": {
            "backgroundcolor": "rgb(234,234,242)",
            "gridcolor": "white",
            "gridwidth": 2,
            "linecolor": "white",
            "showbackground": true,
            "showgrid": true,
            "ticks": "",
            "zerolinecolor": "white"
           },
           "zaxis": {
            "backgroundcolor": "rgb(234,234,242)",
            "gridcolor": "white",
            "gridwidth": 2,
            "linecolor": "white",
            "showbackground": true,
            "showgrid": true,
            "ticks": "",
            "zerolinecolor": "white"
           }
          },
          "shapedefaults": {
           "fillcolor": "rgb(67,103,167)",
           "line": {
            "width": 0
           },
           "opacity": 0.5
          },
          "ternary": {
           "aaxis": {
            "gridcolor": "white",
            "linecolor": "white",
            "showgrid": true,
            "ticks": ""
           },
           "baxis": {
            "gridcolor": "white",
            "linecolor": "white",
            "showgrid": true,
            "ticks": ""
           },
           "bgcolor": "rgb(234,234,242)",
           "caxis": {
            "gridcolor": "white",
            "linecolor": "white",
            "showgrid": true,
            "ticks": ""
           }
          },
          "xaxis": {
           "automargin": true,
           "gridcolor": "white",
           "linecolor": "white",
           "showgrid": true,
           "ticks": "",
           "title": {
            "standoff": 15
           },
           "zerolinecolor": "white"
          },
          "yaxis": {
           "automargin": true,
           "gridcolor": "white",
           "linecolor": "white",
           "showgrid": true,
           "ticks": "",
           "title": {
            "standoff": 15
           },
           "zerolinecolor": "white"
          }
         }
        },
        "title": {
         "text": "p = 1"
        },
        "width": 800,
        "xaxis": {
         "anchor": "y",
         "domain": [
          0,
          1
         ],
         "title": {
          "text": "x"
         }
        },
        "yaxis": {
         "anchor": "x",
         "domain": [
          0,
          1
         ],
         "title": {
          "text": "y"
         }
        }
       }
      }
     },
     "metadata": {}
    },
    {
     "output_type": "stream",
     "name": "stdout",
     "text": [
      "[[  1.         -15.         225.        ]\n [  1.         -12.22222222 149.38271605]\n [  1.          -9.44444444  89.19753086]\n [  1.          -6.66666667  44.44444444]\n [  1.          -3.88888889  15.12345679]\n [  1.          -1.11111111   1.2345679 ]\n [  1.           1.66666667   2.77777778]\n [  1.           4.44444444  19.75308642]\n [  1.           7.22222222  52.16049383]\n [  1.          10.         100.        ]]\n"
     ]
    },
    {
     "output_type": "display_data",
     "data": {
      "application/vnd.plotly.v1+json": {
       "config": {
        "plotlyServerURL": "https://plot.ly"
       },
       "data": [
        {
         "hoverinfo": "skip",
         "hovertemplate": "x=%{x}<br>y=%{y}<extra></extra>",
         "legendgroup": "",
         "marker": {
          "color": "red",
          "line": {
           "color": "black",
           "width": 2
          },
          "size": 8,
          "symbol": "circle"
         },
         "mode": "markers",
         "name": "",
         "orientation": "v",
         "showlegend": false,
         "type": "scatter",
         "x": [
          -15,
          -12.222222222222221,
          -9.444444444444445,
          -6.666666666666668,
          -3.8888888888888893,
          -1.1111111111111107,
          1.6666666666666643,
          4.444444444444443,
          7.222222222222221,
          10
         ],
         "xaxis": "x",
         "y": [
          73.97843702679296,
          50.37026073256916,
          23.638896397007425,
          17.49394613337101,
          2.0071074871936783,
          4.004272346554971,
          19.1797905507133,
          33.63909395617573,
          61.996813086287155,
          86.2090637458025
         ],
         "yaxis": "y"
        },
        {
         "line": {
          "color": "green"
         },
         "mode": "lines",
         "name": "Aproximation",
         "type": "scatter",
         "x": [
          -15,
          -12.222222222222221,
          -9.444444444444445,
          -6.666666666666668,
          -3.8888888888888893,
          -1.1111111111111107,
          1.6666666666666643,
          4.444444444444443,
          7.222222222222221,
          10
         ],
         "y": [
          75.67922800171273,
          47.048591821046486,
          25.95215588684124,
          12.389920199097027,
          6.361884757813827,
          7.8680495629916525,
          16.908414614630487,
          33.48297991273035,
          57.59174545729124,
          89.23471124831316
         ]
        },
        {
         "line": {
          "color": "royalblue",
          "dash": "dash"
         },
         "mode": "lines",
         "name": "Fg(x)",
         "type": "scatter",
         "x": [
          -15,
          -12.222222222222221,
          -9.444444444444445,
          -6.666666666666668,
          -3.8888888888888893,
          -1.1111111111111107,
          1.6666666666666643,
          4.444444444444443,
          7.222222222222221,
          10
         ],
         "y": [
          77.5,
          48.02469135802469,
          26.26543209876543,
          12.222222222222225,
          5.895061728395062,
          7.283950617283951,
          16.38888888888888,
          33.209876543209866,
          57.746913580246904,
          90
         ]
        }
       ],
       "layout": {
        "height": 700,
        "legend": {
         "tracegroupgap": 0
        },
        "template": {
         "data": {
          "bar": [
           {
            "error_x": {
             "color": "rgb(36,36,36)"
            },
            "error_y": {
             "color": "rgb(36,36,36)"
            },
            "marker": {
             "line": {
              "color": "rgb(234,234,242)",
              "width": 0.5
             }
            },
            "type": "bar"
           }
          ],
          "barpolar": [
           {
            "marker": {
             "line": {
              "color": "rgb(234,234,242)",
              "width": 0.5
             }
            },
            "type": "barpolar"
           }
          ],
          "carpet": [
           {
            "aaxis": {
             "endlinecolor": "rgb(36,36,36)",
             "gridcolor": "white",
             "linecolor": "white",
             "minorgridcolor": "white",
             "startlinecolor": "rgb(36,36,36)"
            },
            "baxis": {
             "endlinecolor": "rgb(36,36,36)",
             "gridcolor": "white",
             "linecolor": "white",
             "minorgridcolor": "white",
             "startlinecolor": "rgb(36,36,36)"
            },
            "type": "carpet"
           }
          ],
          "choropleth": [
           {
            "colorbar": {
             "outlinewidth": 0,
             "tickcolor": "rgb(36,36,36)",
             "ticklen": 8,
             "ticks": "outside",
             "tickwidth": 2
            },
            "type": "choropleth"
           }
          ],
          "contour": [
           {
            "colorbar": {
             "outlinewidth": 0,
             "tickcolor": "rgb(36,36,36)",
             "ticklen": 8,
             "ticks": "outside",
             "tickwidth": 2
            },
            "colorscale": [
             [
              0,
              "rgb(2,4,25)"
             ],
             [
              0.06274509803921569,
              "rgb(24,15,41)"
             ],
             [
              0.12549019607843137,
              "rgb(47,23,57)"
             ],
             [
              0.18823529411764706,
              "rgb(71,28,72)"
             ],
             [
              0.25098039215686274,
              "rgb(97,30,82)"
             ],
             [
              0.3137254901960784,
              "rgb(123,30,89)"
             ],
             [
              0.3764705882352941,
              "rgb(150,27,91)"
             ],
             [
              0.4392156862745098,
              "rgb(177,22,88)"
             ],
             [
              0.5019607843137255,
              "rgb(203,26,79)"
             ],
             [
              0.5647058823529412,
              "rgb(223,47,67)"
             ],
             [
              0.6274509803921569,
              "rgb(236,76,61)"
             ],
             [
              0.6901960784313725,
              "rgb(242,107,73)"
             ],
             [
              0.7529411764705882,
              "rgb(244,135,95)"
             ],
             [
              0.8156862745098039,
              "rgb(245,162,122)"
             ],
             [
              0.8784313725490196,
              "rgb(246,188,153)"
             ],
             [
              0.9411764705882353,
              "rgb(247,212,187)"
             ],
             [
              1,
              "rgb(250,234,220)"
             ]
            ],
            "type": "contour"
           }
          ],
          "contourcarpet": [
           {
            "colorbar": {
             "outlinewidth": 0,
             "tickcolor": "rgb(36,36,36)",
             "ticklen": 8,
             "ticks": "outside",
             "tickwidth": 2
            },
            "type": "contourcarpet"
           }
          ],
          "heatmap": [
           {
            "colorbar": {
             "outlinewidth": 0,
             "tickcolor": "rgb(36,36,36)",
             "ticklen": 8,
             "ticks": "outside",
             "tickwidth": 2
            },
            "colorscale": [
             [
              0,
              "rgb(2,4,25)"
             ],
             [
              0.06274509803921569,
              "rgb(24,15,41)"
             ],
             [
              0.12549019607843137,
              "rgb(47,23,57)"
             ],
             [
              0.18823529411764706,
              "rgb(71,28,72)"
             ],
             [
              0.25098039215686274,
              "rgb(97,30,82)"
             ],
             [
              0.3137254901960784,
              "rgb(123,30,89)"
             ],
             [
              0.3764705882352941,
              "rgb(150,27,91)"
             ],
             [
              0.4392156862745098,
              "rgb(177,22,88)"
             ],
             [
              0.5019607843137255,
              "rgb(203,26,79)"
             ],
             [
              0.5647058823529412,
              "rgb(223,47,67)"
             ],
             [
              0.6274509803921569,
              "rgb(236,76,61)"
             ],
             [
              0.6901960784313725,
              "rgb(242,107,73)"
             ],
             [
              0.7529411764705882,
              "rgb(244,135,95)"
             ],
             [
              0.8156862745098039,
              "rgb(245,162,122)"
             ],
             [
              0.8784313725490196,
              "rgb(246,188,153)"
             ],
             [
              0.9411764705882353,
              "rgb(247,212,187)"
             ],
             [
              1,
              "rgb(250,234,220)"
             ]
            ],
            "type": "heatmap"
           }
          ],
          "heatmapgl": [
           {
            "colorbar": {
             "outlinewidth": 0,
             "tickcolor": "rgb(36,36,36)",
             "ticklen": 8,
             "ticks": "outside",
             "tickwidth": 2
            },
            "colorscale": [
             [
              0,
              "rgb(2,4,25)"
             ],
             [
              0.06274509803921569,
              "rgb(24,15,41)"
             ],
             [
              0.12549019607843137,
              "rgb(47,23,57)"
             ],
             [
              0.18823529411764706,
              "rgb(71,28,72)"
             ],
             [
              0.25098039215686274,
              "rgb(97,30,82)"
             ],
             [
              0.3137254901960784,
              "rgb(123,30,89)"
             ],
             [
              0.3764705882352941,
              "rgb(150,27,91)"
             ],
             [
              0.4392156862745098,
              "rgb(177,22,88)"
             ],
             [
              0.5019607843137255,
              "rgb(203,26,79)"
             ],
             [
              0.5647058823529412,
              "rgb(223,47,67)"
             ],
             [
              0.6274509803921569,
              "rgb(236,76,61)"
             ],
             [
              0.6901960784313725,
              "rgb(242,107,73)"
             ],
             [
              0.7529411764705882,
              "rgb(244,135,95)"
             ],
             [
              0.8156862745098039,
              "rgb(245,162,122)"
             ],
             [
              0.8784313725490196,
              "rgb(246,188,153)"
             ],
             [
              0.9411764705882353,
              "rgb(247,212,187)"
             ],
             [
              1,
              "rgb(250,234,220)"
             ]
            ],
            "type": "heatmapgl"
           }
          ],
          "histogram": [
           {
            "marker": {
             "colorbar": {
              "outlinewidth": 0,
              "tickcolor": "rgb(36,36,36)",
              "ticklen": 8,
              "ticks": "outside",
              "tickwidth": 2
             }
            },
            "type": "histogram"
           }
          ],
          "histogram2d": [
           {
            "colorbar": {
             "outlinewidth": 0,
             "tickcolor": "rgb(36,36,36)",
             "ticklen": 8,
             "ticks": "outside",
             "tickwidth": 2
            },
            "colorscale": [
             [
              0,
              "rgb(2,4,25)"
             ],
             [
              0.06274509803921569,
              "rgb(24,15,41)"
             ],
             [
              0.12549019607843137,
              "rgb(47,23,57)"
             ],
             [
              0.18823529411764706,
              "rgb(71,28,72)"
             ],
             [
              0.25098039215686274,
              "rgb(97,30,82)"
             ],
             [
              0.3137254901960784,
              "rgb(123,30,89)"
             ],
             [
              0.3764705882352941,
              "rgb(150,27,91)"
             ],
             [
              0.4392156862745098,
              "rgb(177,22,88)"
             ],
             [
              0.5019607843137255,
              "rgb(203,26,79)"
             ],
             [
              0.5647058823529412,
              "rgb(223,47,67)"
             ],
             [
              0.6274509803921569,
              "rgb(236,76,61)"
             ],
             [
              0.6901960784313725,
              "rgb(242,107,73)"
             ],
             [
              0.7529411764705882,
              "rgb(244,135,95)"
             ],
             [
              0.8156862745098039,
              "rgb(245,162,122)"
             ],
             [
              0.8784313725490196,
              "rgb(246,188,153)"
             ],
             [
              0.9411764705882353,
              "rgb(247,212,187)"
             ],
             [
              1,
              "rgb(250,234,220)"
             ]
            ],
            "type": "histogram2d"
           }
          ],
          "histogram2dcontour": [
           {
            "colorbar": {
             "outlinewidth": 0,
             "tickcolor": "rgb(36,36,36)",
             "ticklen": 8,
             "ticks": "outside",
             "tickwidth": 2
            },
            "colorscale": [
             [
              0,
              "rgb(2,4,25)"
             ],
             [
              0.06274509803921569,
              "rgb(24,15,41)"
             ],
             [
              0.12549019607843137,
              "rgb(47,23,57)"
             ],
             [
              0.18823529411764706,
              "rgb(71,28,72)"
             ],
             [
              0.25098039215686274,
              "rgb(97,30,82)"
             ],
             [
              0.3137254901960784,
              "rgb(123,30,89)"
             ],
             [
              0.3764705882352941,
              "rgb(150,27,91)"
             ],
             [
              0.4392156862745098,
              "rgb(177,22,88)"
             ],
             [
              0.5019607843137255,
              "rgb(203,26,79)"
             ],
             [
              0.5647058823529412,
              "rgb(223,47,67)"
             ],
             [
              0.6274509803921569,
              "rgb(236,76,61)"
             ],
             [
              0.6901960784313725,
              "rgb(242,107,73)"
             ],
             [
              0.7529411764705882,
              "rgb(244,135,95)"
             ],
             [
              0.8156862745098039,
              "rgb(245,162,122)"
             ],
             [
              0.8784313725490196,
              "rgb(246,188,153)"
             ],
             [
              0.9411764705882353,
              "rgb(247,212,187)"
             ],
             [
              1,
              "rgb(250,234,220)"
             ]
            ],
            "type": "histogram2dcontour"
           }
          ],
          "mesh3d": [
           {
            "colorbar": {
             "outlinewidth": 0,
             "tickcolor": "rgb(36,36,36)",
             "ticklen": 8,
             "ticks": "outside",
             "tickwidth": 2
            },
            "type": "mesh3d"
           }
          ],
          "parcoords": [
           {
            "line": {
             "colorbar": {
              "outlinewidth": 0,
              "tickcolor": "rgb(36,36,36)",
              "ticklen": 8,
              "ticks": "outside",
              "tickwidth": 2
             }
            },
            "type": "parcoords"
           }
          ],
          "pie": [
           {
            "automargin": true,
            "type": "pie"
           }
          ],
          "scatter": [
           {
            "marker": {
             "colorbar": {
              "outlinewidth": 0,
              "tickcolor": "rgb(36,36,36)",
              "ticklen": 8,
              "ticks": "outside",
              "tickwidth": 2
             }
            },
            "type": "scatter"
           }
          ],
          "scatter3d": [
           {
            "line": {
             "colorbar": {
              "outlinewidth": 0,
              "tickcolor": "rgb(36,36,36)",
              "ticklen": 8,
              "ticks": "outside",
              "tickwidth": 2
             }
            },
            "marker": {
             "colorbar": {
              "outlinewidth": 0,
              "tickcolor": "rgb(36,36,36)",
              "ticklen": 8,
              "ticks": "outside",
              "tickwidth": 2
             }
            },
            "type": "scatter3d"
           }
          ],
          "scattercarpet": [
           {
            "marker": {
             "colorbar": {
              "outlinewidth": 0,
              "tickcolor": "rgb(36,36,36)",
              "ticklen": 8,
              "ticks": "outside",
              "tickwidth": 2
             }
            },
            "type": "scattercarpet"
           }
          ],
          "scattergeo": [
           {
            "marker": {
             "colorbar": {
              "outlinewidth": 0,
              "tickcolor": "rgb(36,36,36)",
              "ticklen": 8,
              "ticks": "outside",
              "tickwidth": 2
             }
            },
            "type": "scattergeo"
           }
          ],
          "scattergl": [
           {
            "marker": {
             "colorbar": {
              "outlinewidth": 0,
              "tickcolor": "rgb(36,36,36)",
              "ticklen": 8,
              "ticks": "outside",
              "tickwidth": 2
             }
            },
            "type": "scattergl"
           }
          ],
          "scattermapbox": [
           {
            "marker": {
             "colorbar": {
              "outlinewidth": 0,
              "tickcolor": "rgb(36,36,36)",
              "ticklen": 8,
              "ticks": "outside",
              "tickwidth": 2
             }
            },
            "type": "scattermapbox"
           }
          ],
          "scatterpolar": [
           {
            "marker": {
             "colorbar": {
              "outlinewidth": 0,
              "tickcolor": "rgb(36,36,36)",
              "ticklen": 8,
              "ticks": "outside",
              "tickwidth": 2
             }
            },
            "type": "scatterpolar"
           }
          ],
          "scatterpolargl": [
           {
            "marker": {
             "colorbar": {
              "outlinewidth": 0,
              "tickcolor": "rgb(36,36,36)",
              "ticklen": 8,
              "ticks": "outside",
              "tickwidth": 2
             }
            },
            "type": "scatterpolargl"
           }
          ],
          "scatterternary": [
           {
            "marker": {
             "colorbar": {
              "outlinewidth": 0,
              "tickcolor": "rgb(36,36,36)",
              "ticklen": 8,
              "ticks": "outside",
              "tickwidth": 2
             }
            },
            "type": "scatterternary"
           }
          ],
          "surface": [
           {
            "colorbar": {
             "outlinewidth": 0,
             "tickcolor": "rgb(36,36,36)",
             "ticklen": 8,
             "ticks": "outside",
             "tickwidth": 2
            },
            "colorscale": [
             [
              0,
              "rgb(2,4,25)"
             ],
             [
              0.06274509803921569,
              "rgb(24,15,41)"
             ],
             [
              0.12549019607843137,
              "rgb(47,23,57)"
             ],
             [
              0.18823529411764706,
              "rgb(71,28,72)"
             ],
             [
              0.25098039215686274,
              "rgb(97,30,82)"
             ],
             [
              0.3137254901960784,
              "rgb(123,30,89)"
             ],
             [
              0.3764705882352941,
              "rgb(150,27,91)"
             ],
             [
              0.4392156862745098,
              "rgb(177,22,88)"
             ],
             [
              0.5019607843137255,
              "rgb(203,26,79)"
             ],
             [
              0.5647058823529412,
              "rgb(223,47,67)"
             ],
             [
              0.6274509803921569,
              "rgb(236,76,61)"
             ],
             [
              0.6901960784313725,
              "rgb(242,107,73)"
             ],
             [
              0.7529411764705882,
              "rgb(244,135,95)"
             ],
             [
              0.8156862745098039,
              "rgb(245,162,122)"
             ],
             [
              0.8784313725490196,
              "rgb(246,188,153)"
             ],
             [
              0.9411764705882353,
              "rgb(247,212,187)"
             ],
             [
              1,
              "rgb(250,234,220)"
             ]
            ],
            "type": "surface"
           }
          ],
          "table": [
           {
            "cells": {
             "fill": {
              "color": "rgb(231,231,240)"
             },
             "line": {
              "color": "white"
             }
            },
            "header": {
             "fill": {
              "color": "rgb(183,183,191)"
             },
             "line": {
              "color": "white"
             }
            },
            "type": "table"
           }
          ]
         },
         "layout": {
          "annotationdefaults": {
           "arrowcolor": "rgb(67,103,167)"
          },
          "autotypenumbers": "strict",
          "coloraxis": {
           "colorbar": {
            "outlinewidth": 0,
            "tickcolor": "rgb(36,36,36)",
            "ticklen": 8,
            "ticks": "outside",
            "tickwidth": 2
           }
          },
          "colorscale": {
           "sequential": [
            [
             0,
             "rgb(2,4,25)"
            ],
            [
             0.06274509803921569,
             "rgb(24,15,41)"
            ],
            [
             0.12549019607843137,
             "rgb(47,23,57)"
            ],
            [
             0.18823529411764706,
             "rgb(71,28,72)"
            ],
            [
             0.25098039215686274,
             "rgb(97,30,82)"
            ],
            [
             0.3137254901960784,
             "rgb(123,30,89)"
            ],
            [
             0.3764705882352941,
             "rgb(150,27,91)"
            ],
            [
             0.4392156862745098,
             "rgb(177,22,88)"
            ],
            [
             0.5019607843137255,
             "rgb(203,26,79)"
            ],
            [
             0.5647058823529412,
             "rgb(223,47,67)"
            ],
            [
             0.6274509803921569,
             "rgb(236,76,61)"
            ],
            [
             0.6901960784313725,
             "rgb(242,107,73)"
            ],
            [
             0.7529411764705882,
             "rgb(244,135,95)"
            ],
            [
             0.8156862745098039,
             "rgb(245,162,122)"
            ],
            [
             0.8784313725490196,
             "rgb(246,188,153)"
            ],
            [
             0.9411764705882353,
             "rgb(247,212,187)"
            ],
            [
             1,
             "rgb(250,234,220)"
            ]
           ],
           "sequentialminus": [
            [
             0,
             "rgb(2,4,25)"
            ],
            [
             0.06274509803921569,
             "rgb(24,15,41)"
            ],
            [
             0.12549019607843137,
             "rgb(47,23,57)"
            ],
            [
             0.18823529411764706,
             "rgb(71,28,72)"
            ],
            [
             0.25098039215686274,
             "rgb(97,30,82)"
            ],
            [
             0.3137254901960784,
             "rgb(123,30,89)"
            ],
            [
             0.3764705882352941,
             "rgb(150,27,91)"
            ],
            [
             0.4392156862745098,
             "rgb(177,22,88)"
            ],
            [
             0.5019607843137255,
             "rgb(203,26,79)"
            ],
            [
             0.5647058823529412,
             "rgb(223,47,67)"
            ],
            [
             0.6274509803921569,
             "rgb(236,76,61)"
            ],
            [
             0.6901960784313725,
             "rgb(242,107,73)"
            ],
            [
             0.7529411764705882,
             "rgb(244,135,95)"
            ],
            [
             0.8156862745098039,
             "rgb(245,162,122)"
            ],
            [
             0.8784313725490196,
             "rgb(246,188,153)"
            ],
            [
             0.9411764705882353,
             "rgb(247,212,187)"
            ],
            [
             1,
             "rgb(250,234,220)"
            ]
           ]
          },
          "colorway": [
           "rgb(76,114,176)",
           "rgb(221,132,82)",
           "rgb(85,168,104)",
           "rgb(196,78,82)",
           "rgb(129,114,179)",
           "rgb(147,120,96)",
           "rgb(218,139,195)",
           "rgb(140,140,140)",
           "rgb(204,185,116)",
           "rgb(100,181,205)"
          ],
          "font": {
           "color": "rgb(36,36,36)"
          },
          "geo": {
           "bgcolor": "white",
           "lakecolor": "white",
           "landcolor": "rgb(234,234,242)",
           "showlakes": true,
           "showland": true,
           "subunitcolor": "white"
          },
          "hoverlabel": {
           "align": "left"
          },
          "hovermode": "closest",
          "paper_bgcolor": "white",
          "plot_bgcolor": "rgb(234,234,242)",
          "polar": {
           "angularaxis": {
            "gridcolor": "white",
            "linecolor": "white",
            "showgrid": true,
            "ticks": ""
           },
           "bgcolor": "rgb(234,234,242)",
           "radialaxis": {
            "gridcolor": "white",
            "linecolor": "white",
            "showgrid": true,
            "ticks": ""
           }
          },
          "scene": {
           "xaxis": {
            "backgroundcolor": "rgb(234,234,242)",
            "gridcolor": "white",
            "gridwidth": 2,
            "linecolor": "white",
            "showbackground": true,
            "showgrid": true,
            "ticks": "",
            "zerolinecolor": "white"
           },
           "yaxis": {
            "backgroundcolor": "rgb(234,234,242)",
            "gridcolor": "white",
            "gridwidth": 2,
            "linecolor": "white",
            "showbackground": true,
            "showgrid": true,
            "ticks": "",
            "zerolinecolor": "white"
           },
           "zaxis": {
            "backgroundcolor": "rgb(234,234,242)",
            "gridcolor": "white",
            "gridwidth": 2,
            "linecolor": "white",
            "showbackground": true,
            "showgrid": true,
            "ticks": "",
            "zerolinecolor": "white"
           }
          },
          "shapedefaults": {
           "fillcolor": "rgb(67,103,167)",
           "line": {
            "width": 0
           },
           "opacity": 0.5
          },
          "ternary": {
           "aaxis": {
            "gridcolor": "white",
            "linecolor": "white",
            "showgrid": true,
            "ticks": ""
           },
           "baxis": {
            "gridcolor": "white",
            "linecolor": "white",
            "showgrid": true,
            "ticks": ""
           },
           "bgcolor": "rgb(234,234,242)",
           "caxis": {
            "gridcolor": "white",
            "linecolor": "white",
            "showgrid": true,
            "ticks": ""
           }
          },
          "xaxis": {
           "automargin": true,
           "gridcolor": "white",
           "linecolor": "white",
           "showgrid": true,
           "ticks": "",
           "title": {
            "standoff": 15
           },
           "zerolinecolor": "white"
          },
          "yaxis": {
           "automargin": true,
           "gridcolor": "white",
           "linecolor": "white",
           "showgrid": true,
           "ticks": "",
           "title": {
            "standoff": 15
           },
           "zerolinecolor": "white"
          }
         }
        },
        "title": {
         "text": "p = 2"
        },
        "width": 800,
        "xaxis": {
         "anchor": "y",
         "domain": [
          0,
          1
         ],
         "title": {
          "text": "x"
         }
        },
        "yaxis": {
         "anchor": "x",
         "domain": [
          0,
          1
         ],
         "title": {
          "text": "y"
         }
        }
       }
      }
     },
     "metadata": {}
    },
    {
     "output_type": "stream",
     "name": "stdout",
     "text": [
      "[[ 1.00000000e+00 -1.50000000e+01  2.25000000e+02 -3.37500000e+03]\n [ 1.00000000e+00 -1.22222222e+01  1.49382716e+02 -1.82578875e+03]\n [ 1.00000000e+00 -9.44444444e+00  8.91975309e+01 -8.42421125e+02]\n [ 1.00000000e+00 -6.66666667e+00  4.44444444e+01 -2.96296296e+02]\n [ 1.00000000e+00 -3.88888889e+00  1.51234568e+01 -5.88134431e+01]\n [ 1.00000000e+00 -1.11111111e+00  1.23456790e+00 -1.37174211e+00]\n [ 1.00000000e+00  1.66666667e+00  2.77777778e+00  4.62962963e+00]\n [ 1.00000000e+00  4.44444444e+00  1.97530864e+01  8.77914952e+01]\n [ 1.00000000e+00  7.22222222e+00  5.21604938e+01  3.76714678e+02]\n [ 1.00000000e+00  1.00000000e+01  1.00000000e+02  1.00000000e+03]]\n"
     ]
    },
    {
     "output_type": "display_data",
     "data": {
      "application/vnd.plotly.v1+json": {
       "config": {
        "plotlyServerURL": "https://plot.ly"
       },
       "data": [
        {
         "hoverinfo": "skip",
         "hovertemplate": "x=%{x}<br>y=%{y}<extra></extra>",
         "legendgroup": "",
         "marker": {
          "color": "red",
          "line": {
           "color": "black",
           "width": 2
          },
          "size": 8,
          "symbol": "circle"
         },
         "mode": "markers",
         "name": "",
         "orientation": "v",
         "showlegend": false,
         "type": "scatter",
         "x": [
          -15,
          -12.222222222222221,
          -9.444444444444445,
          -6.666666666666668,
          -3.8888888888888893,
          -1.1111111111111107,
          1.6666666666666643,
          4.444444444444443,
          7.222222222222221,
          10
         ],
         "xaxis": "x",
         "y": [
          73.97843702679296,
          50.37026073256916,
          23.638896397007425,
          17.49394613337101,
          2.0071074871936783,
          4.004272346554971,
          19.1797905507133,
          33.63909395617573,
          61.996813086287155,
          86.2090637458025
         ],
         "yaxis": "y"
        },
        {
         "line": {
          "color": "green"
         },
         "mode": "lines",
         "name": "Aproximation",
         "type": "scatter",
         "x": [
          -15,
          -12.222222222222221,
          -9.444444444444445,
          -6.666666666666668,
          -3.8888888888888893,
          -1.1111111111111107,
          1.6666666666666643,
          4.444444444444443,
          7.222222222222221,
          10
         ],
         "y": [
          76.04792475977001,
          46.92569290169491,
          25.644908588461384,
          12.117786877674977,
          6.256542826941235,
          7.973391493865705,
          17.180547936053923,
          33.79022721111146,
          57.71464437664386,
          88.86601449025666
         ]
        },
        {
         "line": {
          "color": "royalblue",
          "dash": "dash"
         },
         "mode": "lines",
         "name": "Fg(x)",
         "type": "scatter",
         "x": [
          -15,
          -12.222222222222221,
          -9.444444444444445,
          -6.666666666666668,
          -3.8888888888888893,
          -1.1111111111111107,
          1.6666666666666643,
          4.444444444444443,
          7.222222222222221,
          10
         ],
         "y": [
          77.5,
          48.02469135802469,
          26.26543209876543,
          12.222222222222225,
          5.895061728395062,
          7.283950617283951,
          16.38888888888888,
          33.209876543209866,
          57.746913580246904,
          90
         ]
        }
       ],
       "layout": {
        "height": 700,
        "legend": {
         "tracegroupgap": 0
        },
        "template": {
         "data": {
          "bar": [
           {
            "error_x": {
             "color": "rgb(36,36,36)"
            },
            "error_y": {
             "color": "rgb(36,36,36)"
            },
            "marker": {
             "line": {
              "color": "rgb(234,234,242)",
              "width": 0.5
             }
            },
            "type": "bar"
           }
          ],
          "barpolar": [
           {
            "marker": {
             "line": {
              "color": "rgb(234,234,242)",
              "width": 0.5
             }
            },
            "type": "barpolar"
           }
          ],
          "carpet": [
           {
            "aaxis": {
             "endlinecolor": "rgb(36,36,36)",
             "gridcolor": "white",
             "linecolor": "white",
             "minorgridcolor": "white",
             "startlinecolor": "rgb(36,36,36)"
            },
            "baxis": {
             "endlinecolor": "rgb(36,36,36)",
             "gridcolor": "white",
             "linecolor": "white",
             "minorgridcolor": "white",
             "startlinecolor": "rgb(36,36,36)"
            },
            "type": "carpet"
           }
          ],
          "choropleth": [
           {
            "colorbar": {
             "outlinewidth": 0,
             "tickcolor": "rgb(36,36,36)",
             "ticklen": 8,
             "ticks": "outside",
             "tickwidth": 2
            },
            "type": "choropleth"
           }
          ],
          "contour": [
           {
            "colorbar": {
             "outlinewidth": 0,
             "tickcolor": "rgb(36,36,36)",
             "ticklen": 8,
             "ticks": "outside",
             "tickwidth": 2
            },
            "colorscale": [
             [
              0,
              "rgb(2,4,25)"
             ],
             [
              0.06274509803921569,
              "rgb(24,15,41)"
             ],
             [
              0.12549019607843137,
              "rgb(47,23,57)"
             ],
             [
              0.18823529411764706,
              "rgb(71,28,72)"
             ],
             [
              0.25098039215686274,
              "rgb(97,30,82)"
             ],
             [
              0.3137254901960784,
              "rgb(123,30,89)"
             ],
             [
              0.3764705882352941,
              "rgb(150,27,91)"
             ],
             [
              0.4392156862745098,
              "rgb(177,22,88)"
             ],
             [
              0.5019607843137255,
              "rgb(203,26,79)"
             ],
             [
              0.5647058823529412,
              "rgb(223,47,67)"
             ],
             [
              0.6274509803921569,
              "rgb(236,76,61)"
             ],
             [
              0.6901960784313725,
              "rgb(242,107,73)"
             ],
             [
              0.7529411764705882,
              "rgb(244,135,95)"
             ],
             [
              0.8156862745098039,
              "rgb(245,162,122)"
             ],
             [
              0.8784313725490196,
              "rgb(246,188,153)"
             ],
             [
              0.9411764705882353,
              "rgb(247,212,187)"
             ],
             [
              1,
              "rgb(250,234,220)"
             ]
            ],
            "type": "contour"
           }
          ],
          "contourcarpet": [
           {
            "colorbar": {
             "outlinewidth": 0,
             "tickcolor": "rgb(36,36,36)",
             "ticklen": 8,
             "ticks": "outside",
             "tickwidth": 2
            },
            "type": "contourcarpet"
           }
          ],
          "heatmap": [
           {
            "colorbar": {
             "outlinewidth": 0,
             "tickcolor": "rgb(36,36,36)",
             "ticklen": 8,
             "ticks": "outside",
             "tickwidth": 2
            },
            "colorscale": [
             [
              0,
              "rgb(2,4,25)"
             ],
             [
              0.06274509803921569,
              "rgb(24,15,41)"
             ],
             [
              0.12549019607843137,
              "rgb(47,23,57)"
             ],
             [
              0.18823529411764706,
              "rgb(71,28,72)"
             ],
             [
              0.25098039215686274,
              "rgb(97,30,82)"
             ],
             [
              0.3137254901960784,
              "rgb(123,30,89)"
             ],
             [
              0.3764705882352941,
              "rgb(150,27,91)"
             ],
             [
              0.4392156862745098,
              "rgb(177,22,88)"
             ],
             [
              0.5019607843137255,
              "rgb(203,26,79)"
             ],
             [
              0.5647058823529412,
              "rgb(223,47,67)"
             ],
             [
              0.6274509803921569,
              "rgb(236,76,61)"
             ],
             [
              0.6901960784313725,
              "rgb(242,107,73)"
             ],
             [
              0.7529411764705882,
              "rgb(244,135,95)"
             ],
             [
              0.8156862745098039,
              "rgb(245,162,122)"
             ],
             [
              0.8784313725490196,
              "rgb(246,188,153)"
             ],
             [
              0.9411764705882353,
              "rgb(247,212,187)"
             ],
             [
              1,
              "rgb(250,234,220)"
             ]
            ],
            "type": "heatmap"
           }
          ],
          "heatmapgl": [
           {
            "colorbar": {
             "outlinewidth": 0,
             "tickcolor": "rgb(36,36,36)",
             "ticklen": 8,
             "ticks": "outside",
             "tickwidth": 2
            },
            "colorscale": [
             [
              0,
              "rgb(2,4,25)"
             ],
             [
              0.06274509803921569,
              "rgb(24,15,41)"
             ],
             [
              0.12549019607843137,
              "rgb(47,23,57)"
             ],
             [
              0.18823529411764706,
              "rgb(71,28,72)"
             ],
             [
              0.25098039215686274,
              "rgb(97,30,82)"
             ],
             [
              0.3137254901960784,
              "rgb(123,30,89)"
             ],
             [
              0.3764705882352941,
              "rgb(150,27,91)"
             ],
             [
              0.4392156862745098,
              "rgb(177,22,88)"
             ],
             [
              0.5019607843137255,
              "rgb(203,26,79)"
             ],
             [
              0.5647058823529412,
              "rgb(223,47,67)"
             ],
             [
              0.6274509803921569,
              "rgb(236,76,61)"
             ],
             [
              0.6901960784313725,
              "rgb(242,107,73)"
             ],
             [
              0.7529411764705882,
              "rgb(244,135,95)"
             ],
             [
              0.8156862745098039,
              "rgb(245,162,122)"
             ],
             [
              0.8784313725490196,
              "rgb(246,188,153)"
             ],
             [
              0.9411764705882353,
              "rgb(247,212,187)"
             ],
             [
              1,
              "rgb(250,234,220)"
             ]
            ],
            "type": "heatmapgl"
           }
          ],
          "histogram": [
           {
            "marker": {
             "colorbar": {
              "outlinewidth": 0,
              "tickcolor": "rgb(36,36,36)",
              "ticklen": 8,
              "ticks": "outside",
              "tickwidth": 2
             }
            },
            "type": "histogram"
           }
          ],
          "histogram2d": [
           {
            "colorbar": {
             "outlinewidth": 0,
             "tickcolor": "rgb(36,36,36)",
             "ticklen": 8,
             "ticks": "outside",
             "tickwidth": 2
            },
            "colorscale": [
             [
              0,
              "rgb(2,4,25)"
             ],
             [
              0.06274509803921569,
              "rgb(24,15,41)"
             ],
             [
              0.12549019607843137,
              "rgb(47,23,57)"
             ],
             [
              0.18823529411764706,
              "rgb(71,28,72)"
             ],
             [
              0.25098039215686274,
              "rgb(97,30,82)"
             ],
             [
              0.3137254901960784,
              "rgb(123,30,89)"
             ],
             [
              0.3764705882352941,
              "rgb(150,27,91)"
             ],
             [
              0.4392156862745098,
              "rgb(177,22,88)"
             ],
             [
              0.5019607843137255,
              "rgb(203,26,79)"
             ],
             [
              0.5647058823529412,
              "rgb(223,47,67)"
             ],
             [
              0.6274509803921569,
              "rgb(236,76,61)"
             ],
             [
              0.6901960784313725,
              "rgb(242,107,73)"
             ],
             [
              0.7529411764705882,
              "rgb(244,135,95)"
             ],
             [
              0.8156862745098039,
              "rgb(245,162,122)"
             ],
             [
              0.8784313725490196,
              "rgb(246,188,153)"
             ],
             [
              0.9411764705882353,
              "rgb(247,212,187)"
             ],
             [
              1,
              "rgb(250,234,220)"
             ]
            ],
            "type": "histogram2d"
           }
          ],
          "histogram2dcontour": [
           {
            "colorbar": {
             "outlinewidth": 0,
             "tickcolor": "rgb(36,36,36)",
             "ticklen": 8,
             "ticks": "outside",
             "tickwidth": 2
            },
            "colorscale": [
             [
              0,
              "rgb(2,4,25)"
             ],
             [
              0.06274509803921569,
              "rgb(24,15,41)"
             ],
             [
              0.12549019607843137,
              "rgb(47,23,57)"
             ],
             [
              0.18823529411764706,
              "rgb(71,28,72)"
             ],
             [
              0.25098039215686274,
              "rgb(97,30,82)"
             ],
             [
              0.3137254901960784,
              "rgb(123,30,89)"
             ],
             [
              0.3764705882352941,
              "rgb(150,27,91)"
             ],
             [
              0.4392156862745098,
              "rgb(177,22,88)"
             ],
             [
              0.5019607843137255,
              "rgb(203,26,79)"
             ],
             [
              0.5647058823529412,
              "rgb(223,47,67)"
             ],
             [
              0.6274509803921569,
              "rgb(236,76,61)"
             ],
             [
              0.6901960784313725,
              "rgb(242,107,73)"
             ],
             [
              0.7529411764705882,
              "rgb(244,135,95)"
             ],
             [
              0.8156862745098039,
              "rgb(245,162,122)"
             ],
             [
              0.8784313725490196,
              "rgb(246,188,153)"
             ],
             [
              0.9411764705882353,
              "rgb(247,212,187)"
             ],
             [
              1,
              "rgb(250,234,220)"
             ]
            ],
            "type": "histogram2dcontour"
           }
          ],
          "mesh3d": [
           {
            "colorbar": {
             "outlinewidth": 0,
             "tickcolor": "rgb(36,36,36)",
             "ticklen": 8,
             "ticks": "outside",
             "tickwidth": 2
            },
            "type": "mesh3d"
           }
          ],
          "parcoords": [
           {
            "line": {
             "colorbar": {
              "outlinewidth": 0,
              "tickcolor": "rgb(36,36,36)",
              "ticklen": 8,
              "ticks": "outside",
              "tickwidth": 2
             }
            },
            "type": "parcoords"
           }
          ],
          "pie": [
           {
            "automargin": true,
            "type": "pie"
           }
          ],
          "scatter": [
           {
            "marker": {
             "colorbar": {
              "outlinewidth": 0,
              "tickcolor": "rgb(36,36,36)",
              "ticklen": 8,
              "ticks": "outside",
              "tickwidth": 2
             }
            },
            "type": "scatter"
           }
          ],
          "scatter3d": [
           {
            "line": {
             "colorbar": {
              "outlinewidth": 0,
              "tickcolor": "rgb(36,36,36)",
              "ticklen": 8,
              "ticks": "outside",
              "tickwidth": 2
             }
            },
            "marker": {
             "colorbar": {
              "outlinewidth": 0,
              "tickcolor": "rgb(36,36,36)",
              "ticklen": 8,
              "ticks": "outside",
              "tickwidth": 2
             }
            },
            "type": "scatter3d"
           }
          ],
          "scattercarpet": [
           {
            "marker": {
             "colorbar": {
              "outlinewidth": 0,
              "tickcolor": "rgb(36,36,36)",
              "ticklen": 8,
              "ticks": "outside",
              "tickwidth": 2
             }
            },
            "type": "scattercarpet"
           }
          ],
          "scattergeo": [
           {
            "marker": {
             "colorbar": {
              "outlinewidth": 0,
              "tickcolor": "rgb(36,36,36)",
              "ticklen": 8,
              "ticks": "outside",
              "tickwidth": 2
             }
            },
            "type": "scattergeo"
           }
          ],
          "scattergl": [
           {
            "marker": {
             "colorbar": {
              "outlinewidth": 0,
              "tickcolor": "rgb(36,36,36)",
              "ticklen": 8,
              "ticks": "outside",
              "tickwidth": 2
             }
            },
            "type": "scattergl"
           }
          ],
          "scattermapbox": [
           {
            "marker": {
             "colorbar": {
              "outlinewidth": 0,
              "tickcolor": "rgb(36,36,36)",
              "ticklen": 8,
              "ticks": "outside",
              "tickwidth": 2
             }
            },
            "type": "scattermapbox"
           }
          ],
          "scatterpolar": [
           {
            "marker": {
             "colorbar": {
              "outlinewidth": 0,
              "tickcolor": "rgb(36,36,36)",
              "ticklen": 8,
              "ticks": "outside",
              "tickwidth": 2
             }
            },
            "type": "scatterpolar"
           }
          ],
          "scatterpolargl": [
           {
            "marker": {
             "colorbar": {
              "outlinewidth": 0,
              "tickcolor": "rgb(36,36,36)",
              "ticklen": 8,
              "ticks": "outside",
              "tickwidth": 2
             }
            },
            "type": "scatterpolargl"
           }
          ],
          "scatterternary": [
           {
            "marker": {
             "colorbar": {
              "outlinewidth": 0,
              "tickcolor": "rgb(36,36,36)",
              "ticklen": 8,
              "ticks": "outside",
              "tickwidth": 2
             }
            },
            "type": "scatterternary"
           }
          ],
          "surface": [
           {
            "colorbar": {
             "outlinewidth": 0,
             "tickcolor": "rgb(36,36,36)",
             "ticklen": 8,
             "ticks": "outside",
             "tickwidth": 2
            },
            "colorscale": [
             [
              0,
              "rgb(2,4,25)"
             ],
             [
              0.06274509803921569,
              "rgb(24,15,41)"
             ],
             [
              0.12549019607843137,
              "rgb(47,23,57)"
             ],
             [
              0.18823529411764706,
              "rgb(71,28,72)"
             ],
             [
              0.25098039215686274,
              "rgb(97,30,82)"
             ],
             [
              0.3137254901960784,
              "rgb(123,30,89)"
             ],
             [
              0.3764705882352941,
              "rgb(150,27,91)"
             ],
             [
              0.4392156862745098,
              "rgb(177,22,88)"
             ],
             [
              0.5019607843137255,
              "rgb(203,26,79)"
             ],
             [
              0.5647058823529412,
              "rgb(223,47,67)"
             ],
             [
              0.6274509803921569,
              "rgb(236,76,61)"
             ],
             [
              0.6901960784313725,
              "rgb(242,107,73)"
             ],
             [
              0.7529411764705882,
              "rgb(244,135,95)"
             ],
             [
              0.8156862745098039,
              "rgb(245,162,122)"
             ],
             [
              0.8784313725490196,
              "rgb(246,188,153)"
             ],
             [
              0.9411764705882353,
              "rgb(247,212,187)"
             ],
             [
              1,
              "rgb(250,234,220)"
             ]
            ],
            "type": "surface"
           }
          ],
          "table": [
           {
            "cells": {
             "fill": {
              "color": "rgb(231,231,240)"
             },
             "line": {
              "color": "white"
             }
            },
            "header": {
             "fill": {
              "color": "rgb(183,183,191)"
             },
             "line": {
              "color": "white"
             }
            },
            "type": "table"
           }
          ]
         },
         "layout": {
          "annotationdefaults": {
           "arrowcolor": "rgb(67,103,167)"
          },
          "autotypenumbers": "strict",
          "coloraxis": {
           "colorbar": {
            "outlinewidth": 0,
            "tickcolor": "rgb(36,36,36)",
            "ticklen": 8,
            "ticks": "outside",
            "tickwidth": 2
           }
          },
          "colorscale": {
           "sequential": [
            [
             0,
             "rgb(2,4,25)"
            ],
            [
             0.06274509803921569,
             "rgb(24,15,41)"
            ],
            [
             0.12549019607843137,
             "rgb(47,23,57)"
            ],
            [
             0.18823529411764706,
             "rgb(71,28,72)"
            ],
            [
             0.25098039215686274,
             "rgb(97,30,82)"
            ],
            [
             0.3137254901960784,
             "rgb(123,30,89)"
            ],
            [
             0.3764705882352941,
             "rgb(150,27,91)"
            ],
            [
             0.4392156862745098,
             "rgb(177,22,88)"
            ],
            [
             0.5019607843137255,
             "rgb(203,26,79)"
            ],
            [
             0.5647058823529412,
             "rgb(223,47,67)"
            ],
            [
             0.6274509803921569,
             "rgb(236,76,61)"
            ],
            [
             0.6901960784313725,
             "rgb(242,107,73)"
            ],
            [
             0.7529411764705882,
             "rgb(244,135,95)"
            ],
            [
             0.8156862745098039,
             "rgb(245,162,122)"
            ],
            [
             0.8784313725490196,
             "rgb(246,188,153)"
            ],
            [
             0.9411764705882353,
             "rgb(247,212,187)"
            ],
            [
             1,
             "rgb(250,234,220)"
            ]
           ],
           "sequentialminus": [
            [
             0,
             "rgb(2,4,25)"
            ],
            [
             0.06274509803921569,
             "rgb(24,15,41)"
            ],
            [
             0.12549019607843137,
             "rgb(47,23,57)"
            ],
            [
             0.18823529411764706,
             "rgb(71,28,72)"
            ],
            [
             0.25098039215686274,
             "rgb(97,30,82)"
            ],
            [
             0.3137254901960784,
             "rgb(123,30,89)"
            ],
            [
             0.3764705882352941,
             "rgb(150,27,91)"
            ],
            [
             0.4392156862745098,
             "rgb(177,22,88)"
            ],
            [
             0.5019607843137255,
             "rgb(203,26,79)"
            ],
            [
             0.5647058823529412,
             "rgb(223,47,67)"
            ],
            [
             0.6274509803921569,
             "rgb(236,76,61)"
            ],
            [
             0.6901960784313725,
             "rgb(242,107,73)"
            ],
            [
             0.7529411764705882,
             "rgb(244,135,95)"
            ],
            [
             0.8156862745098039,
             "rgb(245,162,122)"
            ],
            [
             0.8784313725490196,
             "rgb(246,188,153)"
            ],
            [
             0.9411764705882353,
             "rgb(247,212,187)"
            ],
            [
             1,
             "rgb(250,234,220)"
            ]
           ]
          },
          "colorway": [
           "rgb(76,114,176)",
           "rgb(221,132,82)",
           "rgb(85,168,104)",
           "rgb(196,78,82)",
           "rgb(129,114,179)",
           "rgb(147,120,96)",
           "rgb(218,139,195)",
           "rgb(140,140,140)",
           "rgb(204,185,116)",
           "rgb(100,181,205)"
          ],
          "font": {
           "color": "rgb(36,36,36)"
          },
          "geo": {
           "bgcolor": "white",
           "lakecolor": "white",
           "landcolor": "rgb(234,234,242)",
           "showlakes": true,
           "showland": true,
           "subunitcolor": "white"
          },
          "hoverlabel": {
           "align": "left"
          },
          "hovermode": "closest",
          "paper_bgcolor": "white",
          "plot_bgcolor": "rgb(234,234,242)",
          "polar": {
           "angularaxis": {
            "gridcolor": "white",
            "linecolor": "white",
            "showgrid": true,
            "ticks": ""
           },
           "bgcolor": "rgb(234,234,242)",
           "radialaxis": {
            "gridcolor": "white",
            "linecolor": "white",
            "showgrid": true,
            "ticks": ""
           }
          },
          "scene": {
           "xaxis": {
            "backgroundcolor": "rgb(234,234,242)",
            "gridcolor": "white",
            "gridwidth": 2,
            "linecolor": "white",
            "showbackground": true,
            "showgrid": true,
            "ticks": "",
            "zerolinecolor": "white"
           },
           "yaxis": {
            "backgroundcolor": "rgb(234,234,242)",
            "gridcolor": "white",
            "gridwidth": 2,
            "linecolor": "white",
            "showbackground": true,
            "showgrid": true,
            "ticks": "",
            "zerolinecolor": "white"
           },
           "zaxis": {
            "backgroundcolor": "rgb(234,234,242)",
            "gridcolor": "white",
            "gridwidth": 2,
            "linecolor": "white",
            "showbackground": true,
            "showgrid": true,
            "ticks": "",
            "zerolinecolor": "white"
           }
          },
          "shapedefaults": {
           "fillcolor": "rgb(67,103,167)",
           "line": {
            "width": 0
           },
           "opacity": 0.5
          },
          "ternary": {
           "aaxis": {
            "gridcolor": "white",
            "linecolor": "white",
            "showgrid": true,
            "ticks": ""
           },
           "baxis": {
            "gridcolor": "white",
            "linecolor": "white",
            "showgrid": true,
            "ticks": ""
           },
           "bgcolor": "rgb(234,234,242)",
           "caxis": {
            "gridcolor": "white",
            "linecolor": "white",
            "showgrid": true,
            "ticks": ""
           }
          },
          "xaxis": {
           "automargin": true,
           "gridcolor": "white",
           "linecolor": "white",
           "showgrid": true,
           "ticks": "",
           "title": {
            "standoff": 15
           },
           "zerolinecolor": "white"
          },
          "yaxis": {
           "automargin": true,
           "gridcolor": "white",
           "linecolor": "white",
           "showgrid": true,
           "ticks": "",
           "title": {
            "standoff": 15
           },
           "zerolinecolor": "white"
          }
         }
        },
        "title": {
         "text": "p = 3"
        },
        "width": 800,
        "xaxis": {
         "anchor": "y",
         "domain": [
          0,
          1
         ],
         "title": {
          "text": "x"
         }
        },
        "yaxis": {
         "anchor": "x",
         "domain": [
          0,
          1
         ],
         "title": {
          "text": "y"
         }
        }
       }
      }
     },
     "metadata": {}
    },
    {
     "output_type": "stream",
     "name": "stdout",
     "text": [
      "[[ 1.00000000e+00 -1.50000000e+01  2.25000000e+02 -3.37500000e+03\n   5.06250000e+04]\n [ 1.00000000e+00 -1.22222222e+01  1.49382716e+02 -1.82578875e+03\n   2.23151959e+04]\n [ 1.00000000e+00 -9.44444444e+00  8.91975309e+01 -8.42421125e+02\n   7.95619951e+03]\n [ 1.00000000e+00 -6.66666667e+00  4.44444444e+01 -2.96296296e+02\n   1.97530864e+03]\n [ 1.00000000e+00 -3.88888889e+00  1.51234568e+01 -5.88134431e+01\n   2.28718945e+02]\n [ 1.00000000e+00 -1.11111111e+00  1.23456790e+00 -1.37174211e+00\n   1.52415790e+00]\n [ 1.00000000e+00  1.66666667e+00  2.77777778e+00  4.62962963e+00\n   7.71604938e+00]\n [ 1.00000000e+00  4.44444444e+00  1.97530864e+01  8.77914952e+01\n   3.90184423e+02]\n [ 1.00000000e+00  7.22222222e+00  5.21604938e+01  3.76714678e+02\n   2.72071712e+03]\n [ 1.00000000e+00  1.00000000e+01  1.00000000e+02  1.00000000e+03\n   1.00000000e+04]]\n"
     ]
    },
    {
     "output_type": "display_data",
     "data": {
      "application/vnd.plotly.v1+json": {
       "config": {
        "plotlyServerURL": "https://plot.ly"
       },
       "data": [
        {
         "hoverinfo": "skip",
         "hovertemplate": "x=%{x}<br>y=%{y}<extra></extra>",
         "legendgroup": "",
         "marker": {
          "color": "red",
          "line": {
           "color": "black",
           "width": 2
          },
          "size": 8,
          "symbol": "circle"
         },
         "mode": "markers",
         "name": "",
         "orientation": "v",
         "showlegend": false,
         "type": "scatter",
         "x": [
          -15,
          -12.222222222222221,
          -9.444444444444445,
          -6.666666666666668,
          -3.8888888888888893,
          -1.1111111111111107,
          1.6666666666666643,
          4.444444444444443,
          7.222222222222221,
          10
         ],
         "xaxis": "x",
         "y": [
          73.97843702679296,
          50.37026073256916,
          23.638896397007425,
          17.49394613337101,
          2.0071074871936783,
          4.004272346554971,
          19.1797905507133,
          33.63909395617573,
          61.996813086287155,
          86.2090637458025
         ],
         "yaxis": "y"
        },
        {
         "line": {
          "color": "green"
         },
         "mode": "lines",
         "name": "Aproximation",
         "type": "scatter",
         "x": [
          -15,
          -12.222222222222221,
          -9.444444444444445,
          -6.666666666666668,
          -3.8888888888888893,
          -1.1111111111111107,
          1.6666666666666643,
          4.444444444444443,
          7.222222222222221,
          10
         ],
         "y": [
          73.88162854197218,
          49.57338827902609,
          27.690855016393407,
          11.756737508033673,
          4.0902466091214915,
          5.807095276046608,
          16.819498566413834,
          35.83617363904311,
          60.3623397539694,
          86.69971827244287
         ]
        },
        {
         "line": {
          "color": "royalblue",
          "dash": "dash"
         },
         "mode": "lines",
         "name": "Fg(x)",
         "type": "scatter",
         "x": [
          -15,
          -12.222222222222221,
          -9.444444444444445,
          -6.666666666666668,
          -3.8888888888888893,
          -1.1111111111111107,
          1.6666666666666643,
          4.444444444444443,
          7.222222222222221,
          10
         ],
         "y": [
          77.5,
          48.02469135802469,
          26.26543209876543,
          12.222222222222225,
          5.895061728395062,
          7.283950617283951,
          16.38888888888888,
          33.209876543209866,
          57.746913580246904,
          90
         ]
        }
       ],
       "layout": {
        "height": 700,
        "legend": {
         "tracegroupgap": 0
        },
        "template": {
         "data": {
          "bar": [
           {
            "error_x": {
             "color": "rgb(36,36,36)"
            },
            "error_y": {
             "color": "rgb(36,36,36)"
            },
            "marker": {
             "line": {
              "color": "rgb(234,234,242)",
              "width": 0.5
             }
            },
            "type": "bar"
           }
          ],
          "barpolar": [
           {
            "marker": {
             "line": {
              "color": "rgb(234,234,242)",
              "width": 0.5
             }
            },
            "type": "barpolar"
           }
          ],
          "carpet": [
           {
            "aaxis": {
             "endlinecolor": "rgb(36,36,36)",
             "gridcolor": "white",
             "linecolor": "white",
             "minorgridcolor": "white",
             "startlinecolor": "rgb(36,36,36)"
            },
            "baxis": {
             "endlinecolor": "rgb(36,36,36)",
             "gridcolor": "white",
             "linecolor": "white",
             "minorgridcolor": "white",
             "startlinecolor": "rgb(36,36,36)"
            },
            "type": "carpet"
           }
          ],
          "choropleth": [
           {
            "colorbar": {
             "outlinewidth": 0,
             "tickcolor": "rgb(36,36,36)",
             "ticklen": 8,
             "ticks": "outside",
             "tickwidth": 2
            },
            "type": "choropleth"
           }
          ],
          "contour": [
           {
            "colorbar": {
             "outlinewidth": 0,
             "tickcolor": "rgb(36,36,36)",
             "ticklen": 8,
             "ticks": "outside",
             "tickwidth": 2
            },
            "colorscale": [
             [
              0,
              "rgb(2,4,25)"
             ],
             [
              0.06274509803921569,
              "rgb(24,15,41)"
             ],
             [
              0.12549019607843137,
              "rgb(47,23,57)"
             ],
             [
              0.18823529411764706,
              "rgb(71,28,72)"
             ],
             [
              0.25098039215686274,
              "rgb(97,30,82)"
             ],
             [
              0.3137254901960784,
              "rgb(123,30,89)"
             ],
             [
              0.3764705882352941,
              "rgb(150,27,91)"
             ],
             [
              0.4392156862745098,
              "rgb(177,22,88)"
             ],
             [
              0.5019607843137255,
              "rgb(203,26,79)"
             ],
             [
              0.5647058823529412,
              "rgb(223,47,67)"
             ],
             [
              0.6274509803921569,
              "rgb(236,76,61)"
             ],
             [
              0.6901960784313725,
              "rgb(242,107,73)"
             ],
             [
              0.7529411764705882,
              "rgb(244,135,95)"
             ],
             [
              0.8156862745098039,
              "rgb(245,162,122)"
             ],
             [
              0.8784313725490196,
              "rgb(246,188,153)"
             ],
             [
              0.9411764705882353,
              "rgb(247,212,187)"
             ],
             [
              1,
              "rgb(250,234,220)"
             ]
            ],
            "type": "contour"
           }
          ],
          "contourcarpet": [
           {
            "colorbar": {
             "outlinewidth": 0,
             "tickcolor": "rgb(36,36,36)",
             "ticklen": 8,
             "ticks": "outside",
             "tickwidth": 2
            },
            "type": "contourcarpet"
           }
          ],
          "heatmap": [
           {
            "colorbar": {
             "outlinewidth": 0,
             "tickcolor": "rgb(36,36,36)",
             "ticklen": 8,
             "ticks": "outside",
             "tickwidth": 2
            },
            "colorscale": [
             [
              0,
              "rgb(2,4,25)"
             ],
             [
              0.06274509803921569,
              "rgb(24,15,41)"
             ],
             [
              0.12549019607843137,
              "rgb(47,23,57)"
             ],
             [
              0.18823529411764706,
              "rgb(71,28,72)"
             ],
             [
              0.25098039215686274,
              "rgb(97,30,82)"
             ],
             [
              0.3137254901960784,
              "rgb(123,30,89)"
             ],
             [
              0.3764705882352941,
              "rgb(150,27,91)"
             ],
             [
              0.4392156862745098,
              "rgb(177,22,88)"
             ],
             [
              0.5019607843137255,
              "rgb(203,26,79)"
             ],
             [
              0.5647058823529412,
              "rgb(223,47,67)"
             ],
             [
              0.6274509803921569,
              "rgb(236,76,61)"
             ],
             [
              0.6901960784313725,
              "rgb(242,107,73)"
             ],
             [
              0.7529411764705882,
              "rgb(244,135,95)"
             ],
             [
              0.8156862745098039,
              "rgb(245,162,122)"
             ],
             [
              0.8784313725490196,
              "rgb(246,188,153)"
             ],
             [
              0.9411764705882353,
              "rgb(247,212,187)"
             ],
             [
              1,
              "rgb(250,234,220)"
             ]
            ],
            "type": "heatmap"
           }
          ],
          "heatmapgl": [
           {
            "colorbar": {
             "outlinewidth": 0,
             "tickcolor": "rgb(36,36,36)",
             "ticklen": 8,
             "ticks": "outside",
             "tickwidth": 2
            },
            "colorscale": [
             [
              0,
              "rgb(2,4,25)"
             ],
             [
              0.06274509803921569,
              "rgb(24,15,41)"
             ],
             [
              0.12549019607843137,
              "rgb(47,23,57)"
             ],
             [
              0.18823529411764706,
              "rgb(71,28,72)"
             ],
             [
              0.25098039215686274,
              "rgb(97,30,82)"
             ],
             [
              0.3137254901960784,
              "rgb(123,30,89)"
             ],
             [
              0.3764705882352941,
              "rgb(150,27,91)"
             ],
             [
              0.4392156862745098,
              "rgb(177,22,88)"
             ],
             [
              0.5019607843137255,
              "rgb(203,26,79)"
             ],
             [
              0.5647058823529412,
              "rgb(223,47,67)"
             ],
             [
              0.6274509803921569,
              "rgb(236,76,61)"
             ],
             [
              0.6901960784313725,
              "rgb(242,107,73)"
             ],
             [
              0.7529411764705882,
              "rgb(244,135,95)"
             ],
             [
              0.8156862745098039,
              "rgb(245,162,122)"
             ],
             [
              0.8784313725490196,
              "rgb(246,188,153)"
             ],
             [
              0.9411764705882353,
              "rgb(247,212,187)"
             ],
             [
              1,
              "rgb(250,234,220)"
             ]
            ],
            "type": "heatmapgl"
           }
          ],
          "histogram": [
           {
            "marker": {
             "colorbar": {
              "outlinewidth": 0,
              "tickcolor": "rgb(36,36,36)",
              "ticklen": 8,
              "ticks": "outside",
              "tickwidth": 2
             }
            },
            "type": "histogram"
           }
          ],
          "histogram2d": [
           {
            "colorbar": {
             "outlinewidth": 0,
             "tickcolor": "rgb(36,36,36)",
             "ticklen": 8,
             "ticks": "outside",
             "tickwidth": 2
            },
            "colorscale": [
             [
              0,
              "rgb(2,4,25)"
             ],
             [
              0.06274509803921569,
              "rgb(24,15,41)"
             ],
             [
              0.12549019607843137,
              "rgb(47,23,57)"
             ],
             [
              0.18823529411764706,
              "rgb(71,28,72)"
             ],
             [
              0.25098039215686274,
              "rgb(97,30,82)"
             ],
             [
              0.3137254901960784,
              "rgb(123,30,89)"
             ],
             [
              0.3764705882352941,
              "rgb(150,27,91)"
             ],
             [
              0.4392156862745098,
              "rgb(177,22,88)"
             ],
             [
              0.5019607843137255,
              "rgb(203,26,79)"
             ],
             [
              0.5647058823529412,
              "rgb(223,47,67)"
             ],
             [
              0.6274509803921569,
              "rgb(236,76,61)"
             ],
             [
              0.6901960784313725,
              "rgb(242,107,73)"
             ],
             [
              0.7529411764705882,
              "rgb(244,135,95)"
             ],
             [
              0.8156862745098039,
              "rgb(245,162,122)"
             ],
             [
              0.8784313725490196,
              "rgb(246,188,153)"
             ],
             [
              0.9411764705882353,
              "rgb(247,212,187)"
             ],
             [
              1,
              "rgb(250,234,220)"
             ]
            ],
            "type": "histogram2d"
           }
          ],
          "histogram2dcontour": [
           {
            "colorbar": {
             "outlinewidth": 0,
             "tickcolor": "rgb(36,36,36)",
             "ticklen": 8,
             "ticks": "outside",
             "tickwidth": 2
            },
            "colorscale": [
             [
              0,
              "rgb(2,4,25)"
             ],
             [
              0.06274509803921569,
              "rgb(24,15,41)"
             ],
             [
              0.12549019607843137,
              "rgb(47,23,57)"
             ],
             [
              0.18823529411764706,
              "rgb(71,28,72)"
             ],
             [
              0.25098039215686274,
              "rgb(97,30,82)"
             ],
             [
              0.3137254901960784,
              "rgb(123,30,89)"
             ],
             [
              0.3764705882352941,
              "rgb(150,27,91)"
             ],
             [
              0.4392156862745098,
              "rgb(177,22,88)"
             ],
             [
              0.5019607843137255,
              "rgb(203,26,79)"
             ],
             [
              0.5647058823529412,
              "rgb(223,47,67)"
             ],
             [
              0.6274509803921569,
              "rgb(236,76,61)"
             ],
             [
              0.6901960784313725,
              "rgb(242,107,73)"
             ],
             [
              0.7529411764705882,
              "rgb(244,135,95)"
             ],
             [
              0.8156862745098039,
              "rgb(245,162,122)"
             ],
             [
              0.8784313725490196,
              "rgb(246,188,153)"
             ],
             [
              0.9411764705882353,
              "rgb(247,212,187)"
             ],
             [
              1,
              "rgb(250,234,220)"
             ]
            ],
            "type": "histogram2dcontour"
           }
          ],
          "mesh3d": [
           {
            "colorbar": {
             "outlinewidth": 0,
             "tickcolor": "rgb(36,36,36)",
             "ticklen": 8,
             "ticks": "outside",
             "tickwidth": 2
            },
            "type": "mesh3d"
           }
          ],
          "parcoords": [
           {
            "line": {
             "colorbar": {
              "outlinewidth": 0,
              "tickcolor": "rgb(36,36,36)",
              "ticklen": 8,
              "ticks": "outside",
              "tickwidth": 2
             }
            },
            "type": "parcoords"
           }
          ],
          "pie": [
           {
            "automargin": true,
            "type": "pie"
           }
          ],
          "scatter": [
           {
            "marker": {
             "colorbar": {
              "outlinewidth": 0,
              "tickcolor": "rgb(36,36,36)",
              "ticklen": 8,
              "ticks": "outside",
              "tickwidth": 2
             }
            },
            "type": "scatter"
           }
          ],
          "scatter3d": [
           {
            "line": {
             "colorbar": {
              "outlinewidth": 0,
              "tickcolor": "rgb(36,36,36)",
              "ticklen": 8,
              "ticks": "outside",
              "tickwidth": 2
             }
            },
            "marker": {
             "colorbar": {
              "outlinewidth": 0,
              "tickcolor": "rgb(36,36,36)",
              "ticklen": 8,
              "ticks": "outside",
              "tickwidth": 2
             }
            },
            "type": "scatter3d"
           }
          ],
          "scattercarpet": [
           {
            "marker": {
             "colorbar": {
              "outlinewidth": 0,
              "tickcolor": "rgb(36,36,36)",
              "ticklen": 8,
              "ticks": "outside",
              "tickwidth": 2
             }
            },
            "type": "scattercarpet"
           }
          ],
          "scattergeo": [
           {
            "marker": {
             "colorbar": {
              "outlinewidth": 0,
              "tickcolor": "rgb(36,36,36)",
              "ticklen": 8,
              "ticks": "outside",
              "tickwidth": 2
             }
            },
            "type": "scattergeo"
           }
          ],
          "scattergl": [
           {
            "marker": {
             "colorbar": {
              "outlinewidth": 0,
              "tickcolor": "rgb(36,36,36)",
              "ticklen": 8,
              "ticks": "outside",
              "tickwidth": 2
             }
            },
            "type": "scattergl"
           }
          ],
          "scattermapbox": [
           {
            "marker": {
             "colorbar": {
              "outlinewidth": 0,
              "tickcolor": "rgb(36,36,36)",
              "ticklen": 8,
              "ticks": "outside",
              "tickwidth": 2
             }
            },
            "type": "scattermapbox"
           }
          ],
          "scatterpolar": [
           {
            "marker": {
             "colorbar": {
              "outlinewidth": 0,
              "tickcolor": "rgb(36,36,36)",
              "ticklen": 8,
              "ticks": "outside",
              "tickwidth": 2
             }
            },
            "type": "scatterpolar"
           }
          ],
          "scatterpolargl": [
           {
            "marker": {
             "colorbar": {
              "outlinewidth": 0,
              "tickcolor": "rgb(36,36,36)",
              "ticklen": 8,
              "ticks": "outside",
              "tickwidth": 2
             }
            },
            "type": "scatterpolargl"
           }
          ],
          "scatterternary": [
           {
            "marker": {
             "colorbar": {
              "outlinewidth": 0,
              "tickcolor": "rgb(36,36,36)",
              "ticklen": 8,
              "ticks": "outside",
              "tickwidth": 2
             }
            },
            "type": "scatterternary"
           }
          ],
          "surface": [
           {
            "colorbar": {
             "outlinewidth": 0,
             "tickcolor": "rgb(36,36,36)",
             "ticklen": 8,
             "ticks": "outside",
             "tickwidth": 2
            },
            "colorscale": [
             [
              0,
              "rgb(2,4,25)"
             ],
             [
              0.06274509803921569,
              "rgb(24,15,41)"
             ],
             [
              0.12549019607843137,
              "rgb(47,23,57)"
             ],
             [
              0.18823529411764706,
              "rgb(71,28,72)"
             ],
             [
              0.25098039215686274,
              "rgb(97,30,82)"
             ],
             [
              0.3137254901960784,
              "rgb(123,30,89)"
             ],
             [
              0.3764705882352941,
              "rgb(150,27,91)"
             ],
             [
              0.4392156862745098,
              "rgb(177,22,88)"
             ],
             [
              0.5019607843137255,
              "rgb(203,26,79)"
             ],
             [
              0.5647058823529412,
              "rgb(223,47,67)"
             ],
             [
              0.6274509803921569,
              "rgb(236,76,61)"
             ],
             [
              0.6901960784313725,
              "rgb(242,107,73)"
             ],
             [
              0.7529411764705882,
              "rgb(244,135,95)"
             ],
             [
              0.8156862745098039,
              "rgb(245,162,122)"
             ],
             [
              0.8784313725490196,
              "rgb(246,188,153)"
             ],
             [
              0.9411764705882353,
              "rgb(247,212,187)"
             ],
             [
              1,
              "rgb(250,234,220)"
             ]
            ],
            "type": "surface"
           }
          ],
          "table": [
           {
            "cells": {
             "fill": {
              "color": "rgb(231,231,240)"
             },
             "line": {
              "color": "white"
             }
            },
            "header": {
             "fill": {
              "color": "rgb(183,183,191)"
             },
             "line": {
              "color": "white"
             }
            },
            "type": "table"
           }
          ]
         },
         "layout": {
          "annotationdefaults": {
           "arrowcolor": "rgb(67,103,167)"
          },
          "autotypenumbers": "strict",
          "coloraxis": {
           "colorbar": {
            "outlinewidth": 0,
            "tickcolor": "rgb(36,36,36)",
            "ticklen": 8,
            "ticks": "outside",
            "tickwidth": 2
           }
          },
          "colorscale": {
           "sequential": [
            [
             0,
             "rgb(2,4,25)"
            ],
            [
             0.06274509803921569,
             "rgb(24,15,41)"
            ],
            [
             0.12549019607843137,
             "rgb(47,23,57)"
            ],
            [
             0.18823529411764706,
             "rgb(71,28,72)"
            ],
            [
             0.25098039215686274,
             "rgb(97,30,82)"
            ],
            [
             0.3137254901960784,
             "rgb(123,30,89)"
            ],
            [
             0.3764705882352941,
             "rgb(150,27,91)"
            ],
            [
             0.4392156862745098,
             "rgb(177,22,88)"
            ],
            [
             0.5019607843137255,
             "rgb(203,26,79)"
            ],
            [
             0.5647058823529412,
             "rgb(223,47,67)"
            ],
            [
             0.6274509803921569,
             "rgb(236,76,61)"
            ],
            [
             0.6901960784313725,
             "rgb(242,107,73)"
            ],
            [
             0.7529411764705882,
             "rgb(244,135,95)"
            ],
            [
             0.8156862745098039,
             "rgb(245,162,122)"
            ],
            [
             0.8784313725490196,
             "rgb(246,188,153)"
            ],
            [
             0.9411764705882353,
             "rgb(247,212,187)"
            ],
            [
             1,
             "rgb(250,234,220)"
            ]
           ],
           "sequentialminus": [
            [
             0,
             "rgb(2,4,25)"
            ],
            [
             0.06274509803921569,
             "rgb(24,15,41)"
            ],
            [
             0.12549019607843137,
             "rgb(47,23,57)"
            ],
            [
             0.18823529411764706,
             "rgb(71,28,72)"
            ],
            [
             0.25098039215686274,
             "rgb(97,30,82)"
            ],
            [
             0.3137254901960784,
             "rgb(123,30,89)"
            ],
            [
             0.3764705882352941,
             "rgb(150,27,91)"
            ],
            [
             0.4392156862745098,
             "rgb(177,22,88)"
            ],
            [
             0.5019607843137255,
             "rgb(203,26,79)"
            ],
            [
             0.5647058823529412,
             "rgb(223,47,67)"
            ],
            [
             0.6274509803921569,
             "rgb(236,76,61)"
            ],
            [
             0.6901960784313725,
             "rgb(242,107,73)"
            ],
            [
             0.7529411764705882,
             "rgb(244,135,95)"
            ],
            [
             0.8156862745098039,
             "rgb(245,162,122)"
            ],
            [
             0.8784313725490196,
             "rgb(246,188,153)"
            ],
            [
             0.9411764705882353,
             "rgb(247,212,187)"
            ],
            [
             1,
             "rgb(250,234,220)"
            ]
           ]
          },
          "colorway": [
           "rgb(76,114,176)",
           "rgb(221,132,82)",
           "rgb(85,168,104)",
           "rgb(196,78,82)",
           "rgb(129,114,179)",
           "rgb(147,120,96)",
           "rgb(218,139,195)",
           "rgb(140,140,140)",
           "rgb(204,185,116)",
           "rgb(100,181,205)"
          ],
          "font": {
           "color": "rgb(36,36,36)"
          },
          "geo": {
           "bgcolor": "white",
           "lakecolor": "white",
           "landcolor": "rgb(234,234,242)",
           "showlakes": true,
           "showland": true,
           "subunitcolor": "white"
          },
          "hoverlabel": {
           "align": "left"
          },
          "hovermode": "closest",
          "paper_bgcolor": "white",
          "plot_bgcolor": "rgb(234,234,242)",
          "polar": {
           "angularaxis": {
            "gridcolor": "white",
            "linecolor": "white",
            "showgrid": true,
            "ticks": ""
           },
           "bgcolor": "rgb(234,234,242)",
           "radialaxis": {
            "gridcolor": "white",
            "linecolor": "white",
            "showgrid": true,
            "ticks": ""
           }
          },
          "scene": {
           "xaxis": {
            "backgroundcolor": "rgb(234,234,242)",
            "gridcolor": "white",
            "gridwidth": 2,
            "linecolor": "white",
            "showbackground": true,
            "showgrid": true,
            "ticks": "",
            "zerolinecolor": "white"
           },
           "yaxis": {
            "backgroundcolor": "rgb(234,234,242)",
            "gridcolor": "white",
            "gridwidth": 2,
            "linecolor": "white",
            "showbackground": true,
            "showgrid": true,
            "ticks": "",
            "zerolinecolor": "white"
           },
           "zaxis": {
            "backgroundcolor": "rgb(234,234,242)",
            "gridcolor": "white",
            "gridwidth": 2,
            "linecolor": "white",
            "showbackground": true,
            "showgrid": true,
            "ticks": "",
            "zerolinecolor": "white"
           }
          },
          "shapedefaults": {
           "fillcolor": "rgb(67,103,167)",
           "line": {
            "width": 0
           },
           "opacity": 0.5
          },
          "ternary": {
           "aaxis": {
            "gridcolor": "white",
            "linecolor": "white",
            "showgrid": true,
            "ticks": ""
           },
           "baxis": {
            "gridcolor": "white",
            "linecolor": "white",
            "showgrid": true,
            "ticks": ""
           },
           "bgcolor": "rgb(234,234,242)",
           "caxis": {
            "gridcolor": "white",
            "linecolor": "white",
            "showgrid": true,
            "ticks": ""
           }
          },
          "xaxis": {
           "automargin": true,
           "gridcolor": "white",
           "linecolor": "white",
           "showgrid": true,
           "ticks": "",
           "title": {
            "standoff": 15
           },
           "zerolinecolor": "white"
          },
          "yaxis": {
           "automargin": true,
           "gridcolor": "white",
           "linecolor": "white",
           "showgrid": true,
           "ticks": "",
           "title": {
            "standoff": 15
           },
           "zerolinecolor": "white"
          }
         }
        },
        "title": {
         "text": "p = 4"
        },
        "width": 800,
        "xaxis": {
         "anchor": "y",
         "domain": [
          0,
          1
         ],
         "title": {
          "text": "x"
         }
        },
        "yaxis": {
         "anchor": "x",
         "domain": [
          0,
          1
         ],
         "title": {
          "text": "y"
         }
        }
       }
      }
     },
     "metadata": {}
    },
    {
     "output_type": "stream",
     "name": "stdout",
     "text": [
      "[[ 1.00000000e+00 -1.50000000e+01  2.25000000e+02 -3.37500000e+03\n   5.06250000e+04 -7.59375000e+05]\n [ 1.00000000e+00 -1.22222222e+01  1.49382716e+02 -1.82578875e+03\n   2.23151959e+04 -2.72741283e+05]\n [ 1.00000000e+00 -9.44444444e+00  8.91975309e+01 -8.42421125e+02\n   7.95619951e+03 -7.51418843e+04]\n [ 1.00000000e+00 -6.66666667e+00  4.44444444e+01 -2.96296296e+02\n   1.97530864e+03 -1.31687243e+04]\n [ 1.00000000e+00 -3.88888889e+00  1.51234568e+01 -5.88134431e+01\n   2.28718945e+02 -8.89462565e+02]\n [ 1.00000000e+00 -1.11111111e+00  1.23456790e+00 -1.37174211e+00\n   1.52415790e+00 -1.69350878e+00]\n [ 1.00000000e+00  1.66666667e+00  2.77777778e+00  4.62962963e+00\n   7.71604938e+00  1.28600823e+01]\n [ 1.00000000e+00  4.44444444e+00  1.97530864e+01  8.77914952e+01\n   3.90184423e+02  1.73415299e+03]\n [ 1.00000000e+00  7.22222222e+00  5.21604938e+01  3.76714678e+02\n   2.72071712e+03  1.96496236e+04]\n [ 1.00000000e+00  1.00000000e+01  1.00000000e+02  1.00000000e+03\n   1.00000000e+04  1.00000000e+05]]\n"
     ]
    },
    {
     "output_type": "display_data",
     "data": {
      "application/vnd.plotly.v1+json": {
       "config": {
        "plotlyServerURL": "https://plot.ly"
       },
       "data": [
        {
         "hoverinfo": "skip",
         "hovertemplate": "x=%{x}<br>y=%{y}<extra></extra>",
         "legendgroup": "",
         "marker": {
          "color": "red",
          "line": {
           "color": "black",
           "width": 2
          },
          "size": 8,
          "symbol": "circle"
         },
         "mode": "markers",
         "name": "",
         "orientation": "v",
         "showlegend": false,
         "type": "scatter",
         "x": [
          -15,
          -12.222222222222221,
          -9.444444444444445,
          -6.666666666666668,
          -3.8888888888888893,
          -1.1111111111111107,
          1.6666666666666643,
          4.444444444444443,
          7.222222222222221,
          10
         ],
         "xaxis": "x",
         "y": [
          73.97843702679296,
          50.37026073256916,
          23.638896397007425,
          17.49394613337101,
          2.0071074871936783,
          4.004272346554971,
          19.1797905507133,
          33.63909395617573,
          61.996813086287155,
          86.2090637458025
         ],
         "yaxis": "y"
        },
        {
         "line": {
          "color": "green"
         },
         "mode": "lines",
         "name": "Aproximation",
         "type": "scatter",
         "x": [
          -15,
          -12.222222222222221,
          -9.444444444444445,
          -6.666666666666668,
          -3.8888888888888893,
          -1.1111111111111107,
          1.6666666666666643,
          4.444444444444443,
          7.222222222222221,
          10
         ],
         "y": [
          74.2574785214669,
          48.69640499351071,
          27.753496679591457,
          12.445795803691965,
          4.46609658850566,
          5.431245296432288,
          16.130440270573555,
          35.7735319757289,
          61.239323039391095,
          86.32386829274202
         ]
        },
        {
         "line": {
          "color": "royalblue",
          "dash": "dash"
         },
         "mode": "lines",
         "name": "Fg(x)",
         "type": "scatter",
         "x": [
          -15,
          -12.222222222222221,
          -9.444444444444445,
          -6.666666666666668,
          -3.8888888888888893,
          -1.1111111111111107,
          1.6666666666666643,
          4.444444444444443,
          7.222222222222221,
          10
         ],
         "y": [
          77.5,
          48.02469135802469,
          26.26543209876543,
          12.222222222222225,
          5.895061728395062,
          7.283950617283951,
          16.38888888888888,
          33.209876543209866,
          57.746913580246904,
          90
         ]
        }
       ],
       "layout": {
        "height": 700,
        "legend": {
         "tracegroupgap": 0
        },
        "template": {
         "data": {
          "bar": [
           {
            "error_x": {
             "color": "rgb(36,36,36)"
            },
            "error_y": {
             "color": "rgb(36,36,36)"
            },
            "marker": {
             "line": {
              "color": "rgb(234,234,242)",
              "width": 0.5
             }
            },
            "type": "bar"
           }
          ],
          "barpolar": [
           {
            "marker": {
             "line": {
              "color": "rgb(234,234,242)",
              "width": 0.5
             }
            },
            "type": "barpolar"
           }
          ],
          "carpet": [
           {
            "aaxis": {
             "endlinecolor": "rgb(36,36,36)",
             "gridcolor": "white",
             "linecolor": "white",
             "minorgridcolor": "white",
             "startlinecolor": "rgb(36,36,36)"
            },
            "baxis": {
             "endlinecolor": "rgb(36,36,36)",
             "gridcolor": "white",
             "linecolor": "white",
             "minorgridcolor": "white",
             "startlinecolor": "rgb(36,36,36)"
            },
            "type": "carpet"
           }
          ],
          "choropleth": [
           {
            "colorbar": {
             "outlinewidth": 0,
             "tickcolor": "rgb(36,36,36)",
             "ticklen": 8,
             "ticks": "outside",
             "tickwidth": 2
            },
            "type": "choropleth"
           }
          ],
          "contour": [
           {
            "colorbar": {
             "outlinewidth": 0,
             "tickcolor": "rgb(36,36,36)",
             "ticklen": 8,
             "ticks": "outside",
             "tickwidth": 2
            },
            "colorscale": [
             [
              0,
              "rgb(2,4,25)"
             ],
             [
              0.06274509803921569,
              "rgb(24,15,41)"
             ],
             [
              0.12549019607843137,
              "rgb(47,23,57)"
             ],
             [
              0.18823529411764706,
              "rgb(71,28,72)"
             ],
             [
              0.25098039215686274,
              "rgb(97,30,82)"
             ],
             [
              0.3137254901960784,
              "rgb(123,30,89)"
             ],
             [
              0.3764705882352941,
              "rgb(150,27,91)"
             ],
             [
              0.4392156862745098,
              "rgb(177,22,88)"
             ],
             [
              0.5019607843137255,
              "rgb(203,26,79)"
             ],
             [
              0.5647058823529412,
              "rgb(223,47,67)"
             ],
             [
              0.6274509803921569,
              "rgb(236,76,61)"
             ],
             [
              0.6901960784313725,
              "rgb(242,107,73)"
             ],
             [
              0.7529411764705882,
              "rgb(244,135,95)"
             ],
             [
              0.8156862745098039,
              "rgb(245,162,122)"
             ],
             [
              0.8784313725490196,
              "rgb(246,188,153)"
             ],
             [
              0.9411764705882353,
              "rgb(247,212,187)"
             ],
             [
              1,
              "rgb(250,234,220)"
             ]
            ],
            "type": "contour"
           }
          ],
          "contourcarpet": [
           {
            "colorbar": {
             "outlinewidth": 0,
             "tickcolor": "rgb(36,36,36)",
             "ticklen": 8,
             "ticks": "outside",
             "tickwidth": 2
            },
            "type": "contourcarpet"
           }
          ],
          "heatmap": [
           {
            "colorbar": {
             "outlinewidth": 0,
             "tickcolor": "rgb(36,36,36)",
             "ticklen": 8,
             "ticks": "outside",
             "tickwidth": 2
            },
            "colorscale": [
             [
              0,
              "rgb(2,4,25)"
             ],
             [
              0.06274509803921569,
              "rgb(24,15,41)"
             ],
             [
              0.12549019607843137,
              "rgb(47,23,57)"
             ],
             [
              0.18823529411764706,
              "rgb(71,28,72)"
             ],
             [
              0.25098039215686274,
              "rgb(97,30,82)"
             ],
             [
              0.3137254901960784,
              "rgb(123,30,89)"
             ],
             [
              0.3764705882352941,
              "rgb(150,27,91)"
             ],
             [
              0.4392156862745098,
              "rgb(177,22,88)"
             ],
             [
              0.5019607843137255,
              "rgb(203,26,79)"
             ],
             [
              0.5647058823529412,
              "rgb(223,47,67)"
             ],
             [
              0.6274509803921569,
              "rgb(236,76,61)"
             ],
             [
              0.6901960784313725,
              "rgb(242,107,73)"
             ],
             [
              0.7529411764705882,
              "rgb(244,135,95)"
             ],
             [
              0.8156862745098039,
              "rgb(245,162,122)"
             ],
             [
              0.8784313725490196,
              "rgb(246,188,153)"
             ],
             [
              0.9411764705882353,
              "rgb(247,212,187)"
             ],
             [
              1,
              "rgb(250,234,220)"
             ]
            ],
            "type": "heatmap"
           }
          ],
          "heatmapgl": [
           {
            "colorbar": {
             "outlinewidth": 0,
             "tickcolor": "rgb(36,36,36)",
             "ticklen": 8,
             "ticks": "outside",
             "tickwidth": 2
            },
            "colorscale": [
             [
              0,
              "rgb(2,4,25)"
             ],
             [
              0.06274509803921569,
              "rgb(24,15,41)"
             ],
             [
              0.12549019607843137,
              "rgb(47,23,57)"
             ],
             [
              0.18823529411764706,
              "rgb(71,28,72)"
             ],
             [
              0.25098039215686274,
              "rgb(97,30,82)"
             ],
             [
              0.3137254901960784,
              "rgb(123,30,89)"
             ],
             [
              0.3764705882352941,
              "rgb(150,27,91)"
             ],
             [
              0.4392156862745098,
              "rgb(177,22,88)"
             ],
             [
              0.5019607843137255,
              "rgb(203,26,79)"
             ],
             [
              0.5647058823529412,
              "rgb(223,47,67)"
             ],
             [
              0.6274509803921569,
              "rgb(236,76,61)"
             ],
             [
              0.6901960784313725,
              "rgb(242,107,73)"
             ],
             [
              0.7529411764705882,
              "rgb(244,135,95)"
             ],
             [
              0.8156862745098039,
              "rgb(245,162,122)"
             ],
             [
              0.8784313725490196,
              "rgb(246,188,153)"
             ],
             [
              0.9411764705882353,
              "rgb(247,212,187)"
             ],
             [
              1,
              "rgb(250,234,220)"
             ]
            ],
            "type": "heatmapgl"
           }
          ],
          "histogram": [
           {
            "marker": {
             "colorbar": {
              "outlinewidth": 0,
              "tickcolor": "rgb(36,36,36)",
              "ticklen": 8,
              "ticks": "outside",
              "tickwidth": 2
             }
            },
            "type": "histogram"
           }
          ],
          "histogram2d": [
           {
            "colorbar": {
             "outlinewidth": 0,
             "tickcolor": "rgb(36,36,36)",
             "ticklen": 8,
             "ticks": "outside",
             "tickwidth": 2
            },
            "colorscale": [
             [
              0,
              "rgb(2,4,25)"
             ],
             [
              0.06274509803921569,
              "rgb(24,15,41)"
             ],
             [
              0.12549019607843137,
              "rgb(47,23,57)"
             ],
             [
              0.18823529411764706,
              "rgb(71,28,72)"
             ],
             [
              0.25098039215686274,
              "rgb(97,30,82)"
             ],
             [
              0.3137254901960784,
              "rgb(123,30,89)"
             ],
             [
              0.3764705882352941,
              "rgb(150,27,91)"
             ],
             [
              0.4392156862745098,
              "rgb(177,22,88)"
             ],
             [
              0.5019607843137255,
              "rgb(203,26,79)"
             ],
             [
              0.5647058823529412,
              "rgb(223,47,67)"
             ],
             [
              0.6274509803921569,
              "rgb(236,76,61)"
             ],
             [
              0.6901960784313725,
              "rgb(242,107,73)"
             ],
             [
              0.7529411764705882,
              "rgb(244,135,95)"
             ],
             [
              0.8156862745098039,
              "rgb(245,162,122)"
             ],
             [
              0.8784313725490196,
              "rgb(246,188,153)"
             ],
             [
              0.9411764705882353,
              "rgb(247,212,187)"
             ],
             [
              1,
              "rgb(250,234,220)"
             ]
            ],
            "type": "histogram2d"
           }
          ],
          "histogram2dcontour": [
           {
            "colorbar": {
             "outlinewidth": 0,
             "tickcolor": "rgb(36,36,36)",
             "ticklen": 8,
             "ticks": "outside",
             "tickwidth": 2
            },
            "colorscale": [
             [
              0,
              "rgb(2,4,25)"
             ],
             [
              0.06274509803921569,
              "rgb(24,15,41)"
             ],
             [
              0.12549019607843137,
              "rgb(47,23,57)"
             ],
             [
              0.18823529411764706,
              "rgb(71,28,72)"
             ],
             [
              0.25098039215686274,
              "rgb(97,30,82)"
             ],
             [
              0.3137254901960784,
              "rgb(123,30,89)"
             ],
             [
              0.3764705882352941,
              "rgb(150,27,91)"
             ],
             [
              0.4392156862745098,
              "rgb(177,22,88)"
             ],
             [
              0.5019607843137255,
              "rgb(203,26,79)"
             ],
             [
              0.5647058823529412,
              "rgb(223,47,67)"
             ],
             [
              0.6274509803921569,
              "rgb(236,76,61)"
             ],
             [
              0.6901960784313725,
              "rgb(242,107,73)"
             ],
             [
              0.7529411764705882,
              "rgb(244,135,95)"
             ],
             [
              0.8156862745098039,
              "rgb(245,162,122)"
             ],
             [
              0.8784313725490196,
              "rgb(246,188,153)"
             ],
             [
              0.9411764705882353,
              "rgb(247,212,187)"
             ],
             [
              1,
              "rgb(250,234,220)"
             ]
            ],
            "type": "histogram2dcontour"
           }
          ],
          "mesh3d": [
           {
            "colorbar": {
             "outlinewidth": 0,
             "tickcolor": "rgb(36,36,36)",
             "ticklen": 8,
             "ticks": "outside",
             "tickwidth": 2
            },
            "type": "mesh3d"
           }
          ],
          "parcoords": [
           {
            "line": {
             "colorbar": {
              "outlinewidth": 0,
              "tickcolor": "rgb(36,36,36)",
              "ticklen": 8,
              "ticks": "outside",
              "tickwidth": 2
             }
            },
            "type": "parcoords"
           }
          ],
          "pie": [
           {
            "automargin": true,
            "type": "pie"
           }
          ],
          "scatter": [
           {
            "marker": {
             "colorbar": {
              "outlinewidth": 0,
              "tickcolor": "rgb(36,36,36)",
              "ticklen": 8,
              "ticks": "outside",
              "tickwidth": 2
             }
            },
            "type": "scatter"
           }
          ],
          "scatter3d": [
           {
            "line": {
             "colorbar": {
              "outlinewidth": 0,
              "tickcolor": "rgb(36,36,36)",
              "ticklen": 8,
              "ticks": "outside",
              "tickwidth": 2
             }
            },
            "marker": {
             "colorbar": {
              "outlinewidth": 0,
              "tickcolor": "rgb(36,36,36)",
              "ticklen": 8,
              "ticks": "outside",
              "tickwidth": 2
             }
            },
            "type": "scatter3d"
           }
          ],
          "scattercarpet": [
           {
            "marker": {
             "colorbar": {
              "outlinewidth": 0,
              "tickcolor": "rgb(36,36,36)",
              "ticklen": 8,
              "ticks": "outside",
              "tickwidth": 2
             }
            },
            "type": "scattercarpet"
           }
          ],
          "scattergeo": [
           {
            "marker": {
             "colorbar": {
              "outlinewidth": 0,
              "tickcolor": "rgb(36,36,36)",
              "ticklen": 8,
              "ticks": "outside",
              "tickwidth": 2
             }
            },
            "type": "scattergeo"
           }
          ],
          "scattergl": [
           {
            "marker": {
             "colorbar": {
              "outlinewidth": 0,
              "tickcolor": "rgb(36,36,36)",
              "ticklen": 8,
              "ticks": "outside",
              "tickwidth": 2
             }
            },
            "type": "scattergl"
           }
          ],
          "scattermapbox": [
           {
            "marker": {
             "colorbar": {
              "outlinewidth": 0,
              "tickcolor": "rgb(36,36,36)",
              "ticklen": 8,
              "ticks": "outside",
              "tickwidth": 2
             }
            },
            "type": "scattermapbox"
           }
          ],
          "scatterpolar": [
           {
            "marker": {
             "colorbar": {
              "outlinewidth": 0,
              "tickcolor": "rgb(36,36,36)",
              "ticklen": 8,
              "ticks": "outside",
              "tickwidth": 2
             }
            },
            "type": "scatterpolar"
           }
          ],
          "scatterpolargl": [
           {
            "marker": {
             "colorbar": {
              "outlinewidth": 0,
              "tickcolor": "rgb(36,36,36)",
              "ticklen": 8,
              "ticks": "outside",
              "tickwidth": 2
             }
            },
            "type": "scatterpolargl"
           }
          ],
          "scatterternary": [
           {
            "marker": {
             "colorbar": {
              "outlinewidth": 0,
              "tickcolor": "rgb(36,36,36)",
              "ticklen": 8,
              "ticks": "outside",
              "tickwidth": 2
             }
            },
            "type": "scatterternary"
           }
          ],
          "surface": [
           {
            "colorbar": {
             "outlinewidth": 0,
             "tickcolor": "rgb(36,36,36)",
             "ticklen": 8,
             "ticks": "outside",
             "tickwidth": 2
            },
            "colorscale": [
             [
              0,
              "rgb(2,4,25)"
             ],
             [
              0.06274509803921569,
              "rgb(24,15,41)"
             ],
             [
              0.12549019607843137,
              "rgb(47,23,57)"
             ],
             [
              0.18823529411764706,
              "rgb(71,28,72)"
             ],
             [
              0.25098039215686274,
              "rgb(97,30,82)"
             ],
             [
              0.3137254901960784,
              "rgb(123,30,89)"
             ],
             [
              0.3764705882352941,
              "rgb(150,27,91)"
             ],
             [
              0.4392156862745098,
              "rgb(177,22,88)"
             ],
             [
              0.5019607843137255,
              "rgb(203,26,79)"
             ],
             [
              0.5647058823529412,
              "rgb(223,47,67)"
             ],
             [
              0.6274509803921569,
              "rgb(236,76,61)"
             ],
             [
              0.6901960784313725,
              "rgb(242,107,73)"
             ],
             [
              0.7529411764705882,
              "rgb(244,135,95)"
             ],
             [
              0.8156862745098039,
              "rgb(245,162,122)"
             ],
             [
              0.8784313725490196,
              "rgb(246,188,153)"
             ],
             [
              0.9411764705882353,
              "rgb(247,212,187)"
             ],
             [
              1,
              "rgb(250,234,220)"
             ]
            ],
            "type": "surface"
           }
          ],
          "table": [
           {
            "cells": {
             "fill": {
              "color": "rgb(231,231,240)"
             },
             "line": {
              "color": "white"
             }
            },
            "header": {
             "fill": {
              "color": "rgb(183,183,191)"
             },
             "line": {
              "color": "white"
             }
            },
            "type": "table"
           }
          ]
         },
         "layout": {
          "annotationdefaults": {
           "arrowcolor": "rgb(67,103,167)"
          },
          "autotypenumbers": "strict",
          "coloraxis": {
           "colorbar": {
            "outlinewidth": 0,
            "tickcolor": "rgb(36,36,36)",
            "ticklen": 8,
            "ticks": "outside",
            "tickwidth": 2
           }
          },
          "colorscale": {
           "sequential": [
            [
             0,
             "rgb(2,4,25)"
            ],
            [
             0.06274509803921569,
             "rgb(24,15,41)"
            ],
            [
             0.12549019607843137,
             "rgb(47,23,57)"
            ],
            [
             0.18823529411764706,
             "rgb(71,28,72)"
            ],
            [
             0.25098039215686274,
             "rgb(97,30,82)"
            ],
            [
             0.3137254901960784,
             "rgb(123,30,89)"
            ],
            [
             0.3764705882352941,
             "rgb(150,27,91)"
            ],
            [
             0.4392156862745098,
             "rgb(177,22,88)"
            ],
            [
             0.5019607843137255,
             "rgb(203,26,79)"
            ],
            [
             0.5647058823529412,
             "rgb(223,47,67)"
            ],
            [
             0.6274509803921569,
             "rgb(236,76,61)"
            ],
            [
             0.6901960784313725,
             "rgb(242,107,73)"
            ],
            [
             0.7529411764705882,
             "rgb(244,135,95)"
            ],
            [
             0.8156862745098039,
             "rgb(245,162,122)"
            ],
            [
             0.8784313725490196,
             "rgb(246,188,153)"
            ],
            [
             0.9411764705882353,
             "rgb(247,212,187)"
            ],
            [
             1,
             "rgb(250,234,220)"
            ]
           ],
           "sequentialminus": [
            [
             0,
             "rgb(2,4,25)"
            ],
            [
             0.06274509803921569,
             "rgb(24,15,41)"
            ],
            [
             0.12549019607843137,
             "rgb(47,23,57)"
            ],
            [
             0.18823529411764706,
             "rgb(71,28,72)"
            ],
            [
             0.25098039215686274,
             "rgb(97,30,82)"
            ],
            [
             0.3137254901960784,
             "rgb(123,30,89)"
            ],
            [
             0.3764705882352941,
             "rgb(150,27,91)"
            ],
            [
             0.4392156862745098,
             "rgb(177,22,88)"
            ],
            [
             0.5019607843137255,
             "rgb(203,26,79)"
            ],
            [
             0.5647058823529412,
             "rgb(223,47,67)"
            ],
            [
             0.6274509803921569,
             "rgb(236,76,61)"
            ],
            [
             0.6901960784313725,
             "rgb(242,107,73)"
            ],
            [
             0.7529411764705882,
             "rgb(244,135,95)"
            ],
            [
             0.8156862745098039,
             "rgb(245,162,122)"
            ],
            [
             0.8784313725490196,
             "rgb(246,188,153)"
            ],
            [
             0.9411764705882353,
             "rgb(247,212,187)"
            ],
            [
             1,
             "rgb(250,234,220)"
            ]
           ]
          },
          "colorway": [
           "rgb(76,114,176)",
           "rgb(221,132,82)",
           "rgb(85,168,104)",
           "rgb(196,78,82)",
           "rgb(129,114,179)",
           "rgb(147,120,96)",
           "rgb(218,139,195)",
           "rgb(140,140,140)",
           "rgb(204,185,116)",
           "rgb(100,181,205)"
          ],
          "font": {
           "color": "rgb(36,36,36)"
          },
          "geo": {
           "bgcolor": "white",
           "lakecolor": "white",
           "landcolor": "rgb(234,234,242)",
           "showlakes": true,
           "showland": true,
           "subunitcolor": "white"
          },
          "hoverlabel": {
           "align": "left"
          },
          "hovermode": "closest",
          "paper_bgcolor": "white",
          "plot_bgcolor": "rgb(234,234,242)",
          "polar": {
           "angularaxis": {
            "gridcolor": "white",
            "linecolor": "white",
            "showgrid": true,
            "ticks": ""
           },
           "bgcolor": "rgb(234,234,242)",
           "radialaxis": {
            "gridcolor": "white",
            "linecolor": "white",
            "showgrid": true,
            "ticks": ""
           }
          },
          "scene": {
           "xaxis": {
            "backgroundcolor": "rgb(234,234,242)",
            "gridcolor": "white",
            "gridwidth": 2,
            "linecolor": "white",
            "showbackground": true,
            "showgrid": true,
            "ticks": "",
            "zerolinecolor": "white"
           },
           "yaxis": {
            "backgroundcolor": "rgb(234,234,242)",
            "gridcolor": "white",
            "gridwidth": 2,
            "linecolor": "white",
            "showbackground": true,
            "showgrid": true,
            "ticks": "",
            "zerolinecolor": "white"
           },
           "zaxis": {
            "backgroundcolor": "rgb(234,234,242)",
            "gridcolor": "white",
            "gridwidth": 2,
            "linecolor": "white",
            "showbackground": true,
            "showgrid": true,
            "ticks": "",
            "zerolinecolor": "white"
           }
          },
          "shapedefaults": {
           "fillcolor": "rgb(67,103,167)",
           "line": {
            "width": 0
           },
           "opacity": 0.5
          },
          "ternary": {
           "aaxis": {
            "gridcolor": "white",
            "linecolor": "white",
            "showgrid": true,
            "ticks": ""
           },
           "baxis": {
            "gridcolor": "white",
            "linecolor": "white",
            "showgrid": true,
            "ticks": ""
           },
           "bgcolor": "rgb(234,234,242)",
           "caxis": {
            "gridcolor": "white",
            "linecolor": "white",
            "showgrid": true,
            "ticks": ""
           }
          },
          "xaxis": {
           "automargin": true,
           "gridcolor": "white",
           "linecolor": "white",
           "showgrid": true,
           "ticks": "",
           "title": {
            "standoff": 15
           },
           "zerolinecolor": "white"
          },
          "yaxis": {
           "automargin": true,
           "gridcolor": "white",
           "linecolor": "white",
           "showgrid": true,
           "ticks": "",
           "title": {
            "standoff": 15
           },
           "zerolinecolor": "white"
          }
         }
        },
        "title": {
         "text": "p = 5"
        },
        "width": 800,
        "xaxis": {
         "anchor": "y",
         "domain": [
          0,
          1
         ],
         "title": {
          "text": "x"
         }
        },
        "yaxis": {
         "anchor": "x",
         "domain": [
          0,
          1
         ],
         "title": {
          "text": "y"
         }
        }
       }
      }
     },
     "metadata": {}
    },
    {
     "output_type": "stream",
     "name": "stdout",
     "text": [
      "[[ 1.00000000e+00 -1.50000000e+01  2.25000000e+02 -3.37500000e+03\n   5.06250000e+04 -7.59375000e+05  1.13906250e+07]\n [ 1.00000000e+00 -1.22222222e+01  1.49382716e+02 -1.82578875e+03\n   2.23151959e+04 -2.72741283e+05  3.33350457e+06]\n [ 1.00000000e+00 -9.44444444e+00  8.91975309e+01 -8.42421125e+02\n   7.95619951e+03 -7.51418843e+04  7.09673352e+05]\n [ 1.00000000e+00 -6.66666667e+00  4.44444444e+01 -2.96296296e+02\n   1.97530864e+03 -1.31687243e+04  8.77914952e+04]\n [ 1.00000000e+00 -3.88888889e+00  1.51234568e+01 -5.88134431e+01\n   2.28718945e+02 -8.89462565e+02  3.45902109e+03]\n [ 1.00000000e+00 -1.11111111e+00  1.23456790e+00 -1.37174211e+00\n   1.52415790e+00 -1.69350878e+00  1.88167642e+00]\n [ 1.00000000e+00  1.66666667e+00  2.77777778e+00  4.62962963e+00\n   7.71604938e+00  1.28600823e+01  2.14334705e+01]\n [ 1.00000000e+00  4.44444444e+00  1.97530864e+01  8.77914952e+01\n   3.90184423e+02  1.73415299e+03  7.70734663e+03]\n [ 1.00000000e+00  7.22222222e+00  5.21604938e+01  3.76714678e+02\n   2.72071712e+03  1.96496236e+04  1.41913948e+05]\n [ 1.00000000e+00  1.00000000e+01  1.00000000e+02  1.00000000e+03\n   1.00000000e+04  1.00000000e+05  1.00000000e+06]]\n"
     ]
    },
    {
     "output_type": "display_data",
     "data": {
      "application/vnd.plotly.v1+json": {
       "config": {
        "plotlyServerURL": "https://plot.ly"
       },
       "data": [
        {
         "hoverinfo": "skip",
         "hovertemplate": "x=%{x}<br>y=%{y}<extra></extra>",
         "legendgroup": "",
         "marker": {
          "color": "red",
          "line": {
           "color": "black",
           "width": 2
          },
          "size": 8,
          "symbol": "circle"
         },
         "mode": "markers",
         "name": "",
         "orientation": "v",
         "showlegend": false,
         "type": "scatter",
         "x": [
          -15,
          -12.222222222222221,
          -9.444444444444445,
          -6.666666666666668,
          -3.8888888888888893,
          -1.1111111111111107,
          1.6666666666666643,
          4.444444444444443,
          7.222222222222221,
          10
         ],
         "xaxis": "x",
         "y": [
          73.97843702679296,
          50.37026073256916,
          23.638896397007425,
          17.49394613337101,
          2.0071074871936783,
          4.004272346554971,
          19.1797905507133,
          33.63909395617573,
          61.996813086287155,
          86.2090637458025
         ],
         "yaxis": "y"
        },
        {
         "line": {
          "color": "green"
         },
         "mode": "lines",
         "name": "Aproximation",
         "type": "scatter",
         "x": [
          -15,
          -12.222222222222221,
          -9.444444444444445,
          -6.666666666666668,
          -3.8888888888888893,
          -1.1111111111111107,
          1.6666666666666643,
          4.444444444444443,
          7.222222222222221,
          10
         ],
         "y": [
          74.2086420445297,
          48.87547207011398,
          27.59070842262991,
          12.348122847753979,
          4.596327187945892,
          5.5614758967396165,
          16.032767316587385,
          35.61074372025691,
          61.41839011578142,
          86.27503181496286
         ]
        },
        {
         "line": {
          "color": "royalblue",
          "dash": "dash"
         },
         "mode": "lines",
         "name": "Fg(x)",
         "type": "scatter",
         "x": [
          -15,
          -12.222222222222221,
          -9.444444444444445,
          -6.666666666666668,
          -3.8888888888888893,
          -1.1111111111111107,
          1.6666666666666643,
          4.444444444444443,
          7.222222222222221,
          10
         ],
         "y": [
          77.5,
          48.02469135802469,
          26.26543209876543,
          12.222222222222225,
          5.895061728395062,
          7.283950617283951,
          16.38888888888888,
          33.209876543209866,
          57.746913580246904,
          90
         ]
        }
       ],
       "layout": {
        "height": 700,
        "legend": {
         "tracegroupgap": 0
        },
        "template": {
         "data": {
          "bar": [
           {
            "error_x": {
             "color": "rgb(36,36,36)"
            },
            "error_y": {
             "color": "rgb(36,36,36)"
            },
            "marker": {
             "line": {
              "color": "rgb(234,234,242)",
              "width": 0.5
             }
            },
            "type": "bar"
           }
          ],
          "barpolar": [
           {
            "marker": {
             "line": {
              "color": "rgb(234,234,242)",
              "width": 0.5
             }
            },
            "type": "barpolar"
           }
          ],
          "carpet": [
           {
            "aaxis": {
             "endlinecolor": "rgb(36,36,36)",
             "gridcolor": "white",
             "linecolor": "white",
             "minorgridcolor": "white",
             "startlinecolor": "rgb(36,36,36)"
            },
            "baxis": {
             "endlinecolor": "rgb(36,36,36)",
             "gridcolor": "white",
             "linecolor": "white",
             "minorgridcolor": "white",
             "startlinecolor": "rgb(36,36,36)"
            },
            "type": "carpet"
           }
          ],
          "choropleth": [
           {
            "colorbar": {
             "outlinewidth": 0,
             "tickcolor": "rgb(36,36,36)",
             "ticklen": 8,
             "ticks": "outside",
             "tickwidth": 2
            },
            "type": "choropleth"
           }
          ],
          "contour": [
           {
            "colorbar": {
             "outlinewidth": 0,
             "tickcolor": "rgb(36,36,36)",
             "ticklen": 8,
             "ticks": "outside",
             "tickwidth": 2
            },
            "colorscale": [
             [
              0,
              "rgb(2,4,25)"
             ],
             [
              0.06274509803921569,
              "rgb(24,15,41)"
             ],
             [
              0.12549019607843137,
              "rgb(47,23,57)"
             ],
             [
              0.18823529411764706,
              "rgb(71,28,72)"
             ],
             [
              0.25098039215686274,
              "rgb(97,30,82)"
             ],
             [
              0.3137254901960784,
              "rgb(123,30,89)"
             ],
             [
              0.3764705882352941,
              "rgb(150,27,91)"
             ],
             [
              0.4392156862745098,
              "rgb(177,22,88)"
             ],
             [
              0.5019607843137255,
              "rgb(203,26,79)"
             ],
             [
              0.5647058823529412,
              "rgb(223,47,67)"
             ],
             [
              0.6274509803921569,
              "rgb(236,76,61)"
             ],
             [
              0.6901960784313725,
              "rgb(242,107,73)"
             ],
             [
              0.7529411764705882,
              "rgb(244,135,95)"
             ],
             [
              0.8156862745098039,
              "rgb(245,162,122)"
             ],
             [
              0.8784313725490196,
              "rgb(246,188,153)"
             ],
             [
              0.9411764705882353,
              "rgb(247,212,187)"
             ],
             [
              1,
              "rgb(250,234,220)"
             ]
            ],
            "type": "contour"
           }
          ],
          "contourcarpet": [
           {
            "colorbar": {
             "outlinewidth": 0,
             "tickcolor": "rgb(36,36,36)",
             "ticklen": 8,
             "ticks": "outside",
             "tickwidth": 2
            },
            "type": "contourcarpet"
           }
          ],
          "heatmap": [
           {
            "colorbar": {
             "outlinewidth": 0,
             "tickcolor": "rgb(36,36,36)",
             "ticklen": 8,
             "ticks": "outside",
             "tickwidth": 2
            },
            "colorscale": [
             [
              0,
              "rgb(2,4,25)"
             ],
             [
              0.06274509803921569,
              "rgb(24,15,41)"
             ],
             [
              0.12549019607843137,
              "rgb(47,23,57)"
             ],
             [
              0.18823529411764706,
              "rgb(71,28,72)"
             ],
             [
              0.25098039215686274,
              "rgb(97,30,82)"
             ],
             [
              0.3137254901960784,
              "rgb(123,30,89)"
             ],
             [
              0.3764705882352941,
              "rgb(150,27,91)"
             ],
             [
              0.4392156862745098,
              "rgb(177,22,88)"
             ],
             [
              0.5019607843137255,
              "rgb(203,26,79)"
             ],
             [
              0.5647058823529412,
              "rgb(223,47,67)"
             ],
             [
              0.6274509803921569,
              "rgb(236,76,61)"
             ],
             [
              0.6901960784313725,
              "rgb(242,107,73)"
             ],
             [
              0.7529411764705882,
              "rgb(244,135,95)"
             ],
             [
              0.8156862745098039,
              "rgb(245,162,122)"
             ],
             [
              0.8784313725490196,
              "rgb(246,188,153)"
             ],
             [
              0.9411764705882353,
              "rgb(247,212,187)"
             ],
             [
              1,
              "rgb(250,234,220)"
             ]
            ],
            "type": "heatmap"
           }
          ],
          "heatmapgl": [
           {
            "colorbar": {
             "outlinewidth": 0,
             "tickcolor": "rgb(36,36,36)",
             "ticklen": 8,
             "ticks": "outside",
             "tickwidth": 2
            },
            "colorscale": [
             [
              0,
              "rgb(2,4,25)"
             ],
             [
              0.06274509803921569,
              "rgb(24,15,41)"
             ],
             [
              0.12549019607843137,
              "rgb(47,23,57)"
             ],
             [
              0.18823529411764706,
              "rgb(71,28,72)"
             ],
             [
              0.25098039215686274,
              "rgb(97,30,82)"
             ],
             [
              0.3137254901960784,
              "rgb(123,30,89)"
             ],
             [
              0.3764705882352941,
              "rgb(150,27,91)"
             ],
             [
              0.4392156862745098,
              "rgb(177,22,88)"
             ],
             [
              0.5019607843137255,
              "rgb(203,26,79)"
             ],
             [
              0.5647058823529412,
              "rgb(223,47,67)"
             ],
             [
              0.6274509803921569,
              "rgb(236,76,61)"
             ],
             [
              0.6901960784313725,
              "rgb(242,107,73)"
             ],
             [
              0.7529411764705882,
              "rgb(244,135,95)"
             ],
             [
              0.8156862745098039,
              "rgb(245,162,122)"
             ],
             [
              0.8784313725490196,
              "rgb(246,188,153)"
             ],
             [
              0.9411764705882353,
              "rgb(247,212,187)"
             ],
             [
              1,
              "rgb(250,234,220)"
             ]
            ],
            "type": "heatmapgl"
           }
          ],
          "histogram": [
           {
            "marker": {
             "colorbar": {
              "outlinewidth": 0,
              "tickcolor": "rgb(36,36,36)",
              "ticklen": 8,
              "ticks": "outside",
              "tickwidth": 2
             }
            },
            "type": "histogram"
           }
          ],
          "histogram2d": [
           {
            "colorbar": {
             "outlinewidth": 0,
             "tickcolor": "rgb(36,36,36)",
             "ticklen": 8,
             "ticks": "outside",
             "tickwidth": 2
            },
            "colorscale": [
             [
              0,
              "rgb(2,4,25)"
             ],
             [
              0.06274509803921569,
              "rgb(24,15,41)"
             ],
             [
              0.12549019607843137,
              "rgb(47,23,57)"
             ],
             [
              0.18823529411764706,
              "rgb(71,28,72)"
             ],
             [
              0.25098039215686274,
              "rgb(97,30,82)"
             ],
             [
              0.3137254901960784,
              "rgb(123,30,89)"
             ],
             [
              0.3764705882352941,
              "rgb(150,27,91)"
             ],
             [
              0.4392156862745098,
              "rgb(177,22,88)"
             ],
             [
              0.5019607843137255,
              "rgb(203,26,79)"
             ],
             [
              0.5647058823529412,
              "rgb(223,47,67)"
             ],
             [
              0.6274509803921569,
              "rgb(236,76,61)"
             ],
             [
              0.6901960784313725,
              "rgb(242,107,73)"
             ],
             [
              0.7529411764705882,
              "rgb(244,135,95)"
             ],
             [
              0.8156862745098039,
              "rgb(245,162,122)"
             ],
             [
              0.8784313725490196,
              "rgb(246,188,153)"
             ],
             [
              0.9411764705882353,
              "rgb(247,212,187)"
             ],
             [
              1,
              "rgb(250,234,220)"
             ]
            ],
            "type": "histogram2d"
           }
          ],
          "histogram2dcontour": [
           {
            "colorbar": {
             "outlinewidth": 0,
             "tickcolor": "rgb(36,36,36)",
             "ticklen": 8,
             "ticks": "outside",
             "tickwidth": 2
            },
            "colorscale": [
             [
              0,
              "rgb(2,4,25)"
             ],
             [
              0.06274509803921569,
              "rgb(24,15,41)"
             ],
             [
              0.12549019607843137,
              "rgb(47,23,57)"
             ],
             [
              0.18823529411764706,
              "rgb(71,28,72)"
             ],
             [
              0.25098039215686274,
              "rgb(97,30,82)"
             ],
             [
              0.3137254901960784,
              "rgb(123,30,89)"
             ],
             [
              0.3764705882352941,
              "rgb(150,27,91)"
             ],
             [
              0.4392156862745098,
              "rgb(177,22,88)"
             ],
             [
              0.5019607843137255,
              "rgb(203,26,79)"
             ],
             [
              0.5647058823529412,
              "rgb(223,47,67)"
             ],
             [
              0.6274509803921569,
              "rgb(236,76,61)"
             ],
             [
              0.6901960784313725,
              "rgb(242,107,73)"
             ],
             [
              0.7529411764705882,
              "rgb(244,135,95)"
             ],
             [
              0.8156862745098039,
              "rgb(245,162,122)"
             ],
             [
              0.8784313725490196,
              "rgb(246,188,153)"
             ],
             [
              0.9411764705882353,
              "rgb(247,212,187)"
             ],
             [
              1,
              "rgb(250,234,220)"
             ]
            ],
            "type": "histogram2dcontour"
           }
          ],
          "mesh3d": [
           {
            "colorbar": {
             "outlinewidth": 0,
             "tickcolor": "rgb(36,36,36)",
             "ticklen": 8,
             "ticks": "outside",
             "tickwidth": 2
            },
            "type": "mesh3d"
           }
          ],
          "parcoords": [
           {
            "line": {
             "colorbar": {
              "outlinewidth": 0,
              "tickcolor": "rgb(36,36,36)",
              "ticklen": 8,
              "ticks": "outside",
              "tickwidth": 2
             }
            },
            "type": "parcoords"
           }
          ],
          "pie": [
           {
            "automargin": true,
            "type": "pie"
           }
          ],
          "scatter": [
           {
            "marker": {
             "colorbar": {
              "outlinewidth": 0,
              "tickcolor": "rgb(36,36,36)",
              "ticklen": 8,
              "ticks": "outside",
              "tickwidth": 2
             }
            },
            "type": "scatter"
           }
          ],
          "scatter3d": [
           {
            "line": {
             "colorbar": {
              "outlinewidth": 0,
              "tickcolor": "rgb(36,36,36)",
              "ticklen": 8,
              "ticks": "outside",
              "tickwidth": 2
             }
            },
            "marker": {
             "colorbar": {
              "outlinewidth": 0,
              "tickcolor": "rgb(36,36,36)",
              "ticklen": 8,
              "ticks": "outside",
              "tickwidth": 2
             }
            },
            "type": "scatter3d"
           }
          ],
          "scattercarpet": [
           {
            "marker": {
             "colorbar": {
              "outlinewidth": 0,
              "tickcolor": "rgb(36,36,36)",
              "ticklen": 8,
              "ticks": "outside",
              "tickwidth": 2
             }
            },
            "type": "scattercarpet"
           }
          ],
          "scattergeo": [
           {
            "marker": {
             "colorbar": {
              "outlinewidth": 0,
              "tickcolor": "rgb(36,36,36)",
              "ticklen": 8,
              "ticks": "outside",
              "tickwidth": 2
             }
            },
            "type": "scattergeo"
           }
          ],
          "scattergl": [
           {
            "marker": {
             "colorbar": {
              "outlinewidth": 0,
              "tickcolor": "rgb(36,36,36)",
              "ticklen": 8,
              "ticks": "outside",
              "tickwidth": 2
             }
            },
            "type": "scattergl"
           }
          ],
          "scattermapbox": [
           {
            "marker": {
             "colorbar": {
              "outlinewidth": 0,
              "tickcolor": "rgb(36,36,36)",
              "ticklen": 8,
              "ticks": "outside",
              "tickwidth": 2
             }
            },
            "type": "scattermapbox"
           }
          ],
          "scatterpolar": [
           {
            "marker": {
             "colorbar": {
              "outlinewidth": 0,
              "tickcolor": "rgb(36,36,36)",
              "ticklen": 8,
              "ticks": "outside",
              "tickwidth": 2
             }
            },
            "type": "scatterpolar"
           }
          ],
          "scatterpolargl": [
           {
            "marker": {
             "colorbar": {
              "outlinewidth": 0,
              "tickcolor": "rgb(36,36,36)",
              "ticklen": 8,
              "ticks": "outside",
              "tickwidth": 2
             }
            },
            "type": "scatterpolargl"
           }
          ],
          "scatterternary": [
           {
            "marker": {
             "colorbar": {
              "outlinewidth": 0,
              "tickcolor": "rgb(36,36,36)",
              "ticklen": 8,
              "ticks": "outside",
              "tickwidth": 2
             }
            },
            "type": "scatterternary"
           }
          ],
          "surface": [
           {
            "colorbar": {
             "outlinewidth": 0,
             "tickcolor": "rgb(36,36,36)",
             "ticklen": 8,
             "ticks": "outside",
             "tickwidth": 2
            },
            "colorscale": [
             [
              0,
              "rgb(2,4,25)"
             ],
             [
              0.06274509803921569,
              "rgb(24,15,41)"
             ],
             [
              0.12549019607843137,
              "rgb(47,23,57)"
             ],
             [
              0.18823529411764706,
              "rgb(71,28,72)"
             ],
             [
              0.25098039215686274,
              "rgb(97,30,82)"
             ],
             [
              0.3137254901960784,
              "rgb(123,30,89)"
             ],
             [
              0.3764705882352941,
              "rgb(150,27,91)"
             ],
             [
              0.4392156862745098,
              "rgb(177,22,88)"
             ],
             [
              0.5019607843137255,
              "rgb(203,26,79)"
             ],
             [
              0.5647058823529412,
              "rgb(223,47,67)"
             ],
             [
              0.6274509803921569,
              "rgb(236,76,61)"
             ],
             [
              0.6901960784313725,
              "rgb(242,107,73)"
             ],
             [
              0.7529411764705882,
              "rgb(244,135,95)"
             ],
             [
              0.8156862745098039,
              "rgb(245,162,122)"
             ],
             [
              0.8784313725490196,
              "rgb(246,188,153)"
             ],
             [
              0.9411764705882353,
              "rgb(247,212,187)"
             ],
             [
              1,
              "rgb(250,234,220)"
             ]
            ],
            "type": "surface"
           }
          ],
          "table": [
           {
            "cells": {
             "fill": {
              "color": "rgb(231,231,240)"
             },
             "line": {
              "color": "white"
             }
            },
            "header": {
             "fill": {
              "color": "rgb(183,183,191)"
             },
             "line": {
              "color": "white"
             }
            },
            "type": "table"
           }
          ]
         },
         "layout": {
          "annotationdefaults": {
           "arrowcolor": "rgb(67,103,167)"
          },
          "autotypenumbers": "strict",
          "coloraxis": {
           "colorbar": {
            "outlinewidth": 0,
            "tickcolor": "rgb(36,36,36)",
            "ticklen": 8,
            "ticks": "outside",
            "tickwidth": 2
           }
          },
          "colorscale": {
           "sequential": [
            [
             0,
             "rgb(2,4,25)"
            ],
            [
             0.06274509803921569,
             "rgb(24,15,41)"
            ],
            [
             0.12549019607843137,
             "rgb(47,23,57)"
            ],
            [
             0.18823529411764706,
             "rgb(71,28,72)"
            ],
            [
             0.25098039215686274,
             "rgb(97,30,82)"
            ],
            [
             0.3137254901960784,
             "rgb(123,30,89)"
            ],
            [
             0.3764705882352941,
             "rgb(150,27,91)"
            ],
            [
             0.4392156862745098,
             "rgb(177,22,88)"
            ],
            [
             0.5019607843137255,
             "rgb(203,26,79)"
            ],
            [
             0.5647058823529412,
             "rgb(223,47,67)"
            ],
            [
             0.6274509803921569,
             "rgb(236,76,61)"
            ],
            [
             0.6901960784313725,
             "rgb(242,107,73)"
            ],
            [
             0.7529411764705882,
             "rgb(244,135,95)"
            ],
            [
             0.8156862745098039,
             "rgb(245,162,122)"
            ],
            [
             0.8784313725490196,
             "rgb(246,188,153)"
            ],
            [
             0.9411764705882353,
             "rgb(247,212,187)"
            ],
            [
             1,
             "rgb(250,234,220)"
            ]
           ],
           "sequentialminus": [
            [
             0,
             "rgb(2,4,25)"
            ],
            [
             0.06274509803921569,
             "rgb(24,15,41)"
            ],
            [
             0.12549019607843137,
             "rgb(47,23,57)"
            ],
            [
             0.18823529411764706,
             "rgb(71,28,72)"
            ],
            [
             0.25098039215686274,
             "rgb(97,30,82)"
            ],
            [
             0.3137254901960784,
             "rgb(123,30,89)"
            ],
            [
             0.3764705882352941,
             "rgb(150,27,91)"
            ],
            [
             0.4392156862745098,
             "rgb(177,22,88)"
            ],
            [
             0.5019607843137255,
             "rgb(203,26,79)"
            ],
            [
             0.5647058823529412,
             "rgb(223,47,67)"
            ],
            [
             0.6274509803921569,
             "rgb(236,76,61)"
            ],
            [
             0.6901960784313725,
             "rgb(242,107,73)"
            ],
            [
             0.7529411764705882,
             "rgb(244,135,95)"
            ],
            [
             0.8156862745098039,
             "rgb(245,162,122)"
            ],
            [
             0.8784313725490196,
             "rgb(246,188,153)"
            ],
            [
             0.9411764705882353,
             "rgb(247,212,187)"
            ],
            [
             1,
             "rgb(250,234,220)"
            ]
           ]
          },
          "colorway": [
           "rgb(76,114,176)",
           "rgb(221,132,82)",
           "rgb(85,168,104)",
           "rgb(196,78,82)",
           "rgb(129,114,179)",
           "rgb(147,120,96)",
           "rgb(218,139,195)",
           "rgb(140,140,140)",
           "rgb(204,185,116)",
           "rgb(100,181,205)"
          ],
          "font": {
           "color": "rgb(36,36,36)"
          },
          "geo": {
           "bgcolor": "white",
           "lakecolor": "white",
           "landcolor": "rgb(234,234,242)",
           "showlakes": true,
           "showland": true,
           "subunitcolor": "white"
          },
          "hoverlabel": {
           "align": "left"
          },
          "hovermode": "closest",
          "paper_bgcolor": "white",
          "plot_bgcolor": "rgb(234,234,242)",
          "polar": {
           "angularaxis": {
            "gridcolor": "white",
            "linecolor": "white",
            "showgrid": true,
            "ticks": ""
           },
           "bgcolor": "rgb(234,234,242)",
           "radialaxis": {
            "gridcolor": "white",
            "linecolor": "white",
            "showgrid": true,
            "ticks": ""
           }
          },
          "scene": {
           "xaxis": {
            "backgroundcolor": "rgb(234,234,242)",
            "gridcolor": "white",
            "gridwidth": 2,
            "linecolor": "white",
            "showbackground": true,
            "showgrid": true,
            "ticks": "",
            "zerolinecolor": "white"
           },
           "yaxis": {
            "backgroundcolor": "rgb(234,234,242)",
            "gridcolor": "white",
            "gridwidth": 2,
            "linecolor": "white",
            "showbackground": true,
            "showgrid": true,
            "ticks": "",
            "zerolinecolor": "white"
           },
           "zaxis": {
            "backgroundcolor": "rgb(234,234,242)",
            "gridcolor": "white",
            "gridwidth": 2,
            "linecolor": "white",
            "showbackground": true,
            "showgrid": true,
            "ticks": "",
            "zerolinecolor": "white"
           }
          },
          "shapedefaults": {
           "fillcolor": "rgb(67,103,167)",
           "line": {
            "width": 0
           },
           "opacity": 0.5
          },
          "ternary": {
           "aaxis": {
            "gridcolor": "white",
            "linecolor": "white",
            "showgrid": true,
            "ticks": ""
           },
           "baxis": {
            "gridcolor": "white",
            "linecolor": "white",
            "showgrid": true,
            "ticks": ""
           },
           "bgcolor": "rgb(234,234,242)",
           "caxis": {
            "gridcolor": "white",
            "linecolor": "white",
            "showgrid": true,
            "ticks": ""
           }
          },
          "xaxis": {
           "automargin": true,
           "gridcolor": "white",
           "linecolor": "white",
           "showgrid": true,
           "ticks": "",
           "title": {
            "standoff": 15
           },
           "zerolinecolor": "white"
          },
          "yaxis": {
           "automargin": true,
           "gridcolor": "white",
           "linecolor": "white",
           "showgrid": true,
           "ticks": "",
           "title": {
            "standoff": 15
           },
           "zerolinecolor": "white"
          }
         }
        },
        "title": {
         "text": "p = 6"
        },
        "width": 800,
        "xaxis": {
         "anchor": "y",
         "domain": [
          0,
          1
         ],
         "title": {
          "text": "x"
         }
        },
        "yaxis": {
         "anchor": "x",
         "domain": [
          0,
          1
         ],
         "title": {
          "text": "y"
         }
        }
       }
      }
     },
     "metadata": {}
    },
    {
     "output_type": "stream",
     "name": "stdout",
     "text": [
      "[[ 1.00000000e+00 -1.50000000e+01  2.25000000e+02 -3.37500000e+03\n   5.06250000e+04 -7.59375000e+05  1.13906250e+07 -1.70859375e+08]\n [ 1.00000000e+00 -1.22222222e+01  1.49382716e+02 -1.82578875e+03\n   2.23151959e+04 -2.72741283e+05  3.33350457e+06 -4.07428336e+07]\n [ 1.00000000e+00 -9.44444444e+00  8.91975309e+01 -8.42421125e+02\n   7.95619951e+03 -7.51418843e+04  7.09673352e+05 -6.70247054e+06]\n [ 1.00000000e+00 -6.66666667e+00  4.44444444e+01 -2.96296296e+02\n   1.97530864e+03 -1.31687243e+04  8.77914952e+04 -5.85276635e+05]\n [ 1.00000000e+00 -3.88888889e+00  1.51234568e+01 -5.88134431e+01\n   2.28718945e+02 -8.89462565e+02  3.45902109e+03 -1.34517487e+04]\n [ 1.00000000e+00 -1.11111111e+00  1.23456790e+00 -1.37174211e+00\n   1.52415790e+00 -1.69350878e+00  1.88167642e+00 -2.09075158e+00]\n [ 1.00000000e+00  1.66666667e+00  2.77777778e+00  4.62962963e+00\n   7.71604938e+00  1.28600823e+01  2.14334705e+01  3.57224508e+01]\n [ 1.00000000e+00  4.44444444e+00  1.97530864e+01  8.77914952e+01\n   3.90184423e+02  1.73415299e+03  7.70734663e+03  3.42548739e+04]\n [ 1.00000000e+00  7.22222222e+00  5.21604938e+01  3.76714678e+02\n   2.72071712e+03  1.96496236e+04  1.41913948e+05  1.02493407e+06]\n [ 1.00000000e+00  1.00000000e+01  1.00000000e+02  1.00000000e+03\n   1.00000000e+04  1.00000000e+05  1.00000000e+06  1.00000000e+07]]\n"
     ]
    },
    {
     "output_type": "display_data",
     "data": {
      "application/vnd.plotly.v1+json": {
       "config": {
        "plotlyServerURL": "https://plot.ly"
       },
       "data": [
        {
         "hoverinfo": "skip",
         "hovertemplate": "x=%{x}<br>y=%{y}<extra></extra>",
         "legendgroup": "",
         "marker": {
          "color": "red",
          "line": {
           "color": "black",
           "width": 2
          },
          "size": 8,
          "symbol": "circle"
         },
         "mode": "markers",
         "name": "",
         "orientation": "v",
         "showlegend": false,
         "type": "scatter",
         "x": [
          -15,
          -12.222222222222221,
          -9.444444444444445,
          -6.666666666666668,
          -3.8888888888888893,
          -1.1111111111111107,
          1.6666666666666643,
          4.444444444444443,
          7.222222222222221,
          10
         ],
         "xaxis": "x",
         "y": [
          73.97843702679296,
          50.37026073256916,
          23.638896397007425,
          17.49394613337101,
          2.0071074871936783,
          4.004272346554971,
          19.1797905507133,
          33.63909395617573,
          61.996813086287155,
          86.2090637458025
         ],
         "yaxis": "y"
        },
        {
         "line": {
          "color": "green"
         },
         "mode": "lines",
         "name": "Aproximation",
         "type": "scatter",
         "x": [
          -15,
          -12.222222222222221,
          -9.444444444444445,
          -6.666666666666668,
          -3.8888888888888893,
          -1.1111111111111107,
          1.6666666666666643,
          4.444444444444443,
          7.222222222222221,
          10
         ],
         "y": [
          74.13429052670506,
          49.26375207939519,
          26.88023858925114,
          12.695096474518325,
          5.058958696729554,
          5.098844377375823,
          15.685793667404818,
          36.321213531008866,
          61.03011010516374,
          86.34938329638022
         ]
        },
        {
         "line": {
          "color": "royalblue",
          "dash": "dash"
         },
         "mode": "lines",
         "name": "Fg(x)",
         "type": "scatter",
         "x": [
          -15,
          -12.222222222222221,
          -9.444444444444445,
          -6.666666666666668,
          -3.8888888888888893,
          -1.1111111111111107,
          1.6666666666666643,
          4.444444444444443,
          7.222222222222221,
          10
         ],
         "y": [
          77.5,
          48.02469135802469,
          26.26543209876543,
          12.222222222222225,
          5.895061728395062,
          7.283950617283951,
          16.38888888888888,
          33.209876543209866,
          57.746913580246904,
          90
         ]
        }
       ],
       "layout": {
        "height": 700,
        "legend": {
         "tracegroupgap": 0
        },
        "template": {
         "data": {
          "bar": [
           {
            "error_x": {
             "color": "rgb(36,36,36)"
            },
            "error_y": {
             "color": "rgb(36,36,36)"
            },
            "marker": {
             "line": {
              "color": "rgb(234,234,242)",
              "width": 0.5
             }
            },
            "type": "bar"
           }
          ],
          "barpolar": [
           {
            "marker": {
             "line": {
              "color": "rgb(234,234,242)",
              "width": 0.5
             }
            },
            "type": "barpolar"
           }
          ],
          "carpet": [
           {
            "aaxis": {
             "endlinecolor": "rgb(36,36,36)",
             "gridcolor": "white",
             "linecolor": "white",
             "minorgridcolor": "white",
             "startlinecolor": "rgb(36,36,36)"
            },
            "baxis": {
             "endlinecolor": "rgb(36,36,36)",
             "gridcolor": "white",
             "linecolor": "white",
             "minorgridcolor": "white",
             "startlinecolor": "rgb(36,36,36)"
            },
            "type": "carpet"
           }
          ],
          "choropleth": [
           {
            "colorbar": {
             "outlinewidth": 0,
             "tickcolor": "rgb(36,36,36)",
             "ticklen": 8,
             "ticks": "outside",
             "tickwidth": 2
            },
            "type": "choropleth"
           }
          ],
          "contour": [
           {
            "colorbar": {
             "outlinewidth": 0,
             "tickcolor": "rgb(36,36,36)",
             "ticklen": 8,
             "ticks": "outside",
             "tickwidth": 2
            },
            "colorscale": [
             [
              0,
              "rgb(2,4,25)"
             ],
             [
              0.06274509803921569,
              "rgb(24,15,41)"
             ],
             [
              0.12549019607843137,
              "rgb(47,23,57)"
             ],
             [
              0.18823529411764706,
              "rgb(71,28,72)"
             ],
             [
              0.25098039215686274,
              "rgb(97,30,82)"
             ],
             [
              0.3137254901960784,
              "rgb(123,30,89)"
             ],
             [
              0.3764705882352941,
              "rgb(150,27,91)"
             ],
             [
              0.4392156862745098,
              "rgb(177,22,88)"
             ],
             [
              0.5019607843137255,
              "rgb(203,26,79)"
             ],
             [
              0.5647058823529412,
              "rgb(223,47,67)"
             ],
             [
              0.6274509803921569,
              "rgb(236,76,61)"
             ],
             [
              0.6901960784313725,
              "rgb(242,107,73)"
             ],
             [
              0.7529411764705882,
              "rgb(244,135,95)"
             ],
             [
              0.8156862745098039,
              "rgb(245,162,122)"
             ],
             [
              0.8784313725490196,
              "rgb(246,188,153)"
             ],
             [
              0.9411764705882353,
              "rgb(247,212,187)"
             ],
             [
              1,
              "rgb(250,234,220)"
             ]
            ],
            "type": "contour"
           }
          ],
          "contourcarpet": [
           {
            "colorbar": {
             "outlinewidth": 0,
             "tickcolor": "rgb(36,36,36)",
             "ticklen": 8,
             "ticks": "outside",
             "tickwidth": 2
            },
            "type": "contourcarpet"
           }
          ],
          "heatmap": [
           {
            "colorbar": {
             "outlinewidth": 0,
             "tickcolor": "rgb(36,36,36)",
             "ticklen": 8,
             "ticks": "outside",
             "tickwidth": 2
            },
            "colorscale": [
             [
              0,
              "rgb(2,4,25)"
             ],
             [
              0.06274509803921569,
              "rgb(24,15,41)"
             ],
             [
              0.12549019607843137,
              "rgb(47,23,57)"
             ],
             [
              0.18823529411764706,
              "rgb(71,28,72)"
             ],
             [
              0.25098039215686274,
              "rgb(97,30,82)"
             ],
             [
              0.3137254901960784,
              "rgb(123,30,89)"
             ],
             [
              0.3764705882352941,
              "rgb(150,27,91)"
             ],
             [
              0.4392156862745098,
              "rgb(177,22,88)"
             ],
             [
              0.5019607843137255,
              "rgb(203,26,79)"
             ],
             [
              0.5647058823529412,
              "rgb(223,47,67)"
             ],
             [
              0.6274509803921569,
              "rgb(236,76,61)"
             ],
             [
              0.6901960784313725,
              "rgb(242,107,73)"
             ],
             [
              0.7529411764705882,
              "rgb(244,135,95)"
             ],
             [
              0.8156862745098039,
              "rgb(245,162,122)"
             ],
             [
              0.8784313725490196,
              "rgb(246,188,153)"
             ],
             [
              0.9411764705882353,
              "rgb(247,212,187)"
             ],
             [
              1,
              "rgb(250,234,220)"
             ]
            ],
            "type": "heatmap"
           }
          ],
          "heatmapgl": [
           {
            "colorbar": {
             "outlinewidth": 0,
             "tickcolor": "rgb(36,36,36)",
             "ticklen": 8,
             "ticks": "outside",
             "tickwidth": 2
            },
            "colorscale": [
             [
              0,
              "rgb(2,4,25)"
             ],
             [
              0.06274509803921569,
              "rgb(24,15,41)"
             ],
             [
              0.12549019607843137,
              "rgb(47,23,57)"
             ],
             [
              0.18823529411764706,
              "rgb(71,28,72)"
             ],
             [
              0.25098039215686274,
              "rgb(97,30,82)"
             ],
             [
              0.3137254901960784,
              "rgb(123,30,89)"
             ],
             [
              0.3764705882352941,
              "rgb(150,27,91)"
             ],
             [
              0.4392156862745098,
              "rgb(177,22,88)"
             ],
             [
              0.5019607843137255,
              "rgb(203,26,79)"
             ],
             [
              0.5647058823529412,
              "rgb(223,47,67)"
             ],
             [
              0.6274509803921569,
              "rgb(236,76,61)"
             ],
             [
              0.6901960784313725,
              "rgb(242,107,73)"
             ],
             [
              0.7529411764705882,
              "rgb(244,135,95)"
             ],
             [
              0.8156862745098039,
              "rgb(245,162,122)"
             ],
             [
              0.8784313725490196,
              "rgb(246,188,153)"
             ],
             [
              0.9411764705882353,
              "rgb(247,212,187)"
             ],
             [
              1,
              "rgb(250,234,220)"
             ]
            ],
            "type": "heatmapgl"
           }
          ],
          "histogram": [
           {
            "marker": {
             "colorbar": {
              "outlinewidth": 0,
              "tickcolor": "rgb(36,36,36)",
              "ticklen": 8,
              "ticks": "outside",
              "tickwidth": 2
             }
            },
            "type": "histogram"
           }
          ],
          "histogram2d": [
           {
            "colorbar": {
             "outlinewidth": 0,
             "tickcolor": "rgb(36,36,36)",
             "ticklen": 8,
             "ticks": "outside",
             "tickwidth": 2
            },
            "colorscale": [
             [
              0,
              "rgb(2,4,25)"
             ],
             [
              0.06274509803921569,
              "rgb(24,15,41)"
             ],
             [
              0.12549019607843137,
              "rgb(47,23,57)"
             ],
             [
              0.18823529411764706,
              "rgb(71,28,72)"
             ],
             [
              0.25098039215686274,
              "rgb(97,30,82)"
             ],
             [
              0.3137254901960784,
              "rgb(123,30,89)"
             ],
             [
              0.3764705882352941,
              "rgb(150,27,91)"
             ],
             [
              0.4392156862745098,
              "rgb(177,22,88)"
             ],
             [
              0.5019607843137255,
              "rgb(203,26,79)"
             ],
             [
              0.5647058823529412,
              "rgb(223,47,67)"
             ],
             [
              0.6274509803921569,
              "rgb(236,76,61)"
             ],
             [
              0.6901960784313725,
              "rgb(242,107,73)"
             ],
             [
              0.7529411764705882,
              "rgb(244,135,95)"
             ],
             [
              0.8156862745098039,
              "rgb(245,162,122)"
             ],
             [
              0.8784313725490196,
              "rgb(246,188,153)"
             ],
             [
              0.9411764705882353,
              "rgb(247,212,187)"
             ],
             [
              1,
              "rgb(250,234,220)"
             ]
            ],
            "type": "histogram2d"
           }
          ],
          "histogram2dcontour": [
           {
            "colorbar": {
             "outlinewidth": 0,
             "tickcolor": "rgb(36,36,36)",
             "ticklen": 8,
             "ticks": "outside",
             "tickwidth": 2
            },
            "colorscale": [
             [
              0,
              "rgb(2,4,25)"
             ],
             [
              0.06274509803921569,
              "rgb(24,15,41)"
             ],
             [
              0.12549019607843137,
              "rgb(47,23,57)"
             ],
             [
              0.18823529411764706,
              "rgb(71,28,72)"
             ],
             [
              0.25098039215686274,
              "rgb(97,30,82)"
             ],
             [
              0.3137254901960784,
              "rgb(123,30,89)"
             ],
             [
              0.3764705882352941,
              "rgb(150,27,91)"
             ],
             [
              0.4392156862745098,
              "rgb(177,22,88)"
             ],
             [
              0.5019607843137255,
              "rgb(203,26,79)"
             ],
             [
              0.5647058823529412,
              "rgb(223,47,67)"
             ],
             [
              0.6274509803921569,
              "rgb(236,76,61)"
             ],
             [
              0.6901960784313725,
              "rgb(242,107,73)"
             ],
             [
              0.7529411764705882,
              "rgb(244,135,95)"
             ],
             [
              0.8156862745098039,
              "rgb(245,162,122)"
             ],
             [
              0.8784313725490196,
              "rgb(246,188,153)"
             ],
             [
              0.9411764705882353,
              "rgb(247,212,187)"
             ],
             [
              1,
              "rgb(250,234,220)"
             ]
            ],
            "type": "histogram2dcontour"
           }
          ],
          "mesh3d": [
           {
            "colorbar": {
             "outlinewidth": 0,
             "tickcolor": "rgb(36,36,36)",
             "ticklen": 8,
             "ticks": "outside",
             "tickwidth": 2
            },
            "type": "mesh3d"
           }
          ],
          "parcoords": [
           {
            "line": {
             "colorbar": {
              "outlinewidth": 0,
              "tickcolor": "rgb(36,36,36)",
              "ticklen": 8,
              "ticks": "outside",
              "tickwidth": 2
             }
            },
            "type": "parcoords"
           }
          ],
          "pie": [
           {
            "automargin": true,
            "type": "pie"
           }
          ],
          "scatter": [
           {
            "marker": {
             "colorbar": {
              "outlinewidth": 0,
              "tickcolor": "rgb(36,36,36)",
              "ticklen": 8,
              "ticks": "outside",
              "tickwidth": 2
             }
            },
            "type": "scatter"
           }
          ],
          "scatter3d": [
           {
            "line": {
             "colorbar": {
              "outlinewidth": 0,
              "tickcolor": "rgb(36,36,36)",
              "ticklen": 8,
              "ticks": "outside",
              "tickwidth": 2
             }
            },
            "marker": {
             "colorbar": {
              "outlinewidth": 0,
              "tickcolor": "rgb(36,36,36)",
              "ticklen": 8,
              "ticks": "outside",
              "tickwidth": 2
             }
            },
            "type": "scatter3d"
           }
          ],
          "scattercarpet": [
           {
            "marker": {
             "colorbar": {
              "outlinewidth": 0,
              "tickcolor": "rgb(36,36,36)",
              "ticklen": 8,
              "ticks": "outside",
              "tickwidth": 2
             }
            },
            "type": "scattercarpet"
           }
          ],
          "scattergeo": [
           {
            "marker": {
             "colorbar": {
              "outlinewidth": 0,
              "tickcolor": "rgb(36,36,36)",
              "ticklen": 8,
              "ticks": "outside",
              "tickwidth": 2
             }
            },
            "type": "scattergeo"
           }
          ],
          "scattergl": [
           {
            "marker": {
             "colorbar": {
              "outlinewidth": 0,
              "tickcolor": "rgb(36,36,36)",
              "ticklen": 8,
              "ticks": "outside",
              "tickwidth": 2
             }
            },
            "type": "scattergl"
           }
          ],
          "scattermapbox": [
           {
            "marker": {
             "colorbar": {
              "outlinewidth": 0,
              "tickcolor": "rgb(36,36,36)",
              "ticklen": 8,
              "ticks": "outside",
              "tickwidth": 2
             }
            },
            "type": "scattermapbox"
           }
          ],
          "scatterpolar": [
           {
            "marker": {
             "colorbar": {
              "outlinewidth": 0,
              "tickcolor": "rgb(36,36,36)",
              "ticklen": 8,
              "ticks": "outside",
              "tickwidth": 2
             }
            },
            "type": "scatterpolar"
           }
          ],
          "scatterpolargl": [
           {
            "marker": {
             "colorbar": {
              "outlinewidth": 0,
              "tickcolor": "rgb(36,36,36)",
              "ticklen": 8,
              "ticks": "outside",
              "tickwidth": 2
             }
            },
            "type": "scatterpolargl"
           }
          ],
          "scatterternary": [
           {
            "marker": {
             "colorbar": {
              "outlinewidth": 0,
              "tickcolor": "rgb(36,36,36)",
              "ticklen": 8,
              "ticks": "outside",
              "tickwidth": 2
             }
            },
            "type": "scatterternary"
           }
          ],
          "surface": [
           {
            "colorbar": {
             "outlinewidth": 0,
             "tickcolor": "rgb(36,36,36)",
             "ticklen": 8,
             "ticks": "outside",
             "tickwidth": 2
            },
            "colorscale": [
             [
              0,
              "rgb(2,4,25)"
             ],
             [
              0.06274509803921569,
              "rgb(24,15,41)"
             ],
             [
              0.12549019607843137,
              "rgb(47,23,57)"
             ],
             [
              0.18823529411764706,
              "rgb(71,28,72)"
             ],
             [
              0.25098039215686274,
              "rgb(97,30,82)"
             ],
             [
              0.3137254901960784,
              "rgb(123,30,89)"
             ],
             [
              0.3764705882352941,
              "rgb(150,27,91)"
             ],
             [
              0.4392156862745098,
              "rgb(177,22,88)"
             ],
             [
              0.5019607843137255,
              "rgb(203,26,79)"
             ],
             [
              0.5647058823529412,
              "rgb(223,47,67)"
             ],
             [
              0.6274509803921569,
              "rgb(236,76,61)"
             ],
             [
              0.6901960784313725,
              "rgb(242,107,73)"
             ],
             [
              0.7529411764705882,
              "rgb(244,135,95)"
             ],
             [
              0.8156862745098039,
              "rgb(245,162,122)"
             ],
             [
              0.8784313725490196,
              "rgb(246,188,153)"
             ],
             [
              0.9411764705882353,
              "rgb(247,212,187)"
             ],
             [
              1,
              "rgb(250,234,220)"
             ]
            ],
            "type": "surface"
           }
          ],
          "table": [
           {
            "cells": {
             "fill": {
              "color": "rgb(231,231,240)"
             },
             "line": {
              "color": "white"
             }
            },
            "header": {
             "fill": {
              "color": "rgb(183,183,191)"
             },
             "line": {
              "color": "white"
             }
            },
            "type": "table"
           }
          ]
         },
         "layout": {
          "annotationdefaults": {
           "arrowcolor": "rgb(67,103,167)"
          },
          "autotypenumbers": "strict",
          "coloraxis": {
           "colorbar": {
            "outlinewidth": 0,
            "tickcolor": "rgb(36,36,36)",
            "ticklen": 8,
            "ticks": "outside",
            "tickwidth": 2
           }
          },
          "colorscale": {
           "sequential": [
            [
             0,
             "rgb(2,4,25)"
            ],
            [
             0.06274509803921569,
             "rgb(24,15,41)"
            ],
            [
             0.12549019607843137,
             "rgb(47,23,57)"
            ],
            [
             0.18823529411764706,
             "rgb(71,28,72)"
            ],
            [
             0.25098039215686274,
             "rgb(97,30,82)"
            ],
            [
             0.3137254901960784,
             "rgb(123,30,89)"
            ],
            [
             0.3764705882352941,
             "rgb(150,27,91)"
            ],
            [
             0.4392156862745098,
             "rgb(177,22,88)"
            ],
            [
             0.5019607843137255,
             "rgb(203,26,79)"
            ],
            [
             0.5647058823529412,
             "rgb(223,47,67)"
            ],
            [
             0.6274509803921569,
             "rgb(236,76,61)"
            ],
            [
             0.6901960784313725,
             "rgb(242,107,73)"
            ],
            [
             0.7529411764705882,
             "rgb(244,135,95)"
            ],
            [
             0.8156862745098039,
             "rgb(245,162,122)"
            ],
            [
             0.8784313725490196,
             "rgb(246,188,153)"
            ],
            [
             0.9411764705882353,
             "rgb(247,212,187)"
            ],
            [
             1,
             "rgb(250,234,220)"
            ]
           ],
           "sequentialminus": [
            [
             0,
             "rgb(2,4,25)"
            ],
            [
             0.06274509803921569,
             "rgb(24,15,41)"
            ],
            [
             0.12549019607843137,
             "rgb(47,23,57)"
            ],
            [
             0.18823529411764706,
             "rgb(71,28,72)"
            ],
            [
             0.25098039215686274,
             "rgb(97,30,82)"
            ],
            [
             0.3137254901960784,
             "rgb(123,30,89)"
            ],
            [
             0.3764705882352941,
             "rgb(150,27,91)"
            ],
            [
             0.4392156862745098,
             "rgb(177,22,88)"
            ],
            [
             0.5019607843137255,
             "rgb(203,26,79)"
            ],
            [
             0.5647058823529412,
             "rgb(223,47,67)"
            ],
            [
             0.6274509803921569,
             "rgb(236,76,61)"
            ],
            [
             0.6901960784313725,
             "rgb(242,107,73)"
            ],
            [
             0.7529411764705882,
             "rgb(244,135,95)"
            ],
            [
             0.8156862745098039,
             "rgb(245,162,122)"
            ],
            [
             0.8784313725490196,
             "rgb(246,188,153)"
            ],
            [
             0.9411764705882353,
             "rgb(247,212,187)"
            ],
            [
             1,
             "rgb(250,234,220)"
            ]
           ]
          },
          "colorway": [
           "rgb(76,114,176)",
           "rgb(221,132,82)",
           "rgb(85,168,104)",
           "rgb(196,78,82)",
           "rgb(129,114,179)",
           "rgb(147,120,96)",
           "rgb(218,139,195)",
           "rgb(140,140,140)",
           "rgb(204,185,116)",
           "rgb(100,181,205)"
          ],
          "font": {
           "color": "rgb(36,36,36)"
          },
          "geo": {
           "bgcolor": "white",
           "lakecolor": "white",
           "landcolor": "rgb(234,234,242)",
           "showlakes": true,
           "showland": true,
           "subunitcolor": "white"
          },
          "hoverlabel": {
           "align": "left"
          },
          "hovermode": "closest",
          "paper_bgcolor": "white",
          "plot_bgcolor": "rgb(234,234,242)",
          "polar": {
           "angularaxis": {
            "gridcolor": "white",
            "linecolor": "white",
            "showgrid": true,
            "ticks": ""
           },
           "bgcolor": "rgb(234,234,242)",
           "radialaxis": {
            "gridcolor": "white",
            "linecolor": "white",
            "showgrid": true,
            "ticks": ""
           }
          },
          "scene": {
           "xaxis": {
            "backgroundcolor": "rgb(234,234,242)",
            "gridcolor": "white",
            "gridwidth": 2,
            "linecolor": "white",
            "showbackground": true,
            "showgrid": true,
            "ticks": "",
            "zerolinecolor": "white"
           },
           "yaxis": {
            "backgroundcolor": "rgb(234,234,242)",
            "gridcolor": "white",
            "gridwidth": 2,
            "linecolor": "white",
            "showbackground": true,
            "showgrid": true,
            "ticks": "",
            "zerolinecolor": "white"
           },
           "zaxis": {
            "backgroundcolor": "rgb(234,234,242)",
            "gridcolor": "white",
            "gridwidth": 2,
            "linecolor": "white",
            "showbackground": true,
            "showgrid": true,
            "ticks": "",
            "zerolinecolor": "white"
           }
          },
          "shapedefaults": {
           "fillcolor": "rgb(67,103,167)",
           "line": {
            "width": 0
           },
           "opacity": 0.5
          },
          "ternary": {
           "aaxis": {
            "gridcolor": "white",
            "linecolor": "white",
            "showgrid": true,
            "ticks": ""
           },
           "baxis": {
            "gridcolor": "white",
            "linecolor": "white",
            "showgrid": true,
            "ticks": ""
           },
           "bgcolor": "rgb(234,234,242)",
           "caxis": {
            "gridcolor": "white",
            "linecolor": "white",
            "showgrid": true,
            "ticks": ""
           }
          },
          "xaxis": {
           "automargin": true,
           "gridcolor": "white",
           "linecolor": "white",
           "showgrid": true,
           "ticks": "",
           "title": {
            "standoff": 15
           },
           "zerolinecolor": "white"
          },
          "yaxis": {
           "automargin": true,
           "gridcolor": "white",
           "linecolor": "white",
           "showgrid": true,
           "ticks": "",
           "title": {
            "standoff": 15
           },
           "zerolinecolor": "white"
          }
         }
        },
        "title": {
         "text": "p = 7"
        },
        "width": 800,
        "xaxis": {
         "anchor": "y",
         "domain": [
          0,
          1
         ],
         "title": {
          "text": "x"
         }
        },
        "yaxis": {
         "anchor": "x",
         "domain": [
          0,
          1
         ],
         "title": {
          "text": "y"
         }
        }
       }
      }
     },
     "metadata": {}
    },
    {
     "output_type": "stream",
     "name": "stdout",
     "text": [
      "[[ 1.00000000e+00 -1.50000000e+01  2.25000000e+02 -3.37500000e+03\n   5.06250000e+04 -7.59375000e+05  1.13906250e+07 -1.70859375e+08\n   2.56289062e+09]\n [ 1.00000000e+00 -1.22222222e+01  1.49382716e+02 -1.82578875e+03\n   2.23151959e+04 -2.72741283e+05  3.33350457e+06 -4.07428336e+07\n   4.97967966e+08]\n [ 1.00000000e+00 -9.44444444e+00  8.91975309e+01 -8.42421125e+02\n   7.95619951e+03 -7.51418843e+04  7.09673352e+05 -6.70247054e+06\n   6.33011107e+07]\n [ 1.00000000e+00 -6.66666667e+00  4.44444444e+01 -2.96296296e+02\n   1.97530864e+03 -1.31687243e+04  8.77914952e+04 -5.85276635e+05\n   3.90184423e+06]\n [ 1.00000000e+00 -3.88888889e+00  1.51234568e+01 -5.88134431e+01\n   2.28718945e+02 -8.89462565e+02  3.45902109e+03 -1.34517487e+04\n   5.23123559e+04]\n [ 1.00000000e+00 -1.11111111e+00  1.23456790e+00 -1.37174211e+00\n   1.52415790e+00 -1.69350878e+00  1.88167642e+00 -2.09075158e+00\n   2.32305731e+00]\n [ 1.00000000e+00  1.66666667e+00  2.77777778e+00  4.62962963e+00\n   7.71604938e+00  1.28600823e+01  2.14334705e+01  3.57224508e+01\n   5.95374181e+01]\n [ 1.00000000e+00  4.44444444e+00  1.97530864e+01  8.77914952e+01\n   3.90184423e+02  1.73415299e+03  7.70734663e+03  3.42548739e+04\n   1.52243884e+05]\n [ 1.00000000e+00  7.22222222e+00  5.21604938e+01  3.76714678e+02\n   2.72071712e+03  1.96496236e+04  1.41913948e+05  1.02493407e+06\n   7.40230163e+06]\n [ 1.00000000e+00  1.00000000e+01  1.00000000e+02  1.00000000e+03\n   1.00000000e+04  1.00000000e+05  1.00000000e+06  1.00000000e+07\n   1.00000000e+08]]\n"
     ]
    },
    {
     "output_type": "display_data",
     "data": {
      "application/vnd.plotly.v1+json": {
       "config": {
        "plotlyServerURL": "https://plot.ly"
       },
       "data": [
        {
         "hoverinfo": "skip",
         "hovertemplate": "x=%{x}<br>y=%{y}<extra></extra>",
         "legendgroup": "",
         "marker": {
          "color": "red",
          "line": {
           "color": "black",
           "width": 2
          },
          "size": 8,
          "symbol": "circle"
         },
         "mode": "markers",
         "name": "",
         "orientation": "v",
         "showlegend": false,
         "type": "scatter",
         "x": [
          -15,
          -12.222222222222221,
          -9.444444444444445,
          -6.666666666666668,
          -3.8888888888888893,
          -1.1111111111111107,
          1.6666666666666643,
          4.444444444444443,
          7.222222222222221,
          10
         ],
         "xaxis": "x",
         "y": [
          73.97843702679296,
          50.37026073256916,
          23.638896397007425,
          17.49394613337101,
          2.0071074871936783,
          4.004272346554971,
          19.1797905507133,
          33.63909395617573,
          61.996813086287155,
          86.2090637458025
         ],
         "yaxis": "y"
        },
        {
         "line": {
          "color": "green"
         },
         "mode": "lines",
         "name": "Aproximation",
         "type": "scatter",
         "x": [
          -15,
          -12.222222222222221,
          -9.444444444444445,
          -6.666666666666668,
          -3.8888888888888893,
          -1.1111111111111107,
          1.6666666666666643,
          4.444444444444443,
          7.222222222222221,
          10
         ],
         "y": [
          73.98620315830294,
          50.30035737586468,
          23.918507455177135,
          16.841519768860586,
          2.985746879890104,
          3.0256323246775936,
          19.83221650690654,
          33.35948215948979,
          62.06671536599236,
          86.2012956668373
         ]
        },
        {
         "line": {
          "color": "royalblue",
          "dash": "dash"
         },
         "mode": "lines",
         "name": "Fg(x)",
         "type": "scatter",
         "x": [
          -15,
          -12.222222222222221,
          -9.444444444444445,
          -6.666666666666668,
          -3.8888888888888893,
          -1.1111111111111107,
          1.6666666666666643,
          4.444444444444443,
          7.222222222222221,
          10
         ],
         "y": [
          77.5,
          48.02469135802469,
          26.26543209876543,
          12.222222222222225,
          5.895061728395062,
          7.283950617283951,
          16.38888888888888,
          33.209876543209866,
          57.746913580246904,
          90
         ]
        }
       ],
       "layout": {
        "height": 700,
        "legend": {
         "tracegroupgap": 0
        },
        "template": {
         "data": {
          "bar": [
           {
            "error_x": {
             "color": "rgb(36,36,36)"
            },
            "error_y": {
             "color": "rgb(36,36,36)"
            },
            "marker": {
             "line": {
              "color": "rgb(234,234,242)",
              "width": 0.5
             }
            },
            "type": "bar"
           }
          ],
          "barpolar": [
           {
            "marker": {
             "line": {
              "color": "rgb(234,234,242)",
              "width": 0.5
             }
            },
            "type": "barpolar"
           }
          ],
          "carpet": [
           {
            "aaxis": {
             "endlinecolor": "rgb(36,36,36)",
             "gridcolor": "white",
             "linecolor": "white",
             "minorgridcolor": "white",
             "startlinecolor": "rgb(36,36,36)"
            },
            "baxis": {
             "endlinecolor": "rgb(36,36,36)",
             "gridcolor": "white",
             "linecolor": "white",
             "minorgridcolor": "white",
             "startlinecolor": "rgb(36,36,36)"
            },
            "type": "carpet"
           }
          ],
          "choropleth": [
           {
            "colorbar": {
             "outlinewidth": 0,
             "tickcolor": "rgb(36,36,36)",
             "ticklen": 8,
             "ticks": "outside",
             "tickwidth": 2
            },
            "type": "choropleth"
           }
          ],
          "contour": [
           {
            "colorbar": {
             "outlinewidth": 0,
             "tickcolor": "rgb(36,36,36)",
             "ticklen": 8,
             "ticks": "outside",
             "tickwidth": 2
            },
            "colorscale": [
             [
              0,
              "rgb(2,4,25)"
             ],
             [
              0.06274509803921569,
              "rgb(24,15,41)"
             ],
             [
              0.12549019607843137,
              "rgb(47,23,57)"
             ],
             [
              0.18823529411764706,
              "rgb(71,28,72)"
             ],
             [
              0.25098039215686274,
              "rgb(97,30,82)"
             ],
             [
              0.3137254901960784,
              "rgb(123,30,89)"
             ],
             [
              0.3764705882352941,
              "rgb(150,27,91)"
             ],
             [
              0.4392156862745098,
              "rgb(177,22,88)"
             ],
             [
              0.5019607843137255,
              "rgb(203,26,79)"
             ],
             [
              0.5647058823529412,
              "rgb(223,47,67)"
             ],
             [
              0.6274509803921569,
              "rgb(236,76,61)"
             ],
             [
              0.6901960784313725,
              "rgb(242,107,73)"
             ],
             [
              0.7529411764705882,
              "rgb(244,135,95)"
             ],
             [
              0.8156862745098039,
              "rgb(245,162,122)"
             ],
             [
              0.8784313725490196,
              "rgb(246,188,153)"
             ],
             [
              0.9411764705882353,
              "rgb(247,212,187)"
             ],
             [
              1,
              "rgb(250,234,220)"
             ]
            ],
            "type": "contour"
           }
          ],
          "contourcarpet": [
           {
            "colorbar": {
             "outlinewidth": 0,
             "tickcolor": "rgb(36,36,36)",
             "ticklen": 8,
             "ticks": "outside",
             "tickwidth": 2
            },
            "type": "contourcarpet"
           }
          ],
          "heatmap": [
           {
            "colorbar": {
             "outlinewidth": 0,
             "tickcolor": "rgb(36,36,36)",
             "ticklen": 8,
             "ticks": "outside",
             "tickwidth": 2
            },
            "colorscale": [
             [
              0,
              "rgb(2,4,25)"
             ],
             [
              0.06274509803921569,
              "rgb(24,15,41)"
             ],
             [
              0.12549019607843137,
              "rgb(47,23,57)"
             ],
             [
              0.18823529411764706,
              "rgb(71,28,72)"
             ],
             [
              0.25098039215686274,
              "rgb(97,30,82)"
             ],
             [
              0.3137254901960784,
              "rgb(123,30,89)"
             ],
             [
              0.3764705882352941,
              "rgb(150,27,91)"
             ],
             [
              0.4392156862745098,
              "rgb(177,22,88)"
             ],
             [
              0.5019607843137255,
              "rgb(203,26,79)"
             ],
             [
              0.5647058823529412,
              "rgb(223,47,67)"
             ],
             [
              0.6274509803921569,
              "rgb(236,76,61)"
             ],
             [
              0.6901960784313725,
              "rgb(242,107,73)"
             ],
             [
              0.7529411764705882,
              "rgb(244,135,95)"
             ],
             [
              0.8156862745098039,
              "rgb(245,162,122)"
             ],
             [
              0.8784313725490196,
              "rgb(246,188,153)"
             ],
             [
              0.9411764705882353,
              "rgb(247,212,187)"
             ],
             [
              1,
              "rgb(250,234,220)"
             ]
            ],
            "type": "heatmap"
           }
          ],
          "heatmapgl": [
           {
            "colorbar": {
             "outlinewidth": 0,
             "tickcolor": "rgb(36,36,36)",
             "ticklen": 8,
             "ticks": "outside",
             "tickwidth": 2
            },
            "colorscale": [
             [
              0,
              "rgb(2,4,25)"
             ],
             [
              0.06274509803921569,
              "rgb(24,15,41)"
             ],
             [
              0.12549019607843137,
              "rgb(47,23,57)"
             ],
             [
              0.18823529411764706,
              "rgb(71,28,72)"
             ],
             [
              0.25098039215686274,
              "rgb(97,30,82)"
             ],
             [
              0.3137254901960784,
              "rgb(123,30,89)"
             ],
             [
              0.3764705882352941,
              "rgb(150,27,91)"
             ],
             [
              0.4392156862745098,
              "rgb(177,22,88)"
             ],
             [
              0.5019607843137255,
              "rgb(203,26,79)"
             ],
             [
              0.5647058823529412,
              "rgb(223,47,67)"
             ],
             [
              0.6274509803921569,
              "rgb(236,76,61)"
             ],
             [
              0.6901960784313725,
              "rgb(242,107,73)"
             ],
             [
              0.7529411764705882,
              "rgb(244,135,95)"
             ],
             [
              0.8156862745098039,
              "rgb(245,162,122)"
             ],
             [
              0.8784313725490196,
              "rgb(246,188,153)"
             ],
             [
              0.9411764705882353,
              "rgb(247,212,187)"
             ],
             [
              1,
              "rgb(250,234,220)"
             ]
            ],
            "type": "heatmapgl"
           }
          ],
          "histogram": [
           {
            "marker": {
             "colorbar": {
              "outlinewidth": 0,
              "tickcolor": "rgb(36,36,36)",
              "ticklen": 8,
              "ticks": "outside",
              "tickwidth": 2
             }
            },
            "type": "histogram"
           }
          ],
          "histogram2d": [
           {
            "colorbar": {
             "outlinewidth": 0,
             "tickcolor": "rgb(36,36,36)",
             "ticklen": 8,
             "ticks": "outside",
             "tickwidth": 2
            },
            "colorscale": [
             [
              0,
              "rgb(2,4,25)"
             ],
             [
              0.06274509803921569,
              "rgb(24,15,41)"
             ],
             [
              0.12549019607843137,
              "rgb(47,23,57)"
             ],
             [
              0.18823529411764706,
              "rgb(71,28,72)"
             ],
             [
              0.25098039215686274,
              "rgb(97,30,82)"
             ],
             [
              0.3137254901960784,
              "rgb(123,30,89)"
             ],
             [
              0.3764705882352941,
              "rgb(150,27,91)"
             ],
             [
              0.4392156862745098,
              "rgb(177,22,88)"
             ],
             [
              0.5019607843137255,
              "rgb(203,26,79)"
             ],
             [
              0.5647058823529412,
              "rgb(223,47,67)"
             ],
             [
              0.6274509803921569,
              "rgb(236,76,61)"
             ],
             [
              0.6901960784313725,
              "rgb(242,107,73)"
             ],
             [
              0.7529411764705882,
              "rgb(244,135,95)"
             ],
             [
              0.8156862745098039,
              "rgb(245,162,122)"
             ],
             [
              0.8784313725490196,
              "rgb(246,188,153)"
             ],
             [
              0.9411764705882353,
              "rgb(247,212,187)"
             ],
             [
              1,
              "rgb(250,234,220)"
             ]
            ],
            "type": "histogram2d"
           }
          ],
          "histogram2dcontour": [
           {
            "colorbar": {
             "outlinewidth": 0,
             "tickcolor": "rgb(36,36,36)",
             "ticklen": 8,
             "ticks": "outside",
             "tickwidth": 2
            },
            "colorscale": [
             [
              0,
              "rgb(2,4,25)"
             ],
             [
              0.06274509803921569,
              "rgb(24,15,41)"
             ],
             [
              0.12549019607843137,
              "rgb(47,23,57)"
             ],
             [
              0.18823529411764706,
              "rgb(71,28,72)"
             ],
             [
              0.25098039215686274,
              "rgb(97,30,82)"
             ],
             [
              0.3137254901960784,
              "rgb(123,30,89)"
             ],
             [
              0.3764705882352941,
              "rgb(150,27,91)"
             ],
             [
              0.4392156862745098,
              "rgb(177,22,88)"
             ],
             [
              0.5019607843137255,
              "rgb(203,26,79)"
             ],
             [
              0.5647058823529412,
              "rgb(223,47,67)"
             ],
             [
              0.6274509803921569,
              "rgb(236,76,61)"
             ],
             [
              0.6901960784313725,
              "rgb(242,107,73)"
             ],
             [
              0.7529411764705882,
              "rgb(244,135,95)"
             ],
             [
              0.8156862745098039,
              "rgb(245,162,122)"
             ],
             [
              0.8784313725490196,
              "rgb(246,188,153)"
             ],
             [
              0.9411764705882353,
              "rgb(247,212,187)"
             ],
             [
              1,
              "rgb(250,234,220)"
             ]
            ],
            "type": "histogram2dcontour"
           }
          ],
          "mesh3d": [
           {
            "colorbar": {
             "outlinewidth": 0,
             "tickcolor": "rgb(36,36,36)",
             "ticklen": 8,
             "ticks": "outside",
             "tickwidth": 2
            },
            "type": "mesh3d"
           }
          ],
          "parcoords": [
           {
            "line": {
             "colorbar": {
              "outlinewidth": 0,
              "tickcolor": "rgb(36,36,36)",
              "ticklen": 8,
              "ticks": "outside",
              "tickwidth": 2
             }
            },
            "type": "parcoords"
           }
          ],
          "pie": [
           {
            "automargin": true,
            "type": "pie"
           }
          ],
          "scatter": [
           {
            "marker": {
             "colorbar": {
              "outlinewidth": 0,
              "tickcolor": "rgb(36,36,36)",
              "ticklen": 8,
              "ticks": "outside",
              "tickwidth": 2
             }
            },
            "type": "scatter"
           }
          ],
          "scatter3d": [
           {
            "line": {
             "colorbar": {
              "outlinewidth": 0,
              "tickcolor": "rgb(36,36,36)",
              "ticklen": 8,
              "ticks": "outside",
              "tickwidth": 2
             }
            },
            "marker": {
             "colorbar": {
              "outlinewidth": 0,
              "tickcolor": "rgb(36,36,36)",
              "ticklen": 8,
              "ticks": "outside",
              "tickwidth": 2
             }
            },
            "type": "scatter3d"
           }
          ],
          "scattercarpet": [
           {
            "marker": {
             "colorbar": {
              "outlinewidth": 0,
              "tickcolor": "rgb(36,36,36)",
              "ticklen": 8,
              "ticks": "outside",
              "tickwidth": 2
             }
            },
            "type": "scattercarpet"
           }
          ],
          "scattergeo": [
           {
            "marker": {
             "colorbar": {
              "outlinewidth": 0,
              "tickcolor": "rgb(36,36,36)",
              "ticklen": 8,
              "ticks": "outside",
              "tickwidth": 2
             }
            },
            "type": "scattergeo"
           }
          ],
          "scattergl": [
           {
            "marker": {
             "colorbar": {
              "outlinewidth": 0,
              "tickcolor": "rgb(36,36,36)",
              "ticklen": 8,
              "ticks": "outside",
              "tickwidth": 2
             }
            },
            "type": "scattergl"
           }
          ],
          "scattermapbox": [
           {
            "marker": {
             "colorbar": {
              "outlinewidth": 0,
              "tickcolor": "rgb(36,36,36)",
              "ticklen": 8,
              "ticks": "outside",
              "tickwidth": 2
             }
            },
            "type": "scattermapbox"
           }
          ],
          "scatterpolar": [
           {
            "marker": {
             "colorbar": {
              "outlinewidth": 0,
              "tickcolor": "rgb(36,36,36)",
              "ticklen": 8,
              "ticks": "outside",
              "tickwidth": 2
             }
            },
            "type": "scatterpolar"
           }
          ],
          "scatterpolargl": [
           {
            "marker": {
             "colorbar": {
              "outlinewidth": 0,
              "tickcolor": "rgb(36,36,36)",
              "ticklen": 8,
              "ticks": "outside",
              "tickwidth": 2
             }
            },
            "type": "scatterpolargl"
           }
          ],
          "scatterternary": [
           {
            "marker": {
             "colorbar": {
              "outlinewidth": 0,
              "tickcolor": "rgb(36,36,36)",
              "ticklen": 8,
              "ticks": "outside",
              "tickwidth": 2
             }
            },
            "type": "scatterternary"
           }
          ],
          "surface": [
           {
            "colorbar": {
             "outlinewidth": 0,
             "tickcolor": "rgb(36,36,36)",
             "ticklen": 8,
             "ticks": "outside",
             "tickwidth": 2
            },
            "colorscale": [
             [
              0,
              "rgb(2,4,25)"
             ],
             [
              0.06274509803921569,
              "rgb(24,15,41)"
             ],
             [
              0.12549019607843137,
              "rgb(47,23,57)"
             ],
             [
              0.18823529411764706,
              "rgb(71,28,72)"
             ],
             [
              0.25098039215686274,
              "rgb(97,30,82)"
             ],
             [
              0.3137254901960784,
              "rgb(123,30,89)"
             ],
             [
              0.3764705882352941,
              "rgb(150,27,91)"
             ],
             [
              0.4392156862745098,
              "rgb(177,22,88)"
             ],
             [
              0.5019607843137255,
              "rgb(203,26,79)"
             ],
             [
              0.5647058823529412,
              "rgb(223,47,67)"
             ],
             [
              0.6274509803921569,
              "rgb(236,76,61)"
             ],
             [
              0.6901960784313725,
              "rgb(242,107,73)"
             ],
             [
              0.7529411764705882,
              "rgb(244,135,95)"
             ],
             [
              0.8156862745098039,
              "rgb(245,162,122)"
             ],
             [
              0.8784313725490196,
              "rgb(246,188,153)"
             ],
             [
              0.9411764705882353,
              "rgb(247,212,187)"
             ],
             [
              1,
              "rgb(250,234,220)"
             ]
            ],
            "type": "surface"
           }
          ],
          "table": [
           {
            "cells": {
             "fill": {
              "color": "rgb(231,231,240)"
             },
             "line": {
              "color": "white"
             }
            },
            "header": {
             "fill": {
              "color": "rgb(183,183,191)"
             },
             "line": {
              "color": "white"
             }
            },
            "type": "table"
           }
          ]
         },
         "layout": {
          "annotationdefaults": {
           "arrowcolor": "rgb(67,103,167)"
          },
          "autotypenumbers": "strict",
          "coloraxis": {
           "colorbar": {
            "outlinewidth": 0,
            "tickcolor": "rgb(36,36,36)",
            "ticklen": 8,
            "ticks": "outside",
            "tickwidth": 2
           }
          },
          "colorscale": {
           "sequential": [
            [
             0,
             "rgb(2,4,25)"
            ],
            [
             0.06274509803921569,
             "rgb(24,15,41)"
            ],
            [
             0.12549019607843137,
             "rgb(47,23,57)"
            ],
            [
             0.18823529411764706,
             "rgb(71,28,72)"
            ],
            [
             0.25098039215686274,
             "rgb(97,30,82)"
            ],
            [
             0.3137254901960784,
             "rgb(123,30,89)"
            ],
            [
             0.3764705882352941,
             "rgb(150,27,91)"
            ],
            [
             0.4392156862745098,
             "rgb(177,22,88)"
            ],
            [
             0.5019607843137255,
             "rgb(203,26,79)"
            ],
            [
             0.5647058823529412,
             "rgb(223,47,67)"
            ],
            [
             0.6274509803921569,
             "rgb(236,76,61)"
            ],
            [
             0.6901960784313725,
             "rgb(242,107,73)"
            ],
            [
             0.7529411764705882,
             "rgb(244,135,95)"
            ],
            [
             0.8156862745098039,
             "rgb(245,162,122)"
            ],
            [
             0.8784313725490196,
             "rgb(246,188,153)"
            ],
            [
             0.9411764705882353,
             "rgb(247,212,187)"
            ],
            [
             1,
             "rgb(250,234,220)"
            ]
           ],
           "sequentialminus": [
            [
             0,
             "rgb(2,4,25)"
            ],
            [
             0.06274509803921569,
             "rgb(24,15,41)"
            ],
            [
             0.12549019607843137,
             "rgb(47,23,57)"
            ],
            [
             0.18823529411764706,
             "rgb(71,28,72)"
            ],
            [
             0.25098039215686274,
             "rgb(97,30,82)"
            ],
            [
             0.3137254901960784,
             "rgb(123,30,89)"
            ],
            [
             0.3764705882352941,
             "rgb(150,27,91)"
            ],
            [
             0.4392156862745098,
             "rgb(177,22,88)"
            ],
            [
             0.5019607843137255,
             "rgb(203,26,79)"
            ],
            [
             0.5647058823529412,
             "rgb(223,47,67)"
            ],
            [
             0.6274509803921569,
             "rgb(236,76,61)"
            ],
            [
             0.6901960784313725,
             "rgb(242,107,73)"
            ],
            [
             0.7529411764705882,
             "rgb(244,135,95)"
            ],
            [
             0.8156862745098039,
             "rgb(245,162,122)"
            ],
            [
             0.8784313725490196,
             "rgb(246,188,153)"
            ],
            [
             0.9411764705882353,
             "rgb(247,212,187)"
            ],
            [
             1,
             "rgb(250,234,220)"
            ]
           ]
          },
          "colorway": [
           "rgb(76,114,176)",
           "rgb(221,132,82)",
           "rgb(85,168,104)",
           "rgb(196,78,82)",
           "rgb(129,114,179)",
           "rgb(147,120,96)",
           "rgb(218,139,195)",
           "rgb(140,140,140)",
           "rgb(204,185,116)",
           "rgb(100,181,205)"
          ],
          "font": {
           "color": "rgb(36,36,36)"
          },
          "geo": {
           "bgcolor": "white",
           "lakecolor": "white",
           "landcolor": "rgb(234,234,242)",
           "showlakes": true,
           "showland": true,
           "subunitcolor": "white"
          },
          "hoverlabel": {
           "align": "left"
          },
          "hovermode": "closest",
          "paper_bgcolor": "white",
          "plot_bgcolor": "rgb(234,234,242)",
          "polar": {
           "angularaxis": {
            "gridcolor": "white",
            "linecolor": "white",
            "showgrid": true,
            "ticks": ""
           },
           "bgcolor": "rgb(234,234,242)",
           "radialaxis": {
            "gridcolor": "white",
            "linecolor": "white",
            "showgrid": true,
            "ticks": ""
           }
          },
          "scene": {
           "xaxis": {
            "backgroundcolor": "rgb(234,234,242)",
            "gridcolor": "white",
            "gridwidth": 2,
            "linecolor": "white",
            "showbackground": true,
            "showgrid": true,
            "ticks": "",
            "zerolinecolor": "white"
           },
           "yaxis": {
            "backgroundcolor": "rgb(234,234,242)",
            "gridcolor": "white",
            "gridwidth": 2,
            "linecolor": "white",
            "showbackground": true,
            "showgrid": true,
            "ticks": "",
            "zerolinecolor": "white"
           },
           "zaxis": {
            "backgroundcolor": "rgb(234,234,242)",
            "gridcolor": "white",
            "gridwidth": 2,
            "linecolor": "white",
            "showbackground": true,
            "showgrid": true,
            "ticks": "",
            "zerolinecolor": "white"
           }
          },
          "shapedefaults": {
           "fillcolor": "rgb(67,103,167)",
           "line": {
            "width": 0
           },
           "opacity": 0.5
          },
          "ternary": {
           "aaxis": {
            "gridcolor": "white",
            "linecolor": "white",
            "showgrid": true,
            "ticks": ""
           },
           "baxis": {
            "gridcolor": "white",
            "linecolor": "white",
            "showgrid": true,
            "ticks": ""
           },
           "bgcolor": "rgb(234,234,242)",
           "caxis": {
            "gridcolor": "white",
            "linecolor": "white",
            "showgrid": true,
            "ticks": ""
           }
          },
          "xaxis": {
           "automargin": true,
           "gridcolor": "white",
           "linecolor": "white",
           "showgrid": true,
           "ticks": "",
           "title": {
            "standoff": 15
           },
           "zerolinecolor": "white"
          },
          "yaxis": {
           "automargin": true,
           "gridcolor": "white",
           "linecolor": "white",
           "showgrid": true,
           "ticks": "",
           "title": {
            "standoff": 15
           },
           "zerolinecolor": "white"
          }
         }
        },
        "title": {
         "text": "p = 8"
        },
        "width": 800,
        "xaxis": {
         "anchor": "y",
         "domain": [
          0,
          1
         ],
         "title": {
          "text": "x"
         }
        },
        "yaxis": {
         "anchor": "x",
         "domain": [
          0,
          1
         ],
         "title": {
          "text": "y"
         }
        }
       }
      }
     },
     "metadata": {}
    }
   ],
   "source": [
    "import math\n",
    "import itertools\n",
    "import numpy as np\n",
    "import plotly.express as px\n",
    "import pandas as pd\n",
    "import plotly.graph_objects as go\n",
    "\n",
    "\n",
    "p = np.arange(0, 9, 1)\n",
    "\n",
    "def fgx(x):\n",
    "    return 0.5 * np.power(x,2) + 3 * x + 10\n",
    "\n",
    "def apromixate(N):\n",
    "    global fgx\n",
    "\n",
    "    gaussian_noise = np.random.normal(0, 4, N)\n",
    "    x = np.linspace(-15, 10, num=N)\n",
    "    y = fgx(x)\n",
    "    y_noise = y + gaussian_noise\n",
    "\n",
    "    h = []\n",
    "    for degree_of_the_polynomial in range(1, 9):\n",
    "        h = np.vstack([x**degree for degree in range(0, degree_of_the_polynomial + 1) ]).T\n",
    "        print(h)\n",
    "        w = np.linalg.pinv(h).dot(y_noise)\n",
    "        y_aproximate = h.dot(w)\n",
    "\n",
    "        amostrage = px.scatter(x=x, y=y_noise, template=\"seaborn\", color_discrete_sequence=['red'], title=\"p = {degree_of_the_polynomial}\".format(degree_of_the_polynomial=degree_of_the_polynomial), width=800, height=700)\n",
    "        \n",
    "        amostrage.update_traces(hoverinfo='skip', marker=dict(size=8,line=dict(width=2,color='black')),selector=dict(mode='markers'))\n",
    "\n",
    "        aproximation = go.Scatter(x=x, y=y_aproximate, mode='lines', line = dict(color='green'), name='Aproximation')\n",
    "\n",
    "        real = go.Scatter(x=x, y=y, mode='lines', line = dict(color='royalblue', dash='dash'), name='Fg(x)')\n",
    "\n",
    "        amostrage.add_trace(aproximation)\n",
    "        \n",
    "        amostrage.add_trace(real)\n",
    "        \n",
    "        amostrage.show()\n",
    "\n",
    "        h = []\n",
    "\n",
    "\n",
    "\n",
    "print('N = 10')\n",
    "apromixate(10)\n",
    "\n",
    "\n"
   ]
  },
  {
   "cell_type": "code",
   "execution_count": 29,
   "metadata": {},
   "outputs": [
    {
     "output_type": "stream",
     "name": "stdout",
     "text": [
      "N = 100\n[[  1.         -15.        ]\n [  1.         -14.74747475]\n [  1.         -14.49494949]\n [  1.         -14.24242424]\n [  1.         -13.98989899]\n [  1.         -13.73737374]\n [  1.         -13.48484848]\n [  1.         -13.23232323]\n [  1.         -12.97979798]\n [  1.         -12.72727273]\n [  1.         -12.47474747]\n [  1.         -12.22222222]\n [  1.         -11.96969697]\n [  1.         -11.71717172]\n [  1.         -11.46464646]\n [  1.         -11.21212121]\n [  1.         -10.95959596]\n [  1.         -10.70707071]\n [  1.         -10.45454545]\n [  1.         -10.2020202 ]\n [  1.          -9.94949495]\n [  1.          -9.6969697 ]\n [  1.          -9.44444444]\n [  1.          -9.19191919]\n [  1.          -8.93939394]\n [  1.          -8.68686869]\n [  1.          -8.43434343]\n [  1.          -8.18181818]\n [  1.          -7.92929293]\n [  1.          -7.67676768]\n [  1.          -7.42424242]\n [  1.          -7.17171717]\n [  1.          -6.91919192]\n [  1.          -6.66666667]\n [  1.          -6.41414141]\n [  1.          -6.16161616]\n [  1.          -5.90909091]\n [  1.          -5.65656566]\n [  1.          -5.4040404 ]\n [  1.          -5.15151515]\n [  1.          -4.8989899 ]\n [  1.          -4.64646465]\n [  1.          -4.39393939]\n [  1.          -4.14141414]\n [  1.          -3.88888889]\n [  1.          -3.63636364]\n [  1.          -3.38383838]\n [  1.          -3.13131313]\n [  1.          -2.87878788]\n [  1.          -2.62626263]\n [  1.          -2.37373737]\n [  1.          -2.12121212]\n [  1.          -1.86868687]\n [  1.          -1.61616162]\n [  1.          -1.36363636]\n [  1.          -1.11111111]\n [  1.          -0.85858586]\n [  1.          -0.60606061]\n [  1.          -0.35353535]\n [  1.          -0.1010101 ]\n [  1.           0.15151515]\n [  1.           0.4040404 ]\n [  1.           0.65656566]\n [  1.           0.90909091]\n [  1.           1.16161616]\n [  1.           1.41414141]\n [  1.           1.66666667]\n [  1.           1.91919192]\n [  1.           2.17171717]\n [  1.           2.42424242]\n [  1.           2.67676768]\n [  1.           2.92929293]\n [  1.           3.18181818]\n [  1.           3.43434343]\n [  1.           3.68686869]\n [  1.           3.93939394]\n [  1.           4.19191919]\n [  1.           4.44444444]\n [  1.           4.6969697 ]\n [  1.           4.94949495]\n [  1.           5.2020202 ]\n [  1.           5.45454545]\n [  1.           5.70707071]\n [  1.           5.95959596]\n [  1.           6.21212121]\n [  1.           6.46464646]\n [  1.           6.71717172]\n [  1.           6.96969697]\n [  1.           7.22222222]\n [  1.           7.47474747]\n [  1.           7.72727273]\n [  1.           7.97979798]\n [  1.           8.23232323]\n [  1.           8.48484848]\n [  1.           8.73737374]\n [  1.           8.98989899]\n [  1.           9.24242424]\n [  1.           9.49494949]\n [  1.           9.74747475]\n [  1.          10.        ]]\n"
     ]
    },
    {
     "output_type": "display_data",
     "data": {
      "application/vnd.plotly.v1+json": {
       "config": {
        "plotlyServerURL": "https://plot.ly"
       },
       "data": [
        {
         "hoverinfo": "skip",
         "hovertemplate": "x=%{x}<br>y=%{y}<extra></extra>",
         "legendgroup": "",
         "marker": {
          "color": "red",
          "line": {
           "color": "black",
           "width": 2
          },
          "size": 8,
          "symbol": "circle"
         },
         "mode": "markers",
         "name": "",
         "orientation": "v",
         "showlegend": false,
         "type": "scatter",
         "x": [
          -15,
          -14.747474747474747,
          -14.494949494949495,
          -14.242424242424242,
          -13.98989898989899,
          -13.737373737373737,
          -13.484848484848484,
          -13.232323232323232,
          -12.97979797979798,
          -12.727272727272727,
          -12.474747474747474,
          -12.222222222222221,
          -11.969696969696969,
          -11.717171717171716,
          -11.464646464646464,
          -11.212121212121211,
          -10.959595959595958,
          -10.707070707070706,
          -10.454545454545453,
          -10.2020202020202,
          -9.949494949494948,
          -9.696969696969695,
          -9.444444444444443,
          -9.19191919191919,
          -8.93939393939394,
          -8.686868686868687,
          -8.434343434343434,
          -8.181818181818182,
          -7.929292929292929,
          -7.6767676767676765,
          -7.424242424242424,
          -7.171717171717171,
          -6.919191919191919,
          -6.666666666666666,
          -6.4141414141414135,
          -6.161616161616161,
          -5.909090909090908,
          -5.656565656565656,
          -5.404040404040403,
          -5.1515151515151505,
          -4.898989898989898,
          -4.646464646464645,
          -4.393939393939393,
          -4.14141414141414,
          -3.8888888888888875,
          -3.636363636363635,
          -3.3838383838383823,
          -3.1313131313131297,
          -2.878787878787879,
          -2.6262626262626263,
          -2.3737373737373737,
          -2.121212121212121,
          -1.8686868686868685,
          -1.616161616161616,
          -1.3636363636363633,
          -1.1111111111111107,
          -0.8585858585858581,
          -0.6060606060606055,
          -0.3535353535353529,
          -0.10101010101010033,
          0.15151515151515227,
          0.40404040404040487,
          0.6565656565656575,
          0.9090909090909101,
          1.1616161616161627,
          1.4141414141414153,
          1.6666666666666679,
          1.9191919191919204,
          2.171717171717173,
          2.4242424242424256,
          2.6767676767676782,
          2.929292929292931,
          3.1818181818181834,
          3.434343434343436,
          3.6868686868686886,
          3.9393939393939412,
          4.191919191919194,
          4.444444444444446,
          4.696969696969699,
          4.949494949494952,
          5.202020202020204,
          5.454545454545457,
          5.707070707070709,
          5.959595959595962,
          6.212121212121215,
          6.464646464646467,
          6.71717171717172,
          6.969696969696972,
          7.222222222222225,
          7.474747474747478,
          7.72727272727273,
          7.979797979797983,
          8.232323232323235,
          8.484848484848488,
          8.73737373737374,
          8.989898989898993,
          9.242424242424242,
          9.494949494949495,
          9.747474747474747,
          10
         ],
         "xaxis": "x",
         "y": [
          78.8145264368132,
          76.57044197789587,
          70.71559763799429,
          64.98242118444067,
          60.370093944052115,
          65.3427399586452,
          61.61156788395709,
          54.159247074743384,
          58.003581512239464,
          58.3834879095741,
          48.33128578835695,
          36.795974355843946,
          47.0866395724152,
          44.707615558827655,
          35.45226293095519,
          37.09552798829185,
          42.57067476156927,
          30.528245748188354,
          40.415136228881224,
          29.05062722816826,
          28.33758137203389,
          36.28738010218093,
          20.652213387430965,
          26.807644591640848,
          18.164942561966704,
          20.033392459458913,
          17.660222217380895,
          18.282461990297072,
          19.49881119963429,
          11.674908941600714,
          12.573047648824778,
          9.619463523387886,
          15.65352303049416,
          13.972213091561857,
          16.612273532730647,
          7.309122023985634,
          9.49300323493813,
          12.979187122866433,
          12.257189707075586,
          5.971458400976415,
          9.8259333842476,
          4.651954537633046,
          5.199575042174219,
          5.772809120976745,
          7.62186870652512,
          3.103457491597879,
          9.16553203739803,
          3.9524184687017723,
          2.1313608348936883,
          7.337828209406968,
          4.113500561421851,
          8.677871546454561,
          5.1104962781614836,
          15.909683590566768,
          7.277602132779751,
          9.322184880051765,
          14.94174351810746,
          3.9064409293766484,
          17.28984052489481,
          10.620963769116443,
          15.913051080291453,
          11.81360694188862,
          9.773092742100097,
          16.49480186168052,
          17.0008304335297,
          8.882807212985732,
          20.970693279156148,
          14.210734303365376,
          21.276883472494152,
          20.36286777557737,
          17.105467148917633,
          22.046274741345126,
          22.179681727674854,
          23.28883766257723,
          32.93056811313294,
          36.0481138345626,
          34.0362534113516,
          33.383138880805774,
          25.123437456387563,
          33.50118312435098,
          40.22941412798667,
          41.09572522747814,
          43.65965170427655,
          46.970072422070174,
          46.80935287333976,
          53.003991219261195,
          54.79572060002411,
          59.21494030077444,
          56.24193074865577,
          61.29686359911075,
          64.21716354422281,
          68.61993315578066,
          70.11748307935183,
          71.05469017203949,
          73.9101430107204,
          75.28309256555329,
          77.97079594339958,
          85.97823411409078,
          86.96671875950356,
          94.5060568412618
         ],
         "yaxis": "y"
        },
        {
         "line": {
          "color": "green"
         },
         "mode": "lines",
         "name": "Aproximation",
         "type": "scatter",
         "x": [
          -15,
          -14.747474747474747,
          -14.494949494949495,
          -14.242424242424242,
          -13.98989898989899,
          -13.737373737373737,
          -13.484848484848484,
          -13.232323232323232,
          -12.97979797979798,
          -12.727272727272727,
          -12.474747474747474,
          -12.222222222222221,
          -11.969696969696969,
          -11.717171717171716,
          -11.464646464646464,
          -11.212121212121211,
          -10.959595959595958,
          -10.707070707070706,
          -10.454545454545453,
          -10.2020202020202,
          -9.949494949494948,
          -9.696969696969695,
          -9.444444444444443,
          -9.19191919191919,
          -8.93939393939394,
          -8.686868686868687,
          -8.434343434343434,
          -8.181818181818182,
          -7.929292929292929,
          -7.6767676767676765,
          -7.424242424242424,
          -7.171717171717171,
          -6.919191919191919,
          -6.666666666666666,
          -6.4141414141414135,
          -6.161616161616161,
          -5.909090909090908,
          -5.656565656565656,
          -5.404040404040403,
          -5.1515151515151505,
          -4.898989898989898,
          -4.646464646464645,
          -4.393939393939393,
          -4.14141414141414,
          -3.8888888888888875,
          -3.636363636363635,
          -3.3838383838383823,
          -3.1313131313131297,
          -2.878787878787879,
          -2.6262626262626263,
          -2.3737373737373737,
          -2.121212121212121,
          -1.8686868686868685,
          -1.616161616161616,
          -1.3636363636363633,
          -1.1111111111111107,
          -0.8585858585858581,
          -0.6060606060606055,
          -0.3535353535353529,
          -0.10101010101010033,
          0.15151515151515227,
          0.40404040404040487,
          0.6565656565656575,
          0.9090909090909101,
          1.1616161616161627,
          1.4141414141414153,
          1.6666666666666679,
          1.9191919191919204,
          2.171717171717173,
          2.4242424242424256,
          2.6767676767676782,
          2.929292929292931,
          3.1818181818181834,
          3.434343434343436,
          3.6868686868686886,
          3.9393939393939412,
          4.191919191919194,
          4.444444444444446,
          4.696969696969699,
          4.949494949494952,
          5.202020202020204,
          5.454545454545457,
          5.707070707070709,
          5.959595959595962,
          6.212121212121215,
          6.464646464646467,
          6.71717171717172,
          6.969696969696972,
          7.222222222222225,
          7.474747474747478,
          7.72727272727273,
          7.979797979797983,
          8.232323232323235,
          8.484848484848488,
          8.73737373737374,
          8.989898989898993,
          9.242424242424242,
          9.494949494949495,
          9.747474747474747,
          10
         ],
         "y": [
          25.375829758489907,
          25.517539278641607,
          25.6592487987933,
          25.800958318944996,
          25.942667839096693,
          26.084377359248386,
          26.226086879400086,
          26.36779639955178,
          26.509505919703475,
          26.65121543985517,
          26.792924960006864,
          26.934634480158564,
          27.076344000310257,
          27.218053520461954,
          27.35976304061365,
          27.501472560765347,
          27.643182080917043,
          27.784891601068736,
          27.926601121220433,
          28.06831064137213,
          28.210020161523826,
          28.351729681675522,
          28.493439201827215,
          28.63514872197891,
          28.776858242130608,
          28.9185677622823,
          29.060277282433997,
          29.201986802585694,
          29.34369632273739,
          29.485405842889087,
          29.62711536304078,
          29.768824883192476,
          29.910534403344172,
          30.05224392349587,
          30.193953443647565,
          30.33566296379926,
          30.477372483950955,
          30.61908200410265,
          30.760791524254348,
          30.902501044406044,
          31.044210564557737,
          31.185920084709434,
          31.32762960486113,
          31.469339125012826,
          31.611048645164523,
          31.752758165316216,
          31.894467685467912,
          32.03617720561961,
          32.1778867257713,
          32.319596245923,
          32.461305766074695,
          32.603015286226395,
          32.74472480637809,
          32.88643432652978,
          33.02814384668148,
          33.16985336683317,
          33.311562886984866,
          33.453272407136566,
          33.59498192728826,
          33.73669144743996,
          33.87840096759165,
          34.02011048774335,
          34.161820007895045,
          34.30352952804674,
          34.44523904819844,
          34.58694856835013,
          34.72865808850183,
          34.870367608653524,
          35.01207712880522,
          35.15378664895692,
          35.29549616910861,
          35.43720568926031,
          35.578915209412,
          35.720624729563696,
          35.862334249715396,
          36.00404376986709,
          36.14575329001879,
          36.28746281017048,
          36.429172330322174,
          36.570881850473874,
          36.71259137062557,
          36.85430089077727,
          36.99601041092896,
          37.13771993108065,
          37.27942945123235,
          37.421138971384046,
          37.562848491535746,
          37.70455801168744,
          37.84626753183913,
          37.98797705199083,
          38.129686572142525,
          38.271396092294225,
          38.41310561244592,
          38.55481513259761,
          38.69652465274931,
          38.838234172901004,
          38.9799436930527,
          39.1216532132044,
          39.26336273335609,
          39.40507225350778
         ]
        },
        {
         "line": {
          "color": "royalblue",
          "dash": "dash"
         },
         "mode": "lines",
         "name": "Fg(x)",
         "type": "scatter",
         "x": [
          -15,
          -14.747474747474747,
          -14.494949494949495,
          -14.242424242424242,
          -13.98989898989899,
          -13.737373737373737,
          -13.484848484848484,
          -13.232323232323232,
          -12.97979797979798,
          -12.727272727272727,
          -12.474747474747474,
          -12.222222222222221,
          -11.969696969696969,
          -11.717171717171716,
          -11.464646464646464,
          -11.212121212121211,
          -10.959595959595958,
          -10.707070707070706,
          -10.454545454545453,
          -10.2020202020202,
          -9.949494949494948,
          -9.696969696969695,
          -9.444444444444443,
          -9.19191919191919,
          -8.93939393939394,
          -8.686868686868687,
          -8.434343434343434,
          -8.181818181818182,
          -7.929292929292929,
          -7.6767676767676765,
          -7.424242424242424,
          -7.171717171717171,
          -6.919191919191919,
          -6.666666666666666,
          -6.4141414141414135,
          -6.161616161616161,
          -5.909090909090908,
          -5.656565656565656,
          -5.404040404040403,
          -5.1515151515151505,
          -4.898989898989898,
          -4.646464646464645,
          -4.393939393939393,
          -4.14141414141414,
          -3.8888888888888875,
          -3.636363636363635,
          -3.3838383838383823,
          -3.1313131313131297,
          -2.878787878787879,
          -2.6262626262626263,
          -2.3737373737373737,
          -2.121212121212121,
          -1.8686868686868685,
          -1.616161616161616,
          -1.3636363636363633,
          -1.1111111111111107,
          -0.8585858585858581,
          -0.6060606060606055,
          -0.3535353535353529,
          -0.10101010101010033,
          0.15151515151515227,
          0.40404040404040487,
          0.6565656565656575,
          0.9090909090909101,
          1.1616161616161627,
          1.4141414141414153,
          1.6666666666666679,
          1.9191919191919204,
          2.171717171717173,
          2.4242424242424256,
          2.6767676767676782,
          2.929292929292931,
          3.1818181818181834,
          3.434343434343436,
          3.6868686868686886,
          3.9393939393939412,
          4.191919191919194,
          4.444444444444446,
          4.696969696969699,
          4.949494949494952,
          5.202020202020204,
          5.454545454545457,
          5.707070707070709,
          5.959595959595962,
          6.212121212121215,
          6.464646464646467,
          6.71717171717172,
          6.969696969696972,
          7.222222222222225,
          7.474747474747478,
          7.72727272727273,
          7.979797979797983,
          8.232323232323235,
          8.484848484848488,
          8.73737373737374,
          8.989898989898993,
          9.242424242424242,
          9.494949494949495,
          9.747474747474747,
          10
         ],
         "y": [
          77.5,
          74.50158147127843,
          71.56693194571983,
          68.69605142332415,
          65.88893990409142,
          63.14559738802162,
          60.466023875114786,
          57.85021936537087,
          55.29818385878991,
          52.8099173553719,
          50.38541985511682,
          48.02469135802469,
          45.72773186409549,
          43.49454137332925,
          41.32511988572594,
          39.21946740128558,
          37.17758392000815,
          35.199469441893676,
          33.28512396694214,
          31.434547495153545,
          29.6477400265279,
          27.924701561065184,
          26.265432098765423,
          24.6699316396286,
          23.138200183654725,
          21.670237730843787,
          20.266044281195796,
          18.925619834710744,
          17.64896439138863,
          16.436077951229464,
          15.28696051423324,
          14.201612080399954,
          13.180032649729615,
          12.222222222222218,
          11.328180797877764,
          10.497908376696252,
          9.731404958677683,
          9.028670543822054,
          8.38970513212937,
          7.81450872359963,
          7.303081318232831,
          6.855422916028974,
          6.47153351698806,
          6.151413121110089,
          5.895061728395061,
          5.702479338842974,
          5.573665952453831,
          5.508621569227629,
          5.507346189164371,
          5.569839812264055,
          5.696102438526681,
          5.88613406795225,
          6.139934700540762,
          6.4575043362922155,
          6.838842975206612,
          7.283950617283951,
          7.792827262524233,
          8.365472910927458,
          9.001887562493625,
          9.702071217222734,
          10.466023875114786,
          11.293745536169782,
          12.185236200387719,
          13.1404958677686,
          14.159524538312422,
          15.242322212019186,
          16.388888888888893,
          17.599224568921546,
          18.873329252117138,
          20.211202938475672,
          21.612845627997153,
          23.078257320681573,
          24.607438016528935,
          26.200387715539243,
          27.85710641771249,
          29.57759412304868,
          31.361850831547812,
          33.20987654320989,
          35.12167125803491,
          37.097234976022875,
          39.136567697173774,
          41.23966942148762,
          43.40654014896441,
          45.63717987960415,
          47.93158861340682,
          50.28976635037243,
          52.71171309050099,
          55.1974288337925,
          57.74691358024694,
          60.360167329864325,
          63.037190082644656,
          65.77798183858793,
          68.58254259769414,
          71.4508723599633,
          74.3829711253954,
          77.37883889399045,
          80.4384756657484,
          83.56188144066931,
          86.7490562187532,
          90
         ]
        }
       ],
       "layout": {
        "height": 700,
        "legend": {
         "tracegroupgap": 0
        },
        "template": {
         "data": {
          "bar": [
           {
            "error_x": {
             "color": "rgb(36,36,36)"
            },
            "error_y": {
             "color": "rgb(36,36,36)"
            },
            "marker": {
             "line": {
              "color": "rgb(234,234,242)",
              "width": 0.5
             }
            },
            "type": "bar"
           }
          ],
          "barpolar": [
           {
            "marker": {
             "line": {
              "color": "rgb(234,234,242)",
              "width": 0.5
             }
            },
            "type": "barpolar"
           }
          ],
          "carpet": [
           {
            "aaxis": {
             "endlinecolor": "rgb(36,36,36)",
             "gridcolor": "white",
             "linecolor": "white",
             "minorgridcolor": "white",
             "startlinecolor": "rgb(36,36,36)"
            },
            "baxis": {
             "endlinecolor": "rgb(36,36,36)",
             "gridcolor": "white",
             "linecolor": "white",
             "minorgridcolor": "white",
             "startlinecolor": "rgb(36,36,36)"
            },
            "type": "carpet"
           }
          ],
          "choropleth": [
           {
            "colorbar": {
             "outlinewidth": 0,
             "tickcolor": "rgb(36,36,36)",
             "ticklen": 8,
             "ticks": "outside",
             "tickwidth": 2
            },
            "type": "choropleth"
           }
          ],
          "contour": [
           {
            "colorbar": {
             "outlinewidth": 0,
             "tickcolor": "rgb(36,36,36)",
             "ticklen": 8,
             "ticks": "outside",
             "tickwidth": 2
            },
            "colorscale": [
             [
              0,
              "rgb(2,4,25)"
             ],
             [
              0.06274509803921569,
              "rgb(24,15,41)"
             ],
             [
              0.12549019607843137,
              "rgb(47,23,57)"
             ],
             [
              0.18823529411764706,
              "rgb(71,28,72)"
             ],
             [
              0.25098039215686274,
              "rgb(97,30,82)"
             ],
             [
              0.3137254901960784,
              "rgb(123,30,89)"
             ],
             [
              0.3764705882352941,
              "rgb(150,27,91)"
             ],
             [
              0.4392156862745098,
              "rgb(177,22,88)"
             ],
             [
              0.5019607843137255,
              "rgb(203,26,79)"
             ],
             [
              0.5647058823529412,
              "rgb(223,47,67)"
             ],
             [
              0.6274509803921569,
              "rgb(236,76,61)"
             ],
             [
              0.6901960784313725,
              "rgb(242,107,73)"
             ],
             [
              0.7529411764705882,
              "rgb(244,135,95)"
             ],
             [
              0.8156862745098039,
              "rgb(245,162,122)"
             ],
             [
              0.8784313725490196,
              "rgb(246,188,153)"
             ],
             [
              0.9411764705882353,
              "rgb(247,212,187)"
             ],
             [
              1,
              "rgb(250,234,220)"
             ]
            ],
            "type": "contour"
           }
          ],
          "contourcarpet": [
           {
            "colorbar": {
             "outlinewidth": 0,
             "tickcolor": "rgb(36,36,36)",
             "ticklen": 8,
             "ticks": "outside",
             "tickwidth": 2
            },
            "type": "contourcarpet"
           }
          ],
          "heatmap": [
           {
            "colorbar": {
             "outlinewidth": 0,
             "tickcolor": "rgb(36,36,36)",
             "ticklen": 8,
             "ticks": "outside",
             "tickwidth": 2
            },
            "colorscale": [
             [
              0,
              "rgb(2,4,25)"
             ],
             [
              0.06274509803921569,
              "rgb(24,15,41)"
             ],
             [
              0.12549019607843137,
              "rgb(47,23,57)"
             ],
             [
              0.18823529411764706,
              "rgb(71,28,72)"
             ],
             [
              0.25098039215686274,
              "rgb(97,30,82)"
             ],
             [
              0.3137254901960784,
              "rgb(123,30,89)"
             ],
             [
              0.3764705882352941,
              "rgb(150,27,91)"
             ],
             [
              0.4392156862745098,
              "rgb(177,22,88)"
             ],
             [
              0.5019607843137255,
              "rgb(203,26,79)"
             ],
             [
              0.5647058823529412,
              "rgb(223,47,67)"
             ],
             [
              0.6274509803921569,
              "rgb(236,76,61)"
             ],
             [
              0.6901960784313725,
              "rgb(242,107,73)"
             ],
             [
              0.7529411764705882,
              "rgb(244,135,95)"
             ],
             [
              0.8156862745098039,
              "rgb(245,162,122)"
             ],
             [
              0.8784313725490196,
              "rgb(246,188,153)"
             ],
             [
              0.9411764705882353,
              "rgb(247,212,187)"
             ],
             [
              1,
              "rgb(250,234,220)"
             ]
            ],
            "type": "heatmap"
           }
          ],
          "heatmapgl": [
           {
            "colorbar": {
             "outlinewidth": 0,
             "tickcolor": "rgb(36,36,36)",
             "ticklen": 8,
             "ticks": "outside",
             "tickwidth": 2
            },
            "colorscale": [
             [
              0,
              "rgb(2,4,25)"
             ],
             [
              0.06274509803921569,
              "rgb(24,15,41)"
             ],
             [
              0.12549019607843137,
              "rgb(47,23,57)"
             ],
             [
              0.18823529411764706,
              "rgb(71,28,72)"
             ],
             [
              0.25098039215686274,
              "rgb(97,30,82)"
             ],
             [
              0.3137254901960784,
              "rgb(123,30,89)"
             ],
             [
              0.3764705882352941,
              "rgb(150,27,91)"
             ],
             [
              0.4392156862745098,
              "rgb(177,22,88)"
             ],
             [
              0.5019607843137255,
              "rgb(203,26,79)"
             ],
             [
              0.5647058823529412,
              "rgb(223,47,67)"
             ],
             [
              0.6274509803921569,
              "rgb(236,76,61)"
             ],
             [
              0.6901960784313725,
              "rgb(242,107,73)"
             ],
             [
              0.7529411764705882,
              "rgb(244,135,95)"
             ],
             [
              0.8156862745098039,
              "rgb(245,162,122)"
             ],
             [
              0.8784313725490196,
              "rgb(246,188,153)"
             ],
             [
              0.9411764705882353,
              "rgb(247,212,187)"
             ],
             [
              1,
              "rgb(250,234,220)"
             ]
            ],
            "type": "heatmapgl"
           }
          ],
          "histogram": [
           {
            "marker": {
             "colorbar": {
              "outlinewidth": 0,
              "tickcolor": "rgb(36,36,36)",
              "ticklen": 8,
              "ticks": "outside",
              "tickwidth": 2
             }
            },
            "type": "histogram"
           }
          ],
          "histogram2d": [
           {
            "colorbar": {
             "outlinewidth": 0,
             "tickcolor": "rgb(36,36,36)",
             "ticklen": 8,
             "ticks": "outside",
             "tickwidth": 2
            },
            "colorscale": [
             [
              0,
              "rgb(2,4,25)"
             ],
             [
              0.06274509803921569,
              "rgb(24,15,41)"
             ],
             [
              0.12549019607843137,
              "rgb(47,23,57)"
             ],
             [
              0.18823529411764706,
              "rgb(71,28,72)"
             ],
             [
              0.25098039215686274,
              "rgb(97,30,82)"
             ],
             [
              0.3137254901960784,
              "rgb(123,30,89)"
             ],
             [
              0.3764705882352941,
              "rgb(150,27,91)"
             ],
             [
              0.4392156862745098,
              "rgb(177,22,88)"
             ],
             [
              0.5019607843137255,
              "rgb(203,26,79)"
             ],
             [
              0.5647058823529412,
              "rgb(223,47,67)"
             ],
             [
              0.6274509803921569,
              "rgb(236,76,61)"
             ],
             [
              0.6901960784313725,
              "rgb(242,107,73)"
             ],
             [
              0.7529411764705882,
              "rgb(244,135,95)"
             ],
             [
              0.8156862745098039,
              "rgb(245,162,122)"
             ],
             [
              0.8784313725490196,
              "rgb(246,188,153)"
             ],
             [
              0.9411764705882353,
              "rgb(247,212,187)"
             ],
             [
              1,
              "rgb(250,234,220)"
             ]
            ],
            "type": "histogram2d"
           }
          ],
          "histogram2dcontour": [
           {
            "colorbar": {
             "outlinewidth": 0,
             "tickcolor": "rgb(36,36,36)",
             "ticklen": 8,
             "ticks": "outside",
             "tickwidth": 2
            },
            "colorscale": [
             [
              0,
              "rgb(2,4,25)"
             ],
             [
              0.06274509803921569,
              "rgb(24,15,41)"
             ],
             [
              0.12549019607843137,
              "rgb(47,23,57)"
             ],
             [
              0.18823529411764706,
              "rgb(71,28,72)"
             ],
             [
              0.25098039215686274,
              "rgb(97,30,82)"
             ],
             [
              0.3137254901960784,
              "rgb(123,30,89)"
             ],
             [
              0.3764705882352941,
              "rgb(150,27,91)"
             ],
             [
              0.4392156862745098,
              "rgb(177,22,88)"
             ],
             [
              0.5019607843137255,
              "rgb(203,26,79)"
             ],
             [
              0.5647058823529412,
              "rgb(223,47,67)"
             ],
             [
              0.6274509803921569,
              "rgb(236,76,61)"
             ],
             [
              0.6901960784313725,
              "rgb(242,107,73)"
             ],
             [
              0.7529411764705882,
              "rgb(244,135,95)"
             ],
             [
              0.8156862745098039,
              "rgb(245,162,122)"
             ],
             [
              0.8784313725490196,
              "rgb(246,188,153)"
             ],
             [
              0.9411764705882353,
              "rgb(247,212,187)"
             ],
             [
              1,
              "rgb(250,234,220)"
             ]
            ],
            "type": "histogram2dcontour"
           }
          ],
          "mesh3d": [
           {
            "colorbar": {
             "outlinewidth": 0,
             "tickcolor": "rgb(36,36,36)",
             "ticklen": 8,
             "ticks": "outside",
             "tickwidth": 2
            },
            "type": "mesh3d"
           }
          ],
          "parcoords": [
           {
            "line": {
             "colorbar": {
              "outlinewidth": 0,
              "tickcolor": "rgb(36,36,36)",
              "ticklen": 8,
              "ticks": "outside",
              "tickwidth": 2
             }
            },
            "type": "parcoords"
           }
          ],
          "pie": [
           {
            "automargin": true,
            "type": "pie"
           }
          ],
          "scatter": [
           {
            "marker": {
             "colorbar": {
              "outlinewidth": 0,
              "tickcolor": "rgb(36,36,36)",
              "ticklen": 8,
              "ticks": "outside",
              "tickwidth": 2
             }
            },
            "type": "scatter"
           }
          ],
          "scatter3d": [
           {
            "line": {
             "colorbar": {
              "outlinewidth": 0,
              "tickcolor": "rgb(36,36,36)",
              "ticklen": 8,
              "ticks": "outside",
              "tickwidth": 2
             }
            },
            "marker": {
             "colorbar": {
              "outlinewidth": 0,
              "tickcolor": "rgb(36,36,36)",
              "ticklen": 8,
              "ticks": "outside",
              "tickwidth": 2
             }
            },
            "type": "scatter3d"
           }
          ],
          "scattercarpet": [
           {
            "marker": {
             "colorbar": {
              "outlinewidth": 0,
              "tickcolor": "rgb(36,36,36)",
              "ticklen": 8,
              "ticks": "outside",
              "tickwidth": 2
             }
            },
            "type": "scattercarpet"
           }
          ],
          "scattergeo": [
           {
            "marker": {
             "colorbar": {
              "outlinewidth": 0,
              "tickcolor": "rgb(36,36,36)",
              "ticklen": 8,
              "ticks": "outside",
              "tickwidth": 2
             }
            },
            "type": "scattergeo"
           }
          ],
          "scattergl": [
           {
            "marker": {
             "colorbar": {
              "outlinewidth": 0,
              "tickcolor": "rgb(36,36,36)",
              "ticklen": 8,
              "ticks": "outside",
              "tickwidth": 2
             }
            },
            "type": "scattergl"
           }
          ],
          "scattermapbox": [
           {
            "marker": {
             "colorbar": {
              "outlinewidth": 0,
              "tickcolor": "rgb(36,36,36)",
              "ticklen": 8,
              "ticks": "outside",
              "tickwidth": 2
             }
            },
            "type": "scattermapbox"
           }
          ],
          "scatterpolar": [
           {
            "marker": {
             "colorbar": {
              "outlinewidth": 0,
              "tickcolor": "rgb(36,36,36)",
              "ticklen": 8,
              "ticks": "outside",
              "tickwidth": 2
             }
            },
            "type": "scatterpolar"
           }
          ],
          "scatterpolargl": [
           {
            "marker": {
             "colorbar": {
              "outlinewidth": 0,
              "tickcolor": "rgb(36,36,36)",
              "ticklen": 8,
              "ticks": "outside",
              "tickwidth": 2
             }
            },
            "type": "scatterpolargl"
           }
          ],
          "scatterternary": [
           {
            "marker": {
             "colorbar": {
              "outlinewidth": 0,
              "tickcolor": "rgb(36,36,36)",
              "ticklen": 8,
              "ticks": "outside",
              "tickwidth": 2
             }
            },
            "type": "scatterternary"
           }
          ],
          "surface": [
           {
            "colorbar": {
             "outlinewidth": 0,
             "tickcolor": "rgb(36,36,36)",
             "ticklen": 8,
             "ticks": "outside",
             "tickwidth": 2
            },
            "colorscale": [
             [
              0,
              "rgb(2,4,25)"
             ],
             [
              0.06274509803921569,
              "rgb(24,15,41)"
             ],
             [
              0.12549019607843137,
              "rgb(47,23,57)"
             ],
             [
              0.18823529411764706,
              "rgb(71,28,72)"
             ],
             [
              0.25098039215686274,
              "rgb(97,30,82)"
             ],
             [
              0.3137254901960784,
              "rgb(123,30,89)"
             ],
             [
              0.3764705882352941,
              "rgb(150,27,91)"
             ],
             [
              0.4392156862745098,
              "rgb(177,22,88)"
             ],
             [
              0.5019607843137255,
              "rgb(203,26,79)"
             ],
             [
              0.5647058823529412,
              "rgb(223,47,67)"
             ],
             [
              0.6274509803921569,
              "rgb(236,76,61)"
             ],
             [
              0.6901960784313725,
              "rgb(242,107,73)"
             ],
             [
              0.7529411764705882,
              "rgb(244,135,95)"
             ],
             [
              0.8156862745098039,
              "rgb(245,162,122)"
             ],
             [
              0.8784313725490196,
              "rgb(246,188,153)"
             ],
             [
              0.9411764705882353,
              "rgb(247,212,187)"
             ],
             [
              1,
              "rgb(250,234,220)"
             ]
            ],
            "type": "surface"
           }
          ],
          "table": [
           {
            "cells": {
             "fill": {
              "color": "rgb(231,231,240)"
             },
             "line": {
              "color": "white"
             }
            },
            "header": {
             "fill": {
              "color": "rgb(183,183,191)"
             },
             "line": {
              "color": "white"
             }
            },
            "type": "table"
           }
          ]
         },
         "layout": {
          "annotationdefaults": {
           "arrowcolor": "rgb(67,103,167)"
          },
          "autotypenumbers": "strict",
          "coloraxis": {
           "colorbar": {
            "outlinewidth": 0,
            "tickcolor": "rgb(36,36,36)",
            "ticklen": 8,
            "ticks": "outside",
            "tickwidth": 2
           }
          },
          "colorscale": {
           "sequential": [
            [
             0,
             "rgb(2,4,25)"
            ],
            [
             0.06274509803921569,
             "rgb(24,15,41)"
            ],
            [
             0.12549019607843137,
             "rgb(47,23,57)"
            ],
            [
             0.18823529411764706,
             "rgb(71,28,72)"
            ],
            [
             0.25098039215686274,
             "rgb(97,30,82)"
            ],
            [
             0.3137254901960784,
             "rgb(123,30,89)"
            ],
            [
             0.3764705882352941,
             "rgb(150,27,91)"
            ],
            [
             0.4392156862745098,
             "rgb(177,22,88)"
            ],
            [
             0.5019607843137255,
             "rgb(203,26,79)"
            ],
            [
             0.5647058823529412,
             "rgb(223,47,67)"
            ],
            [
             0.6274509803921569,
             "rgb(236,76,61)"
            ],
            [
             0.6901960784313725,
             "rgb(242,107,73)"
            ],
            [
             0.7529411764705882,
             "rgb(244,135,95)"
            ],
            [
             0.8156862745098039,
             "rgb(245,162,122)"
            ],
            [
             0.8784313725490196,
             "rgb(246,188,153)"
            ],
            [
             0.9411764705882353,
             "rgb(247,212,187)"
            ],
            [
             1,
             "rgb(250,234,220)"
            ]
           ],
           "sequentialminus": [
            [
             0,
             "rgb(2,4,25)"
            ],
            [
             0.06274509803921569,
             "rgb(24,15,41)"
            ],
            [
             0.12549019607843137,
             "rgb(47,23,57)"
            ],
            [
             0.18823529411764706,
             "rgb(71,28,72)"
            ],
            [
             0.25098039215686274,
             "rgb(97,30,82)"
            ],
            [
             0.3137254901960784,
             "rgb(123,30,89)"
            ],
            [
             0.3764705882352941,
             "rgb(150,27,91)"
            ],
            [
             0.4392156862745098,
             "rgb(177,22,88)"
            ],
            [
             0.5019607843137255,
             "rgb(203,26,79)"
            ],
            [
             0.5647058823529412,
             "rgb(223,47,67)"
            ],
            [
             0.6274509803921569,
             "rgb(236,76,61)"
            ],
            [
             0.6901960784313725,
             "rgb(242,107,73)"
            ],
            [
             0.7529411764705882,
             "rgb(244,135,95)"
            ],
            [
             0.8156862745098039,
             "rgb(245,162,122)"
            ],
            [
             0.8784313725490196,
             "rgb(246,188,153)"
            ],
            [
             0.9411764705882353,
             "rgb(247,212,187)"
            ],
            [
             1,
             "rgb(250,234,220)"
            ]
           ]
          },
          "colorway": [
           "rgb(76,114,176)",
           "rgb(221,132,82)",
           "rgb(85,168,104)",
           "rgb(196,78,82)",
           "rgb(129,114,179)",
           "rgb(147,120,96)",
           "rgb(218,139,195)",
           "rgb(140,140,140)",
           "rgb(204,185,116)",
           "rgb(100,181,205)"
          ],
          "font": {
           "color": "rgb(36,36,36)"
          },
          "geo": {
           "bgcolor": "white",
           "lakecolor": "white",
           "landcolor": "rgb(234,234,242)",
           "showlakes": true,
           "showland": true,
           "subunitcolor": "white"
          },
          "hoverlabel": {
           "align": "left"
          },
          "hovermode": "closest",
          "paper_bgcolor": "white",
          "plot_bgcolor": "rgb(234,234,242)",
          "polar": {
           "angularaxis": {
            "gridcolor": "white",
            "linecolor": "white",
            "showgrid": true,
            "ticks": ""
           },
           "bgcolor": "rgb(234,234,242)",
           "radialaxis": {
            "gridcolor": "white",
            "linecolor": "white",
            "showgrid": true,
            "ticks": ""
           }
          },
          "scene": {
           "xaxis": {
            "backgroundcolor": "rgb(234,234,242)",
            "gridcolor": "white",
            "gridwidth": 2,
            "linecolor": "white",
            "showbackground": true,
            "showgrid": true,
            "ticks": "",
            "zerolinecolor": "white"
           },
           "yaxis": {
            "backgroundcolor": "rgb(234,234,242)",
            "gridcolor": "white",
            "gridwidth": 2,
            "linecolor": "white",
            "showbackground": true,
            "showgrid": true,
            "ticks": "",
            "zerolinecolor": "white"
           },
           "zaxis": {
            "backgroundcolor": "rgb(234,234,242)",
            "gridcolor": "white",
            "gridwidth": 2,
            "linecolor": "white",
            "showbackground": true,
            "showgrid": true,
            "ticks": "",
            "zerolinecolor": "white"
           }
          },
          "shapedefaults": {
           "fillcolor": "rgb(67,103,167)",
           "line": {
            "width": 0
           },
           "opacity": 0.5
          },
          "ternary": {
           "aaxis": {
            "gridcolor": "white",
            "linecolor": "white",
            "showgrid": true,
            "ticks": ""
           },
           "baxis": {
            "gridcolor": "white",
            "linecolor": "white",
            "showgrid": true,
            "ticks": ""
           },
           "bgcolor": "rgb(234,234,242)",
           "caxis": {
            "gridcolor": "white",
            "linecolor": "white",
            "showgrid": true,
            "ticks": ""
           }
          },
          "xaxis": {
           "automargin": true,
           "gridcolor": "white",
           "linecolor": "white",
           "showgrid": true,
           "ticks": "",
           "title": {
            "standoff": 15
           },
           "zerolinecolor": "white"
          },
          "yaxis": {
           "automargin": true,
           "gridcolor": "white",
           "linecolor": "white",
           "showgrid": true,
           "ticks": "",
           "title": {
            "standoff": 15
           },
           "zerolinecolor": "white"
          }
         }
        },
        "title": {
         "text": "p = 1"
        },
        "width": 800,
        "xaxis": {
         "anchor": "y",
         "domain": [
          0,
          1
         ],
         "title": {
          "text": "x"
         }
        },
        "yaxis": {
         "anchor": "x",
         "domain": [
          0,
          1
         ],
         "title": {
          "text": "y"
         }
        }
       }
      }
     },
     "metadata": {}
    },
    {
     "output_type": "stream",
     "name": "stdout",
     "text": [
      "[[ 1.00000000e+00 -1.50000000e+01  2.25000000e+02]\n [ 1.00000000e+00 -1.47474747e+01  2.17488011e+02]\n [ 1.00000000e+00 -1.44949495e+01  2.10103561e+02]\n [ 1.00000000e+00 -1.42424242e+01  2.02846648e+02]\n [ 1.00000000e+00 -1.39898990e+01  1.95717274e+02]\n [ 1.00000000e+00 -1.37373737e+01  1.88715437e+02]\n [ 1.00000000e+00 -1.34848485e+01  1.81841139e+02]\n [ 1.00000000e+00 -1.32323232e+01  1.75094378e+02]\n [ 1.00000000e+00 -1.29797980e+01  1.68475156e+02]\n [ 1.00000000e+00 -1.27272727e+01  1.61983471e+02]\n [ 1.00000000e+00 -1.24747475e+01  1.55619325e+02]\n [ 1.00000000e+00 -1.22222222e+01  1.49382716e+02]\n [ 1.00000000e+00 -1.19696970e+01  1.43273646e+02]\n [ 1.00000000e+00 -1.17171717e+01  1.37292113e+02]\n [ 1.00000000e+00 -1.14646465e+01  1.31438119e+02]\n [ 1.00000000e+00 -1.12121212e+01  1.25711662e+02]\n [ 1.00000000e+00 -1.09595960e+01  1.20112744e+02]\n [ 1.00000000e+00 -1.07070707e+01  1.14641363e+02]\n [ 1.00000000e+00 -1.04545455e+01  1.09297521e+02]\n [ 1.00000000e+00 -1.02020202e+01  1.04081216e+02]\n [ 1.00000000e+00 -9.94949495e+00  9.89924498e+01]\n [ 1.00000000e+00 -9.69696970e+00  9.40312213e+01]\n [ 1.00000000e+00 -9.44444444e+00  8.91975309e+01]\n [ 1.00000000e+00 -9.19191919e+00  8.44913784e+01]\n [ 1.00000000e+00 -8.93939394e+00  7.99127640e+01]\n [ 1.00000000e+00 -8.68686869e+00  7.54616876e+01]\n [ 1.00000000e+00 -8.43434343e+00  7.11381492e+01]\n [ 1.00000000e+00 -8.18181818e+00  6.69421488e+01]\n [ 1.00000000e+00 -7.92929293e+00  6.28736864e+01]\n [ 1.00000000e+00 -7.67676768e+00  5.89327620e+01]\n [ 1.00000000e+00 -7.42424242e+00  5.51193756e+01]\n [ 1.00000000e+00 -7.17171717e+00  5.14335272e+01]\n [ 1.00000000e+00 -6.91919192e+00  4.78752168e+01]\n [ 1.00000000e+00 -6.66666667e+00  4.44444444e+01]\n [ 1.00000000e+00 -6.41414141e+00  4.11412101e+01]\n [ 1.00000000e+00 -6.16161616e+00  3.79655137e+01]\n [ 1.00000000e+00 -5.90909091e+00  3.49173554e+01]\n [ 1.00000000e+00 -5.65656566e+00  3.19967350e+01]\n [ 1.00000000e+00 -5.40404040e+00  2.92036527e+01]\n [ 1.00000000e+00 -5.15151515e+00  2.65381084e+01]\n [ 1.00000000e+00 -4.89898990e+00  2.40001020e+01]\n [ 1.00000000e+00 -4.64646465e+00  2.15896337e+01]\n [ 1.00000000e+00 -4.39393939e+00  1.93067034e+01]\n [ 1.00000000e+00 -4.14141414e+00  1.71513111e+01]\n [ 1.00000000e+00 -3.88888889e+00  1.51234568e+01]\n [ 1.00000000e+00 -3.63636364e+00  1.32231405e+01]\n [ 1.00000000e+00 -3.38383838e+00  1.14503622e+01]\n [ 1.00000000e+00 -3.13131313e+00  9.80512193e+00]\n [ 1.00000000e+00 -2.87878788e+00  8.28741965e+00]\n [ 1.00000000e+00 -2.62626263e+00  6.89725538e+00]\n [ 1.00000000e+00 -2.37373737e+00  5.63462912e+00]\n [ 1.00000000e+00 -2.12121212e+00  4.49954086e+00]\n [ 1.00000000e+00 -1.86868687e+00  3.49199061e+00]\n [ 1.00000000e+00 -1.61616162e+00  2.61197837e+00]\n [ 1.00000000e+00 -1.36363636e+00  1.85950413e+00]\n [ 1.00000000e+00 -1.11111111e+00  1.23456790e+00]\n [ 1.00000000e+00 -8.58585859e-01  7.37169677e-01]\n [ 1.00000000e+00 -6.06060606e-01  3.67309458e-01]\n [ 1.00000000e+00 -3.53535354e-01  1.24987246e-01]\n [ 1.00000000e+00 -1.01010101e-01  1.02030405e-02]\n [ 1.00000000e+00  1.51515152e-01  2.29568411e-02]\n [ 1.00000000e+00  4.04040404e-01  1.63248648e-01]\n [ 1.00000000e+00  6.56565657e-01  4.31078461e-01]\n [ 1.00000000e+00  9.09090909e-01  8.26446281e-01]\n [ 1.00000000e+00  1.16161616e+00  1.34935211e+00]\n [ 1.00000000e+00  1.41414141e+00  1.99979594e+00]\n [ 1.00000000e+00  1.66666667e+00  2.77777778e+00]\n [ 1.00000000e+00  1.91919192e+00  3.68329762e+00]\n [ 1.00000000e+00  2.17171717e+00  4.71635547e+00]\n [ 1.00000000e+00  2.42424242e+00  5.87695133e+00]\n [ 1.00000000e+00  2.67676768e+00  7.16508520e+00]\n [ 1.00000000e+00  2.92929293e+00  8.58075707e+00]\n [ 1.00000000e+00  3.18181818e+00  1.01239669e+01]\n [ 1.00000000e+00  3.43434343e+00  1.17947148e+01]\n [ 1.00000000e+00  3.68686869e+00  1.35930007e+01]\n [ 1.00000000e+00  3.93939394e+00  1.55188246e+01]\n [ 1.00000000e+00  4.19191919e+00  1.75721865e+01]\n [ 1.00000000e+00  4.44444444e+00  1.97530864e+01]\n [ 1.00000000e+00  4.69696970e+00  2.20615243e+01]\n [ 1.00000000e+00  4.94949495e+00  2.44975003e+01]\n [ 1.00000000e+00  5.20202020e+00  2.70610142e+01]\n [ 1.00000000e+00  5.45454545e+00  2.97520661e+01]\n [ 1.00000000e+00  5.70707071e+00  3.25706561e+01]\n [ 1.00000000e+00  5.95959596e+00  3.55167840e+01]\n [ 1.00000000e+00  6.21212121e+00  3.85904500e+01]\n [ 1.00000000e+00  6.46464646e+00  4.17916539e+01]\n [ 1.00000000e+00  6.71717172e+00  4.51203959e+01]\n [ 1.00000000e+00  6.96969697e+00  4.85766758e+01]\n [ 1.00000000e+00  7.22222222e+00  5.21604938e+01]\n [ 1.00000000e+00  7.47474747e+00  5.58718498e+01]\n [ 1.00000000e+00  7.72727273e+00  5.97107438e+01]\n [ 1.00000000e+00  7.97979798e+00  6.36771758e+01]\n [ 1.00000000e+00  8.23232323e+00  6.77711458e+01]\n [ 1.00000000e+00  8.48484848e+00  7.19926538e+01]\n [ 1.00000000e+00  8.73737374e+00  7.63416998e+01]\n [ 1.00000000e+00  8.98989899e+00  8.08182838e+01]\n [ 1.00000000e+00  9.24242424e+00  8.54224059e+01]\n [ 1.00000000e+00  9.49494949e+00  9.01540659e+01]\n [ 1.00000000e+00  9.74747475e+00  9.50132640e+01]\n [ 1.00000000e+00  1.00000000e+01  1.00000000e+02]]\n"
     ]
    },
    {
     "output_type": "display_data",
     "data": {
      "application/vnd.plotly.v1+json": {
       "config": {
        "plotlyServerURL": "https://plot.ly"
       },
       "data": [
        {
         "hoverinfo": "skip",
         "hovertemplate": "x=%{x}<br>y=%{y}<extra></extra>",
         "legendgroup": "",
         "marker": {
          "color": "red",
          "line": {
           "color": "black",
           "width": 2
          },
          "size": 8,
          "symbol": "circle"
         },
         "mode": "markers",
         "name": "",
         "orientation": "v",
         "showlegend": false,
         "type": "scatter",
         "x": [
          -15,
          -14.747474747474747,
          -14.494949494949495,
          -14.242424242424242,
          -13.98989898989899,
          -13.737373737373737,
          -13.484848484848484,
          -13.232323232323232,
          -12.97979797979798,
          -12.727272727272727,
          -12.474747474747474,
          -12.222222222222221,
          -11.969696969696969,
          -11.717171717171716,
          -11.464646464646464,
          -11.212121212121211,
          -10.959595959595958,
          -10.707070707070706,
          -10.454545454545453,
          -10.2020202020202,
          -9.949494949494948,
          -9.696969696969695,
          -9.444444444444443,
          -9.19191919191919,
          -8.93939393939394,
          -8.686868686868687,
          -8.434343434343434,
          -8.181818181818182,
          -7.929292929292929,
          -7.6767676767676765,
          -7.424242424242424,
          -7.171717171717171,
          -6.919191919191919,
          -6.666666666666666,
          -6.4141414141414135,
          -6.161616161616161,
          -5.909090909090908,
          -5.656565656565656,
          -5.404040404040403,
          -5.1515151515151505,
          -4.898989898989898,
          -4.646464646464645,
          -4.393939393939393,
          -4.14141414141414,
          -3.8888888888888875,
          -3.636363636363635,
          -3.3838383838383823,
          -3.1313131313131297,
          -2.878787878787879,
          -2.6262626262626263,
          -2.3737373737373737,
          -2.121212121212121,
          -1.8686868686868685,
          -1.616161616161616,
          -1.3636363636363633,
          -1.1111111111111107,
          -0.8585858585858581,
          -0.6060606060606055,
          -0.3535353535353529,
          -0.10101010101010033,
          0.15151515151515227,
          0.40404040404040487,
          0.6565656565656575,
          0.9090909090909101,
          1.1616161616161627,
          1.4141414141414153,
          1.6666666666666679,
          1.9191919191919204,
          2.171717171717173,
          2.4242424242424256,
          2.6767676767676782,
          2.929292929292931,
          3.1818181818181834,
          3.434343434343436,
          3.6868686868686886,
          3.9393939393939412,
          4.191919191919194,
          4.444444444444446,
          4.696969696969699,
          4.949494949494952,
          5.202020202020204,
          5.454545454545457,
          5.707070707070709,
          5.959595959595962,
          6.212121212121215,
          6.464646464646467,
          6.71717171717172,
          6.969696969696972,
          7.222222222222225,
          7.474747474747478,
          7.72727272727273,
          7.979797979797983,
          8.232323232323235,
          8.484848484848488,
          8.73737373737374,
          8.989898989898993,
          9.242424242424242,
          9.494949494949495,
          9.747474747474747,
          10
         ],
         "xaxis": "x",
         "y": [
          78.8145264368132,
          76.57044197789587,
          70.71559763799429,
          64.98242118444067,
          60.370093944052115,
          65.3427399586452,
          61.61156788395709,
          54.159247074743384,
          58.003581512239464,
          58.3834879095741,
          48.33128578835695,
          36.795974355843946,
          47.0866395724152,
          44.707615558827655,
          35.45226293095519,
          37.09552798829185,
          42.57067476156927,
          30.528245748188354,
          40.415136228881224,
          29.05062722816826,
          28.33758137203389,
          36.28738010218093,
          20.652213387430965,
          26.807644591640848,
          18.164942561966704,
          20.033392459458913,
          17.660222217380895,
          18.282461990297072,
          19.49881119963429,
          11.674908941600714,
          12.573047648824778,
          9.619463523387886,
          15.65352303049416,
          13.972213091561857,
          16.612273532730647,
          7.309122023985634,
          9.49300323493813,
          12.979187122866433,
          12.257189707075586,
          5.971458400976415,
          9.8259333842476,
          4.651954537633046,
          5.199575042174219,
          5.772809120976745,
          7.62186870652512,
          3.103457491597879,
          9.16553203739803,
          3.9524184687017723,
          2.1313608348936883,
          7.337828209406968,
          4.113500561421851,
          8.677871546454561,
          5.1104962781614836,
          15.909683590566768,
          7.277602132779751,
          9.322184880051765,
          14.94174351810746,
          3.9064409293766484,
          17.28984052489481,
          10.620963769116443,
          15.913051080291453,
          11.81360694188862,
          9.773092742100097,
          16.49480186168052,
          17.0008304335297,
          8.882807212985732,
          20.970693279156148,
          14.210734303365376,
          21.276883472494152,
          20.36286777557737,
          17.105467148917633,
          22.046274741345126,
          22.179681727674854,
          23.28883766257723,
          32.93056811313294,
          36.0481138345626,
          34.0362534113516,
          33.383138880805774,
          25.123437456387563,
          33.50118312435098,
          40.22941412798667,
          41.09572522747814,
          43.65965170427655,
          46.970072422070174,
          46.80935287333976,
          53.003991219261195,
          54.79572060002411,
          59.21494030077444,
          56.24193074865577,
          61.29686359911075,
          64.21716354422281,
          68.61993315578066,
          70.11748307935183,
          71.05469017203949,
          73.9101430107204,
          75.28309256555329,
          77.97079594339958,
          85.97823411409078,
          86.96671875950356,
          94.5060568412618
         ],
         "yaxis": "y"
        },
        {
         "line": {
          "color": "green"
         },
         "mode": "lines",
         "name": "Aproximation",
         "type": "scatter",
         "x": [
          -15,
          -14.747474747474747,
          -14.494949494949495,
          -14.242424242424242,
          -13.98989898989899,
          -13.737373737373737,
          -13.484848484848484,
          -13.232323232323232,
          -12.97979797979798,
          -12.727272727272727,
          -12.474747474747474,
          -12.222222222222221,
          -11.969696969696969,
          -11.717171717171716,
          -11.464646464646464,
          -11.212121212121211,
          -10.959595959595958,
          -10.707070707070706,
          -10.454545454545453,
          -10.2020202020202,
          -9.949494949494948,
          -9.696969696969695,
          -9.444444444444443,
          -9.19191919191919,
          -8.93939393939394,
          -8.686868686868687,
          -8.434343434343434,
          -8.181818181818182,
          -7.929292929292929,
          -7.6767676767676765,
          -7.424242424242424,
          -7.171717171717171,
          -6.919191919191919,
          -6.666666666666666,
          -6.4141414141414135,
          -6.161616161616161,
          -5.909090909090908,
          -5.656565656565656,
          -5.404040404040403,
          -5.1515151515151505,
          -4.898989898989898,
          -4.646464646464645,
          -4.393939393939393,
          -4.14141414141414,
          -3.8888888888888875,
          -3.636363636363635,
          -3.3838383838383823,
          -3.1313131313131297,
          -2.878787878787879,
          -2.6262626262626263,
          -2.3737373737373737,
          -2.121212121212121,
          -1.8686868686868685,
          -1.616161616161616,
          -1.3636363636363633,
          -1.1111111111111107,
          -0.8585858585858581,
          -0.6060606060606055,
          -0.3535353535353529,
          -0.10101010101010033,
          0.15151515151515227,
          0.40404040404040487,
          0.6565656565656575,
          0.9090909090909101,
          1.1616161616161627,
          1.4141414141414153,
          1.6666666666666679,
          1.9191919191919204,
          2.171717171717173,
          2.4242424242424256,
          2.6767676767676782,
          2.929292929292931,
          3.1818181818181834,
          3.434343434343436,
          3.6868686868686886,
          3.9393939393939412,
          4.191919191919194,
          4.444444444444446,
          4.696969696969699,
          4.949494949494952,
          5.202020202020204,
          5.454545454545457,
          5.707070707070709,
          5.959595959595962,
          6.212121212121215,
          6.464646464646467,
          6.71717171717172,
          6.969696969696972,
          7.222222222222225,
          7.474747474747478,
          7.72727272727273,
          7.979797979797983,
          8.232323232323235,
          8.484848484848488,
          8.73737373737374,
          8.989898989898993,
          9.242424242424242,
          9.494949494949495,
          9.747474747474747,
          10
         ],
         "y": [
          76.40690608929663,
          73.45582310455093,
          70.56785833419092,
          67.74301177821656,
          64.98128343662786,
          62.28267330942482,
          59.64718139660745,
          57.07480769817573,
          54.56555221412968,
          52.1194149444693,
          49.73639588919457,
          47.41649504830548,
          45.15971242180207,
          42.96604800968433,
          40.83550181195224,
          38.76807382860581,
          36.76376405964504,
          34.82257250506993,
          32.94449916488048,
          31.129544039076695,
          29.377707127658574,
          27.6889884306261,
          26.063387947979304,
          24.500905679718166,
          23.001541625842687,
          21.565295786352866,
          20.19216816124871,
          18.882158750530206,
          17.635267554197366,
          16.451494572250187,
          15.330839804688672,
          14.27330325151281,
          13.278884912722614,
          12.347584788318077,
          11.479402878299204,
          10.674339182665992,
          9.932393701418437,
          9.253566434556543,
          8.637857382080309,
          8.08526654398974,
          7.595793920284828,
          7.169439510965578,
          6.80620331603199,
          6.506085335484061,
          6.269085569321792,
          6.0952040175451865,
          5.984440680154239,
          5.936795557148955,
          5.952268648529329,
          6.030859954295365,
          6.1725694744470605,
          6.3773972089844175,
          6.645343157907435,
          6.976407321216114,
          7.370589698910453,
          7.827890290990453,
          8.348309097456115,
          8.931846118307435,
          9.578501353544418,
          10.28827480316706,
          11.061166467175363,
          11.89717634556933,
          12.796304438348953,
          13.758550745514238,
          14.783915267065186,
          15.872398003001795,
          17.023998953324064,
          18.23871811803199,
          19.51655549712558,
          20.85751109060483,
          22.26158489846974,
          23.728776920720314,
          25.259087157356547,
          26.85251560837844,
          28.509062273785997,
          30.228727153579207,
          32.01151024775808,
          33.85741155632262,
          35.76643107927282,
          37.73856881660868,
          39.77382476833019,
          41.87219893443738,
          44.03369131493021,
          46.258301909808715,
          48.546030719072874,
          50.896877742722694,
          53.31084298075818,
          55.78792643317932,
          58.32812809998613,
          60.93144798117859,
          63.59788607675672,
          66.3274423867205,
          69.12011691106994,
          71.97590964980506,
          74.89482060292583,
          77.87684977043227,
          80.92199715232431,
          84.03026274860207,
          87.20164655926547,
          90.43614858431454
         ]
        },
        {
         "line": {
          "color": "royalblue",
          "dash": "dash"
         },
         "mode": "lines",
         "name": "Fg(x)",
         "type": "scatter",
         "x": [
          -15,
          -14.747474747474747,
          -14.494949494949495,
          -14.242424242424242,
          -13.98989898989899,
          -13.737373737373737,
          -13.484848484848484,
          -13.232323232323232,
          -12.97979797979798,
          -12.727272727272727,
          -12.474747474747474,
          -12.222222222222221,
          -11.969696969696969,
          -11.717171717171716,
          -11.464646464646464,
          -11.212121212121211,
          -10.959595959595958,
          -10.707070707070706,
          -10.454545454545453,
          -10.2020202020202,
          -9.949494949494948,
          -9.696969696969695,
          -9.444444444444443,
          -9.19191919191919,
          -8.93939393939394,
          -8.686868686868687,
          -8.434343434343434,
          -8.181818181818182,
          -7.929292929292929,
          -7.6767676767676765,
          -7.424242424242424,
          -7.171717171717171,
          -6.919191919191919,
          -6.666666666666666,
          -6.4141414141414135,
          -6.161616161616161,
          -5.909090909090908,
          -5.656565656565656,
          -5.404040404040403,
          -5.1515151515151505,
          -4.898989898989898,
          -4.646464646464645,
          -4.393939393939393,
          -4.14141414141414,
          -3.8888888888888875,
          -3.636363636363635,
          -3.3838383838383823,
          -3.1313131313131297,
          -2.878787878787879,
          -2.6262626262626263,
          -2.3737373737373737,
          -2.121212121212121,
          -1.8686868686868685,
          -1.616161616161616,
          -1.3636363636363633,
          -1.1111111111111107,
          -0.8585858585858581,
          -0.6060606060606055,
          -0.3535353535353529,
          -0.10101010101010033,
          0.15151515151515227,
          0.40404040404040487,
          0.6565656565656575,
          0.9090909090909101,
          1.1616161616161627,
          1.4141414141414153,
          1.6666666666666679,
          1.9191919191919204,
          2.171717171717173,
          2.4242424242424256,
          2.6767676767676782,
          2.929292929292931,
          3.1818181818181834,
          3.434343434343436,
          3.6868686868686886,
          3.9393939393939412,
          4.191919191919194,
          4.444444444444446,
          4.696969696969699,
          4.949494949494952,
          5.202020202020204,
          5.454545454545457,
          5.707070707070709,
          5.959595959595962,
          6.212121212121215,
          6.464646464646467,
          6.71717171717172,
          6.969696969696972,
          7.222222222222225,
          7.474747474747478,
          7.72727272727273,
          7.979797979797983,
          8.232323232323235,
          8.484848484848488,
          8.73737373737374,
          8.989898989898993,
          9.242424242424242,
          9.494949494949495,
          9.747474747474747,
          10
         ],
         "y": [
          77.5,
          74.50158147127843,
          71.56693194571983,
          68.69605142332415,
          65.88893990409142,
          63.14559738802162,
          60.466023875114786,
          57.85021936537087,
          55.29818385878991,
          52.8099173553719,
          50.38541985511682,
          48.02469135802469,
          45.72773186409549,
          43.49454137332925,
          41.32511988572594,
          39.21946740128558,
          37.17758392000815,
          35.199469441893676,
          33.28512396694214,
          31.434547495153545,
          29.6477400265279,
          27.924701561065184,
          26.265432098765423,
          24.6699316396286,
          23.138200183654725,
          21.670237730843787,
          20.266044281195796,
          18.925619834710744,
          17.64896439138863,
          16.436077951229464,
          15.28696051423324,
          14.201612080399954,
          13.180032649729615,
          12.222222222222218,
          11.328180797877764,
          10.497908376696252,
          9.731404958677683,
          9.028670543822054,
          8.38970513212937,
          7.81450872359963,
          7.303081318232831,
          6.855422916028974,
          6.47153351698806,
          6.151413121110089,
          5.895061728395061,
          5.702479338842974,
          5.573665952453831,
          5.508621569227629,
          5.507346189164371,
          5.569839812264055,
          5.696102438526681,
          5.88613406795225,
          6.139934700540762,
          6.4575043362922155,
          6.838842975206612,
          7.283950617283951,
          7.792827262524233,
          8.365472910927458,
          9.001887562493625,
          9.702071217222734,
          10.466023875114786,
          11.293745536169782,
          12.185236200387719,
          13.1404958677686,
          14.159524538312422,
          15.242322212019186,
          16.388888888888893,
          17.599224568921546,
          18.873329252117138,
          20.211202938475672,
          21.612845627997153,
          23.078257320681573,
          24.607438016528935,
          26.200387715539243,
          27.85710641771249,
          29.57759412304868,
          31.361850831547812,
          33.20987654320989,
          35.12167125803491,
          37.097234976022875,
          39.136567697173774,
          41.23966942148762,
          43.40654014896441,
          45.63717987960415,
          47.93158861340682,
          50.28976635037243,
          52.71171309050099,
          55.1974288337925,
          57.74691358024694,
          60.360167329864325,
          63.037190082644656,
          65.77798183858793,
          68.58254259769414,
          71.4508723599633,
          74.3829711253954,
          77.37883889399045,
          80.4384756657484,
          83.56188144066931,
          86.7490562187532,
          90
         ]
        }
       ],
       "layout": {
        "height": 700,
        "legend": {
         "tracegroupgap": 0
        },
        "template": {
         "data": {
          "bar": [
           {
            "error_x": {
             "color": "rgb(36,36,36)"
            },
            "error_y": {
             "color": "rgb(36,36,36)"
            },
            "marker": {
             "line": {
              "color": "rgb(234,234,242)",
              "width": 0.5
             }
            },
            "type": "bar"
           }
          ],
          "barpolar": [
           {
            "marker": {
             "line": {
              "color": "rgb(234,234,242)",
              "width": 0.5
             }
            },
            "type": "barpolar"
           }
          ],
          "carpet": [
           {
            "aaxis": {
             "endlinecolor": "rgb(36,36,36)",
             "gridcolor": "white",
             "linecolor": "white",
             "minorgridcolor": "white",
             "startlinecolor": "rgb(36,36,36)"
            },
            "baxis": {
             "endlinecolor": "rgb(36,36,36)",
             "gridcolor": "white",
             "linecolor": "white",
             "minorgridcolor": "white",
             "startlinecolor": "rgb(36,36,36)"
            },
            "type": "carpet"
           }
          ],
          "choropleth": [
           {
            "colorbar": {
             "outlinewidth": 0,
             "tickcolor": "rgb(36,36,36)",
             "ticklen": 8,
             "ticks": "outside",
             "tickwidth": 2
            },
            "type": "choropleth"
           }
          ],
          "contour": [
           {
            "colorbar": {
             "outlinewidth": 0,
             "tickcolor": "rgb(36,36,36)",
             "ticklen": 8,
             "ticks": "outside",
             "tickwidth": 2
            },
            "colorscale": [
             [
              0,
              "rgb(2,4,25)"
             ],
             [
              0.06274509803921569,
              "rgb(24,15,41)"
             ],
             [
              0.12549019607843137,
              "rgb(47,23,57)"
             ],
             [
              0.18823529411764706,
              "rgb(71,28,72)"
             ],
             [
              0.25098039215686274,
              "rgb(97,30,82)"
             ],
             [
              0.3137254901960784,
              "rgb(123,30,89)"
             ],
             [
              0.3764705882352941,
              "rgb(150,27,91)"
             ],
             [
              0.4392156862745098,
              "rgb(177,22,88)"
             ],
             [
              0.5019607843137255,
              "rgb(203,26,79)"
             ],
             [
              0.5647058823529412,
              "rgb(223,47,67)"
             ],
             [
              0.6274509803921569,
              "rgb(236,76,61)"
             ],
             [
              0.6901960784313725,
              "rgb(242,107,73)"
             ],
             [
              0.7529411764705882,
              "rgb(244,135,95)"
             ],
             [
              0.8156862745098039,
              "rgb(245,162,122)"
             ],
             [
              0.8784313725490196,
              "rgb(246,188,153)"
             ],
             [
              0.9411764705882353,
              "rgb(247,212,187)"
             ],
             [
              1,
              "rgb(250,234,220)"
             ]
            ],
            "type": "contour"
           }
          ],
          "contourcarpet": [
           {
            "colorbar": {
             "outlinewidth": 0,
             "tickcolor": "rgb(36,36,36)",
             "ticklen": 8,
             "ticks": "outside",
             "tickwidth": 2
            },
            "type": "contourcarpet"
           }
          ],
          "heatmap": [
           {
            "colorbar": {
             "outlinewidth": 0,
             "tickcolor": "rgb(36,36,36)",
             "ticklen": 8,
             "ticks": "outside",
             "tickwidth": 2
            },
            "colorscale": [
             [
              0,
              "rgb(2,4,25)"
             ],
             [
              0.06274509803921569,
              "rgb(24,15,41)"
             ],
             [
              0.12549019607843137,
              "rgb(47,23,57)"
             ],
             [
              0.18823529411764706,
              "rgb(71,28,72)"
             ],
             [
              0.25098039215686274,
              "rgb(97,30,82)"
             ],
             [
              0.3137254901960784,
              "rgb(123,30,89)"
             ],
             [
              0.3764705882352941,
              "rgb(150,27,91)"
             ],
             [
              0.4392156862745098,
              "rgb(177,22,88)"
             ],
             [
              0.5019607843137255,
              "rgb(203,26,79)"
             ],
             [
              0.5647058823529412,
              "rgb(223,47,67)"
             ],
             [
              0.6274509803921569,
              "rgb(236,76,61)"
             ],
             [
              0.6901960784313725,
              "rgb(242,107,73)"
             ],
             [
              0.7529411764705882,
              "rgb(244,135,95)"
             ],
             [
              0.8156862745098039,
              "rgb(245,162,122)"
             ],
             [
              0.8784313725490196,
              "rgb(246,188,153)"
             ],
             [
              0.9411764705882353,
              "rgb(247,212,187)"
             ],
             [
              1,
              "rgb(250,234,220)"
             ]
            ],
            "type": "heatmap"
           }
          ],
          "heatmapgl": [
           {
            "colorbar": {
             "outlinewidth": 0,
             "tickcolor": "rgb(36,36,36)",
             "ticklen": 8,
             "ticks": "outside",
             "tickwidth": 2
            },
            "colorscale": [
             [
              0,
              "rgb(2,4,25)"
             ],
             [
              0.06274509803921569,
              "rgb(24,15,41)"
             ],
             [
              0.12549019607843137,
              "rgb(47,23,57)"
             ],
             [
              0.18823529411764706,
              "rgb(71,28,72)"
             ],
             [
              0.25098039215686274,
              "rgb(97,30,82)"
             ],
             [
              0.3137254901960784,
              "rgb(123,30,89)"
             ],
             [
              0.3764705882352941,
              "rgb(150,27,91)"
             ],
             [
              0.4392156862745098,
              "rgb(177,22,88)"
             ],
             [
              0.5019607843137255,
              "rgb(203,26,79)"
             ],
             [
              0.5647058823529412,
              "rgb(223,47,67)"
             ],
             [
              0.6274509803921569,
              "rgb(236,76,61)"
             ],
             [
              0.6901960784313725,
              "rgb(242,107,73)"
             ],
             [
              0.7529411764705882,
              "rgb(244,135,95)"
             ],
             [
              0.8156862745098039,
              "rgb(245,162,122)"
             ],
             [
              0.8784313725490196,
              "rgb(246,188,153)"
             ],
             [
              0.9411764705882353,
              "rgb(247,212,187)"
             ],
             [
              1,
              "rgb(250,234,220)"
             ]
            ],
            "type": "heatmapgl"
           }
          ],
          "histogram": [
           {
            "marker": {
             "colorbar": {
              "outlinewidth": 0,
              "tickcolor": "rgb(36,36,36)",
              "ticklen": 8,
              "ticks": "outside",
              "tickwidth": 2
             }
            },
            "type": "histogram"
           }
          ],
          "histogram2d": [
           {
            "colorbar": {
             "outlinewidth": 0,
             "tickcolor": "rgb(36,36,36)",
             "ticklen": 8,
             "ticks": "outside",
             "tickwidth": 2
            },
            "colorscale": [
             [
              0,
              "rgb(2,4,25)"
             ],
             [
              0.06274509803921569,
              "rgb(24,15,41)"
             ],
             [
              0.12549019607843137,
              "rgb(47,23,57)"
             ],
             [
              0.18823529411764706,
              "rgb(71,28,72)"
             ],
             [
              0.25098039215686274,
              "rgb(97,30,82)"
             ],
             [
              0.3137254901960784,
              "rgb(123,30,89)"
             ],
             [
              0.3764705882352941,
              "rgb(150,27,91)"
             ],
             [
              0.4392156862745098,
              "rgb(177,22,88)"
             ],
             [
              0.5019607843137255,
              "rgb(203,26,79)"
             ],
             [
              0.5647058823529412,
              "rgb(223,47,67)"
             ],
             [
              0.6274509803921569,
              "rgb(236,76,61)"
             ],
             [
              0.6901960784313725,
              "rgb(242,107,73)"
             ],
             [
              0.7529411764705882,
              "rgb(244,135,95)"
             ],
             [
              0.8156862745098039,
              "rgb(245,162,122)"
             ],
             [
              0.8784313725490196,
              "rgb(246,188,153)"
             ],
             [
              0.9411764705882353,
              "rgb(247,212,187)"
             ],
             [
              1,
              "rgb(250,234,220)"
             ]
            ],
            "type": "histogram2d"
           }
          ],
          "histogram2dcontour": [
           {
            "colorbar": {
             "outlinewidth": 0,
             "tickcolor": "rgb(36,36,36)",
             "ticklen": 8,
             "ticks": "outside",
             "tickwidth": 2
            },
            "colorscale": [
             [
              0,
              "rgb(2,4,25)"
             ],
             [
              0.06274509803921569,
              "rgb(24,15,41)"
             ],
             [
              0.12549019607843137,
              "rgb(47,23,57)"
             ],
             [
              0.18823529411764706,
              "rgb(71,28,72)"
             ],
             [
              0.25098039215686274,
              "rgb(97,30,82)"
             ],
             [
              0.3137254901960784,
              "rgb(123,30,89)"
             ],
             [
              0.3764705882352941,
              "rgb(150,27,91)"
             ],
             [
              0.4392156862745098,
              "rgb(177,22,88)"
             ],
             [
              0.5019607843137255,
              "rgb(203,26,79)"
             ],
             [
              0.5647058823529412,
              "rgb(223,47,67)"
             ],
             [
              0.6274509803921569,
              "rgb(236,76,61)"
             ],
             [
              0.6901960784313725,
              "rgb(242,107,73)"
             ],
             [
              0.7529411764705882,
              "rgb(244,135,95)"
             ],
             [
              0.8156862745098039,
              "rgb(245,162,122)"
             ],
             [
              0.8784313725490196,
              "rgb(246,188,153)"
             ],
             [
              0.9411764705882353,
              "rgb(247,212,187)"
             ],
             [
              1,
              "rgb(250,234,220)"
             ]
            ],
            "type": "histogram2dcontour"
           }
          ],
          "mesh3d": [
           {
            "colorbar": {
             "outlinewidth": 0,
             "tickcolor": "rgb(36,36,36)",
             "ticklen": 8,
             "ticks": "outside",
             "tickwidth": 2
            },
            "type": "mesh3d"
           }
          ],
          "parcoords": [
           {
            "line": {
             "colorbar": {
              "outlinewidth": 0,
              "tickcolor": "rgb(36,36,36)",
              "ticklen": 8,
              "ticks": "outside",
              "tickwidth": 2
             }
            },
            "type": "parcoords"
           }
          ],
          "pie": [
           {
            "automargin": true,
            "type": "pie"
           }
          ],
          "scatter": [
           {
            "marker": {
             "colorbar": {
              "outlinewidth": 0,
              "tickcolor": "rgb(36,36,36)",
              "ticklen": 8,
              "ticks": "outside",
              "tickwidth": 2
             }
            },
            "type": "scatter"
           }
          ],
          "scatter3d": [
           {
            "line": {
             "colorbar": {
              "outlinewidth": 0,
              "tickcolor": "rgb(36,36,36)",
              "ticklen": 8,
              "ticks": "outside",
              "tickwidth": 2
             }
            },
            "marker": {
             "colorbar": {
              "outlinewidth": 0,
              "tickcolor": "rgb(36,36,36)",
              "ticklen": 8,
              "ticks": "outside",
              "tickwidth": 2
             }
            },
            "type": "scatter3d"
           }
          ],
          "scattercarpet": [
           {
            "marker": {
             "colorbar": {
              "outlinewidth": 0,
              "tickcolor": "rgb(36,36,36)",
              "ticklen": 8,
              "ticks": "outside",
              "tickwidth": 2
             }
            },
            "type": "scattercarpet"
           }
          ],
          "scattergeo": [
           {
            "marker": {
             "colorbar": {
              "outlinewidth": 0,
              "tickcolor": "rgb(36,36,36)",
              "ticklen": 8,
              "ticks": "outside",
              "tickwidth": 2
             }
            },
            "type": "scattergeo"
           }
          ],
          "scattergl": [
           {
            "marker": {
             "colorbar": {
              "outlinewidth": 0,
              "tickcolor": "rgb(36,36,36)",
              "ticklen": 8,
              "ticks": "outside",
              "tickwidth": 2
             }
            },
            "type": "scattergl"
           }
          ],
          "scattermapbox": [
           {
            "marker": {
             "colorbar": {
              "outlinewidth": 0,
              "tickcolor": "rgb(36,36,36)",
              "ticklen": 8,
              "ticks": "outside",
              "tickwidth": 2
             }
            },
            "type": "scattermapbox"
           }
          ],
          "scatterpolar": [
           {
            "marker": {
             "colorbar": {
              "outlinewidth": 0,
              "tickcolor": "rgb(36,36,36)",
              "ticklen": 8,
              "ticks": "outside",
              "tickwidth": 2
             }
            },
            "type": "scatterpolar"
           }
          ],
          "scatterpolargl": [
           {
            "marker": {
             "colorbar": {
              "outlinewidth": 0,
              "tickcolor": "rgb(36,36,36)",
              "ticklen": 8,
              "ticks": "outside",
              "tickwidth": 2
             }
            },
            "type": "scatterpolargl"
           }
          ],
          "scatterternary": [
           {
            "marker": {
             "colorbar": {
              "outlinewidth": 0,
              "tickcolor": "rgb(36,36,36)",
              "ticklen": 8,
              "ticks": "outside",
              "tickwidth": 2
             }
            },
            "type": "scatterternary"
           }
          ],
          "surface": [
           {
            "colorbar": {
             "outlinewidth": 0,
             "tickcolor": "rgb(36,36,36)",
             "ticklen": 8,
             "ticks": "outside",
             "tickwidth": 2
            },
            "colorscale": [
             [
              0,
              "rgb(2,4,25)"
             ],
             [
              0.06274509803921569,
              "rgb(24,15,41)"
             ],
             [
              0.12549019607843137,
              "rgb(47,23,57)"
             ],
             [
              0.18823529411764706,
              "rgb(71,28,72)"
             ],
             [
              0.25098039215686274,
              "rgb(97,30,82)"
             ],
             [
              0.3137254901960784,
              "rgb(123,30,89)"
             ],
             [
              0.3764705882352941,
              "rgb(150,27,91)"
             ],
             [
              0.4392156862745098,
              "rgb(177,22,88)"
             ],
             [
              0.5019607843137255,
              "rgb(203,26,79)"
             ],
             [
              0.5647058823529412,
              "rgb(223,47,67)"
             ],
             [
              0.6274509803921569,
              "rgb(236,76,61)"
             ],
             [
              0.6901960784313725,
              "rgb(242,107,73)"
             ],
             [
              0.7529411764705882,
              "rgb(244,135,95)"
             ],
             [
              0.8156862745098039,
              "rgb(245,162,122)"
             ],
             [
              0.8784313725490196,
              "rgb(246,188,153)"
             ],
             [
              0.9411764705882353,
              "rgb(247,212,187)"
             ],
             [
              1,
              "rgb(250,234,220)"
             ]
            ],
            "type": "surface"
           }
          ],
          "table": [
           {
            "cells": {
             "fill": {
              "color": "rgb(231,231,240)"
             },
             "line": {
              "color": "white"
             }
            },
            "header": {
             "fill": {
              "color": "rgb(183,183,191)"
             },
             "line": {
              "color": "white"
             }
            },
            "type": "table"
           }
          ]
         },
         "layout": {
          "annotationdefaults": {
           "arrowcolor": "rgb(67,103,167)"
          },
          "autotypenumbers": "strict",
          "coloraxis": {
           "colorbar": {
            "outlinewidth": 0,
            "tickcolor": "rgb(36,36,36)",
            "ticklen": 8,
            "ticks": "outside",
            "tickwidth": 2
           }
          },
          "colorscale": {
           "sequential": [
            [
             0,
             "rgb(2,4,25)"
            ],
            [
             0.06274509803921569,
             "rgb(24,15,41)"
            ],
            [
             0.12549019607843137,
             "rgb(47,23,57)"
            ],
            [
             0.18823529411764706,
             "rgb(71,28,72)"
            ],
            [
             0.25098039215686274,
             "rgb(97,30,82)"
            ],
            [
             0.3137254901960784,
             "rgb(123,30,89)"
            ],
            [
             0.3764705882352941,
             "rgb(150,27,91)"
            ],
            [
             0.4392156862745098,
             "rgb(177,22,88)"
            ],
            [
             0.5019607843137255,
             "rgb(203,26,79)"
            ],
            [
             0.5647058823529412,
             "rgb(223,47,67)"
            ],
            [
             0.6274509803921569,
             "rgb(236,76,61)"
            ],
            [
             0.6901960784313725,
             "rgb(242,107,73)"
            ],
            [
             0.7529411764705882,
             "rgb(244,135,95)"
            ],
            [
             0.8156862745098039,
             "rgb(245,162,122)"
            ],
            [
             0.8784313725490196,
             "rgb(246,188,153)"
            ],
            [
             0.9411764705882353,
             "rgb(247,212,187)"
            ],
            [
             1,
             "rgb(250,234,220)"
            ]
           ],
           "sequentialminus": [
            [
             0,
             "rgb(2,4,25)"
            ],
            [
             0.06274509803921569,
             "rgb(24,15,41)"
            ],
            [
             0.12549019607843137,
             "rgb(47,23,57)"
            ],
            [
             0.18823529411764706,
             "rgb(71,28,72)"
            ],
            [
             0.25098039215686274,
             "rgb(97,30,82)"
            ],
            [
             0.3137254901960784,
             "rgb(123,30,89)"
            ],
            [
             0.3764705882352941,
             "rgb(150,27,91)"
            ],
            [
             0.4392156862745098,
             "rgb(177,22,88)"
            ],
            [
             0.5019607843137255,
             "rgb(203,26,79)"
            ],
            [
             0.5647058823529412,
             "rgb(223,47,67)"
            ],
            [
             0.6274509803921569,
             "rgb(236,76,61)"
            ],
            [
             0.6901960784313725,
             "rgb(242,107,73)"
            ],
            [
             0.7529411764705882,
             "rgb(244,135,95)"
            ],
            [
             0.8156862745098039,
             "rgb(245,162,122)"
            ],
            [
             0.8784313725490196,
             "rgb(246,188,153)"
            ],
            [
             0.9411764705882353,
             "rgb(247,212,187)"
            ],
            [
             1,
             "rgb(250,234,220)"
            ]
           ]
          },
          "colorway": [
           "rgb(76,114,176)",
           "rgb(221,132,82)",
           "rgb(85,168,104)",
           "rgb(196,78,82)",
           "rgb(129,114,179)",
           "rgb(147,120,96)",
           "rgb(218,139,195)",
           "rgb(140,140,140)",
           "rgb(204,185,116)",
           "rgb(100,181,205)"
          ],
          "font": {
           "color": "rgb(36,36,36)"
          },
          "geo": {
           "bgcolor": "white",
           "lakecolor": "white",
           "landcolor": "rgb(234,234,242)",
           "showlakes": true,
           "showland": true,
           "subunitcolor": "white"
          },
          "hoverlabel": {
           "align": "left"
          },
          "hovermode": "closest",
          "paper_bgcolor": "white",
          "plot_bgcolor": "rgb(234,234,242)",
          "polar": {
           "angularaxis": {
            "gridcolor": "white",
            "linecolor": "white",
            "showgrid": true,
            "ticks": ""
           },
           "bgcolor": "rgb(234,234,242)",
           "radialaxis": {
            "gridcolor": "white",
            "linecolor": "white",
            "showgrid": true,
            "ticks": ""
           }
          },
          "scene": {
           "xaxis": {
            "backgroundcolor": "rgb(234,234,242)",
            "gridcolor": "white",
            "gridwidth": 2,
            "linecolor": "white",
            "showbackground": true,
            "showgrid": true,
            "ticks": "",
            "zerolinecolor": "white"
           },
           "yaxis": {
            "backgroundcolor": "rgb(234,234,242)",
            "gridcolor": "white",
            "gridwidth": 2,
            "linecolor": "white",
            "showbackground": true,
            "showgrid": true,
            "ticks": "",
            "zerolinecolor": "white"
           },
           "zaxis": {
            "backgroundcolor": "rgb(234,234,242)",
            "gridcolor": "white",
            "gridwidth": 2,
            "linecolor": "white",
            "showbackground": true,
            "showgrid": true,
            "ticks": "",
            "zerolinecolor": "white"
           }
          },
          "shapedefaults": {
           "fillcolor": "rgb(67,103,167)",
           "line": {
            "width": 0
           },
           "opacity": 0.5
          },
          "ternary": {
           "aaxis": {
            "gridcolor": "white",
            "linecolor": "white",
            "showgrid": true,
            "ticks": ""
           },
           "baxis": {
            "gridcolor": "white",
            "linecolor": "white",
            "showgrid": true,
            "ticks": ""
           },
           "bgcolor": "rgb(234,234,242)",
           "caxis": {
            "gridcolor": "white",
            "linecolor": "white",
            "showgrid": true,
            "ticks": ""
           }
          },
          "xaxis": {
           "automargin": true,
           "gridcolor": "white",
           "linecolor": "white",
           "showgrid": true,
           "ticks": "",
           "title": {
            "standoff": 15
           },
           "zerolinecolor": "white"
          },
          "yaxis": {
           "automargin": true,
           "gridcolor": "white",
           "linecolor": "white",
           "showgrid": true,
           "ticks": "",
           "title": {
            "standoff": 15
           },
           "zerolinecolor": "white"
          }
         }
        },
        "title": {
         "text": "p = 2"
        },
        "width": 800,
        "xaxis": {
         "anchor": "y",
         "domain": [
          0,
          1
         ],
         "title": {
          "text": "x"
         }
        },
        "yaxis": {
         "anchor": "x",
         "domain": [
          0,
          1
         ],
         "title": {
          "text": "y"
         }
        }
       }
      }
     },
     "metadata": {}
    },
    {
     "output_type": "stream",
     "name": "stdout",
     "text": [
      "[[ 1.00000000e+00 -1.50000000e+01  2.25000000e+02 -3.37500000e+03]\n [ 1.00000000e+00 -1.47474747e+01  2.17488011e+02 -3.20739896e+03]\n [ 1.00000000e+00 -1.44949495e+01  2.10103561e+02 -3.04544050e+03]\n [ 1.00000000e+00 -1.42424242e+01  2.02846648e+02 -2.88902802e+03]\n [ 1.00000000e+00 -1.39898990e+01  1.95717274e+02 -2.73806489e+03]\n [ 1.00000000e+00 -1.37373737e+01  1.88715437e+02 -2.59245449e+03]\n [ 1.00000000e+00 -1.34848485e+01  1.81841139e+02 -2.45210020e+03]\n [ 1.00000000e+00 -1.32323232e+01  1.75094378e+02 -2.31690541e+03]\n [ 1.00000000e+00 -1.29797980e+01  1.68475156e+02 -2.18677348e+03]\n [ 1.00000000e+00 -1.27272727e+01  1.61983471e+02 -2.06160781e+03]\n [ 1.00000000e+00 -1.24747475e+01  1.55619325e+02 -1.94131178e+03]\n [ 1.00000000e+00 -1.22222222e+01  1.49382716e+02 -1.82578875e+03]\n [ 1.00000000e+00 -1.19696970e+01  1.43273646e+02 -1.71494212e+03]\n [ 1.00000000e+00 -1.17171717e+01  1.37292113e+02 -1.60867526e+03]\n [ 1.00000000e+00 -1.14646465e+01  1.31438119e+02 -1.50689156e+03]\n [ 1.00000000e+00 -1.12121212e+01  1.25711662e+02 -1.40949439e+03]\n [ 1.00000000e+00 -1.09595960e+01  1.20112744e+02 -1.31638714e+03]\n [ 1.00000000e+00 -1.07070707e+01  1.14641363e+02 -1.22747318e+03]\n [ 1.00000000e+00 -1.04545455e+01  1.09297521e+02 -1.14265590e+03]\n [ 1.00000000e+00 -1.02020202e+01  1.04081216e+02 -1.06183867e+03]\n [ 1.00000000e+00 -9.94949495e+00  9.89924498e+01 -9.84924879e+02]\n [ 1.00000000e+00 -9.69696970e+00  9.40312213e+01 -9.11817904e+02]\n [ 1.00000000e+00 -9.44444444e+00  8.91975309e+01 -8.42421125e+02]\n [ 1.00000000e+00 -9.19191919e+00  8.44913784e+01 -7.76637923e+02]\n [ 1.00000000e+00 -8.93939394e+00  7.99127640e+01 -7.14371678e+02]\n [ 1.00000000e+00 -8.68686869e+00  7.54616876e+01 -6.55525771e+02]\n [ 1.00000000e+00 -8.43434343e+00  7.11381492e+01 -6.00003581e+02]\n [ 1.00000000e+00 -8.18181818e+00  6.69421488e+01 -5.47708490e+02]\n [ 1.00000000e+00 -7.92929293e+00  6.28736864e+01 -4.98543877e+02]\n [ 1.00000000e+00 -7.67676768e+00  5.89327620e+01 -4.52413122e+02]\n [ 1.00000000e+00 -7.42424242e+00  5.51193756e+01 -4.09219607e+02]\n [ 1.00000000e+00 -7.17171717e+00  5.14335272e+01 -3.68866710e+02]\n [ 1.00000000e+00 -6.91919192e+00  4.78752168e+01 -3.31257813e+02]\n [ 1.00000000e+00 -6.66666667e+00  4.44444444e+01 -2.96296296e+02]\n [ 1.00000000e+00 -6.41414141e+00  4.11412101e+01 -2.63885539e+02]\n [ 1.00000000e+00 -6.16161616e+00  3.79655137e+01 -2.33928923e+02]\n [ 1.00000000e+00 -5.90909091e+00  3.49173554e+01 -2.06329827e+02]\n [ 1.00000000e+00 -5.65656566e+00  3.19967350e+01 -1.80991632e+02]\n [ 1.00000000e+00 -5.40404040e+00  2.92036527e+01 -1.57817719e+02]\n [ 1.00000000e+00 -5.15151515e+00  2.65381084e+01 -1.36711467e+02]\n [ 1.00000000e+00 -4.89898990e+00  2.40001020e+01 -1.17576257e+02]\n [ 1.00000000e+00 -4.64646465e+00  2.15896337e+01 -1.00315470e+02]\n [ 1.00000000e+00 -4.39393939e+00  1.93067034e+01 -8.48324846e+01]\n [ 1.00000000e+00 -4.14141414e+00  1.71513111e+01 -7.10306823e+01]\n [ 1.00000000e+00 -3.88888889e+00  1.51234568e+01 -5.88134431e+01]\n [ 1.00000000e+00 -3.63636364e+00  1.32231405e+01 -4.80841473e+01]\n [ 1.00000000e+00 -3.38383838e+00  1.14503622e+01 -3.87461751e+01]\n [ 1.00000000e+00 -3.13131313e+00  9.80512193e+00 -3.07029070e+01]\n [ 1.00000000e+00 -2.87878788e+00  8.28741965e+00 -2.38577232e+01]\n [ 1.00000000e+00 -2.62626263e+00  6.89725538e+00 -1.81140040e+01]\n [ 1.00000000e+00 -2.37373737e+00  5.63462912e+00 -1.33751297e+01]\n [ 1.00000000e+00 -2.12121212e+00  4.49954086e+00 -9.54448062e+00]\n [ 1.00000000e+00 -1.86868687e+00  3.49199061e+00 -6.52543700e+00]\n [ 1.00000000e+00 -1.61616162e+00  2.61197837e+00 -4.22137918e+00]\n [ 1.00000000e+00 -1.36363636e+00  1.85950413e+00 -2.53568745e+00]\n [ 1.00000000e+00 -1.11111111e+00  1.23456790e+00 -1.37174211e+00]\n [ 1.00000000e+00 -8.58585859e-01  7.37169677e-01 -6.32923460e-01]\n [ 1.00000000e+00 -6.06060606e-01  3.67309458e-01 -2.22611793e-01]\n [ 1.00000000e+00 -3.53535354e-01  1.24987246e-01 -4.41874103e-02]\n [ 1.00000000e+00 -1.01010101e-01  1.02030405e-02 -1.03061015e-03]\n [ 1.00000000e+00  1.51515152e-01  2.29568411e-02  3.47830926e-03]\n [ 1.00000000e+00  4.04040404e-01  1.63248648e-01  6.59590497e-02]\n [ 1.00000000e+00  6.56565657e-01  4.31078461e-01  2.83031313e-01]\n [ 1.00000000e+00  9.09090909e-01  8.26446281e-01  7.51314801e-01]\n [ 1.00000000e+00  1.16161616e+00  1.34935211e+00  1.56742922e+00]\n [ 1.00000000e+00  1.41414141e+00  1.99979594e+00  2.82799426e+00]\n [ 1.00000000e+00  1.66666667e+00  2.77777778e+00  4.62962963e+00]\n [ 1.00000000e+00  1.91919192e+00  3.68329762e+00  7.06895503e+00]\n [ 1.00000000e+00  2.17171717e+00  4.71635547e+00  1.02425902e+01]\n [ 1.00000000e+00  2.42424242e+00  5.87695133e+00  1.42471547e+01]\n [ 1.00000000e+00  2.67676768e+00  7.16508520e+00  1.91792685e+01]\n [ 1.00000000e+00  2.92929293e+00  8.58075707e+00  2.51355510e+01]\n [ 1.00000000e+00  3.18181818e+00  1.01239669e+01  3.22126221e+01]\n [ 1.00000000e+00  3.43434343e+00  1.17947148e+01  4.05071014e+01]\n [ 1.00000000e+00  3.68686869e+00  1.35930007e+01  5.01156087e+01]\n [ 1.00000000e+00  3.93939394e+00  1.55188246e+01  6.11347636e+01]\n [ 1.00000000e+00  4.19191919e+00  1.75721865e+01  7.36611859e+01]\n [ 1.00000000e+00  4.44444444e+00  1.97530864e+01  8.77914952e+01]\n [ 1.00000000e+00  4.69696970e+00  2.20615243e+01  1.03622311e+02]\n [ 1.00000000e+00  4.94949495e+00  2.44975003e+01  1.21250254e+02]\n [ 1.00000000e+00  5.20202020e+00  2.70610142e+01  1.40771942e+02]\n [ 1.00000000e+00  5.45454545e+00  2.97520661e+01  1.62283997e+02]\n [ 1.00000000e+00  5.70707071e+00  3.25706561e+01  1.85883037e+02]\n [ 1.00000000e+00  5.95959596e+00  3.55167840e+01  2.11665682e+02]\n [ 1.00000000e+00  6.21212121e+00  3.85904500e+01  2.39728553e+02]\n [ 1.00000000e+00  6.46464646e+00  4.17916539e+01  2.70168268e+02]\n [ 1.00000000e+00  6.71717172e+00  4.51203959e+01  3.03081447e+02]\n [ 1.00000000e+00  6.96969697e+00  4.85766758e+01  3.38564710e+02]\n [ 1.00000000e+00  7.22222222e+00  5.21604938e+01  3.76714678e+02]\n [ 1.00000000e+00  7.47474747e+00  5.58718498e+01  4.17627968e+02]\n [ 1.00000000e+00  7.72727273e+00  5.97107438e+01  4.61401202e+02]\n [ 1.00000000e+00  7.97979798e+00  6.36771758e+01  5.08130999e+02]\n [ 1.00000000e+00  8.23232323e+00  6.77711458e+01  5.57913978e+02]\n [ 1.00000000e+00  8.48484848e+00  7.19926538e+01  6.10846760e+02]\n [ 1.00000000e+00  8.73737374e+00  7.63416998e+01  6.67025963e+02]\n [ 1.00000000e+00  8.98989899e+00  8.08182838e+01  7.26548208e+02]\n [ 1.00000000e+00  9.24242424e+00  8.54224059e+01  7.89510115e+02]\n [ 1.00000000e+00  9.49494949e+00  9.01540659e+01  8.56008303e+02]\n [ 1.00000000e+00  9.74747475e+00  9.50132640e+01  9.26139391e+02]\n [ 1.00000000e+00  1.00000000e+01  1.00000000e+02  1.00000000e+03]]\n"
     ]
    },
    {
     "output_type": "display_data",
     "data": {
      "application/vnd.plotly.v1+json": {
       "config": {
        "plotlyServerURL": "https://plot.ly"
       },
       "data": [
        {
         "hoverinfo": "skip",
         "hovertemplate": "x=%{x}<br>y=%{y}<extra></extra>",
         "legendgroup": "",
         "marker": {
          "color": "red",
          "line": {
           "color": "black",
           "width": 2
          },
          "size": 8,
          "symbol": "circle"
         },
         "mode": "markers",
         "name": "",
         "orientation": "v",
         "showlegend": false,
         "type": "scatter",
         "x": [
          -15,
          -14.747474747474747,
          -14.494949494949495,
          -14.242424242424242,
          -13.98989898989899,
          -13.737373737373737,
          -13.484848484848484,
          -13.232323232323232,
          -12.97979797979798,
          -12.727272727272727,
          -12.474747474747474,
          -12.222222222222221,
          -11.969696969696969,
          -11.717171717171716,
          -11.464646464646464,
          -11.212121212121211,
          -10.959595959595958,
          -10.707070707070706,
          -10.454545454545453,
          -10.2020202020202,
          -9.949494949494948,
          -9.696969696969695,
          -9.444444444444443,
          -9.19191919191919,
          -8.93939393939394,
          -8.686868686868687,
          -8.434343434343434,
          -8.181818181818182,
          -7.929292929292929,
          -7.6767676767676765,
          -7.424242424242424,
          -7.171717171717171,
          -6.919191919191919,
          -6.666666666666666,
          -6.4141414141414135,
          -6.161616161616161,
          -5.909090909090908,
          -5.656565656565656,
          -5.404040404040403,
          -5.1515151515151505,
          -4.898989898989898,
          -4.646464646464645,
          -4.393939393939393,
          -4.14141414141414,
          -3.8888888888888875,
          -3.636363636363635,
          -3.3838383838383823,
          -3.1313131313131297,
          -2.878787878787879,
          -2.6262626262626263,
          -2.3737373737373737,
          -2.121212121212121,
          -1.8686868686868685,
          -1.616161616161616,
          -1.3636363636363633,
          -1.1111111111111107,
          -0.8585858585858581,
          -0.6060606060606055,
          -0.3535353535353529,
          -0.10101010101010033,
          0.15151515151515227,
          0.40404040404040487,
          0.6565656565656575,
          0.9090909090909101,
          1.1616161616161627,
          1.4141414141414153,
          1.6666666666666679,
          1.9191919191919204,
          2.171717171717173,
          2.4242424242424256,
          2.6767676767676782,
          2.929292929292931,
          3.1818181818181834,
          3.434343434343436,
          3.6868686868686886,
          3.9393939393939412,
          4.191919191919194,
          4.444444444444446,
          4.696969696969699,
          4.949494949494952,
          5.202020202020204,
          5.454545454545457,
          5.707070707070709,
          5.959595959595962,
          6.212121212121215,
          6.464646464646467,
          6.71717171717172,
          6.969696969696972,
          7.222222222222225,
          7.474747474747478,
          7.72727272727273,
          7.979797979797983,
          8.232323232323235,
          8.484848484848488,
          8.73737373737374,
          8.989898989898993,
          9.242424242424242,
          9.494949494949495,
          9.747474747474747,
          10
         ],
         "xaxis": "x",
         "y": [
          78.8145264368132,
          76.57044197789587,
          70.71559763799429,
          64.98242118444067,
          60.370093944052115,
          65.3427399586452,
          61.61156788395709,
          54.159247074743384,
          58.003581512239464,
          58.3834879095741,
          48.33128578835695,
          36.795974355843946,
          47.0866395724152,
          44.707615558827655,
          35.45226293095519,
          37.09552798829185,
          42.57067476156927,
          30.528245748188354,
          40.415136228881224,
          29.05062722816826,
          28.33758137203389,
          36.28738010218093,
          20.652213387430965,
          26.807644591640848,
          18.164942561966704,
          20.033392459458913,
          17.660222217380895,
          18.282461990297072,
          19.49881119963429,
          11.674908941600714,
          12.573047648824778,
          9.619463523387886,
          15.65352303049416,
          13.972213091561857,
          16.612273532730647,
          7.309122023985634,
          9.49300323493813,
          12.979187122866433,
          12.257189707075586,
          5.971458400976415,
          9.8259333842476,
          4.651954537633046,
          5.199575042174219,
          5.772809120976745,
          7.62186870652512,
          3.103457491597879,
          9.16553203739803,
          3.9524184687017723,
          2.1313608348936883,
          7.337828209406968,
          4.113500561421851,
          8.677871546454561,
          5.1104962781614836,
          15.909683590566768,
          7.277602132779751,
          9.322184880051765,
          14.94174351810746,
          3.9064409293766484,
          17.28984052489481,
          10.620963769116443,
          15.913051080291453,
          11.81360694188862,
          9.773092742100097,
          16.49480186168052,
          17.0008304335297,
          8.882807212985732,
          20.970693279156148,
          14.210734303365376,
          21.276883472494152,
          20.36286777557737,
          17.105467148917633,
          22.046274741345126,
          22.179681727674854,
          23.28883766257723,
          32.93056811313294,
          36.0481138345626,
          34.0362534113516,
          33.383138880805774,
          25.123437456387563,
          33.50118312435098,
          40.22941412798667,
          41.09572522747814,
          43.65965170427655,
          46.970072422070174,
          46.80935287333976,
          53.003991219261195,
          54.79572060002411,
          59.21494030077444,
          56.24193074865577,
          61.29686359911075,
          64.21716354422281,
          68.61993315578066,
          70.11748307935183,
          71.05469017203949,
          73.9101430107204,
          75.28309256555329,
          77.97079594339958,
          85.97823411409078,
          86.96671875950356,
          94.5060568412618
         ],
         "yaxis": "y"
        },
        {
         "line": {
          "color": "green"
         },
         "mode": "lines",
         "name": "Aproximation",
         "type": "scatter",
         "x": [
          -15,
          -14.747474747474747,
          -14.494949494949495,
          -14.242424242424242,
          -13.98989898989899,
          -13.737373737373737,
          -13.484848484848484,
          -13.232323232323232,
          -12.97979797979798,
          -12.727272727272727,
          -12.474747474747474,
          -12.222222222222221,
          -11.969696969696969,
          -11.717171717171716,
          -11.464646464646464,
          -11.212121212121211,
          -10.959595959595958,
          -10.707070707070706,
          -10.454545454545453,
          -10.2020202020202,
          -9.949494949494948,
          -9.696969696969695,
          -9.444444444444443,
          -9.19191919191919,
          -8.93939393939394,
          -8.686868686868687,
          -8.434343434343434,
          -8.181818181818182,
          -7.929292929292929,
          -7.6767676767676765,
          -7.424242424242424,
          -7.171717171717171,
          -6.919191919191919,
          -6.666666666666666,
          -6.4141414141414135,
          -6.161616161616161,
          -5.909090909090908,
          -5.656565656565656,
          -5.404040404040403,
          -5.1515151515151505,
          -4.898989898989898,
          -4.646464646464645,
          -4.393939393939393,
          -4.14141414141414,
          -3.8888888888888875,
          -3.636363636363635,
          -3.3838383838383823,
          -3.1313131313131297,
          -2.878787878787879,
          -2.6262626262626263,
          -2.3737373737373737,
          -2.121212121212121,
          -1.8686868686868685,
          -1.616161616161616,
          -1.3636363636363633,
          -1.1111111111111107,
          -0.8585858585858581,
          -0.6060606060606055,
          -0.3535353535353529,
          -0.10101010101010033,
          0.15151515151515227,
          0.40404040404040487,
          0.6565656565656575,
          0.9090909090909101,
          1.1616161616161627,
          1.4141414141414153,
          1.6666666666666679,
          1.9191919191919204,
          2.171717171717173,
          2.4242424242424256,
          2.6767676767676782,
          2.929292929292931,
          3.1818181818181834,
          3.434343434343436,
          3.6868686868686886,
          3.9393939393939412,
          4.191919191919194,
          4.444444444444446,
          4.696969696969699,
          4.949494949494952,
          5.202020202020204,
          5.454545454545457,
          5.707070707070709,
          5.959595959595962,
          6.212121212121215,
          6.464646464646467,
          6.71717171717172,
          6.969696969696972,
          7.222222222222225,
          7.474747474747478,
          7.72727272727273,
          7.979797979797983,
          8.232323232323235,
          8.484848484848488,
          8.73737373737374,
          8.989898989898993,
          9.242424242424242,
          9.494949494949495,
          9.747474747474747,
          10
         ],
         "y": [
          76.47615333345388,
          73.51667674335586,
          70.62074661281457,
          67.78835411203261,
          65.01949041121267,
          62.31414668055742,
          59.67231409026949,
          57.093983810551556,
          54.579147011606274,
          52.12779486363631,
          49.73991853684431,
          47.41550920143295,
          45.15455802760485,
          42.95705618556273,
          40.8229948455092,
          38.75236517764692,
          36.745158352178585,
          34.80136553930682,
          32.920977909234296,
          31.10398663216369,
          29.350382878297637,
          27.660157817838797,
          26.03330262098984,
          24.469808457953423,
          22.969666498932202,
          21.532867914128836,
          20.15940387374599,
          18.849265547986302,
          17.602444107052456,
          16.4189307211471,
          15.29871656047289,
          14.241792795232495,
          13.248150595628566,
          12.317781131863764,
          11.45067557414075,
          10.646825092662187,
          9.906220857630721,
          9.228854039249022,
          8.614715807719744,
          8.063797333245548,
          7.576089786029096,
          7.151584336273043,
          6.790272154180048,
          6.492144409952772,
          6.257192273793873,
          6.08540691590601,
          5.976779506491841,
          5.931301215754026,
          5.948963213895226,
          6.029756671118098,
          6.173672757625299,
          6.380702643619491,
          6.650837499303336,
          6.9840684948794856,
          7.380386800550602,
          7.8397835865193475,
          8.362250022988379,
          8.947777280160352,
          9.596356528237934,
          10.307978937423773,
          11.082635677920535,
          11.92031791993088,
          12.821016833657463,
          13.784723589302946,
          14.811429357069986,
          15.90112530716124,
          17.053802609779375,
          18.269452435127043,
          19.548065953406905,
          20.88963433482162,
          22.294148749573846,
          23.761600367866244,
          25.291980359901473,
          26.88527989588219,
          28.541490146011057,
          30.26060228049073,
          32.042607469523865,
          33.88749688331313,
          35.79526169206118,
          37.76589306597067,
          39.79938217524427,
          41.895720190084624,
          44.0548982806944,
          46.27690761727626,
          48.56173937003285,
          50.909384709166844,
          53.3198348048809,
          55.79308082737766,
          58.329113946859806,
          60.92792533352997,
          63.58950615759084,
          66.31384758924506,
          69.10094079869529,
          71.95077695614418,
          74.86334723179442,
          77.83864279584864,
          80.87665481850945,
          83.97737446997962,
          87.14079292046176,
          90.3669013401585
         ]
        },
        {
         "line": {
          "color": "royalblue",
          "dash": "dash"
         },
         "mode": "lines",
         "name": "Fg(x)",
         "type": "scatter",
         "x": [
          -15,
          -14.747474747474747,
          -14.494949494949495,
          -14.242424242424242,
          -13.98989898989899,
          -13.737373737373737,
          -13.484848484848484,
          -13.232323232323232,
          -12.97979797979798,
          -12.727272727272727,
          -12.474747474747474,
          -12.222222222222221,
          -11.969696969696969,
          -11.717171717171716,
          -11.464646464646464,
          -11.212121212121211,
          -10.959595959595958,
          -10.707070707070706,
          -10.454545454545453,
          -10.2020202020202,
          -9.949494949494948,
          -9.696969696969695,
          -9.444444444444443,
          -9.19191919191919,
          -8.93939393939394,
          -8.686868686868687,
          -8.434343434343434,
          -8.181818181818182,
          -7.929292929292929,
          -7.6767676767676765,
          -7.424242424242424,
          -7.171717171717171,
          -6.919191919191919,
          -6.666666666666666,
          -6.4141414141414135,
          -6.161616161616161,
          -5.909090909090908,
          -5.656565656565656,
          -5.404040404040403,
          -5.1515151515151505,
          -4.898989898989898,
          -4.646464646464645,
          -4.393939393939393,
          -4.14141414141414,
          -3.8888888888888875,
          -3.636363636363635,
          -3.3838383838383823,
          -3.1313131313131297,
          -2.878787878787879,
          -2.6262626262626263,
          -2.3737373737373737,
          -2.121212121212121,
          -1.8686868686868685,
          -1.616161616161616,
          -1.3636363636363633,
          -1.1111111111111107,
          -0.8585858585858581,
          -0.6060606060606055,
          -0.3535353535353529,
          -0.10101010101010033,
          0.15151515151515227,
          0.40404040404040487,
          0.6565656565656575,
          0.9090909090909101,
          1.1616161616161627,
          1.4141414141414153,
          1.6666666666666679,
          1.9191919191919204,
          2.171717171717173,
          2.4242424242424256,
          2.6767676767676782,
          2.929292929292931,
          3.1818181818181834,
          3.434343434343436,
          3.6868686868686886,
          3.9393939393939412,
          4.191919191919194,
          4.444444444444446,
          4.696969696969699,
          4.949494949494952,
          5.202020202020204,
          5.454545454545457,
          5.707070707070709,
          5.959595959595962,
          6.212121212121215,
          6.464646464646467,
          6.71717171717172,
          6.969696969696972,
          7.222222222222225,
          7.474747474747478,
          7.72727272727273,
          7.979797979797983,
          8.232323232323235,
          8.484848484848488,
          8.73737373737374,
          8.989898989898993,
          9.242424242424242,
          9.494949494949495,
          9.747474747474747,
          10
         ],
         "y": [
          77.5,
          74.50158147127843,
          71.56693194571983,
          68.69605142332415,
          65.88893990409142,
          63.14559738802162,
          60.466023875114786,
          57.85021936537087,
          55.29818385878991,
          52.8099173553719,
          50.38541985511682,
          48.02469135802469,
          45.72773186409549,
          43.49454137332925,
          41.32511988572594,
          39.21946740128558,
          37.17758392000815,
          35.199469441893676,
          33.28512396694214,
          31.434547495153545,
          29.6477400265279,
          27.924701561065184,
          26.265432098765423,
          24.6699316396286,
          23.138200183654725,
          21.670237730843787,
          20.266044281195796,
          18.925619834710744,
          17.64896439138863,
          16.436077951229464,
          15.28696051423324,
          14.201612080399954,
          13.180032649729615,
          12.222222222222218,
          11.328180797877764,
          10.497908376696252,
          9.731404958677683,
          9.028670543822054,
          8.38970513212937,
          7.81450872359963,
          7.303081318232831,
          6.855422916028974,
          6.47153351698806,
          6.151413121110089,
          5.895061728395061,
          5.702479338842974,
          5.573665952453831,
          5.508621569227629,
          5.507346189164371,
          5.569839812264055,
          5.696102438526681,
          5.88613406795225,
          6.139934700540762,
          6.4575043362922155,
          6.838842975206612,
          7.283950617283951,
          7.792827262524233,
          8.365472910927458,
          9.001887562493625,
          9.702071217222734,
          10.466023875114786,
          11.293745536169782,
          12.185236200387719,
          13.1404958677686,
          14.159524538312422,
          15.242322212019186,
          16.388888888888893,
          17.599224568921546,
          18.873329252117138,
          20.211202938475672,
          21.612845627997153,
          23.078257320681573,
          24.607438016528935,
          26.200387715539243,
          27.85710641771249,
          29.57759412304868,
          31.361850831547812,
          33.20987654320989,
          35.12167125803491,
          37.097234976022875,
          39.136567697173774,
          41.23966942148762,
          43.40654014896441,
          45.63717987960415,
          47.93158861340682,
          50.28976635037243,
          52.71171309050099,
          55.1974288337925,
          57.74691358024694,
          60.360167329864325,
          63.037190082644656,
          65.77798183858793,
          68.58254259769414,
          71.4508723599633,
          74.3829711253954,
          77.37883889399045,
          80.4384756657484,
          83.56188144066931,
          86.7490562187532,
          90
         ]
        }
       ],
       "layout": {
        "height": 700,
        "legend": {
         "tracegroupgap": 0
        },
        "template": {
         "data": {
          "bar": [
           {
            "error_x": {
             "color": "rgb(36,36,36)"
            },
            "error_y": {
             "color": "rgb(36,36,36)"
            },
            "marker": {
             "line": {
              "color": "rgb(234,234,242)",
              "width": 0.5
             }
            },
            "type": "bar"
           }
          ],
          "barpolar": [
           {
            "marker": {
             "line": {
              "color": "rgb(234,234,242)",
              "width": 0.5
             }
            },
            "type": "barpolar"
           }
          ],
          "carpet": [
           {
            "aaxis": {
             "endlinecolor": "rgb(36,36,36)",
             "gridcolor": "white",
             "linecolor": "white",
             "minorgridcolor": "white",
             "startlinecolor": "rgb(36,36,36)"
            },
            "baxis": {
             "endlinecolor": "rgb(36,36,36)",
             "gridcolor": "white",
             "linecolor": "white",
             "minorgridcolor": "white",
             "startlinecolor": "rgb(36,36,36)"
            },
            "type": "carpet"
           }
          ],
          "choropleth": [
           {
            "colorbar": {
             "outlinewidth": 0,
             "tickcolor": "rgb(36,36,36)",
             "ticklen": 8,
             "ticks": "outside",
             "tickwidth": 2
            },
            "type": "choropleth"
           }
          ],
          "contour": [
           {
            "colorbar": {
             "outlinewidth": 0,
             "tickcolor": "rgb(36,36,36)",
             "ticklen": 8,
             "ticks": "outside",
             "tickwidth": 2
            },
            "colorscale": [
             [
              0,
              "rgb(2,4,25)"
             ],
             [
              0.06274509803921569,
              "rgb(24,15,41)"
             ],
             [
              0.12549019607843137,
              "rgb(47,23,57)"
             ],
             [
              0.18823529411764706,
              "rgb(71,28,72)"
             ],
             [
              0.25098039215686274,
              "rgb(97,30,82)"
             ],
             [
              0.3137254901960784,
              "rgb(123,30,89)"
             ],
             [
              0.3764705882352941,
              "rgb(150,27,91)"
             ],
             [
              0.4392156862745098,
              "rgb(177,22,88)"
             ],
             [
              0.5019607843137255,
              "rgb(203,26,79)"
             ],
             [
              0.5647058823529412,
              "rgb(223,47,67)"
             ],
             [
              0.6274509803921569,
              "rgb(236,76,61)"
             ],
             [
              0.6901960784313725,
              "rgb(242,107,73)"
             ],
             [
              0.7529411764705882,
              "rgb(244,135,95)"
             ],
             [
              0.8156862745098039,
              "rgb(245,162,122)"
             ],
             [
              0.8784313725490196,
              "rgb(246,188,153)"
             ],
             [
              0.9411764705882353,
              "rgb(247,212,187)"
             ],
             [
              1,
              "rgb(250,234,220)"
             ]
            ],
            "type": "contour"
           }
          ],
          "contourcarpet": [
           {
            "colorbar": {
             "outlinewidth": 0,
             "tickcolor": "rgb(36,36,36)",
             "ticklen": 8,
             "ticks": "outside",
             "tickwidth": 2
            },
            "type": "contourcarpet"
           }
          ],
          "heatmap": [
           {
            "colorbar": {
             "outlinewidth": 0,
             "tickcolor": "rgb(36,36,36)",
             "ticklen": 8,
             "ticks": "outside",
             "tickwidth": 2
            },
            "colorscale": [
             [
              0,
              "rgb(2,4,25)"
             ],
             [
              0.06274509803921569,
              "rgb(24,15,41)"
             ],
             [
              0.12549019607843137,
              "rgb(47,23,57)"
             ],
             [
              0.18823529411764706,
              "rgb(71,28,72)"
             ],
             [
              0.25098039215686274,
              "rgb(97,30,82)"
             ],
             [
              0.3137254901960784,
              "rgb(123,30,89)"
             ],
             [
              0.3764705882352941,
              "rgb(150,27,91)"
             ],
             [
              0.4392156862745098,
              "rgb(177,22,88)"
             ],
             [
              0.5019607843137255,
              "rgb(203,26,79)"
             ],
             [
              0.5647058823529412,
              "rgb(223,47,67)"
             ],
             [
              0.6274509803921569,
              "rgb(236,76,61)"
             ],
             [
              0.6901960784313725,
              "rgb(242,107,73)"
             ],
             [
              0.7529411764705882,
              "rgb(244,135,95)"
             ],
             [
              0.8156862745098039,
              "rgb(245,162,122)"
             ],
             [
              0.8784313725490196,
              "rgb(246,188,153)"
             ],
             [
              0.9411764705882353,
              "rgb(247,212,187)"
             ],
             [
              1,
              "rgb(250,234,220)"
             ]
            ],
            "type": "heatmap"
           }
          ],
          "heatmapgl": [
           {
            "colorbar": {
             "outlinewidth": 0,
             "tickcolor": "rgb(36,36,36)",
             "ticklen": 8,
             "ticks": "outside",
             "tickwidth": 2
            },
            "colorscale": [
             [
              0,
              "rgb(2,4,25)"
             ],
             [
              0.06274509803921569,
              "rgb(24,15,41)"
             ],
             [
              0.12549019607843137,
              "rgb(47,23,57)"
             ],
             [
              0.18823529411764706,
              "rgb(71,28,72)"
             ],
             [
              0.25098039215686274,
              "rgb(97,30,82)"
             ],
             [
              0.3137254901960784,
              "rgb(123,30,89)"
             ],
             [
              0.3764705882352941,
              "rgb(150,27,91)"
             ],
             [
              0.4392156862745098,
              "rgb(177,22,88)"
             ],
             [
              0.5019607843137255,
              "rgb(203,26,79)"
             ],
             [
              0.5647058823529412,
              "rgb(223,47,67)"
             ],
             [
              0.6274509803921569,
              "rgb(236,76,61)"
             ],
             [
              0.6901960784313725,
              "rgb(242,107,73)"
             ],
             [
              0.7529411764705882,
              "rgb(244,135,95)"
             ],
             [
              0.8156862745098039,
              "rgb(245,162,122)"
             ],
             [
              0.8784313725490196,
              "rgb(246,188,153)"
             ],
             [
              0.9411764705882353,
              "rgb(247,212,187)"
             ],
             [
              1,
              "rgb(250,234,220)"
             ]
            ],
            "type": "heatmapgl"
           }
          ],
          "histogram": [
           {
            "marker": {
             "colorbar": {
              "outlinewidth": 0,
              "tickcolor": "rgb(36,36,36)",
              "ticklen": 8,
              "ticks": "outside",
              "tickwidth": 2
             }
            },
            "type": "histogram"
           }
          ],
          "histogram2d": [
           {
            "colorbar": {
             "outlinewidth": 0,
             "tickcolor": "rgb(36,36,36)",
             "ticklen": 8,
             "ticks": "outside",
             "tickwidth": 2
            },
            "colorscale": [
             [
              0,
              "rgb(2,4,25)"
             ],
             [
              0.06274509803921569,
              "rgb(24,15,41)"
             ],
             [
              0.12549019607843137,
              "rgb(47,23,57)"
             ],
             [
              0.18823529411764706,
              "rgb(71,28,72)"
             ],
             [
              0.25098039215686274,
              "rgb(97,30,82)"
             ],
             [
              0.3137254901960784,
              "rgb(123,30,89)"
             ],
             [
              0.3764705882352941,
              "rgb(150,27,91)"
             ],
             [
              0.4392156862745098,
              "rgb(177,22,88)"
             ],
             [
              0.5019607843137255,
              "rgb(203,26,79)"
             ],
             [
              0.5647058823529412,
              "rgb(223,47,67)"
             ],
             [
              0.6274509803921569,
              "rgb(236,76,61)"
             ],
             [
              0.6901960784313725,
              "rgb(242,107,73)"
             ],
             [
              0.7529411764705882,
              "rgb(244,135,95)"
             ],
             [
              0.8156862745098039,
              "rgb(245,162,122)"
             ],
             [
              0.8784313725490196,
              "rgb(246,188,153)"
             ],
             [
              0.9411764705882353,
              "rgb(247,212,187)"
             ],
             [
              1,
              "rgb(250,234,220)"
             ]
            ],
            "type": "histogram2d"
           }
          ],
          "histogram2dcontour": [
           {
            "colorbar": {
             "outlinewidth": 0,
             "tickcolor": "rgb(36,36,36)",
             "ticklen": 8,
             "ticks": "outside",
             "tickwidth": 2
            },
            "colorscale": [
             [
              0,
              "rgb(2,4,25)"
             ],
             [
              0.06274509803921569,
              "rgb(24,15,41)"
             ],
             [
              0.12549019607843137,
              "rgb(47,23,57)"
             ],
             [
              0.18823529411764706,
              "rgb(71,28,72)"
             ],
             [
              0.25098039215686274,
              "rgb(97,30,82)"
             ],
             [
              0.3137254901960784,
              "rgb(123,30,89)"
             ],
             [
              0.3764705882352941,
              "rgb(150,27,91)"
             ],
             [
              0.4392156862745098,
              "rgb(177,22,88)"
             ],
             [
              0.5019607843137255,
              "rgb(203,26,79)"
             ],
             [
              0.5647058823529412,
              "rgb(223,47,67)"
             ],
             [
              0.6274509803921569,
              "rgb(236,76,61)"
             ],
             [
              0.6901960784313725,
              "rgb(242,107,73)"
             ],
             [
              0.7529411764705882,
              "rgb(244,135,95)"
             ],
             [
              0.8156862745098039,
              "rgb(245,162,122)"
             ],
             [
              0.8784313725490196,
              "rgb(246,188,153)"
             ],
             [
              0.9411764705882353,
              "rgb(247,212,187)"
             ],
             [
              1,
              "rgb(250,234,220)"
             ]
            ],
            "type": "histogram2dcontour"
           }
          ],
          "mesh3d": [
           {
            "colorbar": {
             "outlinewidth": 0,
             "tickcolor": "rgb(36,36,36)",
             "ticklen": 8,
             "ticks": "outside",
             "tickwidth": 2
            },
            "type": "mesh3d"
           }
          ],
          "parcoords": [
           {
            "line": {
             "colorbar": {
              "outlinewidth": 0,
              "tickcolor": "rgb(36,36,36)",
              "ticklen": 8,
              "ticks": "outside",
              "tickwidth": 2
             }
            },
            "type": "parcoords"
           }
          ],
          "pie": [
           {
            "automargin": true,
            "type": "pie"
           }
          ],
          "scatter": [
           {
            "marker": {
             "colorbar": {
              "outlinewidth": 0,
              "tickcolor": "rgb(36,36,36)",
              "ticklen": 8,
              "ticks": "outside",
              "tickwidth": 2
             }
            },
            "type": "scatter"
           }
          ],
          "scatter3d": [
           {
            "line": {
             "colorbar": {
              "outlinewidth": 0,
              "tickcolor": "rgb(36,36,36)",
              "ticklen": 8,
              "ticks": "outside",
              "tickwidth": 2
             }
            },
            "marker": {
             "colorbar": {
              "outlinewidth": 0,
              "tickcolor": "rgb(36,36,36)",
              "ticklen": 8,
              "ticks": "outside",
              "tickwidth": 2
             }
            },
            "type": "scatter3d"
           }
          ],
          "scattercarpet": [
           {
            "marker": {
             "colorbar": {
              "outlinewidth": 0,
              "tickcolor": "rgb(36,36,36)",
              "ticklen": 8,
              "ticks": "outside",
              "tickwidth": 2
             }
            },
            "type": "scattercarpet"
           }
          ],
          "scattergeo": [
           {
            "marker": {
             "colorbar": {
              "outlinewidth": 0,
              "tickcolor": "rgb(36,36,36)",
              "ticklen": 8,
              "ticks": "outside",
              "tickwidth": 2
             }
            },
            "type": "scattergeo"
           }
          ],
          "scattergl": [
           {
            "marker": {
             "colorbar": {
              "outlinewidth": 0,
              "tickcolor": "rgb(36,36,36)",
              "ticklen": 8,
              "ticks": "outside",
              "tickwidth": 2
             }
            },
            "type": "scattergl"
           }
          ],
          "scattermapbox": [
           {
            "marker": {
             "colorbar": {
              "outlinewidth": 0,
              "tickcolor": "rgb(36,36,36)",
              "ticklen": 8,
              "ticks": "outside",
              "tickwidth": 2
             }
            },
            "type": "scattermapbox"
           }
          ],
          "scatterpolar": [
           {
            "marker": {
             "colorbar": {
              "outlinewidth": 0,
              "tickcolor": "rgb(36,36,36)",
              "ticklen": 8,
              "ticks": "outside",
              "tickwidth": 2
             }
            },
            "type": "scatterpolar"
           }
          ],
          "scatterpolargl": [
           {
            "marker": {
             "colorbar": {
              "outlinewidth": 0,
              "tickcolor": "rgb(36,36,36)",
              "ticklen": 8,
              "ticks": "outside",
              "tickwidth": 2
             }
            },
            "type": "scatterpolargl"
           }
          ],
          "scatterternary": [
           {
            "marker": {
             "colorbar": {
              "outlinewidth": 0,
              "tickcolor": "rgb(36,36,36)",
              "ticklen": 8,
              "ticks": "outside",
              "tickwidth": 2
             }
            },
            "type": "scatterternary"
           }
          ],
          "surface": [
           {
            "colorbar": {
             "outlinewidth": 0,
             "tickcolor": "rgb(36,36,36)",
             "ticklen": 8,
             "ticks": "outside",
             "tickwidth": 2
            },
            "colorscale": [
             [
              0,
              "rgb(2,4,25)"
             ],
             [
              0.06274509803921569,
              "rgb(24,15,41)"
             ],
             [
              0.12549019607843137,
              "rgb(47,23,57)"
             ],
             [
              0.18823529411764706,
              "rgb(71,28,72)"
             ],
             [
              0.25098039215686274,
              "rgb(97,30,82)"
             ],
             [
              0.3137254901960784,
              "rgb(123,30,89)"
             ],
             [
              0.3764705882352941,
              "rgb(150,27,91)"
             ],
             [
              0.4392156862745098,
              "rgb(177,22,88)"
             ],
             [
              0.5019607843137255,
              "rgb(203,26,79)"
             ],
             [
              0.5647058823529412,
              "rgb(223,47,67)"
             ],
             [
              0.6274509803921569,
              "rgb(236,76,61)"
             ],
             [
              0.6901960784313725,
              "rgb(242,107,73)"
             ],
             [
              0.7529411764705882,
              "rgb(244,135,95)"
             ],
             [
              0.8156862745098039,
              "rgb(245,162,122)"
             ],
             [
              0.8784313725490196,
              "rgb(246,188,153)"
             ],
             [
              0.9411764705882353,
              "rgb(247,212,187)"
             ],
             [
              1,
              "rgb(250,234,220)"
             ]
            ],
            "type": "surface"
           }
          ],
          "table": [
           {
            "cells": {
             "fill": {
              "color": "rgb(231,231,240)"
             },
             "line": {
              "color": "white"
             }
            },
            "header": {
             "fill": {
              "color": "rgb(183,183,191)"
             },
             "line": {
              "color": "white"
             }
            },
            "type": "table"
           }
          ]
         },
         "layout": {
          "annotationdefaults": {
           "arrowcolor": "rgb(67,103,167)"
          },
          "autotypenumbers": "strict",
          "coloraxis": {
           "colorbar": {
            "outlinewidth": 0,
            "tickcolor": "rgb(36,36,36)",
            "ticklen": 8,
            "ticks": "outside",
            "tickwidth": 2
           }
          },
          "colorscale": {
           "sequential": [
            [
             0,
             "rgb(2,4,25)"
            ],
            [
             0.06274509803921569,
             "rgb(24,15,41)"
            ],
            [
             0.12549019607843137,
             "rgb(47,23,57)"
            ],
            [
             0.18823529411764706,
             "rgb(71,28,72)"
            ],
            [
             0.25098039215686274,
             "rgb(97,30,82)"
            ],
            [
             0.3137254901960784,
             "rgb(123,30,89)"
            ],
            [
             0.3764705882352941,
             "rgb(150,27,91)"
            ],
            [
             0.4392156862745098,
             "rgb(177,22,88)"
            ],
            [
             0.5019607843137255,
             "rgb(203,26,79)"
            ],
            [
             0.5647058823529412,
             "rgb(223,47,67)"
            ],
            [
             0.6274509803921569,
             "rgb(236,76,61)"
            ],
            [
             0.6901960784313725,
             "rgb(242,107,73)"
            ],
            [
             0.7529411764705882,
             "rgb(244,135,95)"
            ],
            [
             0.8156862745098039,
             "rgb(245,162,122)"
            ],
            [
             0.8784313725490196,
             "rgb(246,188,153)"
            ],
            [
             0.9411764705882353,
             "rgb(247,212,187)"
            ],
            [
             1,
             "rgb(250,234,220)"
            ]
           ],
           "sequentialminus": [
            [
             0,
             "rgb(2,4,25)"
            ],
            [
             0.06274509803921569,
             "rgb(24,15,41)"
            ],
            [
             0.12549019607843137,
             "rgb(47,23,57)"
            ],
            [
             0.18823529411764706,
             "rgb(71,28,72)"
            ],
            [
             0.25098039215686274,
             "rgb(97,30,82)"
            ],
            [
             0.3137254901960784,
             "rgb(123,30,89)"
            ],
            [
             0.3764705882352941,
             "rgb(150,27,91)"
            ],
            [
             0.4392156862745098,
             "rgb(177,22,88)"
            ],
            [
             0.5019607843137255,
             "rgb(203,26,79)"
            ],
            [
             0.5647058823529412,
             "rgb(223,47,67)"
            ],
            [
             0.6274509803921569,
             "rgb(236,76,61)"
            ],
            [
             0.6901960784313725,
             "rgb(242,107,73)"
            ],
            [
             0.7529411764705882,
             "rgb(244,135,95)"
            ],
            [
             0.8156862745098039,
             "rgb(245,162,122)"
            ],
            [
             0.8784313725490196,
             "rgb(246,188,153)"
            ],
            [
             0.9411764705882353,
             "rgb(247,212,187)"
            ],
            [
             1,
             "rgb(250,234,220)"
            ]
           ]
          },
          "colorway": [
           "rgb(76,114,176)",
           "rgb(221,132,82)",
           "rgb(85,168,104)",
           "rgb(196,78,82)",
           "rgb(129,114,179)",
           "rgb(147,120,96)",
           "rgb(218,139,195)",
           "rgb(140,140,140)",
           "rgb(204,185,116)",
           "rgb(100,181,205)"
          ],
          "font": {
           "color": "rgb(36,36,36)"
          },
          "geo": {
           "bgcolor": "white",
           "lakecolor": "white",
           "landcolor": "rgb(234,234,242)",
           "showlakes": true,
           "showland": true,
           "subunitcolor": "white"
          },
          "hoverlabel": {
           "align": "left"
          },
          "hovermode": "closest",
          "paper_bgcolor": "white",
          "plot_bgcolor": "rgb(234,234,242)",
          "polar": {
           "angularaxis": {
            "gridcolor": "white",
            "linecolor": "white",
            "showgrid": true,
            "ticks": ""
           },
           "bgcolor": "rgb(234,234,242)",
           "radialaxis": {
            "gridcolor": "white",
            "linecolor": "white",
            "showgrid": true,
            "ticks": ""
           }
          },
          "scene": {
           "xaxis": {
            "backgroundcolor": "rgb(234,234,242)",
            "gridcolor": "white",
            "gridwidth": 2,
            "linecolor": "white",
            "showbackground": true,
            "showgrid": true,
            "ticks": "",
            "zerolinecolor": "white"
           },
           "yaxis": {
            "backgroundcolor": "rgb(234,234,242)",
            "gridcolor": "white",
            "gridwidth": 2,
            "linecolor": "white",
            "showbackground": true,
            "showgrid": true,
            "ticks": "",
            "zerolinecolor": "white"
           },
           "zaxis": {
            "backgroundcolor": "rgb(234,234,242)",
            "gridcolor": "white",
            "gridwidth": 2,
            "linecolor": "white",
            "showbackground": true,
            "showgrid": true,
            "ticks": "",
            "zerolinecolor": "white"
           }
          },
          "shapedefaults": {
           "fillcolor": "rgb(67,103,167)",
           "line": {
            "width": 0
           },
           "opacity": 0.5
          },
          "ternary": {
           "aaxis": {
            "gridcolor": "white",
            "linecolor": "white",
            "showgrid": true,
            "ticks": ""
           },
           "baxis": {
            "gridcolor": "white",
            "linecolor": "white",
            "showgrid": true,
            "ticks": ""
           },
           "bgcolor": "rgb(234,234,242)",
           "caxis": {
            "gridcolor": "white",
            "linecolor": "white",
            "showgrid": true,
            "ticks": ""
           }
          },
          "xaxis": {
           "automargin": true,
           "gridcolor": "white",
           "linecolor": "white",
           "showgrid": true,
           "ticks": "",
           "title": {
            "standoff": 15
           },
           "zerolinecolor": "white"
          },
          "yaxis": {
           "automargin": true,
           "gridcolor": "white",
           "linecolor": "white",
           "showgrid": true,
           "ticks": "",
           "title": {
            "standoff": 15
           },
           "zerolinecolor": "white"
          }
         }
        },
        "title": {
         "text": "p = 3"
        },
        "width": 800,
        "xaxis": {
         "anchor": "y",
         "domain": [
          0,
          1
         ],
         "title": {
          "text": "x"
         }
        },
        "yaxis": {
         "anchor": "x",
         "domain": [
          0,
          1
         ],
         "title": {
          "text": "y"
         }
        }
       }
      }
     },
     "metadata": {}
    },
    {
     "output_type": "stream",
     "name": "stdout",
     "text": [
      "[[ 1.00000000e+00 -1.50000000e+01  2.25000000e+02 -3.37500000e+03\n   5.06250000e+04]\n [ 1.00000000e+00 -1.47474747e+01  2.17488011e+02 -3.20739896e+03\n   4.73010351e+04]\n [ 1.00000000e+00 -1.44949495e+01  2.10103561e+02 -3.04544050e+03\n   4.41435063e+04]\n [ 1.00000000e+00 -1.42424242e+01  2.02846648e+02 -2.88902802e+03\n   4.11467627e+04]\n [ 1.00000000e+00 -1.39898990e+01  1.95717274e+02 -2.73806489e+03\n   3.83052512e+04]\n [ 1.00000000e+00 -1.37373737e+01  1.88715437e+02 -2.59245449e+03\n   3.56135162e+04]\n [ 1.00000000e+00 -1.34848485e+01  1.81841139e+02 -2.45210020e+03\n   3.30661997e+04]\n [ 1.00000000e+00 -1.32323232e+01  1.75094378e+02 -2.31690541e+03\n   3.06580413e+04]\n [ 1.00000000e+00 -1.29797980e+01  1.68475156e+02 -2.18677348e+03\n   2.83838781e+04]\n [ 1.00000000e+00 -1.27272727e+01  1.61983471e+02 -2.06160781e+03\n   2.62386449e+04]\n [ 1.00000000e+00 -1.24747475e+01  1.55619325e+02 -1.94131178e+03\n   2.42173742e+04]\n [ 1.00000000e+00 -1.22222222e+01  1.49382716e+02 -1.82578875e+03\n   2.23151959e+04]\n [ 1.00000000e+00 -1.19696970e+01  1.43273646e+02 -1.71494212e+03\n   2.05273375e+04]\n [ 1.00000000e+00 -1.17171717e+01  1.37292113e+02 -1.60867526e+03\n   1.88491243e+04]\n [ 1.00000000e+00 -1.14646465e+01  1.31438119e+02 -1.50689156e+03\n   1.72759790e+04]\n [ 1.00000000e+00 -1.12121212e+01  1.25711662e+02 -1.40949439e+03\n   1.58034220e+04]\n [ 1.00000000e+00 -1.09595960e+01  1.20112744e+02 -1.31638714e+03\n   1.44270712e+04]\n [ 1.00000000e+00 -1.07070707e+01  1.14641363e+02 -1.22747318e+03\n   1.31426421e+04]\n [ 1.00000000e+00 -1.04545455e+01  1.09297521e+02 -1.14265590e+03\n   1.19459480e+04]\n [ 1.00000000e+00 -1.02020202e+01  1.04081216e+02 -1.06183867e+03\n   1.08328996e+04]\n [ 1.00000000e+00 -9.94949495e+00  9.89924498e+01 -9.84924879e+02\n   9.79950511e+03]\n [ 1.00000000e+00 -9.69696970e+00  9.40312213e+01 -9.11817904e+02\n   8.84187058e+03]\n [ 1.00000000e+00 -9.44444444e+00  8.91975309e+01 -8.42421125e+02\n   7.95619951e+03]\n [ 1.00000000e+00 -9.19191919e+00  8.44913784e+01 -7.76637923e+02\n   7.13879303e+03]\n [ 1.00000000e+00 -8.93939394e+00  7.99127640e+01 -7.14371678e+02\n   6.38604985e+03]\n [ 1.00000000e+00 -8.68686869e+00  7.54616876e+01 -6.55525771e+02\n   5.69446629e+03]\n [ 1.00000000e+00 -8.43434343e+00  7.11381492e+01 -6.00003581e+02\n   5.06063627e+03]\n [ 1.00000000e+00 -8.18181818e+00  6.69421488e+01 -5.47708490e+02\n   4.48125128e+03]\n [ 1.00000000e+00 -7.92929293e+00  6.28736864e+01 -4.98543877e+02\n   3.95310044e+03]\n [ 1.00000000e+00 -7.67676768e+00  5.89327620e+01 -4.52413122e+02\n   3.47307043e+03]\n [ 1.00000000e+00 -7.42424242e+00  5.51193756e+01 -4.09219607e+02\n   3.03814556e+03]\n [ 1.00000000e+00 -7.17171717e+00  5.14335272e+01 -3.68866710e+02\n   2.64540772e+03]\n [ 1.00000000e+00 -6.91919192e+00  4.78752168e+01 -3.31257813e+02\n   2.29203639e+03]\n [ 1.00000000e+00 -6.66666667e+00  4.44444444e+01 -2.96296296e+02\n   1.97530864e+03]\n [ 1.00000000e+00 -6.41414141e+00  4.11412101e+01 -2.63885539e+02\n   1.69259917e+03]\n [ 1.00000000e+00 -6.16161616e+00  3.79655137e+01 -2.33928923e+02\n   1.44138023e+03]\n [ 1.00000000e+00 -5.90909091e+00  3.49173554e+01 -2.06329827e+02\n   1.21922171e+03]\n [ 1.00000000e+00 -5.65656566e+00  3.19967350e+01 -1.80991632e+02\n   1.02379105e+03]\n [ 1.00000000e+00 -5.40404040e+00  2.92036527e+01 -1.57817719e+02\n   8.52853330e+02]\n [ 1.00000000e+00 -5.15151515e+00  2.65381084e+01 -1.36711467e+02\n   7.04271195e+02]\n [ 1.00000000e+00 -4.89898990e+00  2.40001020e+01 -1.17576257e+02\n   5.76004897e+02]\n [ 1.00000000e+00 -4.64646465e+00  2.15896337e+01 -1.00315470e+02\n   4.66112284e+02]\n [ 1.00000000e+00 -4.39393939e+00  1.93067034e+01 -8.48324846e+01\n   3.72748796e+02]\n [ 1.00000000e+00 -4.14141414e+00  1.71513111e+01 -7.10306823e+01\n   2.94167472e+02]\n [ 1.00000000e+00 -3.88888889e+00  1.51234568e+01 -5.88134431e+01\n   2.28718945e+02]\n [ 1.00000000e+00 -3.63636364e+00  1.32231405e+01 -4.80841473e+01\n   1.74851445e+02]\n [ 1.00000000e+00 -3.38383838e+00  1.14503622e+01 -3.87461751e+01\n   1.31110795e+02]\n [ 1.00000000e+00 -3.13131313e+00  9.80512193e+00 -3.07029070e+01\n   9.61404160e+01]\n [ 1.00000000e+00 -2.87878788e+00  8.28741965e+00 -2.38577232e+01\n   6.86813245e+01]\n [ 1.00000000e+00 -2.62626263e+00  6.89725538e+00 -1.81140040e+01\n   4.75721318e+01]\n [ 1.00000000e+00 -2.37373737e+00  5.63462912e+00 -1.33751297e+01\n   3.17490453e+01]\n [ 1.00000000e+00 -2.12121212e+00  4.49954086e+00 -9.54448062e+00\n   2.02458680e+01]\n [ 1.00000000e+00 -1.86868687e+00  3.49199061e+00 -6.52543700e+00\n   1.21939984e+01]\n [ 1.00000000e+00 -1.61616162e+00  2.61197837e+00 -4.22137918e+00\n   6.82243100e+00]\n [ 1.00000000e+00 -1.36363636e+00  1.85950413e+00 -2.53568745e+00\n   3.45775562e+00]\n [ 1.00000000e+00 -1.11111111e+00  1.23456790e+00 -1.37174211e+00\n   1.52415790e+00]\n [ 1.00000000e+00 -8.58585859e-01  7.37169677e-01 -6.32923460e-01\n   5.43419132e-01]\n [ 1.00000000e+00 -6.06060606e-01  3.67309458e-01 -2.22611793e-01\n   1.34916238e-01]\n [ 1.00000000e+00 -3.53535354e-01  1.24987246e-01 -4.41874103e-02\n   1.56218117e-02]\n [ 1.00000000e+00 -1.01010101e-01  1.02030405e-02 -1.03061015e-03\n   1.04102036e-04]\n [ 1.00000000e+00  1.51515152e-01  2.29568411e-02  3.47830926e-03\n   5.27016555e-04]\n [ 1.00000000e+00  4.04040404e-01  1.63248648e-01  6.59590497e-02\n   2.66501211e-02]\n [ 1.00000000e+00  6.56565657e-01  4.31078461e-01  2.83031313e-01\n   1.85828640e-01]\n [ 1.00000000e+00  9.09090909e-01  8.26446281e-01  7.51314801e-01\n   6.83013455e-01]\n [ 1.00000000e+00  1.16161616e+00  1.34935211e+00  1.56742922e+00\n   1.82075111e+00]\n [ 1.00000000e+00  1.41414141e+00  1.99979594e+00  2.82799426e+00\n   3.99918380e+00]\n [ 1.00000000e+00  1.66666667e+00  2.77777778e+00  4.62962963e+00\n   7.71604938e+00]\n [ 1.00000000e+00  1.91919192e+00  3.68329762e+00  7.06895503e+00\n   1.35666814e+01]\n [ 1.00000000e+00  2.17171717e+00  4.71635547e+00  1.02425902e+01\n   2.22440090e+01]\n [ 1.00000000e+00  2.42424242e+00  5.87695133e+00  1.42471547e+01\n   3.45385570e+01]\n [ 1.00000000e+00  2.67676768e+00  7.16508520e+00  1.91792685e+01\n   5.13384459e+01]\n [ 1.00000000e+00  2.92929293e+00  8.58075707e+00  2.51355510e+01\n   7.36293918e+01]\n [ 1.00000000e+00  3.18181818e+00  1.01239669e+01  3.22126221e+01\n   1.02494707e+02]\n [ 1.00000000e+00  3.43434343e+00  1.17947148e+01  4.05071014e+01\n   1.39115298e+02]\n [ 1.00000000e+00  3.68686869e+00  1.35930007e+01  5.01156087e+01\n   1.84769668e+02]\n [ 1.00000000e+00  3.93939394e+00  1.55188246e+01  6.11347636e+01\n   2.40833917e+02]\n [ 1.00000000e+00  4.19191919e+00  1.75721865e+01  7.36611859e+01\n   3.08781739e+02]\n [ 1.00000000e+00  4.44444444e+00  1.97530864e+01  8.77914952e+01\n   3.90184423e+02]\n [ 1.00000000e+00  4.69696970e+00  2.20615243e+01  1.03622311e+02\n   4.86710856e+02]\n [ 1.00000000e+00  4.94949495e+00  2.44975003e+01  1.21250254e+02\n   6.00127519e+02]\n [ 1.00000000e+00  5.20202020e+00  2.70610142e+01  1.40771942e+02\n   7.32298489e+02]\n [ 1.00000000e+00  5.45454545e+00  2.97520661e+01  1.62283997e+02\n   8.85185438e+02]\n [ 1.00000000e+00  5.70707071e+00  3.25706561e+01  1.85883037e+02\n   1.06084764e+03]\n [ 1.00000000e+00  5.95959596e+00  3.55167840e+01  2.11665682e+02\n   1.26144195e+03]\n [ 1.00000000e+00  6.21212121e+00  3.85904500e+01  2.39728553e+02\n   1.48922283e+03]\n [ 1.00000000e+00  6.46464646e+00  4.17916539e+01  2.70168268e+02\n   1.74654234e+03]\n [ 1.00000000e+00  6.71717172e+00  4.51203959e+01  3.03081447e+02\n   2.03585012e+03]\n [ 1.00000000e+00  6.96969697e+00  4.85766758e+01  3.38564710e+02\n   2.35969344e+03]\n [ 1.00000000e+00  7.22222222e+00  5.21604938e+01  3.76714678e+02\n   2.72071712e+03]\n [ 1.00000000e+00  7.47474747e+00  5.58718498e+01  4.17627968e+02\n   3.12166360e+03]\n [ 1.00000000e+00  7.72727273e+00  5.97107438e+01  4.61401202e+02\n   3.56537293e+03]\n [ 1.00000000e+00  7.97979798e+00  6.36771758e+01  5.08130999e+02\n   4.05478272e+03]\n [ 1.00000000e+00  8.23232323e+00  6.77711458e+01  5.57913978e+02\n   4.59292820e+03]\n [ 1.00000000e+00  8.48484848e+00  7.19926538e+01  6.10846760e+02\n   5.18294220e+03]\n [ 1.00000000e+00  8.73737374e+00  7.63416998e+01  6.67025963e+02\n   5.82805513e+03]\n [ 1.00000000e+00  8.98989899e+00  8.08182838e+01  7.26548208e+02\n   6.53159500e+03]\n [ 1.00000000e+00  9.24242424e+00  8.54224059e+01  7.89510115e+02\n   7.29698743e+03]\n [ 1.00000000e+00  9.49494949e+00  9.01540659e+01  8.56008303e+02\n   8.12775560e+03]\n [ 1.00000000e+00  9.74747475e+00  9.50132640e+01  9.26139391e+02\n   9.02752033e+03]\n [ 1.00000000e+00  1.00000000e+01  1.00000000e+02  1.00000000e+03\n   1.00000000e+04]]\n"
     ]
    },
    {
     "output_type": "display_data",
     "data": {
      "application/vnd.plotly.v1+json": {
       "config": {
        "plotlyServerURL": "https://plot.ly"
       },
       "data": [
        {
         "hoverinfo": "skip",
         "hovertemplate": "x=%{x}<br>y=%{y}<extra></extra>",
         "legendgroup": "",
         "marker": {
          "color": "red",
          "line": {
           "color": "black",
           "width": 2
          },
          "size": 8,
          "symbol": "circle"
         },
         "mode": "markers",
         "name": "",
         "orientation": "v",
         "showlegend": false,
         "type": "scatter",
         "x": [
          -15,
          -14.747474747474747,
          -14.494949494949495,
          -14.242424242424242,
          -13.98989898989899,
          -13.737373737373737,
          -13.484848484848484,
          -13.232323232323232,
          -12.97979797979798,
          -12.727272727272727,
          -12.474747474747474,
          -12.222222222222221,
          -11.969696969696969,
          -11.717171717171716,
          -11.464646464646464,
          -11.212121212121211,
          -10.959595959595958,
          -10.707070707070706,
          -10.454545454545453,
          -10.2020202020202,
          -9.949494949494948,
          -9.696969696969695,
          -9.444444444444443,
          -9.19191919191919,
          -8.93939393939394,
          -8.686868686868687,
          -8.434343434343434,
          -8.181818181818182,
          -7.929292929292929,
          -7.6767676767676765,
          -7.424242424242424,
          -7.171717171717171,
          -6.919191919191919,
          -6.666666666666666,
          -6.4141414141414135,
          -6.161616161616161,
          -5.909090909090908,
          -5.656565656565656,
          -5.404040404040403,
          -5.1515151515151505,
          -4.898989898989898,
          -4.646464646464645,
          -4.393939393939393,
          -4.14141414141414,
          -3.8888888888888875,
          -3.636363636363635,
          -3.3838383838383823,
          -3.1313131313131297,
          -2.878787878787879,
          -2.6262626262626263,
          -2.3737373737373737,
          -2.121212121212121,
          -1.8686868686868685,
          -1.616161616161616,
          -1.3636363636363633,
          -1.1111111111111107,
          -0.8585858585858581,
          -0.6060606060606055,
          -0.3535353535353529,
          -0.10101010101010033,
          0.15151515151515227,
          0.40404040404040487,
          0.6565656565656575,
          0.9090909090909101,
          1.1616161616161627,
          1.4141414141414153,
          1.6666666666666679,
          1.9191919191919204,
          2.171717171717173,
          2.4242424242424256,
          2.6767676767676782,
          2.929292929292931,
          3.1818181818181834,
          3.434343434343436,
          3.6868686868686886,
          3.9393939393939412,
          4.191919191919194,
          4.444444444444446,
          4.696969696969699,
          4.949494949494952,
          5.202020202020204,
          5.454545454545457,
          5.707070707070709,
          5.959595959595962,
          6.212121212121215,
          6.464646464646467,
          6.71717171717172,
          6.969696969696972,
          7.222222222222225,
          7.474747474747478,
          7.72727272727273,
          7.979797979797983,
          8.232323232323235,
          8.484848484848488,
          8.73737373737374,
          8.989898989898993,
          9.242424242424242,
          9.494949494949495,
          9.747474747474747,
          10
         ],
         "xaxis": "x",
         "y": [
          78.8145264368132,
          76.57044197789587,
          70.71559763799429,
          64.98242118444067,
          60.370093944052115,
          65.3427399586452,
          61.61156788395709,
          54.159247074743384,
          58.003581512239464,
          58.3834879095741,
          48.33128578835695,
          36.795974355843946,
          47.0866395724152,
          44.707615558827655,
          35.45226293095519,
          37.09552798829185,
          42.57067476156927,
          30.528245748188354,
          40.415136228881224,
          29.05062722816826,
          28.33758137203389,
          36.28738010218093,
          20.652213387430965,
          26.807644591640848,
          18.164942561966704,
          20.033392459458913,
          17.660222217380895,
          18.282461990297072,
          19.49881119963429,
          11.674908941600714,
          12.573047648824778,
          9.619463523387886,
          15.65352303049416,
          13.972213091561857,
          16.612273532730647,
          7.309122023985634,
          9.49300323493813,
          12.979187122866433,
          12.257189707075586,
          5.971458400976415,
          9.8259333842476,
          4.651954537633046,
          5.199575042174219,
          5.772809120976745,
          7.62186870652512,
          3.103457491597879,
          9.16553203739803,
          3.9524184687017723,
          2.1313608348936883,
          7.337828209406968,
          4.113500561421851,
          8.677871546454561,
          5.1104962781614836,
          15.909683590566768,
          7.277602132779751,
          9.322184880051765,
          14.94174351810746,
          3.9064409293766484,
          17.28984052489481,
          10.620963769116443,
          15.913051080291453,
          11.81360694188862,
          9.773092742100097,
          16.49480186168052,
          17.0008304335297,
          8.882807212985732,
          20.970693279156148,
          14.210734303365376,
          21.276883472494152,
          20.36286777557737,
          17.105467148917633,
          22.046274741345126,
          22.179681727674854,
          23.28883766257723,
          32.93056811313294,
          36.0481138345626,
          34.0362534113516,
          33.383138880805774,
          25.123437456387563,
          33.50118312435098,
          40.22941412798667,
          41.09572522747814,
          43.65965170427655,
          46.970072422070174,
          46.80935287333976,
          53.003991219261195,
          54.79572060002411,
          59.21494030077444,
          56.24193074865577,
          61.29686359911075,
          64.21716354422281,
          68.61993315578066,
          70.11748307935183,
          71.05469017203949,
          73.9101430107204,
          75.28309256555329,
          77.97079594339958,
          85.97823411409078,
          86.96671875950356,
          94.5060568412618
         ],
         "yaxis": "y"
        },
        {
         "line": {
          "color": "green"
         },
         "mode": "lines",
         "name": "Aproximation",
         "type": "scatter",
         "x": [
          -15,
          -14.747474747474747,
          -14.494949494949495,
          -14.242424242424242,
          -13.98989898989899,
          -13.737373737373737,
          -13.484848484848484,
          -13.232323232323232,
          -12.97979797979798,
          -12.727272727272727,
          -12.474747474747474,
          -12.222222222222221,
          -11.969696969696969,
          -11.717171717171716,
          -11.464646464646464,
          -11.212121212121211,
          -10.959595959595958,
          -10.707070707070706,
          -10.454545454545453,
          -10.2020202020202,
          -9.949494949494948,
          -9.696969696969695,
          -9.444444444444443,
          -9.19191919191919,
          -8.93939393939394,
          -8.686868686868687,
          -8.434343434343434,
          -8.181818181818182,
          -7.929292929292929,
          -7.6767676767676765,
          -7.424242424242424,
          -7.171717171717171,
          -6.919191919191919,
          -6.666666666666666,
          -6.4141414141414135,
          -6.161616161616161,
          -5.909090909090908,
          -5.656565656565656,
          -5.404040404040403,
          -5.1515151515151505,
          -4.898989898989898,
          -4.646464646464645,
          -4.393939393939393,
          -4.14141414141414,
          -3.8888888888888875,
          -3.636363636363635,
          -3.3838383838383823,
          -3.1313131313131297,
          -2.878787878787879,
          -2.6262626262626263,
          -2.3737373737373737,
          -2.121212121212121,
          -1.8686868686868685,
          -1.616161616161616,
          -1.3636363636363633,
          -1.1111111111111107,
          -0.8585858585858581,
          -0.6060606060606055,
          -0.3535353535353529,
          -0.10101010101010033,
          0.15151515151515227,
          0.40404040404040487,
          0.6565656565656575,
          0.9090909090909101,
          1.1616161616161627,
          1.4141414141414153,
          1.6666666666666679,
          1.9191919191919204,
          2.171717171717173,
          2.4242424242424256,
          2.6767676767676782,
          2.929292929292931,
          3.1818181818181834,
          3.434343434343436,
          3.6868686868686886,
          3.9393939393939412,
          4.191919191919194,
          4.444444444444446,
          4.696969696969699,
          4.949494949494952,
          5.202020202020204,
          5.454545454545457,
          5.707070707070709,
          5.959595959595962,
          6.212121212121215,
          6.464646464646467,
          6.71717171717172,
          6.969696969696972,
          7.222222222222225,
          7.474747474747478,
          7.72727272727273,
          7.979797979797983,
          8.232323232323235,
          8.484848484848488,
          8.73737373737374,
          8.989898989898993,
          9.242424242424242,
          9.494949494949495,
          9.747474747474747,
          10
         ],
         "y": [
          77.78591442449465,
          74.56183963418385,
          71.42561113814321,
          68.37605104236229,
          65.41200580833522,
          62.532346253060496,
          59.73596754904111,
          57.021789224284404,
          54.38875516230225,
          51.835833602110895,
          49.36201713823107,
          46.966322720687884,
          44.64779165501095,
          42.40548960223429,
          40.23850657889634,
          38.14595695704002,
          36.126979464212646,
          34.18073718346601,
          32.3064175533563,
          30.503232367944182,
          28.77041777679474,
          27.107234284977483,
          25.512966753066397,
          23.98692439713986,
          22.52844078878073,
          21.136873855076253,
          19.811605878618167,
          18.552043497502613,
          17.35761770533017,
          16.22778385120589,
          15.162021639739214,
          14.15983513104405,
          13.220752740738746,
          12.344327239946072,
          11.530135755293248,
          10.777779768911927,
          10.086885118438195,
          9.45710199701259,
          8.888104953280074,
          8.379592891390049,
          7.931289070996367,
          7.542941107257296,
          7.214320970835564,
          6.9452249878983245,
          6.73547384011717,
          6.584912564668137,
          6.493410554231688,
          6.4608615569927395,
          6.487183676640628,
          6.57231937236914,
          6.7162354588765,
          6.918923106365364,
          7.1803978405428275,
          7.500699542620428,
          7.879892449314136,
          8.318065152844362,
          8.815330600935956,
          9.371826096818202,
          9.987713299224826,
          10.663178222393984,
          11.398431236068284,
          12.193707065494756,
          13.049264791424878,
          13.965387850114565,
          14.942384033324165,
          15.980585488318468,
          17.0803487178667,
          18.24205458024252,
          19.46610828922404,
          20.7529394140938,
          22.103001879638768,
          23.516773966150364,
          24.994758309424444,
          26.5374819007613,
          28.145496086965654,
          29.819376570346684,
          31.55972340871799,
          33.367161015397606,
          35.24233815920803,
          37.18592796447617,
          39.198627911033384,
          41.28115983421546,
          43.43426992486263,
          45.65872872931958,
          47.955331149435395,
          50.32489644256364,
          52.768268221562295,
          55.28631445479377,
          57.879927466124926,
          60.55002393492707,
          63.297544896075934,
          66.12345573995168,
          69.02874621243892,
          72.01443041492672,
          75.08154680430854,
          78.23115819298233,
          81.46435174885039,
          84.78223899531962,
          88.1859558113012,
          91.6766624312108
         ]
        },
        {
         "line": {
          "color": "royalblue",
          "dash": "dash"
         },
         "mode": "lines",
         "name": "Fg(x)",
         "type": "scatter",
         "x": [
          -15,
          -14.747474747474747,
          -14.494949494949495,
          -14.242424242424242,
          -13.98989898989899,
          -13.737373737373737,
          -13.484848484848484,
          -13.232323232323232,
          -12.97979797979798,
          -12.727272727272727,
          -12.474747474747474,
          -12.222222222222221,
          -11.969696969696969,
          -11.717171717171716,
          -11.464646464646464,
          -11.212121212121211,
          -10.959595959595958,
          -10.707070707070706,
          -10.454545454545453,
          -10.2020202020202,
          -9.949494949494948,
          -9.696969696969695,
          -9.444444444444443,
          -9.19191919191919,
          -8.93939393939394,
          -8.686868686868687,
          -8.434343434343434,
          -8.181818181818182,
          -7.929292929292929,
          -7.6767676767676765,
          -7.424242424242424,
          -7.171717171717171,
          -6.919191919191919,
          -6.666666666666666,
          -6.4141414141414135,
          -6.161616161616161,
          -5.909090909090908,
          -5.656565656565656,
          -5.404040404040403,
          -5.1515151515151505,
          -4.898989898989898,
          -4.646464646464645,
          -4.393939393939393,
          -4.14141414141414,
          -3.8888888888888875,
          -3.636363636363635,
          -3.3838383838383823,
          -3.1313131313131297,
          -2.878787878787879,
          -2.6262626262626263,
          -2.3737373737373737,
          -2.121212121212121,
          -1.8686868686868685,
          -1.616161616161616,
          -1.3636363636363633,
          -1.1111111111111107,
          -0.8585858585858581,
          -0.6060606060606055,
          -0.3535353535353529,
          -0.10101010101010033,
          0.15151515151515227,
          0.40404040404040487,
          0.6565656565656575,
          0.9090909090909101,
          1.1616161616161627,
          1.4141414141414153,
          1.6666666666666679,
          1.9191919191919204,
          2.171717171717173,
          2.4242424242424256,
          2.6767676767676782,
          2.929292929292931,
          3.1818181818181834,
          3.434343434343436,
          3.6868686868686886,
          3.9393939393939412,
          4.191919191919194,
          4.444444444444446,
          4.696969696969699,
          4.949494949494952,
          5.202020202020204,
          5.454545454545457,
          5.707070707070709,
          5.959595959595962,
          6.212121212121215,
          6.464646464646467,
          6.71717171717172,
          6.969696969696972,
          7.222222222222225,
          7.474747474747478,
          7.72727272727273,
          7.979797979797983,
          8.232323232323235,
          8.484848484848488,
          8.73737373737374,
          8.989898989898993,
          9.242424242424242,
          9.494949494949495,
          9.747474747474747,
          10
         ],
         "y": [
          77.5,
          74.50158147127843,
          71.56693194571983,
          68.69605142332415,
          65.88893990409142,
          63.14559738802162,
          60.466023875114786,
          57.85021936537087,
          55.29818385878991,
          52.8099173553719,
          50.38541985511682,
          48.02469135802469,
          45.72773186409549,
          43.49454137332925,
          41.32511988572594,
          39.21946740128558,
          37.17758392000815,
          35.199469441893676,
          33.28512396694214,
          31.434547495153545,
          29.6477400265279,
          27.924701561065184,
          26.265432098765423,
          24.6699316396286,
          23.138200183654725,
          21.670237730843787,
          20.266044281195796,
          18.925619834710744,
          17.64896439138863,
          16.436077951229464,
          15.28696051423324,
          14.201612080399954,
          13.180032649729615,
          12.222222222222218,
          11.328180797877764,
          10.497908376696252,
          9.731404958677683,
          9.028670543822054,
          8.38970513212937,
          7.81450872359963,
          7.303081318232831,
          6.855422916028974,
          6.47153351698806,
          6.151413121110089,
          5.895061728395061,
          5.702479338842974,
          5.573665952453831,
          5.508621569227629,
          5.507346189164371,
          5.569839812264055,
          5.696102438526681,
          5.88613406795225,
          6.139934700540762,
          6.4575043362922155,
          6.838842975206612,
          7.283950617283951,
          7.792827262524233,
          8.365472910927458,
          9.001887562493625,
          9.702071217222734,
          10.466023875114786,
          11.293745536169782,
          12.185236200387719,
          13.1404958677686,
          14.159524538312422,
          15.242322212019186,
          16.388888888888893,
          17.599224568921546,
          18.873329252117138,
          20.211202938475672,
          21.612845627997153,
          23.078257320681573,
          24.607438016528935,
          26.200387715539243,
          27.85710641771249,
          29.57759412304868,
          31.361850831547812,
          33.20987654320989,
          35.12167125803491,
          37.097234976022875,
          39.136567697173774,
          41.23966942148762,
          43.40654014896441,
          45.63717987960415,
          47.93158861340682,
          50.28976635037243,
          52.71171309050099,
          55.1974288337925,
          57.74691358024694,
          60.360167329864325,
          63.037190082644656,
          65.77798183858793,
          68.58254259769414,
          71.4508723599633,
          74.3829711253954,
          77.37883889399045,
          80.4384756657484,
          83.56188144066931,
          86.7490562187532,
          90
         ]
        }
       ],
       "layout": {
        "height": 700,
        "legend": {
         "tracegroupgap": 0
        },
        "template": {
         "data": {
          "bar": [
           {
            "error_x": {
             "color": "rgb(36,36,36)"
            },
            "error_y": {
             "color": "rgb(36,36,36)"
            },
            "marker": {
             "line": {
              "color": "rgb(234,234,242)",
              "width": 0.5
             }
            },
            "type": "bar"
           }
          ],
          "barpolar": [
           {
            "marker": {
             "line": {
              "color": "rgb(234,234,242)",
              "width": 0.5
             }
            },
            "type": "barpolar"
           }
          ],
          "carpet": [
           {
            "aaxis": {
             "endlinecolor": "rgb(36,36,36)",
             "gridcolor": "white",
             "linecolor": "white",
             "minorgridcolor": "white",
             "startlinecolor": "rgb(36,36,36)"
            },
            "baxis": {
             "endlinecolor": "rgb(36,36,36)",
             "gridcolor": "white",
             "linecolor": "white",
             "minorgridcolor": "white",
             "startlinecolor": "rgb(36,36,36)"
            },
            "type": "carpet"
           }
          ],
          "choropleth": [
           {
            "colorbar": {
             "outlinewidth": 0,
             "tickcolor": "rgb(36,36,36)",
             "ticklen": 8,
             "ticks": "outside",
             "tickwidth": 2
            },
            "type": "choropleth"
           }
          ],
          "contour": [
           {
            "colorbar": {
             "outlinewidth": 0,
             "tickcolor": "rgb(36,36,36)",
             "ticklen": 8,
             "ticks": "outside",
             "tickwidth": 2
            },
            "colorscale": [
             [
              0,
              "rgb(2,4,25)"
             ],
             [
              0.06274509803921569,
              "rgb(24,15,41)"
             ],
             [
              0.12549019607843137,
              "rgb(47,23,57)"
             ],
             [
              0.18823529411764706,
              "rgb(71,28,72)"
             ],
             [
              0.25098039215686274,
              "rgb(97,30,82)"
             ],
             [
              0.3137254901960784,
              "rgb(123,30,89)"
             ],
             [
              0.3764705882352941,
              "rgb(150,27,91)"
             ],
             [
              0.4392156862745098,
              "rgb(177,22,88)"
             ],
             [
              0.5019607843137255,
              "rgb(203,26,79)"
             ],
             [
              0.5647058823529412,
              "rgb(223,47,67)"
             ],
             [
              0.6274509803921569,
              "rgb(236,76,61)"
             ],
             [
              0.6901960784313725,
              "rgb(242,107,73)"
             ],
             [
              0.7529411764705882,
              "rgb(244,135,95)"
             ],
             [
              0.8156862745098039,
              "rgb(245,162,122)"
             ],
             [
              0.8784313725490196,
              "rgb(246,188,153)"
             ],
             [
              0.9411764705882353,
              "rgb(247,212,187)"
             ],
             [
              1,
              "rgb(250,234,220)"
             ]
            ],
            "type": "contour"
           }
          ],
          "contourcarpet": [
           {
            "colorbar": {
             "outlinewidth": 0,
             "tickcolor": "rgb(36,36,36)",
             "ticklen": 8,
             "ticks": "outside",
             "tickwidth": 2
            },
            "type": "contourcarpet"
           }
          ],
          "heatmap": [
           {
            "colorbar": {
             "outlinewidth": 0,
             "tickcolor": "rgb(36,36,36)",
             "ticklen": 8,
             "ticks": "outside",
             "tickwidth": 2
            },
            "colorscale": [
             [
              0,
              "rgb(2,4,25)"
             ],
             [
              0.06274509803921569,
              "rgb(24,15,41)"
             ],
             [
              0.12549019607843137,
              "rgb(47,23,57)"
             ],
             [
              0.18823529411764706,
              "rgb(71,28,72)"
             ],
             [
              0.25098039215686274,
              "rgb(97,30,82)"
             ],
             [
              0.3137254901960784,
              "rgb(123,30,89)"
             ],
             [
              0.3764705882352941,
              "rgb(150,27,91)"
             ],
             [
              0.4392156862745098,
              "rgb(177,22,88)"
             ],
             [
              0.5019607843137255,
              "rgb(203,26,79)"
             ],
             [
              0.5647058823529412,
              "rgb(223,47,67)"
             ],
             [
              0.6274509803921569,
              "rgb(236,76,61)"
             ],
             [
              0.6901960784313725,
              "rgb(242,107,73)"
             ],
             [
              0.7529411764705882,
              "rgb(244,135,95)"
             ],
             [
              0.8156862745098039,
              "rgb(245,162,122)"
             ],
             [
              0.8784313725490196,
              "rgb(246,188,153)"
             ],
             [
              0.9411764705882353,
              "rgb(247,212,187)"
             ],
             [
              1,
              "rgb(250,234,220)"
             ]
            ],
            "type": "heatmap"
           }
          ],
          "heatmapgl": [
           {
            "colorbar": {
             "outlinewidth": 0,
             "tickcolor": "rgb(36,36,36)",
             "ticklen": 8,
             "ticks": "outside",
             "tickwidth": 2
            },
            "colorscale": [
             [
              0,
              "rgb(2,4,25)"
             ],
             [
              0.06274509803921569,
              "rgb(24,15,41)"
             ],
             [
              0.12549019607843137,
              "rgb(47,23,57)"
             ],
             [
              0.18823529411764706,
              "rgb(71,28,72)"
             ],
             [
              0.25098039215686274,
              "rgb(97,30,82)"
             ],
             [
              0.3137254901960784,
              "rgb(123,30,89)"
             ],
             [
              0.3764705882352941,
              "rgb(150,27,91)"
             ],
             [
              0.4392156862745098,
              "rgb(177,22,88)"
             ],
             [
              0.5019607843137255,
              "rgb(203,26,79)"
             ],
             [
              0.5647058823529412,
              "rgb(223,47,67)"
             ],
             [
              0.6274509803921569,
              "rgb(236,76,61)"
             ],
             [
              0.6901960784313725,
              "rgb(242,107,73)"
             ],
             [
              0.7529411764705882,
              "rgb(244,135,95)"
             ],
             [
              0.8156862745098039,
              "rgb(245,162,122)"
             ],
             [
              0.8784313725490196,
              "rgb(246,188,153)"
             ],
             [
              0.9411764705882353,
              "rgb(247,212,187)"
             ],
             [
              1,
              "rgb(250,234,220)"
             ]
            ],
            "type": "heatmapgl"
           }
          ],
          "histogram": [
           {
            "marker": {
             "colorbar": {
              "outlinewidth": 0,
              "tickcolor": "rgb(36,36,36)",
              "ticklen": 8,
              "ticks": "outside",
              "tickwidth": 2
             }
            },
            "type": "histogram"
           }
          ],
          "histogram2d": [
           {
            "colorbar": {
             "outlinewidth": 0,
             "tickcolor": "rgb(36,36,36)",
             "ticklen": 8,
             "ticks": "outside",
             "tickwidth": 2
            },
            "colorscale": [
             [
              0,
              "rgb(2,4,25)"
             ],
             [
              0.06274509803921569,
              "rgb(24,15,41)"
             ],
             [
              0.12549019607843137,
              "rgb(47,23,57)"
             ],
             [
              0.18823529411764706,
              "rgb(71,28,72)"
             ],
             [
              0.25098039215686274,
              "rgb(97,30,82)"
             ],
             [
              0.3137254901960784,
              "rgb(123,30,89)"
             ],
             [
              0.3764705882352941,
              "rgb(150,27,91)"
             ],
             [
              0.4392156862745098,
              "rgb(177,22,88)"
             ],
             [
              0.5019607843137255,
              "rgb(203,26,79)"
             ],
             [
              0.5647058823529412,
              "rgb(223,47,67)"
             ],
             [
              0.6274509803921569,
              "rgb(236,76,61)"
             ],
             [
              0.6901960784313725,
              "rgb(242,107,73)"
             ],
             [
              0.7529411764705882,
              "rgb(244,135,95)"
             ],
             [
              0.8156862745098039,
              "rgb(245,162,122)"
             ],
             [
              0.8784313725490196,
              "rgb(246,188,153)"
             ],
             [
              0.9411764705882353,
              "rgb(247,212,187)"
             ],
             [
              1,
              "rgb(250,234,220)"
             ]
            ],
            "type": "histogram2d"
           }
          ],
          "histogram2dcontour": [
           {
            "colorbar": {
             "outlinewidth": 0,
             "tickcolor": "rgb(36,36,36)",
             "ticklen": 8,
             "ticks": "outside",
             "tickwidth": 2
            },
            "colorscale": [
             [
              0,
              "rgb(2,4,25)"
             ],
             [
              0.06274509803921569,
              "rgb(24,15,41)"
             ],
             [
              0.12549019607843137,
              "rgb(47,23,57)"
             ],
             [
              0.18823529411764706,
              "rgb(71,28,72)"
             ],
             [
              0.25098039215686274,
              "rgb(97,30,82)"
             ],
             [
              0.3137254901960784,
              "rgb(123,30,89)"
             ],
             [
              0.3764705882352941,
              "rgb(150,27,91)"
             ],
             [
              0.4392156862745098,
              "rgb(177,22,88)"
             ],
             [
              0.5019607843137255,
              "rgb(203,26,79)"
             ],
             [
              0.5647058823529412,
              "rgb(223,47,67)"
             ],
             [
              0.6274509803921569,
              "rgb(236,76,61)"
             ],
             [
              0.6901960784313725,
              "rgb(242,107,73)"
             ],
             [
              0.7529411764705882,
              "rgb(244,135,95)"
             ],
             [
              0.8156862745098039,
              "rgb(245,162,122)"
             ],
             [
              0.8784313725490196,
              "rgb(246,188,153)"
             ],
             [
              0.9411764705882353,
              "rgb(247,212,187)"
             ],
             [
              1,
              "rgb(250,234,220)"
             ]
            ],
            "type": "histogram2dcontour"
           }
          ],
          "mesh3d": [
           {
            "colorbar": {
             "outlinewidth": 0,
             "tickcolor": "rgb(36,36,36)",
             "ticklen": 8,
             "ticks": "outside",
             "tickwidth": 2
            },
            "type": "mesh3d"
           }
          ],
          "parcoords": [
           {
            "line": {
             "colorbar": {
              "outlinewidth": 0,
              "tickcolor": "rgb(36,36,36)",
              "ticklen": 8,
              "ticks": "outside",
              "tickwidth": 2
             }
            },
            "type": "parcoords"
           }
          ],
          "pie": [
           {
            "automargin": true,
            "type": "pie"
           }
          ],
          "scatter": [
           {
            "marker": {
             "colorbar": {
              "outlinewidth": 0,
              "tickcolor": "rgb(36,36,36)",
              "ticklen": 8,
              "ticks": "outside",
              "tickwidth": 2
             }
            },
            "type": "scatter"
           }
          ],
          "scatter3d": [
           {
            "line": {
             "colorbar": {
              "outlinewidth": 0,
              "tickcolor": "rgb(36,36,36)",
              "ticklen": 8,
              "ticks": "outside",
              "tickwidth": 2
             }
            },
            "marker": {
             "colorbar": {
              "outlinewidth": 0,
              "tickcolor": "rgb(36,36,36)",
              "ticklen": 8,
              "ticks": "outside",
              "tickwidth": 2
             }
            },
            "type": "scatter3d"
           }
          ],
          "scattercarpet": [
           {
            "marker": {
             "colorbar": {
              "outlinewidth": 0,
              "tickcolor": "rgb(36,36,36)",
              "ticklen": 8,
              "ticks": "outside",
              "tickwidth": 2
             }
            },
            "type": "scattercarpet"
           }
          ],
          "scattergeo": [
           {
            "marker": {
             "colorbar": {
              "outlinewidth": 0,
              "tickcolor": "rgb(36,36,36)",
              "ticklen": 8,
              "ticks": "outside",
              "tickwidth": 2
             }
            },
            "type": "scattergeo"
           }
          ],
          "scattergl": [
           {
            "marker": {
             "colorbar": {
              "outlinewidth": 0,
              "tickcolor": "rgb(36,36,36)",
              "ticklen": 8,
              "ticks": "outside",
              "tickwidth": 2
             }
            },
            "type": "scattergl"
           }
          ],
          "scattermapbox": [
           {
            "marker": {
             "colorbar": {
              "outlinewidth": 0,
              "tickcolor": "rgb(36,36,36)",
              "ticklen": 8,
              "ticks": "outside",
              "tickwidth": 2
             }
            },
            "type": "scattermapbox"
           }
          ],
          "scatterpolar": [
           {
            "marker": {
             "colorbar": {
              "outlinewidth": 0,
              "tickcolor": "rgb(36,36,36)",
              "ticklen": 8,
              "ticks": "outside",
              "tickwidth": 2
             }
            },
            "type": "scatterpolar"
           }
          ],
          "scatterpolargl": [
           {
            "marker": {
             "colorbar": {
              "outlinewidth": 0,
              "tickcolor": "rgb(36,36,36)",
              "ticklen": 8,
              "ticks": "outside",
              "tickwidth": 2
             }
            },
            "type": "scatterpolargl"
           }
          ],
          "scatterternary": [
           {
            "marker": {
             "colorbar": {
              "outlinewidth": 0,
              "tickcolor": "rgb(36,36,36)",
              "ticklen": 8,
              "ticks": "outside",
              "tickwidth": 2
             }
            },
            "type": "scatterternary"
           }
          ],
          "surface": [
           {
            "colorbar": {
             "outlinewidth": 0,
             "tickcolor": "rgb(36,36,36)",
             "ticklen": 8,
             "ticks": "outside",
             "tickwidth": 2
            },
            "colorscale": [
             [
              0,
              "rgb(2,4,25)"
             ],
             [
              0.06274509803921569,
              "rgb(24,15,41)"
             ],
             [
              0.12549019607843137,
              "rgb(47,23,57)"
             ],
             [
              0.18823529411764706,
              "rgb(71,28,72)"
             ],
             [
              0.25098039215686274,
              "rgb(97,30,82)"
             ],
             [
              0.3137254901960784,
              "rgb(123,30,89)"
             ],
             [
              0.3764705882352941,
              "rgb(150,27,91)"
             ],
             [
              0.4392156862745098,
              "rgb(177,22,88)"
             ],
             [
              0.5019607843137255,
              "rgb(203,26,79)"
             ],
             [
              0.5647058823529412,
              "rgb(223,47,67)"
             ],
             [
              0.6274509803921569,
              "rgb(236,76,61)"
             ],
             [
              0.6901960784313725,
              "rgb(242,107,73)"
             ],
             [
              0.7529411764705882,
              "rgb(244,135,95)"
             ],
             [
              0.8156862745098039,
              "rgb(245,162,122)"
             ],
             [
              0.8784313725490196,
              "rgb(246,188,153)"
             ],
             [
              0.9411764705882353,
              "rgb(247,212,187)"
             ],
             [
              1,
              "rgb(250,234,220)"
             ]
            ],
            "type": "surface"
           }
          ],
          "table": [
           {
            "cells": {
             "fill": {
              "color": "rgb(231,231,240)"
             },
             "line": {
              "color": "white"
             }
            },
            "header": {
             "fill": {
              "color": "rgb(183,183,191)"
             },
             "line": {
              "color": "white"
             }
            },
            "type": "table"
           }
          ]
         },
         "layout": {
          "annotationdefaults": {
           "arrowcolor": "rgb(67,103,167)"
          },
          "autotypenumbers": "strict",
          "coloraxis": {
           "colorbar": {
            "outlinewidth": 0,
            "tickcolor": "rgb(36,36,36)",
            "ticklen": 8,
            "ticks": "outside",
            "tickwidth": 2
           }
          },
          "colorscale": {
           "sequential": [
            [
             0,
             "rgb(2,4,25)"
            ],
            [
             0.06274509803921569,
             "rgb(24,15,41)"
            ],
            [
             0.12549019607843137,
             "rgb(47,23,57)"
            ],
            [
             0.18823529411764706,
             "rgb(71,28,72)"
            ],
            [
             0.25098039215686274,
             "rgb(97,30,82)"
            ],
            [
             0.3137254901960784,
             "rgb(123,30,89)"
            ],
            [
             0.3764705882352941,
             "rgb(150,27,91)"
            ],
            [
             0.4392156862745098,
             "rgb(177,22,88)"
            ],
            [
             0.5019607843137255,
             "rgb(203,26,79)"
            ],
            [
             0.5647058823529412,
             "rgb(223,47,67)"
            ],
            [
             0.6274509803921569,
             "rgb(236,76,61)"
            ],
            [
             0.6901960784313725,
             "rgb(242,107,73)"
            ],
            [
             0.7529411764705882,
             "rgb(244,135,95)"
            ],
            [
             0.8156862745098039,
             "rgb(245,162,122)"
            ],
            [
             0.8784313725490196,
             "rgb(246,188,153)"
            ],
            [
             0.9411764705882353,
             "rgb(247,212,187)"
            ],
            [
             1,
             "rgb(250,234,220)"
            ]
           ],
           "sequentialminus": [
            [
             0,
             "rgb(2,4,25)"
            ],
            [
             0.06274509803921569,
             "rgb(24,15,41)"
            ],
            [
             0.12549019607843137,
             "rgb(47,23,57)"
            ],
            [
             0.18823529411764706,
             "rgb(71,28,72)"
            ],
            [
             0.25098039215686274,
             "rgb(97,30,82)"
            ],
            [
             0.3137254901960784,
             "rgb(123,30,89)"
            ],
            [
             0.3764705882352941,
             "rgb(150,27,91)"
            ],
            [
             0.4392156862745098,
             "rgb(177,22,88)"
            ],
            [
             0.5019607843137255,
             "rgb(203,26,79)"
            ],
            [
             0.5647058823529412,
             "rgb(223,47,67)"
            ],
            [
             0.6274509803921569,
             "rgb(236,76,61)"
            ],
            [
             0.6901960784313725,
             "rgb(242,107,73)"
            ],
            [
             0.7529411764705882,
             "rgb(244,135,95)"
            ],
            [
             0.8156862745098039,
             "rgb(245,162,122)"
            ],
            [
             0.8784313725490196,
             "rgb(246,188,153)"
            ],
            [
             0.9411764705882353,
             "rgb(247,212,187)"
            ],
            [
             1,
             "rgb(250,234,220)"
            ]
           ]
          },
          "colorway": [
           "rgb(76,114,176)",
           "rgb(221,132,82)",
           "rgb(85,168,104)",
           "rgb(196,78,82)",
           "rgb(129,114,179)",
           "rgb(147,120,96)",
           "rgb(218,139,195)",
           "rgb(140,140,140)",
           "rgb(204,185,116)",
           "rgb(100,181,205)"
          ],
          "font": {
           "color": "rgb(36,36,36)"
          },
          "geo": {
           "bgcolor": "white",
           "lakecolor": "white",
           "landcolor": "rgb(234,234,242)",
           "showlakes": true,
           "showland": true,
           "subunitcolor": "white"
          },
          "hoverlabel": {
           "align": "left"
          },
          "hovermode": "closest",
          "paper_bgcolor": "white",
          "plot_bgcolor": "rgb(234,234,242)",
          "polar": {
           "angularaxis": {
            "gridcolor": "white",
            "linecolor": "white",
            "showgrid": true,
            "ticks": ""
           },
           "bgcolor": "rgb(234,234,242)",
           "radialaxis": {
            "gridcolor": "white",
            "linecolor": "white",
            "showgrid": true,
            "ticks": ""
           }
          },
          "scene": {
           "xaxis": {
            "backgroundcolor": "rgb(234,234,242)",
            "gridcolor": "white",
            "gridwidth": 2,
            "linecolor": "white",
            "showbackground": true,
            "showgrid": true,
            "ticks": "",
            "zerolinecolor": "white"
           },
           "yaxis": {
            "backgroundcolor": "rgb(234,234,242)",
            "gridcolor": "white",
            "gridwidth": 2,
            "linecolor": "white",
            "showbackground": true,
            "showgrid": true,
            "ticks": "",
            "zerolinecolor": "white"
           },
           "zaxis": {
            "backgroundcolor": "rgb(234,234,242)",
            "gridcolor": "white",
            "gridwidth": 2,
            "linecolor": "white",
            "showbackground": true,
            "showgrid": true,
            "ticks": "",
            "zerolinecolor": "white"
           }
          },
          "shapedefaults": {
           "fillcolor": "rgb(67,103,167)",
           "line": {
            "width": 0
           },
           "opacity": 0.5
          },
          "ternary": {
           "aaxis": {
            "gridcolor": "white",
            "linecolor": "white",
            "showgrid": true,
            "ticks": ""
           },
           "baxis": {
            "gridcolor": "white",
            "linecolor": "white",
            "showgrid": true,
            "ticks": ""
           },
           "bgcolor": "rgb(234,234,242)",
           "caxis": {
            "gridcolor": "white",
            "linecolor": "white",
            "showgrid": true,
            "ticks": ""
           }
          },
          "xaxis": {
           "automargin": true,
           "gridcolor": "white",
           "linecolor": "white",
           "showgrid": true,
           "ticks": "",
           "title": {
            "standoff": 15
           },
           "zerolinecolor": "white"
          },
          "yaxis": {
           "automargin": true,
           "gridcolor": "white",
           "linecolor": "white",
           "showgrid": true,
           "ticks": "",
           "title": {
            "standoff": 15
           },
           "zerolinecolor": "white"
          }
         }
        },
        "title": {
         "text": "p = 4"
        },
        "width": 800,
        "xaxis": {
         "anchor": "y",
         "domain": [
          0,
          1
         ],
         "title": {
          "text": "x"
         }
        },
        "yaxis": {
         "anchor": "x",
         "domain": [
          0,
          1
         ],
         "title": {
          "text": "y"
         }
        }
       }
      }
     },
     "metadata": {}
    },
    {
     "output_type": "stream",
     "name": "stdout",
     "text": [
      "[[ 1.00000000e+00 -1.50000000e+01  2.25000000e+02 -3.37500000e+03\n   5.06250000e+04 -7.59375000e+05]\n [ 1.00000000e+00 -1.47474747e+01  2.17488011e+02 -3.20739896e+03\n   4.73010351e+04 -6.97570821e+05]\n [ 1.00000000e+00 -1.44949495e+01  2.10103561e+02 -3.04544050e+03\n   4.41435063e+04 -6.39857894e+05]\n [ 1.00000000e+00 -1.42424242e+01  2.02846648e+02 -2.88902802e+03\n   4.11467627e+04 -5.86029651e+05]\n [ 1.00000000e+00 -1.39898990e+01  1.95717274e+02 -2.73806489e+03\n   3.83052512e+04 -5.35886596e+05]\n [ 1.00000000e+00 -1.37373737e+01  1.88715437e+02 -2.59245449e+03\n   3.56135162e+04 -4.89236183e+05]\n [ 1.00000000e+00 -1.34848485e+01  1.81841139e+02 -2.45210020e+03\n   3.30661997e+04 -4.45892693e+05]\n [ 1.00000000e+00 -1.32323232e+01  1.75094378e+02 -2.31690541e+03\n   3.06580413e+04 -4.05677112e+05]\n [ 1.00000000e+00 -1.29797980e+01  1.68475156e+02 -2.18677348e+03\n   2.83838781e+04 -3.68417003e+05]\n [ 1.00000000e+00 -1.27272727e+01  1.61983471e+02 -2.06160781e+03\n   2.62386449e+04 -3.33946390e+05]\n [ 1.00000000e+00 -1.24747475e+01  1.55619325e+02 -1.94131178e+03\n   2.42173742e+04 -3.02105627e+05]\n [ 1.00000000e+00 -1.22222222e+01  1.49382716e+02 -1.82578875e+03\n   2.23151959e+04 -2.72741283e+05]\n [ 1.00000000e+00 -1.19696970e+01  1.43273646e+02 -1.71494212e+03\n   2.05273375e+04 -2.45706010e+05]\n [ 1.00000000e+00 -1.17171717e+01  1.37292113e+02 -1.60867526e+03\n   1.88491243e+04 -2.20858426e+05]\n [ 1.00000000e+00 -1.14646465e+01  1.31438119e+02 -1.50689156e+03\n   1.72759790e+04 -1.98062992e+05]\n [ 1.00000000e+00 -1.12121212e+01  1.25711662e+02 -1.40949439e+03\n   1.58034220e+04 -1.77189883e+05]\n [ 1.00000000e+00 -1.09595960e+01  1.20112744e+02 -1.31638714e+03\n   1.44270712e+04 -1.58114871e+05]\n [ 1.00000000e+00 -1.07070707e+01  1.14641363e+02 -1.22747318e+03\n   1.31426421e+04 -1.40719199e+05]\n [ 1.00000000e+00 -1.04545455e+01  1.09297521e+02 -1.14265590e+03\n   1.19459480e+04 -1.24889457e+05]\n [ 1.00000000e+00 -1.02020202e+01  1.04081216e+02 -1.06183867e+03\n   1.08328996e+04 -1.10517460e+05]\n [ 1.00000000e+00 -9.94949495e+00  9.89924498e+01 -9.84924879e+02\n   9.79950511e+03 -9.75001266e+04]\n [ 1.00000000e+00 -9.69696970e+00  9.40312213e+01 -9.11817904e+02\n   8.84187058e+03 -8.57393511e+04]\n [ 1.00000000e+00 -9.44444444e+00  8.91975309e+01 -8.42421125e+02\n   7.95619951e+03 -7.51418843e+04]\n [ 1.00000000e+00 -9.19191919e+00  8.44913784e+01 -7.76637923e+02\n   7.13879303e+03 -6.56192087e+04]\n [ 1.00000000e+00 -8.93939394e+00  7.99127640e+01 -7.14371678e+02\n   6.38604985e+03 -5.70874153e+04]\n [ 1.00000000e+00 -8.68686869e+00  7.54616876e+01 -6.55525771e+02\n   5.69446629e+03 -4.94670809e+04]\n [ 1.00000000e+00 -8.43434343e+00  7.11381492e+01 -6.00003581e+02\n   5.06063627e+03 -4.26831443e+04]\n [ 1.00000000e+00 -8.18181818e+00  6.69421488e+01 -5.47708490e+02\n   4.48125128e+03 -3.66647832e+04]\n [ 1.00000000e+00 -7.92929293e+00  6.28736864e+01 -4.98543877e+02\n   3.95310044e+03 -3.13452913e+04]\n [ 1.00000000e+00 -7.67676768e+00  5.89327620e+01 -4.52413122e+02\n   3.47307043e+03 -2.66619548e+04]\n [ 1.00000000e+00 -7.42424242e+00  5.51193756e+01 -4.09219607e+02\n   3.03814556e+03 -2.25559292e+04]\n [ 1.00000000e+00 -7.17171717e+00  5.14335272e+01 -3.68866710e+02\n   2.64540772e+03 -1.89721160e+04]\n [ 1.00000000e+00 -6.91919192e+00  4.78752168e+01 -3.31257813e+02\n   2.29203639e+03 -1.58590396e+04]\n [ 1.00000000e+00 -6.66666667e+00  4.44444444e+01 -2.96296296e+02\n   1.97530864e+03 -1.31687243e+04]\n [ 1.00000000e+00 -6.41414141e+00  4.11412101e+01 -2.63885539e+02\n   1.69259917e+03 -1.08565704e+04]\n [ 1.00000000e+00 -6.16161616e+00  3.79655137e+01 -2.33928923e+02\n   1.44138023e+03 -8.88123173e+03]\n [ 1.00000000e+00 -5.90909091e+00  3.49173554e+01 -2.06329827e+02\n   1.21922171e+03 -7.20449190e+03]\n [ 1.00000000e+00 -5.65656566e+00  3.19967350e+01 -1.80991632e+02\n   1.02379105e+03 -5.79114131e+03]\n [ 1.00000000e+00 -5.40404040e+00  2.92036527e+01 -1.57817719e+02\n   8.52853330e+02 -4.60885386e+03]\n [ 1.00000000e+00 -5.15151515e+00  2.65381084e+01 -1.36711467e+02\n   7.04271195e+02 -3.62806373e+03]\n [ 1.00000000e+00 -4.89898990e+00  2.40001020e+01 -1.17576257e+02\n   5.76004897e+02 -2.82184217e+03]\n [ 1.00000000e+00 -4.64646465e+00  2.15896337e+01 -1.00315470e+02\n   4.66112284e+02 -2.16577425e+03]\n [ 1.00000000e+00 -4.39393939e+00  1.93067034e+01 -8.48324846e+01\n   3.72748796e+02 -1.63783562e+03]\n [ 1.00000000e+00 -4.14141414e+00  1.71513111e+01 -7.10306823e+01\n   2.94167472e+02 -1.21826933e+03]\n [ 1.00000000e+00 -3.88888889e+00  1.51234568e+01 -5.88134431e+01\n   2.28718945e+02 -8.89462565e+02]\n [ 1.00000000e+00 -3.63636364e+00  1.32231405e+01 -4.80841473e+01\n   1.74851445e+02 -6.35823435e+02]\n [ 1.00000000e+00 -3.38383838e+00  1.14503622e+01 -3.87461751e+01\n   1.31110795e+02 -4.43657740e+02]\n [ 1.00000000e+00 -3.13131313e+00  9.80512193e+00 -3.07029070e+01\n   9.61404160e+01 -3.01045747e+02]\n [ 1.00000000e+00 -2.87878788e+00  8.28741965e+00 -2.38577232e+01\n   6.86813245e+01 -1.97718964e+02]\n [ 1.00000000e+00 -2.62626263e+00  6.89725538e+00 -1.81140040e+01\n   4.75721318e+01 -1.24936912e+02]\n [ 1.00000000e+00 -2.37373737e+00  5.63462912e+00 -1.33751297e+01\n   3.17490453e+01 -7.53638954e+01]\n [ 1.00000000e+00 -2.12121212e+00  4.49954086e+00 -9.54448062e+00\n   2.02458680e+01 -4.29457806e+01]\n [ 1.00000000e+00 -1.86868687e+00  3.49199061e+00 -6.52543700e+00\n   1.21939984e+01 -2.27867648e+01]\n [ 1.00000000e+00 -1.61616162e+00  2.61197837e+00 -4.22137918e+00\n   6.82243100e+00 -1.10261511e+01]\n [ 1.00000000e+00 -1.36363636e+00  1.85950413e+00 -2.53568745e+00\n   3.45775562e+00 -4.71512130e+00]\n [ 1.00000000e+00 -1.11111111e+00  1.23456790e+00 -1.37174211e+00\n   1.52415790e+00 -1.69350878e+00]\n [ 1.00000000e+00 -8.58585859e-01  7.37169677e-01 -6.32923460e-01\n   5.43419132e-01 -4.66571982e-01]\n [ 1.00000000e+00 -6.06060606e-01  3.67309458e-01 -2.22611793e-01\n   1.34916238e-01 -8.17674170e-02]\n [ 1.00000000e+00 -3.53535354e-01  1.24987246e-01 -4.41874103e-02\n   1.56218117e-02 -5.52286273e-03]\n [ 1.00000000e+00 -1.01010101e-01  1.02030405e-02 -1.03061015e-03\n   1.04102036e-04 -1.05153571e-05]\n [ 1.00000000e+00  1.51515152e-01  2.29568411e-02  3.47830926e-03\n   5.27016555e-04  7.98509932e-05]\n [ 1.00000000e+00  4.04040404e-01  1.63248648e-01  6.59590497e-02\n   2.66501211e-02  1.07677257e-02]\n [ 1.00000000e+00  6.56565657e-01  4.31078461e-01  2.83031313e-01\n   1.85828640e-01  1.22008703e-01]\n [ 1.00000000e+00  9.09090909e-01  8.26446281e-01  7.51314801e-01\n   6.83013455e-01  6.20921323e-01]\n [ 1.00000000e+00  1.16161616e+00  1.34935211e+00  1.56742922e+00\n   1.82075111e+00  2.11501391e+00]\n [ 1.00000000e+00  1.41414141e+00  1.99979594e+00  2.82799426e+00\n   3.99918380e+00  5.65541143e+00]\n [ 1.00000000e+00  1.66666667e+00  2.77777778e+00  4.62962963e+00\n   7.71604938e+00  1.28600823e+01]\n [ 1.00000000e+00  1.91919192e+00  3.68329762e+00  7.06895503e+00\n   1.35666814e+01  2.60370653e+01]\n [ 1.00000000e+00  2.17171717e+00  4.71635547e+00  1.02425902e+01\n   2.22440090e+01  4.83076962e+01]\n [ 1.00000000e+00  2.42424242e+00  5.87695133e+00  1.42471547e+01\n   3.45385570e+01  8.37298350e+01]\n [ 1.00000000e+00  2.67676768e+00  7.16508520e+00  1.91792685e+01\n   5.13384459e+01  1.37421092e+02]\n [ 1.00000000e+00  2.92929293e+00  8.58075707e+00  2.51355510e+01\n   7.36293918e+01  2.15682057e+02]\n [ 1.00000000e+00  3.18181818e+00  1.01239669e+01  3.22126221e+01\n   1.02494707e+02  3.26119521e+02]\n [ 1.00000000e+00  3.43434343e+00  1.17947148e+01  4.05071014e+01\n   1.39115298e+02  4.77769710e+02]\n [ 1.00000000e+00  3.68686869e+00  1.35930007e+01  5.01156087e+01\n   1.84769668e+02  6.81221505e+02]\n [ 1.00000000e+00  3.93939394e+00  1.55188246e+01  6.11347636e+01\n   2.40833917e+02  9.48739674e+02]\n [ 1.00000000e+00  4.19191919e+00  1.75721865e+01  7.36611859e+01\n   3.08781739e+02  1.29438810e+03]\n [ 1.00000000e+00  4.44444444e+00  1.97530864e+01  8.77914952e+01\n   3.90184423e+02  1.73415299e+03]\n [ 1.00000000e+00  4.69696970e+00  2.20615243e+01  1.03622311e+02\n   4.86710856e+02  2.28606614e+03]\n [ 1.00000000e+00  4.94949495e+00  2.44975003e+01  1.21250254e+02\n   6.00127519e+02  2.97032812e+03]\n [ 1.00000000e+00  5.20202020e+00  2.70610142e+01  1.40771942e+02\n   7.32298489e+02  3.80943153e+03]\n [ 1.00000000e+00  5.45454545e+00  2.97520661e+01  1.62283997e+02\n   8.85185438e+02  4.82828421e+03]\n [ 1.00000000e+00  5.70707071e+00  3.25706561e+01  1.85883037e+02\n   1.06084764e+03  6.05433247e+03]\n [ 1.00000000e+00  5.95959596e+00  3.55167840e+01  2.11665682e+02\n   1.26144195e+03  7.51768432e+03]\n [ 1.00000000e+00  6.21212121e+00  3.85904500e+01  2.39728553e+02\n   1.48922283e+03  9.25123272e+03]\n [ 1.00000000e+00  6.46464646e+00  4.17916539e+01  2.70168268e+02\n   1.74654234e+03  1.12907787e+04]\n [ 1.00000000e+00  6.71717172e+00  4.51203959e+01  3.03081447e+02\n   2.03585012e+03  1.36751549e+04]\n [ 1.00000000e+00  6.96969697e+00  4.85766758e+01  3.38564710e+02\n   2.35969344e+03  1.64463482e+04]\n [ 1.00000000e+00  7.22222222e+00  5.21604938e+01  3.76714678e+02\n   2.72071712e+03  1.96496236e+04]\n [ 1.00000000e+00  7.47474747e+00  5.58718498e+01  4.17627968e+02\n   3.12166360e+03  2.33336471e+04]\n [ 1.00000000e+00  7.72727273e+00  5.97107438e+01  4.61401202e+02\n   3.56537293e+03  2.75506090e+04]\n [ 1.00000000e+00  7.97979798e+00  6.36771758e+01  5.08130999e+02\n   4.05478272e+03  3.23563469e+04]\n [ 1.00000000e+00  8.23232323e+00  6.77711458e+01  5.57913978e+02\n   4.59292820e+03  3.78104696e+04]\n [ 1.00000000e+00  8.48484848e+00  7.19926538e+01  6.10846760e+02\n   5.18294220e+03  4.39764793e+04]\n [ 1.00000000e+00  8.73737374e+00  7.63416998e+01  6.67025963e+02\n   5.82805513e+03  5.09218959e+04]\n [ 1.00000000e+00  8.98989899e+00  8.08182838e+01  7.26548208e+02\n   6.53159500e+03  5.87183793e+04]\n [ 1.00000000e+00  9.24242424e+00  8.54224059e+01  7.89510115e+02\n   7.29698743e+03  6.74418535e+04]\n [ 1.00000000e+00  9.49494949e+00  9.01540659e+01  8.56008303e+02\n   8.12775560e+03  7.71726289e+04]\n [ 1.00000000e+00  9.74747475e+00  9.50132640e+01  9.26139391e+02\n   9.02752033e+03  8.79955264e+04]\n [ 1.00000000e+00  1.00000000e+01  1.00000000e+02  1.00000000e+03\n   1.00000000e+04  1.00000000e+05]]\n"
     ]
    },
    {
     "output_type": "display_data",
     "data": {
      "application/vnd.plotly.v1+json": {
       "config": {
        "plotlyServerURL": "https://plot.ly"
       },
       "data": [
        {
         "hoverinfo": "skip",
         "hovertemplate": "x=%{x}<br>y=%{y}<extra></extra>",
         "legendgroup": "",
         "marker": {
          "color": "red",
          "line": {
           "color": "black",
           "width": 2
          },
          "size": 8,
          "symbol": "circle"
         },
         "mode": "markers",
         "name": "",
         "orientation": "v",
         "showlegend": false,
         "type": "scatter",
         "x": [
          -15,
          -14.747474747474747,
          -14.494949494949495,
          -14.242424242424242,
          -13.98989898989899,
          -13.737373737373737,
          -13.484848484848484,
          -13.232323232323232,
          -12.97979797979798,
          -12.727272727272727,
          -12.474747474747474,
          -12.222222222222221,
          -11.969696969696969,
          -11.717171717171716,
          -11.464646464646464,
          -11.212121212121211,
          -10.959595959595958,
          -10.707070707070706,
          -10.454545454545453,
          -10.2020202020202,
          -9.949494949494948,
          -9.696969696969695,
          -9.444444444444443,
          -9.19191919191919,
          -8.93939393939394,
          -8.686868686868687,
          -8.434343434343434,
          -8.181818181818182,
          -7.929292929292929,
          -7.6767676767676765,
          -7.424242424242424,
          -7.171717171717171,
          -6.919191919191919,
          -6.666666666666666,
          -6.4141414141414135,
          -6.161616161616161,
          -5.909090909090908,
          -5.656565656565656,
          -5.404040404040403,
          -5.1515151515151505,
          -4.898989898989898,
          -4.646464646464645,
          -4.393939393939393,
          -4.14141414141414,
          -3.8888888888888875,
          -3.636363636363635,
          -3.3838383838383823,
          -3.1313131313131297,
          -2.878787878787879,
          -2.6262626262626263,
          -2.3737373737373737,
          -2.121212121212121,
          -1.8686868686868685,
          -1.616161616161616,
          -1.3636363636363633,
          -1.1111111111111107,
          -0.8585858585858581,
          -0.6060606060606055,
          -0.3535353535353529,
          -0.10101010101010033,
          0.15151515151515227,
          0.40404040404040487,
          0.6565656565656575,
          0.9090909090909101,
          1.1616161616161627,
          1.4141414141414153,
          1.6666666666666679,
          1.9191919191919204,
          2.171717171717173,
          2.4242424242424256,
          2.6767676767676782,
          2.929292929292931,
          3.1818181818181834,
          3.434343434343436,
          3.6868686868686886,
          3.9393939393939412,
          4.191919191919194,
          4.444444444444446,
          4.696969696969699,
          4.949494949494952,
          5.202020202020204,
          5.454545454545457,
          5.707070707070709,
          5.959595959595962,
          6.212121212121215,
          6.464646464646467,
          6.71717171717172,
          6.969696969696972,
          7.222222222222225,
          7.474747474747478,
          7.72727272727273,
          7.979797979797983,
          8.232323232323235,
          8.484848484848488,
          8.73737373737374,
          8.989898989898993,
          9.242424242424242,
          9.494949494949495,
          9.747474747474747,
          10
         ],
         "xaxis": "x",
         "y": [
          78.8145264368132,
          76.57044197789587,
          70.71559763799429,
          64.98242118444067,
          60.370093944052115,
          65.3427399586452,
          61.61156788395709,
          54.159247074743384,
          58.003581512239464,
          58.3834879095741,
          48.33128578835695,
          36.795974355843946,
          47.0866395724152,
          44.707615558827655,
          35.45226293095519,
          37.09552798829185,
          42.57067476156927,
          30.528245748188354,
          40.415136228881224,
          29.05062722816826,
          28.33758137203389,
          36.28738010218093,
          20.652213387430965,
          26.807644591640848,
          18.164942561966704,
          20.033392459458913,
          17.660222217380895,
          18.282461990297072,
          19.49881119963429,
          11.674908941600714,
          12.573047648824778,
          9.619463523387886,
          15.65352303049416,
          13.972213091561857,
          16.612273532730647,
          7.309122023985634,
          9.49300323493813,
          12.979187122866433,
          12.257189707075586,
          5.971458400976415,
          9.8259333842476,
          4.651954537633046,
          5.199575042174219,
          5.772809120976745,
          7.62186870652512,
          3.103457491597879,
          9.16553203739803,
          3.9524184687017723,
          2.1313608348936883,
          7.337828209406968,
          4.113500561421851,
          8.677871546454561,
          5.1104962781614836,
          15.909683590566768,
          7.277602132779751,
          9.322184880051765,
          14.94174351810746,
          3.9064409293766484,
          17.28984052489481,
          10.620963769116443,
          15.913051080291453,
          11.81360694188862,
          9.773092742100097,
          16.49480186168052,
          17.0008304335297,
          8.882807212985732,
          20.970693279156148,
          14.210734303365376,
          21.276883472494152,
          20.36286777557737,
          17.105467148917633,
          22.046274741345126,
          22.179681727674854,
          23.28883766257723,
          32.93056811313294,
          36.0481138345626,
          34.0362534113516,
          33.383138880805774,
          25.123437456387563,
          33.50118312435098,
          40.22941412798667,
          41.09572522747814,
          43.65965170427655,
          46.970072422070174,
          46.80935287333976,
          53.003991219261195,
          54.79572060002411,
          59.21494030077444,
          56.24193074865577,
          61.29686359911075,
          64.21716354422281,
          68.61993315578066,
          70.11748307935183,
          71.05469017203949,
          73.9101430107204,
          75.28309256555329,
          77.97079594339958,
          85.97823411409078,
          86.96671875950356,
          94.5060568412618
         ],
         "yaxis": "y"
        },
        {
         "line": {
          "color": "green"
         },
         "mode": "lines",
         "name": "Aproximation",
         "type": "scatter",
         "x": [
          -15,
          -14.747474747474747,
          -14.494949494949495,
          -14.242424242424242,
          -13.98989898989899,
          -13.737373737373737,
          -13.484848484848484,
          -13.232323232323232,
          -12.97979797979798,
          -12.727272727272727,
          -12.474747474747474,
          -12.222222222222221,
          -11.969696969696969,
          -11.717171717171716,
          -11.464646464646464,
          -11.212121212121211,
          -10.959595959595958,
          -10.707070707070706,
          -10.454545454545453,
          -10.2020202020202,
          -9.949494949494948,
          -9.696969696969695,
          -9.444444444444443,
          -9.19191919191919,
          -8.93939393939394,
          -8.686868686868687,
          -8.434343434343434,
          -8.181818181818182,
          -7.929292929292929,
          -7.6767676767676765,
          -7.424242424242424,
          -7.171717171717171,
          -6.919191919191919,
          -6.666666666666666,
          -6.4141414141414135,
          -6.161616161616161,
          -5.909090909090908,
          -5.656565656565656,
          -5.404040404040403,
          -5.1515151515151505,
          -4.898989898989898,
          -4.646464646464645,
          -4.393939393939393,
          -4.14141414141414,
          -3.8888888888888875,
          -3.636363636363635,
          -3.3838383838383823,
          -3.1313131313131297,
          -2.878787878787879,
          -2.6262626262626263,
          -2.3737373737373737,
          -2.121212121212121,
          -1.8686868686868685,
          -1.616161616161616,
          -1.3636363636363633,
          -1.1111111111111107,
          -0.8585858585858581,
          -0.6060606060606055,
          -0.3535353535353529,
          -0.10101010101010033,
          0.15151515151515227,
          0.40404040404040487,
          0.6565656565656575,
          0.9090909090909101,
          1.1616161616161627,
          1.4141414141414153,
          1.6666666666666679,
          1.9191919191919204,
          2.171717171717173,
          2.4242424242424256,
          2.6767676767676782,
          2.929292929292931,
          3.1818181818181834,
          3.434343434343436,
          3.6868686868686886,
          3.9393939393939412,
          4.191919191919194,
          4.444444444444446,
          4.696969696969699,
          4.949494949494952,
          5.202020202020204,
          5.454545454545457,
          5.707070707070709,
          5.959595959595962,
          6.212121212121215,
          6.464646464646467,
          6.71717171717172,
          6.969696969696972,
          7.222222222222225,
          7.474747474747478,
          7.72727272727273,
          7.979797979797983,
          8.232323232323235,
          8.484848484848488,
          8.73737373737374,
          8.989898989898993,
          9.242424242424242,
          9.494949494949495,
          9.747474747474747,
          10
         ],
         "y": [
          77.60035025383496,
          74.43250703036432,
          71.34447702018666,
          68.33574485143404,
          65.4057884520176,
          62.554079703432194,
          59.7800850945612,
          57.083266375481195,
          54.46308121126685,
          51.91898383579545,
          49.45042570555185,
          47.056856153433124,
          44.73772304255329,
          42.49247342004813,
          40.320554170879866,
          38.22141267164194,
          36.194497444363755,
          34.23925881031545,
          32.35514954381256,
          30.541625526020848,
          28.798146398761027,
          27.12417621831349,
          25.519184109223072,
          23.982644918103773,
          22.51403986744354,
          21.11285720940898,
          19.778592879650123,
          18.51075115110515,
          17.30884528780519,
          16.172398198678987,
          15.100943091357708,
          14.09402412597966,
          13.151197068995046,
          12.272029946970722,
          11.456103700394905,
          10.703012837481959,
          10.01236608797713,
          9.383787056961262,
          8.816914878655597,
          8.311404870226475,
          7.8669291855901005,
          7.4831774692172885,
          7.1598575099382,
          6.896695894747092,
          6.693438662607074,
          6.549851958254838,
          6.465722686005416,
          6.440859163556922,
          6.475091775795292,
          6.568273628599039,
          6.720281202643995,
          6.931015007208056,
          7.200400233975927,
          7.528387410843872,
          7.9149530557244585,
          8.360100330351298,
          8.863859694083798,
          9.426289557711907,
          10.047476937260857,
          10.727538107795915,
          11.466619257227123,
          12.264897140114043,
          13.122579731470514,
          14.039906880569381,
          15.017150964747259,
          16.054617543209265,
          17.152646010833763,
          18.311610251977125,
          19.53191929427846,
          20.814017962464376,
          22.158387532153704,
          23.565546383662262,
          25.036050655807603,
          26.570494899713747,
          28.16951273261593,
          29.833777491665366,
          31.564002887733952,
          33.360943659219075,
          35.225396225848314,
          37.158199342484174,
          39.160234752928886,
          41.23242784372911,
          43.37574829798068,
          45.59121074913338,
          47.879875434795665,
          50.242848850539396,
          52.68128440370464,
          55.19638306720435,
          57.78939403332914,
          60.46161536755205,
          63.21439466233326,
          66.04912969092484,
          68.96726906117556,
          71.97031286933546,
          75.05981335386085,
          78.23737554921885,
          81.50465793969215,
          84.86337311318401,
          88.31528841502265,
          91.86222660176612
         ]
        },
        {
         "line": {
          "color": "royalblue",
          "dash": "dash"
         },
         "mode": "lines",
         "name": "Fg(x)",
         "type": "scatter",
         "x": [
          -15,
          -14.747474747474747,
          -14.494949494949495,
          -14.242424242424242,
          -13.98989898989899,
          -13.737373737373737,
          -13.484848484848484,
          -13.232323232323232,
          -12.97979797979798,
          -12.727272727272727,
          -12.474747474747474,
          -12.222222222222221,
          -11.969696969696969,
          -11.717171717171716,
          -11.464646464646464,
          -11.212121212121211,
          -10.959595959595958,
          -10.707070707070706,
          -10.454545454545453,
          -10.2020202020202,
          -9.949494949494948,
          -9.696969696969695,
          -9.444444444444443,
          -9.19191919191919,
          -8.93939393939394,
          -8.686868686868687,
          -8.434343434343434,
          -8.181818181818182,
          -7.929292929292929,
          -7.6767676767676765,
          -7.424242424242424,
          -7.171717171717171,
          -6.919191919191919,
          -6.666666666666666,
          -6.4141414141414135,
          -6.161616161616161,
          -5.909090909090908,
          -5.656565656565656,
          -5.404040404040403,
          -5.1515151515151505,
          -4.898989898989898,
          -4.646464646464645,
          -4.393939393939393,
          -4.14141414141414,
          -3.8888888888888875,
          -3.636363636363635,
          -3.3838383838383823,
          -3.1313131313131297,
          -2.878787878787879,
          -2.6262626262626263,
          -2.3737373737373737,
          -2.121212121212121,
          -1.8686868686868685,
          -1.616161616161616,
          -1.3636363636363633,
          -1.1111111111111107,
          -0.8585858585858581,
          -0.6060606060606055,
          -0.3535353535353529,
          -0.10101010101010033,
          0.15151515151515227,
          0.40404040404040487,
          0.6565656565656575,
          0.9090909090909101,
          1.1616161616161627,
          1.4141414141414153,
          1.6666666666666679,
          1.9191919191919204,
          2.171717171717173,
          2.4242424242424256,
          2.6767676767676782,
          2.929292929292931,
          3.1818181818181834,
          3.434343434343436,
          3.6868686868686886,
          3.9393939393939412,
          4.191919191919194,
          4.444444444444446,
          4.696969696969699,
          4.949494949494952,
          5.202020202020204,
          5.454545454545457,
          5.707070707070709,
          5.959595959595962,
          6.212121212121215,
          6.464646464646467,
          6.71717171717172,
          6.969696969696972,
          7.222222222222225,
          7.474747474747478,
          7.72727272727273,
          7.979797979797983,
          8.232323232323235,
          8.484848484848488,
          8.73737373737374,
          8.989898989898993,
          9.242424242424242,
          9.494949494949495,
          9.747474747474747,
          10
         ],
         "y": [
          77.5,
          74.50158147127843,
          71.56693194571983,
          68.69605142332415,
          65.88893990409142,
          63.14559738802162,
          60.466023875114786,
          57.85021936537087,
          55.29818385878991,
          52.8099173553719,
          50.38541985511682,
          48.02469135802469,
          45.72773186409549,
          43.49454137332925,
          41.32511988572594,
          39.21946740128558,
          37.17758392000815,
          35.199469441893676,
          33.28512396694214,
          31.434547495153545,
          29.6477400265279,
          27.924701561065184,
          26.265432098765423,
          24.6699316396286,
          23.138200183654725,
          21.670237730843787,
          20.266044281195796,
          18.925619834710744,
          17.64896439138863,
          16.436077951229464,
          15.28696051423324,
          14.201612080399954,
          13.180032649729615,
          12.222222222222218,
          11.328180797877764,
          10.497908376696252,
          9.731404958677683,
          9.028670543822054,
          8.38970513212937,
          7.81450872359963,
          7.303081318232831,
          6.855422916028974,
          6.47153351698806,
          6.151413121110089,
          5.895061728395061,
          5.702479338842974,
          5.573665952453831,
          5.508621569227629,
          5.507346189164371,
          5.569839812264055,
          5.696102438526681,
          5.88613406795225,
          6.139934700540762,
          6.4575043362922155,
          6.838842975206612,
          7.283950617283951,
          7.792827262524233,
          8.365472910927458,
          9.001887562493625,
          9.702071217222734,
          10.466023875114786,
          11.293745536169782,
          12.185236200387719,
          13.1404958677686,
          14.159524538312422,
          15.242322212019186,
          16.388888888888893,
          17.599224568921546,
          18.873329252117138,
          20.211202938475672,
          21.612845627997153,
          23.078257320681573,
          24.607438016528935,
          26.200387715539243,
          27.85710641771249,
          29.57759412304868,
          31.361850831547812,
          33.20987654320989,
          35.12167125803491,
          37.097234976022875,
          39.136567697173774,
          41.23966942148762,
          43.40654014896441,
          45.63717987960415,
          47.93158861340682,
          50.28976635037243,
          52.71171309050099,
          55.1974288337925,
          57.74691358024694,
          60.360167329864325,
          63.037190082644656,
          65.77798183858793,
          68.58254259769414,
          71.4508723599633,
          74.3829711253954,
          77.37883889399045,
          80.4384756657484,
          83.56188144066931,
          86.7490562187532,
          90
         ]
        }
       ],
       "layout": {
        "height": 700,
        "legend": {
         "tracegroupgap": 0
        },
        "template": {
         "data": {
          "bar": [
           {
            "error_x": {
             "color": "rgb(36,36,36)"
            },
            "error_y": {
             "color": "rgb(36,36,36)"
            },
            "marker": {
             "line": {
              "color": "rgb(234,234,242)",
              "width": 0.5
             }
            },
            "type": "bar"
           }
          ],
          "barpolar": [
           {
            "marker": {
             "line": {
              "color": "rgb(234,234,242)",
              "width": 0.5
             }
            },
            "type": "barpolar"
           }
          ],
          "carpet": [
           {
            "aaxis": {
             "endlinecolor": "rgb(36,36,36)",
             "gridcolor": "white",
             "linecolor": "white",
             "minorgridcolor": "white",
             "startlinecolor": "rgb(36,36,36)"
            },
            "baxis": {
             "endlinecolor": "rgb(36,36,36)",
             "gridcolor": "white",
             "linecolor": "white",
             "minorgridcolor": "white",
             "startlinecolor": "rgb(36,36,36)"
            },
            "type": "carpet"
           }
          ],
          "choropleth": [
           {
            "colorbar": {
             "outlinewidth": 0,
             "tickcolor": "rgb(36,36,36)",
             "ticklen": 8,
             "ticks": "outside",
             "tickwidth": 2
            },
            "type": "choropleth"
           }
          ],
          "contour": [
           {
            "colorbar": {
             "outlinewidth": 0,
             "tickcolor": "rgb(36,36,36)",
             "ticklen": 8,
             "ticks": "outside",
             "tickwidth": 2
            },
            "colorscale": [
             [
              0,
              "rgb(2,4,25)"
             ],
             [
              0.06274509803921569,
              "rgb(24,15,41)"
             ],
             [
              0.12549019607843137,
              "rgb(47,23,57)"
             ],
             [
              0.18823529411764706,
              "rgb(71,28,72)"
             ],
             [
              0.25098039215686274,
              "rgb(97,30,82)"
             ],
             [
              0.3137254901960784,
              "rgb(123,30,89)"
             ],
             [
              0.3764705882352941,
              "rgb(150,27,91)"
             ],
             [
              0.4392156862745098,
              "rgb(177,22,88)"
             ],
             [
              0.5019607843137255,
              "rgb(203,26,79)"
             ],
             [
              0.5647058823529412,
              "rgb(223,47,67)"
             ],
             [
              0.6274509803921569,
              "rgb(236,76,61)"
             ],
             [
              0.6901960784313725,
              "rgb(242,107,73)"
             ],
             [
              0.7529411764705882,
              "rgb(244,135,95)"
             ],
             [
              0.8156862745098039,
              "rgb(245,162,122)"
             ],
             [
              0.8784313725490196,
              "rgb(246,188,153)"
             ],
             [
              0.9411764705882353,
              "rgb(247,212,187)"
             ],
             [
              1,
              "rgb(250,234,220)"
             ]
            ],
            "type": "contour"
           }
          ],
          "contourcarpet": [
           {
            "colorbar": {
             "outlinewidth": 0,
             "tickcolor": "rgb(36,36,36)",
             "ticklen": 8,
             "ticks": "outside",
             "tickwidth": 2
            },
            "type": "contourcarpet"
           }
          ],
          "heatmap": [
           {
            "colorbar": {
             "outlinewidth": 0,
             "tickcolor": "rgb(36,36,36)",
             "ticklen": 8,
             "ticks": "outside",
             "tickwidth": 2
            },
            "colorscale": [
             [
              0,
              "rgb(2,4,25)"
             ],
             [
              0.06274509803921569,
              "rgb(24,15,41)"
             ],
             [
              0.12549019607843137,
              "rgb(47,23,57)"
             ],
             [
              0.18823529411764706,
              "rgb(71,28,72)"
             ],
             [
              0.25098039215686274,
              "rgb(97,30,82)"
             ],
             [
              0.3137254901960784,
              "rgb(123,30,89)"
             ],
             [
              0.3764705882352941,
              "rgb(150,27,91)"
             ],
             [
              0.4392156862745098,
              "rgb(177,22,88)"
             ],
             [
              0.5019607843137255,
              "rgb(203,26,79)"
             ],
             [
              0.5647058823529412,
              "rgb(223,47,67)"
             ],
             [
              0.6274509803921569,
              "rgb(236,76,61)"
             ],
             [
              0.6901960784313725,
              "rgb(242,107,73)"
             ],
             [
              0.7529411764705882,
              "rgb(244,135,95)"
             ],
             [
              0.8156862745098039,
              "rgb(245,162,122)"
             ],
             [
              0.8784313725490196,
              "rgb(246,188,153)"
             ],
             [
              0.9411764705882353,
              "rgb(247,212,187)"
             ],
             [
              1,
              "rgb(250,234,220)"
             ]
            ],
            "type": "heatmap"
           }
          ],
          "heatmapgl": [
           {
            "colorbar": {
             "outlinewidth": 0,
             "tickcolor": "rgb(36,36,36)",
             "ticklen": 8,
             "ticks": "outside",
             "tickwidth": 2
            },
            "colorscale": [
             [
              0,
              "rgb(2,4,25)"
             ],
             [
              0.06274509803921569,
              "rgb(24,15,41)"
             ],
             [
              0.12549019607843137,
              "rgb(47,23,57)"
             ],
             [
              0.18823529411764706,
              "rgb(71,28,72)"
             ],
             [
              0.25098039215686274,
              "rgb(97,30,82)"
             ],
             [
              0.3137254901960784,
              "rgb(123,30,89)"
             ],
             [
              0.3764705882352941,
              "rgb(150,27,91)"
             ],
             [
              0.4392156862745098,
              "rgb(177,22,88)"
             ],
             [
              0.5019607843137255,
              "rgb(203,26,79)"
             ],
             [
              0.5647058823529412,
              "rgb(223,47,67)"
             ],
             [
              0.6274509803921569,
              "rgb(236,76,61)"
             ],
             [
              0.6901960784313725,
              "rgb(242,107,73)"
             ],
             [
              0.7529411764705882,
              "rgb(244,135,95)"
             ],
             [
              0.8156862745098039,
              "rgb(245,162,122)"
             ],
             [
              0.8784313725490196,
              "rgb(246,188,153)"
             ],
             [
              0.9411764705882353,
              "rgb(247,212,187)"
             ],
             [
              1,
              "rgb(250,234,220)"
             ]
            ],
            "type": "heatmapgl"
           }
          ],
          "histogram": [
           {
            "marker": {
             "colorbar": {
              "outlinewidth": 0,
              "tickcolor": "rgb(36,36,36)",
              "ticklen": 8,
              "ticks": "outside",
              "tickwidth": 2
             }
            },
            "type": "histogram"
           }
          ],
          "histogram2d": [
           {
            "colorbar": {
             "outlinewidth": 0,
             "tickcolor": "rgb(36,36,36)",
             "ticklen": 8,
             "ticks": "outside",
             "tickwidth": 2
            },
            "colorscale": [
             [
              0,
              "rgb(2,4,25)"
             ],
             [
              0.06274509803921569,
              "rgb(24,15,41)"
             ],
             [
              0.12549019607843137,
              "rgb(47,23,57)"
             ],
             [
              0.18823529411764706,
              "rgb(71,28,72)"
             ],
             [
              0.25098039215686274,
              "rgb(97,30,82)"
             ],
             [
              0.3137254901960784,
              "rgb(123,30,89)"
             ],
             [
              0.3764705882352941,
              "rgb(150,27,91)"
             ],
             [
              0.4392156862745098,
              "rgb(177,22,88)"
             ],
             [
              0.5019607843137255,
              "rgb(203,26,79)"
             ],
             [
              0.5647058823529412,
              "rgb(223,47,67)"
             ],
             [
              0.6274509803921569,
              "rgb(236,76,61)"
             ],
             [
              0.6901960784313725,
              "rgb(242,107,73)"
             ],
             [
              0.7529411764705882,
              "rgb(244,135,95)"
             ],
             [
              0.8156862745098039,
              "rgb(245,162,122)"
             ],
             [
              0.8784313725490196,
              "rgb(246,188,153)"
             ],
             [
              0.9411764705882353,
              "rgb(247,212,187)"
             ],
             [
              1,
              "rgb(250,234,220)"
             ]
            ],
            "type": "histogram2d"
           }
          ],
          "histogram2dcontour": [
           {
            "colorbar": {
             "outlinewidth": 0,
             "tickcolor": "rgb(36,36,36)",
             "ticklen": 8,
             "ticks": "outside",
             "tickwidth": 2
            },
            "colorscale": [
             [
              0,
              "rgb(2,4,25)"
             ],
             [
              0.06274509803921569,
              "rgb(24,15,41)"
             ],
             [
              0.12549019607843137,
              "rgb(47,23,57)"
             ],
             [
              0.18823529411764706,
              "rgb(71,28,72)"
             ],
             [
              0.25098039215686274,
              "rgb(97,30,82)"
             ],
             [
              0.3137254901960784,
              "rgb(123,30,89)"
             ],
             [
              0.3764705882352941,
              "rgb(150,27,91)"
             ],
             [
              0.4392156862745098,
              "rgb(177,22,88)"
             ],
             [
              0.5019607843137255,
              "rgb(203,26,79)"
             ],
             [
              0.5647058823529412,
              "rgb(223,47,67)"
             ],
             [
              0.6274509803921569,
              "rgb(236,76,61)"
             ],
             [
              0.6901960784313725,
              "rgb(242,107,73)"
             ],
             [
              0.7529411764705882,
              "rgb(244,135,95)"
             ],
             [
              0.8156862745098039,
              "rgb(245,162,122)"
             ],
             [
              0.8784313725490196,
              "rgb(246,188,153)"
             ],
             [
              0.9411764705882353,
              "rgb(247,212,187)"
             ],
             [
              1,
              "rgb(250,234,220)"
             ]
            ],
            "type": "histogram2dcontour"
           }
          ],
          "mesh3d": [
           {
            "colorbar": {
             "outlinewidth": 0,
             "tickcolor": "rgb(36,36,36)",
             "ticklen": 8,
             "ticks": "outside",
             "tickwidth": 2
            },
            "type": "mesh3d"
           }
          ],
          "parcoords": [
           {
            "line": {
             "colorbar": {
              "outlinewidth": 0,
              "tickcolor": "rgb(36,36,36)",
              "ticklen": 8,
              "ticks": "outside",
              "tickwidth": 2
             }
            },
            "type": "parcoords"
           }
          ],
          "pie": [
           {
            "automargin": true,
            "type": "pie"
           }
          ],
          "scatter": [
           {
            "marker": {
             "colorbar": {
              "outlinewidth": 0,
              "tickcolor": "rgb(36,36,36)",
              "ticklen": 8,
              "ticks": "outside",
              "tickwidth": 2
             }
            },
            "type": "scatter"
           }
          ],
          "scatter3d": [
           {
            "line": {
             "colorbar": {
              "outlinewidth": 0,
              "tickcolor": "rgb(36,36,36)",
              "ticklen": 8,
              "ticks": "outside",
              "tickwidth": 2
             }
            },
            "marker": {
             "colorbar": {
              "outlinewidth": 0,
              "tickcolor": "rgb(36,36,36)",
              "ticklen": 8,
              "ticks": "outside",
              "tickwidth": 2
             }
            },
            "type": "scatter3d"
           }
          ],
          "scattercarpet": [
           {
            "marker": {
             "colorbar": {
              "outlinewidth": 0,
              "tickcolor": "rgb(36,36,36)",
              "ticklen": 8,
              "ticks": "outside",
              "tickwidth": 2
             }
            },
            "type": "scattercarpet"
           }
          ],
          "scattergeo": [
           {
            "marker": {
             "colorbar": {
              "outlinewidth": 0,
              "tickcolor": "rgb(36,36,36)",
              "ticklen": 8,
              "ticks": "outside",
              "tickwidth": 2
             }
            },
            "type": "scattergeo"
           }
          ],
          "scattergl": [
           {
            "marker": {
             "colorbar": {
              "outlinewidth": 0,
              "tickcolor": "rgb(36,36,36)",
              "ticklen": 8,
              "ticks": "outside",
              "tickwidth": 2
             }
            },
            "type": "scattergl"
           }
          ],
          "scattermapbox": [
           {
            "marker": {
             "colorbar": {
              "outlinewidth": 0,
              "tickcolor": "rgb(36,36,36)",
              "ticklen": 8,
              "ticks": "outside",
              "tickwidth": 2
             }
            },
            "type": "scattermapbox"
           }
          ],
          "scatterpolar": [
           {
            "marker": {
             "colorbar": {
              "outlinewidth": 0,
              "tickcolor": "rgb(36,36,36)",
              "ticklen": 8,
              "ticks": "outside",
              "tickwidth": 2
             }
            },
            "type": "scatterpolar"
           }
          ],
          "scatterpolargl": [
           {
            "marker": {
             "colorbar": {
              "outlinewidth": 0,
              "tickcolor": "rgb(36,36,36)",
              "ticklen": 8,
              "ticks": "outside",
              "tickwidth": 2
             }
            },
            "type": "scatterpolargl"
           }
          ],
          "scatterternary": [
           {
            "marker": {
             "colorbar": {
              "outlinewidth": 0,
              "tickcolor": "rgb(36,36,36)",
              "ticklen": 8,
              "ticks": "outside",
              "tickwidth": 2
             }
            },
            "type": "scatterternary"
           }
          ],
          "surface": [
           {
            "colorbar": {
             "outlinewidth": 0,
             "tickcolor": "rgb(36,36,36)",
             "ticklen": 8,
             "ticks": "outside",
             "tickwidth": 2
            },
            "colorscale": [
             [
              0,
              "rgb(2,4,25)"
             ],
             [
              0.06274509803921569,
              "rgb(24,15,41)"
             ],
             [
              0.12549019607843137,
              "rgb(47,23,57)"
             ],
             [
              0.18823529411764706,
              "rgb(71,28,72)"
             ],
             [
              0.25098039215686274,
              "rgb(97,30,82)"
             ],
             [
              0.3137254901960784,
              "rgb(123,30,89)"
             ],
             [
              0.3764705882352941,
              "rgb(150,27,91)"
             ],
             [
              0.4392156862745098,
              "rgb(177,22,88)"
             ],
             [
              0.5019607843137255,
              "rgb(203,26,79)"
             ],
             [
              0.5647058823529412,
              "rgb(223,47,67)"
             ],
             [
              0.6274509803921569,
              "rgb(236,76,61)"
             ],
             [
              0.6901960784313725,
              "rgb(242,107,73)"
             ],
             [
              0.7529411764705882,
              "rgb(244,135,95)"
             ],
             [
              0.8156862745098039,
              "rgb(245,162,122)"
             ],
             [
              0.8784313725490196,
              "rgb(246,188,153)"
             ],
             [
              0.9411764705882353,
              "rgb(247,212,187)"
             ],
             [
              1,
              "rgb(250,234,220)"
             ]
            ],
            "type": "surface"
           }
          ],
          "table": [
           {
            "cells": {
             "fill": {
              "color": "rgb(231,231,240)"
             },
             "line": {
              "color": "white"
             }
            },
            "header": {
             "fill": {
              "color": "rgb(183,183,191)"
             },
             "line": {
              "color": "white"
             }
            },
            "type": "table"
           }
          ]
         },
         "layout": {
          "annotationdefaults": {
           "arrowcolor": "rgb(67,103,167)"
          },
          "autotypenumbers": "strict",
          "coloraxis": {
           "colorbar": {
            "outlinewidth": 0,
            "tickcolor": "rgb(36,36,36)",
            "ticklen": 8,
            "ticks": "outside",
            "tickwidth": 2
           }
          },
          "colorscale": {
           "sequential": [
            [
             0,
             "rgb(2,4,25)"
            ],
            [
             0.06274509803921569,
             "rgb(24,15,41)"
            ],
            [
             0.12549019607843137,
             "rgb(47,23,57)"
            ],
            [
             0.18823529411764706,
             "rgb(71,28,72)"
            ],
            [
             0.25098039215686274,
             "rgb(97,30,82)"
            ],
            [
             0.3137254901960784,
             "rgb(123,30,89)"
            ],
            [
             0.3764705882352941,
             "rgb(150,27,91)"
            ],
            [
             0.4392156862745098,
             "rgb(177,22,88)"
            ],
            [
             0.5019607843137255,
             "rgb(203,26,79)"
            ],
            [
             0.5647058823529412,
             "rgb(223,47,67)"
            ],
            [
             0.6274509803921569,
             "rgb(236,76,61)"
            ],
            [
             0.6901960784313725,
             "rgb(242,107,73)"
            ],
            [
             0.7529411764705882,
             "rgb(244,135,95)"
            ],
            [
             0.8156862745098039,
             "rgb(245,162,122)"
            ],
            [
             0.8784313725490196,
             "rgb(246,188,153)"
            ],
            [
             0.9411764705882353,
             "rgb(247,212,187)"
            ],
            [
             1,
             "rgb(250,234,220)"
            ]
           ],
           "sequentialminus": [
            [
             0,
             "rgb(2,4,25)"
            ],
            [
             0.06274509803921569,
             "rgb(24,15,41)"
            ],
            [
             0.12549019607843137,
             "rgb(47,23,57)"
            ],
            [
             0.18823529411764706,
             "rgb(71,28,72)"
            ],
            [
             0.25098039215686274,
             "rgb(97,30,82)"
            ],
            [
             0.3137254901960784,
             "rgb(123,30,89)"
            ],
            [
             0.3764705882352941,
             "rgb(150,27,91)"
            ],
            [
             0.4392156862745098,
             "rgb(177,22,88)"
            ],
            [
             0.5019607843137255,
             "rgb(203,26,79)"
            ],
            [
             0.5647058823529412,
             "rgb(223,47,67)"
            ],
            [
             0.6274509803921569,
             "rgb(236,76,61)"
            ],
            [
             0.6901960784313725,
             "rgb(242,107,73)"
            ],
            [
             0.7529411764705882,
             "rgb(244,135,95)"
            ],
            [
             0.8156862745098039,
             "rgb(245,162,122)"
            ],
            [
             0.8784313725490196,
             "rgb(246,188,153)"
            ],
            [
             0.9411764705882353,
             "rgb(247,212,187)"
            ],
            [
             1,
             "rgb(250,234,220)"
            ]
           ]
          },
          "colorway": [
           "rgb(76,114,176)",
           "rgb(221,132,82)",
           "rgb(85,168,104)",
           "rgb(196,78,82)",
           "rgb(129,114,179)",
           "rgb(147,120,96)",
           "rgb(218,139,195)",
           "rgb(140,140,140)",
           "rgb(204,185,116)",
           "rgb(100,181,205)"
          ],
          "font": {
           "color": "rgb(36,36,36)"
          },
          "geo": {
           "bgcolor": "white",
           "lakecolor": "white",
           "landcolor": "rgb(234,234,242)",
           "showlakes": true,
           "showland": true,
           "subunitcolor": "white"
          },
          "hoverlabel": {
           "align": "left"
          },
          "hovermode": "closest",
          "paper_bgcolor": "white",
          "plot_bgcolor": "rgb(234,234,242)",
          "polar": {
           "angularaxis": {
            "gridcolor": "white",
            "linecolor": "white",
            "showgrid": true,
            "ticks": ""
           },
           "bgcolor": "rgb(234,234,242)",
           "radialaxis": {
            "gridcolor": "white",
            "linecolor": "white",
            "showgrid": true,
            "ticks": ""
           }
          },
          "scene": {
           "xaxis": {
            "backgroundcolor": "rgb(234,234,242)",
            "gridcolor": "white",
            "gridwidth": 2,
            "linecolor": "white",
            "showbackground": true,
            "showgrid": true,
            "ticks": "",
            "zerolinecolor": "white"
           },
           "yaxis": {
            "backgroundcolor": "rgb(234,234,242)",
            "gridcolor": "white",
            "gridwidth": 2,
            "linecolor": "white",
            "showbackground": true,
            "showgrid": true,
            "ticks": "",
            "zerolinecolor": "white"
           },
           "zaxis": {
            "backgroundcolor": "rgb(234,234,242)",
            "gridcolor": "white",
            "gridwidth": 2,
            "linecolor": "white",
            "showbackground": true,
            "showgrid": true,
            "ticks": "",
            "zerolinecolor": "white"
           }
          },
          "shapedefaults": {
           "fillcolor": "rgb(67,103,167)",
           "line": {
            "width": 0
           },
           "opacity": 0.5
          },
          "ternary": {
           "aaxis": {
            "gridcolor": "white",
            "linecolor": "white",
            "showgrid": true,
            "ticks": ""
           },
           "baxis": {
            "gridcolor": "white",
            "linecolor": "white",
            "showgrid": true,
            "ticks": ""
           },
           "bgcolor": "rgb(234,234,242)",
           "caxis": {
            "gridcolor": "white",
            "linecolor": "white",
            "showgrid": true,
            "ticks": ""
           }
          },
          "xaxis": {
           "automargin": true,
           "gridcolor": "white",
           "linecolor": "white",
           "showgrid": true,
           "ticks": "",
           "title": {
            "standoff": 15
           },
           "zerolinecolor": "white"
          },
          "yaxis": {
           "automargin": true,
           "gridcolor": "white",
           "linecolor": "white",
           "showgrid": true,
           "ticks": "",
           "title": {
            "standoff": 15
           },
           "zerolinecolor": "white"
          }
         }
        },
        "title": {
         "text": "p = 5"
        },
        "width": 800,
        "xaxis": {
         "anchor": "y",
         "domain": [
          0,
          1
         ],
         "title": {
          "text": "x"
         }
        },
        "yaxis": {
         "anchor": "x",
         "domain": [
          0,
          1
         ],
         "title": {
          "text": "y"
         }
        }
       }
      }
     },
     "metadata": {}
    },
    {
     "output_type": "stream",
     "name": "stdout",
     "text": [
      "[[ 1.00000000e+00 -1.50000000e+01  2.25000000e+02 -3.37500000e+03\n   5.06250000e+04 -7.59375000e+05  1.13906250e+07]\n [ 1.00000000e+00 -1.47474747e+01  2.17488011e+02 -3.20739896e+03\n   4.73010351e+04 -6.97570821e+05  1.02874081e+07]\n [ 1.00000000e+00 -1.44949495e+01  2.10103561e+02 -3.04544050e+03\n   4.41435063e+04 -6.39857894e+05  9.27470786e+06]\n [ 1.00000000e+00 -1.42424242e+01  2.02846648e+02 -2.88902802e+03\n   4.11467627e+04 -5.86029651e+05  8.34648291e+06]\n [ 1.00000000e+00 -1.39898990e+01  1.95717274e+02 -2.73806489e+03\n   3.83052512e+04 -5.35886596e+05  7.49699934e+06]\n [ 1.00000000e+00 -1.37373737e+01  1.88715437e+02 -2.59245449e+03\n   3.56135162e+04 -4.89236183e+05  6.72082029e+06]\n [ 1.00000000e+00 -1.34848485e+01  1.81841139e+02 -2.45210020e+03\n   3.30661997e+04 -4.45892693e+05  6.01279541e+06]\n [ 1.00000000e+00 -1.32323232e+01  1.75094378e+02 -2.31690541e+03\n   3.06580413e+04 -4.05677112e+05  5.36805067e+06]\n [ 1.00000000e+00 -1.29797980e+01  1.68475156e+02 -2.18677348e+03\n   2.83838781e+04 -3.68417003e+05  4.78197827e+06]\n [ 1.00000000e+00 -1.27272727e+01  1.61983471e+02 -2.06160781e+03\n   2.62386449e+04 -3.33946390e+05  4.25022678e+06]\n [ 1.00000000e+00 -1.24747475e+01  1.55619325e+02 -1.94131178e+03\n   2.42173742e+04 -3.02105627e+05  3.76869141e+06]\n [ 1.00000000e+00 -1.22222222e+01  1.49382716e+02 -1.82578875e+03\n   2.23151959e+04 -2.72741283e+05  3.33350457e+06]\n [ 1.00000000e+00 -1.19696970e+01  1.43273646e+02 -1.71494212e+03\n   2.05273375e+04 -2.45706010e+05  2.94102648e+06]\n [ 1.00000000e+00 -1.17171717e+01  1.37292113e+02 -1.60867526e+03\n   1.88491243e+04 -2.20858426e+05  2.58783611e+06]\n [ 1.00000000e+00 -1.14646465e+01  1.31438119e+02 -1.50689156e+03\n   1.72759790e+04 -1.98062992e+05  2.27072218e+06]\n [ 1.00000000e+00 -1.12121212e+01  1.25711662e+02 -1.40949439e+03\n   1.58034220e+04 -1.77189883e+05  1.98667444e+06]\n [ 1.00000000e+00 -1.09595960e+01  1.20112744e+02 -1.31638714e+03\n   1.44270712e+04 -1.58114871e+05  1.73287510e+06]\n [ 1.00000000e+00 -1.07070707e+01  1.14641363e+02 -1.22747318e+03\n   1.31426421e+04 -1.40719199e+05  1.50669041e+06]\n [ 1.00000000e+00 -1.04545455e+01  1.09297521e+02 -1.14265590e+03\n   1.19459480e+04 -1.24889457e+05  1.30566250e+06]\n [ 1.00000000e+00 -1.02020202e+01  1.04081216e+02 -1.06183867e+03\n   1.08328996e+04 -1.10517460e+05  1.12750136e+06]\n [ 1.00000000e+00 -9.94949495e+00  9.89924498e+01 -9.84924879e+02\n   9.79950511e+03 -9.75001266e+04  9.70077017e+05]\n [ 1.00000000e+00 -9.69696970e+00  9.40312213e+01 -9.11817904e+02\n   8.84187058e+03 -8.57393511e+04  8.31411889e+05]\n [ 1.00000000e+00 -9.44444444e+00  8.91975309e+01 -8.42421125e+02\n   7.95619951e+03 -7.51418843e+04  7.09673352e+05]\n [ 1.00000000e+00 -9.19191919e+00  8.44913784e+01 -7.76637923e+02\n   7.13879303e+03 -6.56192087e+04  6.03166463e+05]\n [ 1.00000000e+00 -8.93939394e+00  7.99127640e+01 -7.14371678e+02\n   6.38604985e+03 -5.70874153e+04  5.10326895e+05]\n [ 1.00000000e+00 -8.68686869e+00  7.54616876e+01 -6.55525771e+02\n   5.69446629e+03 -4.94670809e+04  4.29714036e+05]\n [ 1.00000000e+00 -8.43434343e+00  7.11381492e+01 -6.00003581e+02\n   5.06063627e+03 -4.26831443e+04  3.60004298e+05]\n [ 1.00000000e+00 -8.18181818e+00  6.69421488e+01 -5.47708490e+02\n   4.48125128e+03 -3.66647832e+04  2.99984590e+05]\n [ 1.00000000e+00 -7.92929293e+00  6.28736864e+01 -4.98543877e+02\n   3.95310044e+03 -3.13452913e+04  2.48545997e+05]\n [ 1.00000000e+00 -7.67676768e+00  5.89327620e+01 -4.52413122e+02\n   3.47307043e+03 -2.66619548e+04  2.04677633e+05]\n [ 1.00000000e+00 -7.42424242e+00  5.51193756e+01 -4.09219607e+02\n   3.03814556e+03 -2.25559292e+04  1.67460686e+05]\n [ 1.00000000e+00 -7.17171717e+00  5.14335272e+01 -3.68866710e+02\n   2.64540772e+03 -1.89721160e+04  1.36062650e+05]\n [ 1.00000000e+00 -6.91919192e+00  4.78752168e+01 -3.31257813e+02\n   2.29203639e+03 -1.58590396e+04  1.09731739e+05]\n [ 1.00000000e+00 -6.66666667e+00  4.44444444e+01 -2.96296296e+02\n   1.97530864e+03 -1.31687243e+04  8.77914952e+04]\n [ 1.00000000e+00 -6.41414141e+00  4.11412101e+01 -2.63885539e+02\n   1.69259917e+03 -1.08565704e+04  6.96355779e+04]\n [ 1.00000000e+00 -6.16161616e+00  3.79655137e+01 -2.33928923e+02\n   1.44138023e+03 -8.88123173e+03  5.47227410e+04]\n [ 1.00000000e+00 -5.90909091e+00  3.49173554e+01 -2.06329827e+02\n   1.21922171e+03 -7.20449190e+03  4.25719976e+04]\n [ 1.00000000e+00 -5.65656566e+00  3.19967350e+01 -1.80991632e+02\n   1.02379105e+03 -5.79114131e+03  3.27579710e+04]\n [ 1.00000000e+00 -5.40404040e+00  2.92036527e+01 -1.57817719e+02\n   8.52853330e+02 -4.60885386e+03  2.49064325e+04]\n [ 1.00000000e+00 -5.15151515e+00  2.65381084e+01 -1.36711467e+02\n   7.04271195e+02 -3.62806373e+03  1.86900253e+04]\n [ 1.00000000e+00 -4.89898990e+00  2.40001020e+01 -1.17576257e+02\n   5.76004897e+02 -2.82184217e+03  1.38241763e+04]\n [ 1.00000000e+00 -4.64646465e+00  2.15896337e+01 -1.00315470e+02\n   4.66112284e+02 -2.16577425e+03  1.00631935e+04]\n [ 1.00000000e+00 -4.39393939e+00  1.93067034e+01 -8.48324846e+01\n   3.72748796e+02 -1.63783562e+03  7.19655045e+03]\n [ 1.00000000e+00 -4.14141414e+00  1.71513111e+01 -7.10306823e+01\n   2.94167472e+02 -1.21826933e+03  5.04535783e+03]\n [ 1.00000000e+00 -3.88888889e+00  1.51234568e+01 -5.88134431e+01\n   2.28718945e+02 -8.89462565e+02  3.45902109e+03]\n [ 1.00000000e+00 -3.63636364e+00  1.32231405e+01 -4.80841473e+01\n   1.74851445e+02 -6.35823435e+02  2.31208522e+03]\n [ 1.00000000e+00 -3.38383838e+00  1.14503622e+01 -3.87461751e+01\n   1.31110795e+02 -4.43657740e+02  1.50126609e+03]\n [ 1.00000000e+00 -3.13131313e+00  9.80512193e+00 -3.07029070e+01\n   9.61404160e+01 -3.01045747e+02  9.42668501e+02]\n [ 1.00000000e+00 -2.87878788e+00  8.28741965e+00 -2.38577232e+01\n   6.86813245e+01 -1.97718964e+02  5.69190958e+02]\n [ 1.00000000e+00 -2.62626263e+00  6.89725538e+00 -1.81140040e+01\n   4.75721318e+01 -1.24936912e+02  3.28117142e+02]\n [ 1.00000000e+00 -2.37373737e+00  5.63462912e+00 -1.33751297e+01\n   3.17490453e+01 -7.53638954e+01  1.78894095e+02]\n [ 1.00000000e+00 -2.12121212e+00  4.49954086e+00 -9.54448062e+00\n   2.02458680e+01 -4.29457806e+01  9.10971103e+01]\n [ 1.00000000e+00 -1.86868687e+00  3.49199061e+00 -6.52543700e+00\n   1.21939984e+01 -2.27867648e+01  4.25813281e+01]\n [ 1.00000000e+00 -1.61616162e+00  2.61197837e+00 -4.22137918e+00\n   6.82243100e+00 -1.10261511e+01  1.78200422e+01]\n [ 1.00000000e+00 -1.36363636e+00  1.85950413e+00 -2.53568745e+00\n   3.45775562e+00 -4.71512130e+00  6.42971086e+00]\n [ 1.00000000e+00 -1.11111111e+00  1.23456790e+00 -1.37174211e+00\n   1.52415790e+00 -1.69350878e+00  1.88167642e+00]\n [ 1.00000000e+00 -8.58585859e-01  7.37169677e-01 -6.32923460e-01\n   5.43419132e-01 -4.66571982e-01  4.00592106e-01]\n [ 1.00000000e+00 -6.06060606e-01  3.67309458e-01 -2.22611793e-01\n   1.34916238e-01 -8.17674170e-02  4.95560103e-02]\n [ 1.00000000e+00 -3.53535354e-01  1.24987246e-01 -4.41874103e-02\n   1.56218117e-02 -5.52286273e-03  1.95252723e-03]\n [ 1.00000000e+00 -1.01010101e-01  1.02030405e-02 -1.03061015e-03\n   1.04102036e-04 -1.05153571e-05  1.06215729e-06]\n [ 1.00000000e+00  1.51515152e-01  2.29568411e-02  3.47830926e-03\n   5.27016555e-04  7.98509932e-05  1.20986353e-05]\n [ 1.00000000e+00  4.04040404e-01  1.63248648e-01  6.59590497e-02\n   2.66501211e-02  1.07677257e-02  4.35059624e-03]\n [ 1.00000000e+00  6.56565657e-01  4.31078461e-01  2.83031313e-01\n   1.85828640e-01  1.22008703e-01  8.01067242e-02]\n [ 1.00000000e+00  9.09090909e-01  8.26446281e-01  7.51314801e-01\n   6.83013455e-01  6.20921323e-01  5.64473930e-01]\n [ 1.00000000e+00  1.16161616e+00  1.34935211e+00  1.56742922e+00\n   1.82075111e+00  2.11501391e+00  2.45683434e+00]\n [ 1.00000000e+00  1.41414141e+00  1.99979594e+00  2.82799426e+00\n   3.99918380e+00  5.65541143e+00  7.99755152e+00]\n [ 1.00000000e+00  1.66666667e+00  2.77777778e+00  4.62962963e+00\n   7.71604938e+00  1.28600823e+01  2.14334705e+01]\n [ 1.00000000e+00  1.91919192e+00  3.68329762e+00  7.06895503e+00\n   1.35666814e+01  2.60370653e+01  4.99701253e+01]\n [ 1.00000000e+00  2.17171717e+00  4.71635547e+00  1.02425902e+01\n   2.22440090e+01  4.83076962e+01  1.04910653e+02]\n [ 1.00000000e+00  2.42424242e+00  5.87695133e+00  1.42471547e+01\n   3.45385570e+01  8.37298350e+01  2.02981418e+02]\n [ 1.00000000e+00  2.67676768e+00  7.16508520e+00  1.91792685e+01\n   5.13384459e+01  1.37421092e+02  3.67844338e+02]\n [ 1.00000000e+00  2.92929293e+00  8.58075707e+00  2.51355510e+01\n   7.36293918e+01  2.15682057e+02  6.31795924e+02]\n [ 1.00000000e+00  3.18181818e+00  1.01239669e+01  3.22126221e+01\n   1.02494707e+02  3.26119521e+02  1.03765302e+03]\n [ 1.00000000e+00  3.43434343e+00  1.17947148e+01  4.05071014e+01\n   1.39115298e+02  4.77769710e+02  1.64082527e+03]\n [ 1.00000000e+00  3.68686869e+00  1.35930007e+01  5.01156087e+01\n   1.84769668e+02  6.81221505e+02  2.51157423e+03]\n [ 1.00000000e+00  3.93939394e+00  1.55188246e+01  6.11347636e+01\n   2.40833917e+02  9.48739674e+02  3.73745932e+03]\n [ 1.00000000e+00  4.19191919e+00  1.75721865e+01  7.36611859e+01\n   3.08781739e+02  1.29438810e+03  5.42597031e+03]\n [ 1.00000000e+00  4.44444444e+00  1.97530864e+01  8.77914952e+01\n   3.90184423e+02  1.73415299e+03  7.70734663e+03]\n [ 1.00000000e+00  4.69696970e+00  2.20615243e+01  1.03622311e+02\n   4.86710856e+02  2.28606614e+03  1.07375834e+04]\n [ 1.00000000e+00  4.94949495e+00  2.44975003e+01  1.21250254e+02\n   6.00127519e+02  2.97032812e+03  1.47016240e+04]\n [ 1.00000000e+00  5.20202020e+00  2.70610142e+01  1.40771942e+02\n   7.32298489e+02  3.80943153e+03  1.98167398e+04]\n [ 1.00000000e+00  5.45454545e+00  2.97520661e+01  1.62283997e+02\n   8.85185438e+02  4.82828421e+03  2.63360957e+04]\n [ 1.00000000e+00  5.70707071e+00  3.25706561e+01  1.85883037e+02\n   1.06084764e+03  6.05433247e+03  3.45525035e+04]\n [ 1.00000000e+00  5.95959596e+00  3.55167840e+01  2.11665682e+02\n   1.26144195e+03  7.51768432e+03  4.48023611e+04]\n [ 1.00000000e+00  6.21212121e+00  3.85904500e+01  2.39728553e+02\n   1.48922283e+03  9.25123272e+03  5.74697790e+04]\n [ 1.00000000e+00  6.46464646e+00  4.17916539e+01  2.70168268e+02\n   1.74654234e+03  1.12907787e+04  7.29908929e+04]\n [ 1.00000000e+00  6.71717172e+00  4.51203959e+01  3.03081447e+02\n   2.03585012e+03  1.36751549e+04  9.18583636e+04]\n [ 1.00000000e+00  6.96969697e+00  4.85766758e+01  3.38564710e+02\n   2.35969344e+03  1.64463482e+04  1.14626063e+05]\n [ 1.00000000e+00  7.22222222e+00  5.21604938e+01  3.76714678e+02\n   2.72071712e+03  1.96496236e+04  1.41913948e+05]\n [ 1.00000000e+00  7.47474747e+00  5.58718498e+01  4.17627968e+02\n   3.12166360e+03  2.33336471e+04  1.74413120e+05]\n [ 1.00000000e+00  7.72727273e+00  5.97107438e+01  4.61401202e+02\n   3.56537293e+03  2.75506090e+04  2.12891069e+05]\n [ 1.00000000e+00  7.97979798e+00  6.36771758e+01  5.08130999e+02\n   4.05478272e+03  3.23563469e+04  2.58197112e+05]\n [ 1.00000000e+00  8.23232323e+00  6.77711458e+01  5.57913978e+02\n   4.59292820e+03  3.78104696e+04  3.11268007e+05]\n [ 1.00000000e+00  8.48484848e+00  7.19926538e+01  6.10846760e+02\n   5.18294220e+03  4.39764793e+04  3.73133764e+05]\n [ 1.00000000e+00  8.73737374e+00  7.63416998e+01  6.67025963e+02\n   5.82805513e+03  5.09218959e+04  4.44923635e+05]\n [ 1.00000000e+00  8.98989899e+00  8.08182838e+01  7.26548208e+02\n   6.53159500e+03  5.87183793e+04  5.27872299e+05]\n [ 1.00000000e+00  9.24242424e+00  8.54224059e+01  7.89510115e+02\n   7.29698743e+03  6.74418535e+04  6.23326222e+05]\n [ 1.00000000e+00  9.49494949e+00  9.01540659e+01  8.56008303e+02\n   8.12775560e+03  7.71726289e+04  7.32750214e+05]\n [ 1.00000000e+00  9.74747475e+00  9.50132640e+01  9.26139391e+02\n   9.02752033e+03  8.79955264e+04  8.57734172e+05]\n [ 1.00000000e+00  1.00000000e+01  1.00000000e+02  1.00000000e+03\n   1.00000000e+04  1.00000000e+05  1.00000000e+06]]\n"
     ]
    },
    {
     "output_type": "display_data",
     "data": {
      "application/vnd.plotly.v1+json": {
       "config": {
        "plotlyServerURL": "https://plot.ly"
       },
       "data": [
        {
         "hoverinfo": "skip",
         "hovertemplate": "x=%{x}<br>y=%{y}<extra></extra>",
         "legendgroup": "",
         "marker": {
          "color": "red",
          "line": {
           "color": "black",
           "width": 2
          },
          "size": 8,
          "symbol": "circle"
         },
         "mode": "markers",
         "name": "",
         "orientation": "v",
         "showlegend": false,
         "type": "scatter",
         "x": [
          -15,
          -14.747474747474747,
          -14.494949494949495,
          -14.242424242424242,
          -13.98989898989899,
          -13.737373737373737,
          -13.484848484848484,
          -13.232323232323232,
          -12.97979797979798,
          -12.727272727272727,
          -12.474747474747474,
          -12.222222222222221,
          -11.969696969696969,
          -11.717171717171716,
          -11.464646464646464,
          -11.212121212121211,
          -10.959595959595958,
          -10.707070707070706,
          -10.454545454545453,
          -10.2020202020202,
          -9.949494949494948,
          -9.696969696969695,
          -9.444444444444443,
          -9.19191919191919,
          -8.93939393939394,
          -8.686868686868687,
          -8.434343434343434,
          -8.181818181818182,
          -7.929292929292929,
          -7.6767676767676765,
          -7.424242424242424,
          -7.171717171717171,
          -6.919191919191919,
          -6.666666666666666,
          -6.4141414141414135,
          -6.161616161616161,
          -5.909090909090908,
          -5.656565656565656,
          -5.404040404040403,
          -5.1515151515151505,
          -4.898989898989898,
          -4.646464646464645,
          -4.393939393939393,
          -4.14141414141414,
          -3.8888888888888875,
          -3.636363636363635,
          -3.3838383838383823,
          -3.1313131313131297,
          -2.878787878787879,
          -2.6262626262626263,
          -2.3737373737373737,
          -2.121212121212121,
          -1.8686868686868685,
          -1.616161616161616,
          -1.3636363636363633,
          -1.1111111111111107,
          -0.8585858585858581,
          -0.6060606060606055,
          -0.3535353535353529,
          -0.10101010101010033,
          0.15151515151515227,
          0.40404040404040487,
          0.6565656565656575,
          0.9090909090909101,
          1.1616161616161627,
          1.4141414141414153,
          1.6666666666666679,
          1.9191919191919204,
          2.171717171717173,
          2.4242424242424256,
          2.6767676767676782,
          2.929292929292931,
          3.1818181818181834,
          3.434343434343436,
          3.6868686868686886,
          3.9393939393939412,
          4.191919191919194,
          4.444444444444446,
          4.696969696969699,
          4.949494949494952,
          5.202020202020204,
          5.454545454545457,
          5.707070707070709,
          5.959595959595962,
          6.212121212121215,
          6.464646464646467,
          6.71717171717172,
          6.969696969696972,
          7.222222222222225,
          7.474747474747478,
          7.72727272727273,
          7.979797979797983,
          8.232323232323235,
          8.484848484848488,
          8.73737373737374,
          8.989898989898993,
          9.242424242424242,
          9.494949494949495,
          9.747474747474747,
          10
         ],
         "xaxis": "x",
         "y": [
          78.8145264368132,
          76.57044197789587,
          70.71559763799429,
          64.98242118444067,
          60.370093944052115,
          65.3427399586452,
          61.61156788395709,
          54.159247074743384,
          58.003581512239464,
          58.3834879095741,
          48.33128578835695,
          36.795974355843946,
          47.0866395724152,
          44.707615558827655,
          35.45226293095519,
          37.09552798829185,
          42.57067476156927,
          30.528245748188354,
          40.415136228881224,
          29.05062722816826,
          28.33758137203389,
          36.28738010218093,
          20.652213387430965,
          26.807644591640848,
          18.164942561966704,
          20.033392459458913,
          17.660222217380895,
          18.282461990297072,
          19.49881119963429,
          11.674908941600714,
          12.573047648824778,
          9.619463523387886,
          15.65352303049416,
          13.972213091561857,
          16.612273532730647,
          7.309122023985634,
          9.49300323493813,
          12.979187122866433,
          12.257189707075586,
          5.971458400976415,
          9.8259333842476,
          4.651954537633046,
          5.199575042174219,
          5.772809120976745,
          7.62186870652512,
          3.103457491597879,
          9.16553203739803,
          3.9524184687017723,
          2.1313608348936883,
          7.337828209406968,
          4.113500561421851,
          8.677871546454561,
          5.1104962781614836,
          15.909683590566768,
          7.277602132779751,
          9.322184880051765,
          14.94174351810746,
          3.9064409293766484,
          17.28984052489481,
          10.620963769116443,
          15.913051080291453,
          11.81360694188862,
          9.773092742100097,
          16.49480186168052,
          17.0008304335297,
          8.882807212985732,
          20.970693279156148,
          14.210734303365376,
          21.276883472494152,
          20.36286777557737,
          17.105467148917633,
          22.046274741345126,
          22.179681727674854,
          23.28883766257723,
          32.93056811313294,
          36.0481138345626,
          34.0362534113516,
          33.383138880805774,
          25.123437456387563,
          33.50118312435098,
          40.22941412798667,
          41.09572522747814,
          43.65965170427655,
          46.970072422070174,
          46.80935287333976,
          53.003991219261195,
          54.79572060002411,
          59.21494030077444,
          56.24193074865577,
          61.29686359911075,
          64.21716354422281,
          68.61993315578066,
          70.11748307935183,
          71.05469017203949,
          73.9101430107204,
          75.28309256555329,
          77.97079594339958,
          85.97823411409078,
          86.96671875950356,
          94.5060568412618
         ],
         "yaxis": "y"
        },
        {
         "line": {
          "color": "green"
         },
         "mode": "lines",
         "name": "Aproximation",
         "type": "scatter",
         "x": [
          -15,
          -14.747474747474747,
          -14.494949494949495,
          -14.242424242424242,
          -13.98989898989899,
          -13.737373737373737,
          -13.484848484848484,
          -13.232323232323232,
          -12.97979797979798,
          -12.727272727272727,
          -12.474747474747474,
          -12.222222222222221,
          -11.969696969696969,
          -11.717171717171716,
          -11.464646464646464,
          -11.212121212121211,
          -10.959595959595958,
          -10.707070707070706,
          -10.454545454545453,
          -10.2020202020202,
          -9.949494949494948,
          -9.696969696969695,
          -9.444444444444443,
          -9.19191919191919,
          -8.93939393939394,
          -8.686868686868687,
          -8.434343434343434,
          -8.181818181818182,
          -7.929292929292929,
          -7.6767676767676765,
          -7.424242424242424,
          -7.171717171717171,
          -6.919191919191919,
          -6.666666666666666,
          -6.4141414141414135,
          -6.161616161616161,
          -5.909090909090908,
          -5.656565656565656,
          -5.404040404040403,
          -5.1515151515151505,
          -4.898989898989898,
          -4.646464646464645,
          -4.393939393939393,
          -4.14141414141414,
          -3.8888888888888875,
          -3.636363636363635,
          -3.3838383838383823,
          -3.1313131313131297,
          -2.878787878787879,
          -2.6262626262626263,
          -2.3737373737373737,
          -2.121212121212121,
          -1.8686868686868685,
          -1.616161616161616,
          -1.3636363636363633,
          -1.1111111111111107,
          -0.8585858585858581,
          -0.6060606060606055,
          -0.3535353535353529,
          -0.10101010101010033,
          0.15151515151515227,
          0.40404040404040487,
          0.6565656565656575,
          0.9090909090909101,
          1.1616161616161627,
          1.4141414141414153,
          1.6666666666666679,
          1.9191919191919204,
          2.171717171717173,
          2.4242424242424256,
          2.6767676767676782,
          2.929292929292931,
          3.1818181818181834,
          3.434343434343436,
          3.6868686868686886,
          3.9393939393939412,
          4.191919191919194,
          4.444444444444446,
          4.696969696969699,
          4.949494949494952,
          5.202020202020204,
          5.454545454545457,
          5.707070707070709,
          5.959595959595962,
          6.212121212121215,
          6.464646464646467,
          6.71717171717172,
          6.969696969696972,
          7.222222222222225,
          7.474747474747478,
          7.72727272727273,
          7.979797979797983,
          8.232323232323235,
          8.484848484848488,
          8.73737373737374,
          8.989898989898993,
          9.242424242424242,
          9.494949494949495,
          9.747474747474747,
          10
         ],
         "y": [
          77.13198241364223,
          74.16284069830597,
          71.23296086806741,
          68.34684421021696,
          65.50859338532727,
          62.721931233443115,
          59.99021919405028,
          57.316475339823484,
          54.703392024153416,
          52.15335314245267,
          49.66845100724091,
          47.25050283700885,
          44.901066858861526,
          42.62145802494034,
          40.412763342624395,
          38.27585681851068,
          36.21141401617341,
          34.21992622770237,
          32.30171425902026,
          30.456941828979126,
          28.685628582235868,
          26.98766271590668,
          25.36281322000065,
          23.810741731632252,
          22.331014003013085,
          20.92311098322243,
          19.58643951375701,
          18.320342637859746,
          17.12410952362747,
          15.996985000897814,
          14.938178711915059,
          13.946873875774992,
          13.022235666648923,
          12.163419205786596,
          11.369577167298267,
          10.639866997715725,
          9.973457749332443,
          9.369536527322671,
          8.827314550639642,
          8.346032826692818,
          7.924967439804113,
          7.563434453443222,
          7.260794426241957,
          7.016456541787646,
          6.829882352195526,
          6.700589135460243,
          6.628152866586331,
          6.612210802497774,
          6.65246368072658,
          6.748677531880408,
          6.900685105889235,
          7.108386912031065,
          7.371751872736671,
          7.690817591173375,
          8.065690232607883,
          8.496544019548152,
          8.98362034066428,
          9.52722647348847,
          10.127733920894018,
          10.785576361353314,
          11.501247212974942,
          12.275296811319762,
          13.108329200996069,
          14.000998541033773,
          14.954005124037636,
          15.968091009119524,
          17.044035268609736,
          18.182648848547334,
          19.38476904294952,
          20.65125358186011,
          21.98297433317695,
          23.380810618258444,
          24.845642141309124,
          26.3783415325442,
          27.97976650513321,
          29.65075162592269,
          31.392099699937873,
          33.20457276866345,
          35.08888272210336,
          37.045681524619575,
          39.07555105455005,
          41.17899255760555,
          43.35641571404568,
          45.6081273196338,
          47.93431958037109,
          50.33505802100964,
          52.8102690073445,
          55.3597268822849,
          57.983040715704405,
          60.67964066807012,
          63.448763967851036,
          66.28944050270526,
          69.2004780244464,
          72.18044696778895,
          75.22766488287277,
          78.34018048156649,
          81.51575729755,
          84.75185696017613,
          88.04562208211114,
          91.3938587607543
         ]
        },
        {
         "line": {
          "color": "royalblue",
          "dash": "dash"
         },
         "mode": "lines",
         "name": "Fg(x)",
         "type": "scatter",
         "x": [
          -15,
          -14.747474747474747,
          -14.494949494949495,
          -14.242424242424242,
          -13.98989898989899,
          -13.737373737373737,
          -13.484848484848484,
          -13.232323232323232,
          -12.97979797979798,
          -12.727272727272727,
          -12.474747474747474,
          -12.222222222222221,
          -11.969696969696969,
          -11.717171717171716,
          -11.464646464646464,
          -11.212121212121211,
          -10.959595959595958,
          -10.707070707070706,
          -10.454545454545453,
          -10.2020202020202,
          -9.949494949494948,
          -9.696969696969695,
          -9.444444444444443,
          -9.19191919191919,
          -8.93939393939394,
          -8.686868686868687,
          -8.434343434343434,
          -8.181818181818182,
          -7.929292929292929,
          -7.6767676767676765,
          -7.424242424242424,
          -7.171717171717171,
          -6.919191919191919,
          -6.666666666666666,
          -6.4141414141414135,
          -6.161616161616161,
          -5.909090909090908,
          -5.656565656565656,
          -5.404040404040403,
          -5.1515151515151505,
          -4.898989898989898,
          -4.646464646464645,
          -4.393939393939393,
          -4.14141414141414,
          -3.8888888888888875,
          -3.636363636363635,
          -3.3838383838383823,
          -3.1313131313131297,
          -2.878787878787879,
          -2.6262626262626263,
          -2.3737373737373737,
          -2.121212121212121,
          -1.8686868686868685,
          -1.616161616161616,
          -1.3636363636363633,
          -1.1111111111111107,
          -0.8585858585858581,
          -0.6060606060606055,
          -0.3535353535353529,
          -0.10101010101010033,
          0.15151515151515227,
          0.40404040404040487,
          0.6565656565656575,
          0.9090909090909101,
          1.1616161616161627,
          1.4141414141414153,
          1.6666666666666679,
          1.9191919191919204,
          2.171717171717173,
          2.4242424242424256,
          2.6767676767676782,
          2.929292929292931,
          3.1818181818181834,
          3.434343434343436,
          3.6868686868686886,
          3.9393939393939412,
          4.191919191919194,
          4.444444444444446,
          4.696969696969699,
          4.949494949494952,
          5.202020202020204,
          5.454545454545457,
          5.707070707070709,
          5.959595959595962,
          6.212121212121215,
          6.464646464646467,
          6.71717171717172,
          6.969696969696972,
          7.222222222222225,
          7.474747474747478,
          7.72727272727273,
          7.979797979797983,
          8.232323232323235,
          8.484848484848488,
          8.73737373737374,
          8.989898989898993,
          9.242424242424242,
          9.494949494949495,
          9.747474747474747,
          10
         ],
         "y": [
          77.5,
          74.50158147127843,
          71.56693194571983,
          68.69605142332415,
          65.88893990409142,
          63.14559738802162,
          60.466023875114786,
          57.85021936537087,
          55.29818385878991,
          52.8099173553719,
          50.38541985511682,
          48.02469135802469,
          45.72773186409549,
          43.49454137332925,
          41.32511988572594,
          39.21946740128558,
          37.17758392000815,
          35.199469441893676,
          33.28512396694214,
          31.434547495153545,
          29.6477400265279,
          27.924701561065184,
          26.265432098765423,
          24.6699316396286,
          23.138200183654725,
          21.670237730843787,
          20.266044281195796,
          18.925619834710744,
          17.64896439138863,
          16.436077951229464,
          15.28696051423324,
          14.201612080399954,
          13.180032649729615,
          12.222222222222218,
          11.328180797877764,
          10.497908376696252,
          9.731404958677683,
          9.028670543822054,
          8.38970513212937,
          7.81450872359963,
          7.303081318232831,
          6.855422916028974,
          6.47153351698806,
          6.151413121110089,
          5.895061728395061,
          5.702479338842974,
          5.573665952453831,
          5.508621569227629,
          5.507346189164371,
          5.569839812264055,
          5.696102438526681,
          5.88613406795225,
          6.139934700540762,
          6.4575043362922155,
          6.838842975206612,
          7.283950617283951,
          7.792827262524233,
          8.365472910927458,
          9.001887562493625,
          9.702071217222734,
          10.466023875114786,
          11.293745536169782,
          12.185236200387719,
          13.1404958677686,
          14.159524538312422,
          15.242322212019186,
          16.388888888888893,
          17.599224568921546,
          18.873329252117138,
          20.211202938475672,
          21.612845627997153,
          23.078257320681573,
          24.607438016528935,
          26.200387715539243,
          27.85710641771249,
          29.57759412304868,
          31.361850831547812,
          33.20987654320989,
          35.12167125803491,
          37.097234976022875,
          39.136567697173774,
          41.23966942148762,
          43.40654014896441,
          45.63717987960415,
          47.93158861340682,
          50.28976635037243,
          52.71171309050099,
          55.1974288337925,
          57.74691358024694,
          60.360167329864325,
          63.037190082644656,
          65.77798183858793,
          68.58254259769414,
          71.4508723599633,
          74.3829711253954,
          77.37883889399045,
          80.4384756657484,
          83.56188144066931,
          86.7490562187532,
          90
         ]
        }
       ],
       "layout": {
        "height": 700,
        "legend": {
         "tracegroupgap": 0
        },
        "template": {
         "data": {
          "bar": [
           {
            "error_x": {
             "color": "rgb(36,36,36)"
            },
            "error_y": {
             "color": "rgb(36,36,36)"
            },
            "marker": {
             "line": {
              "color": "rgb(234,234,242)",
              "width": 0.5
             }
            },
            "type": "bar"
           }
          ],
          "barpolar": [
           {
            "marker": {
             "line": {
              "color": "rgb(234,234,242)",
              "width": 0.5
             }
            },
            "type": "barpolar"
           }
          ],
          "carpet": [
           {
            "aaxis": {
             "endlinecolor": "rgb(36,36,36)",
             "gridcolor": "white",
             "linecolor": "white",
             "minorgridcolor": "white",
             "startlinecolor": "rgb(36,36,36)"
            },
            "baxis": {
             "endlinecolor": "rgb(36,36,36)",
             "gridcolor": "white",
             "linecolor": "white",
             "minorgridcolor": "white",
             "startlinecolor": "rgb(36,36,36)"
            },
            "type": "carpet"
           }
          ],
          "choropleth": [
           {
            "colorbar": {
             "outlinewidth": 0,
             "tickcolor": "rgb(36,36,36)",
             "ticklen": 8,
             "ticks": "outside",
             "tickwidth": 2
            },
            "type": "choropleth"
           }
          ],
          "contour": [
           {
            "colorbar": {
             "outlinewidth": 0,
             "tickcolor": "rgb(36,36,36)",
             "ticklen": 8,
             "ticks": "outside",
             "tickwidth": 2
            },
            "colorscale": [
             [
              0,
              "rgb(2,4,25)"
             ],
             [
              0.06274509803921569,
              "rgb(24,15,41)"
             ],
             [
              0.12549019607843137,
              "rgb(47,23,57)"
             ],
             [
              0.18823529411764706,
              "rgb(71,28,72)"
             ],
             [
              0.25098039215686274,
              "rgb(97,30,82)"
             ],
             [
              0.3137254901960784,
              "rgb(123,30,89)"
             ],
             [
              0.3764705882352941,
              "rgb(150,27,91)"
             ],
             [
              0.4392156862745098,
              "rgb(177,22,88)"
             ],
             [
              0.5019607843137255,
              "rgb(203,26,79)"
             ],
             [
              0.5647058823529412,
              "rgb(223,47,67)"
             ],
             [
              0.6274509803921569,
              "rgb(236,76,61)"
             ],
             [
              0.6901960784313725,
              "rgb(242,107,73)"
             ],
             [
              0.7529411764705882,
              "rgb(244,135,95)"
             ],
             [
              0.8156862745098039,
              "rgb(245,162,122)"
             ],
             [
              0.8784313725490196,
              "rgb(246,188,153)"
             ],
             [
              0.9411764705882353,
              "rgb(247,212,187)"
             ],
             [
              1,
              "rgb(250,234,220)"
             ]
            ],
            "type": "contour"
           }
          ],
          "contourcarpet": [
           {
            "colorbar": {
             "outlinewidth": 0,
             "tickcolor": "rgb(36,36,36)",
             "ticklen": 8,
             "ticks": "outside",
             "tickwidth": 2
            },
            "type": "contourcarpet"
           }
          ],
          "heatmap": [
           {
            "colorbar": {
             "outlinewidth": 0,
             "tickcolor": "rgb(36,36,36)",
             "ticklen": 8,
             "ticks": "outside",
             "tickwidth": 2
            },
            "colorscale": [
             [
              0,
              "rgb(2,4,25)"
             ],
             [
              0.06274509803921569,
              "rgb(24,15,41)"
             ],
             [
              0.12549019607843137,
              "rgb(47,23,57)"
             ],
             [
              0.18823529411764706,
              "rgb(71,28,72)"
             ],
             [
              0.25098039215686274,
              "rgb(97,30,82)"
             ],
             [
              0.3137254901960784,
              "rgb(123,30,89)"
             ],
             [
              0.3764705882352941,
              "rgb(150,27,91)"
             ],
             [
              0.4392156862745098,
              "rgb(177,22,88)"
             ],
             [
              0.5019607843137255,
              "rgb(203,26,79)"
             ],
             [
              0.5647058823529412,
              "rgb(223,47,67)"
             ],
             [
              0.6274509803921569,
              "rgb(236,76,61)"
             ],
             [
              0.6901960784313725,
              "rgb(242,107,73)"
             ],
             [
              0.7529411764705882,
              "rgb(244,135,95)"
             ],
             [
              0.8156862745098039,
              "rgb(245,162,122)"
             ],
             [
              0.8784313725490196,
              "rgb(246,188,153)"
             ],
             [
              0.9411764705882353,
              "rgb(247,212,187)"
             ],
             [
              1,
              "rgb(250,234,220)"
             ]
            ],
            "type": "heatmap"
           }
          ],
          "heatmapgl": [
           {
            "colorbar": {
             "outlinewidth": 0,
             "tickcolor": "rgb(36,36,36)",
             "ticklen": 8,
             "ticks": "outside",
             "tickwidth": 2
            },
            "colorscale": [
             [
              0,
              "rgb(2,4,25)"
             ],
             [
              0.06274509803921569,
              "rgb(24,15,41)"
             ],
             [
              0.12549019607843137,
              "rgb(47,23,57)"
             ],
             [
              0.18823529411764706,
              "rgb(71,28,72)"
             ],
             [
              0.25098039215686274,
              "rgb(97,30,82)"
             ],
             [
              0.3137254901960784,
              "rgb(123,30,89)"
             ],
             [
              0.3764705882352941,
              "rgb(150,27,91)"
             ],
             [
              0.4392156862745098,
              "rgb(177,22,88)"
             ],
             [
              0.5019607843137255,
              "rgb(203,26,79)"
             ],
             [
              0.5647058823529412,
              "rgb(223,47,67)"
             ],
             [
              0.6274509803921569,
              "rgb(236,76,61)"
             ],
             [
              0.6901960784313725,
              "rgb(242,107,73)"
             ],
             [
              0.7529411764705882,
              "rgb(244,135,95)"
             ],
             [
              0.8156862745098039,
              "rgb(245,162,122)"
             ],
             [
              0.8784313725490196,
              "rgb(246,188,153)"
             ],
             [
              0.9411764705882353,
              "rgb(247,212,187)"
             ],
             [
              1,
              "rgb(250,234,220)"
             ]
            ],
            "type": "heatmapgl"
           }
          ],
          "histogram": [
           {
            "marker": {
             "colorbar": {
              "outlinewidth": 0,
              "tickcolor": "rgb(36,36,36)",
              "ticklen": 8,
              "ticks": "outside",
              "tickwidth": 2
             }
            },
            "type": "histogram"
           }
          ],
          "histogram2d": [
           {
            "colorbar": {
             "outlinewidth": 0,
             "tickcolor": "rgb(36,36,36)",
             "ticklen": 8,
             "ticks": "outside",
             "tickwidth": 2
            },
            "colorscale": [
             [
              0,
              "rgb(2,4,25)"
             ],
             [
              0.06274509803921569,
              "rgb(24,15,41)"
             ],
             [
              0.12549019607843137,
              "rgb(47,23,57)"
             ],
             [
              0.18823529411764706,
              "rgb(71,28,72)"
             ],
             [
              0.25098039215686274,
              "rgb(97,30,82)"
             ],
             [
              0.3137254901960784,
              "rgb(123,30,89)"
             ],
             [
              0.3764705882352941,
              "rgb(150,27,91)"
             ],
             [
              0.4392156862745098,
              "rgb(177,22,88)"
             ],
             [
              0.5019607843137255,
              "rgb(203,26,79)"
             ],
             [
              0.5647058823529412,
              "rgb(223,47,67)"
             ],
             [
              0.6274509803921569,
              "rgb(236,76,61)"
             ],
             [
              0.6901960784313725,
              "rgb(242,107,73)"
             ],
             [
              0.7529411764705882,
              "rgb(244,135,95)"
             ],
             [
              0.8156862745098039,
              "rgb(245,162,122)"
             ],
             [
              0.8784313725490196,
              "rgb(246,188,153)"
             ],
             [
              0.9411764705882353,
              "rgb(247,212,187)"
             ],
             [
              1,
              "rgb(250,234,220)"
             ]
            ],
            "type": "histogram2d"
           }
          ],
          "histogram2dcontour": [
           {
            "colorbar": {
             "outlinewidth": 0,
             "tickcolor": "rgb(36,36,36)",
             "ticklen": 8,
             "ticks": "outside",
             "tickwidth": 2
            },
            "colorscale": [
             [
              0,
              "rgb(2,4,25)"
             ],
             [
              0.06274509803921569,
              "rgb(24,15,41)"
             ],
             [
              0.12549019607843137,
              "rgb(47,23,57)"
             ],
             [
              0.18823529411764706,
              "rgb(71,28,72)"
             ],
             [
              0.25098039215686274,
              "rgb(97,30,82)"
             ],
             [
              0.3137254901960784,
              "rgb(123,30,89)"
             ],
             [
              0.3764705882352941,
              "rgb(150,27,91)"
             ],
             [
              0.4392156862745098,
              "rgb(177,22,88)"
             ],
             [
              0.5019607843137255,
              "rgb(203,26,79)"
             ],
             [
              0.5647058823529412,
              "rgb(223,47,67)"
             ],
             [
              0.6274509803921569,
              "rgb(236,76,61)"
             ],
             [
              0.6901960784313725,
              "rgb(242,107,73)"
             ],
             [
              0.7529411764705882,
              "rgb(244,135,95)"
             ],
             [
              0.8156862745098039,
              "rgb(245,162,122)"
             ],
             [
              0.8784313725490196,
              "rgb(246,188,153)"
             ],
             [
              0.9411764705882353,
              "rgb(247,212,187)"
             ],
             [
              1,
              "rgb(250,234,220)"
             ]
            ],
            "type": "histogram2dcontour"
           }
          ],
          "mesh3d": [
           {
            "colorbar": {
             "outlinewidth": 0,
             "tickcolor": "rgb(36,36,36)",
             "ticklen": 8,
             "ticks": "outside",
             "tickwidth": 2
            },
            "type": "mesh3d"
           }
          ],
          "parcoords": [
           {
            "line": {
             "colorbar": {
              "outlinewidth": 0,
              "tickcolor": "rgb(36,36,36)",
              "ticklen": 8,
              "ticks": "outside",
              "tickwidth": 2
             }
            },
            "type": "parcoords"
           }
          ],
          "pie": [
           {
            "automargin": true,
            "type": "pie"
           }
          ],
          "scatter": [
           {
            "marker": {
             "colorbar": {
              "outlinewidth": 0,
              "tickcolor": "rgb(36,36,36)",
              "ticklen": 8,
              "ticks": "outside",
              "tickwidth": 2
             }
            },
            "type": "scatter"
           }
          ],
          "scatter3d": [
           {
            "line": {
             "colorbar": {
              "outlinewidth": 0,
              "tickcolor": "rgb(36,36,36)",
              "ticklen": 8,
              "ticks": "outside",
              "tickwidth": 2
             }
            },
            "marker": {
             "colorbar": {
              "outlinewidth": 0,
              "tickcolor": "rgb(36,36,36)",
              "ticklen": 8,
              "ticks": "outside",
              "tickwidth": 2
             }
            },
            "type": "scatter3d"
           }
          ],
          "scattercarpet": [
           {
            "marker": {
             "colorbar": {
              "outlinewidth": 0,
              "tickcolor": "rgb(36,36,36)",
              "ticklen": 8,
              "ticks": "outside",
              "tickwidth": 2
             }
            },
            "type": "scattercarpet"
           }
          ],
          "scattergeo": [
           {
            "marker": {
             "colorbar": {
              "outlinewidth": 0,
              "tickcolor": "rgb(36,36,36)",
              "ticklen": 8,
              "ticks": "outside",
              "tickwidth": 2
             }
            },
            "type": "scattergeo"
           }
          ],
          "scattergl": [
           {
            "marker": {
             "colorbar": {
              "outlinewidth": 0,
              "tickcolor": "rgb(36,36,36)",
              "ticklen": 8,
              "ticks": "outside",
              "tickwidth": 2
             }
            },
            "type": "scattergl"
           }
          ],
          "scattermapbox": [
           {
            "marker": {
             "colorbar": {
              "outlinewidth": 0,
              "tickcolor": "rgb(36,36,36)",
              "ticklen": 8,
              "ticks": "outside",
              "tickwidth": 2
             }
            },
            "type": "scattermapbox"
           }
          ],
          "scatterpolar": [
           {
            "marker": {
             "colorbar": {
              "outlinewidth": 0,
              "tickcolor": "rgb(36,36,36)",
              "ticklen": 8,
              "ticks": "outside",
              "tickwidth": 2
             }
            },
            "type": "scatterpolar"
           }
          ],
          "scatterpolargl": [
           {
            "marker": {
             "colorbar": {
              "outlinewidth": 0,
              "tickcolor": "rgb(36,36,36)",
              "ticklen": 8,
              "ticks": "outside",
              "tickwidth": 2
             }
            },
            "type": "scatterpolargl"
           }
          ],
          "scatterternary": [
           {
            "marker": {
             "colorbar": {
              "outlinewidth": 0,
              "tickcolor": "rgb(36,36,36)",
              "ticklen": 8,
              "ticks": "outside",
              "tickwidth": 2
             }
            },
            "type": "scatterternary"
           }
          ],
          "surface": [
           {
            "colorbar": {
             "outlinewidth": 0,
             "tickcolor": "rgb(36,36,36)",
             "ticklen": 8,
             "ticks": "outside",
             "tickwidth": 2
            },
            "colorscale": [
             [
              0,
              "rgb(2,4,25)"
             ],
             [
              0.06274509803921569,
              "rgb(24,15,41)"
             ],
             [
              0.12549019607843137,
              "rgb(47,23,57)"
             ],
             [
              0.18823529411764706,
              "rgb(71,28,72)"
             ],
             [
              0.25098039215686274,
              "rgb(97,30,82)"
             ],
             [
              0.3137254901960784,
              "rgb(123,30,89)"
             ],
             [
              0.3764705882352941,
              "rgb(150,27,91)"
             ],
             [
              0.4392156862745098,
              "rgb(177,22,88)"
             ],
             [
              0.5019607843137255,
              "rgb(203,26,79)"
             ],
             [
              0.5647058823529412,
              "rgb(223,47,67)"
             ],
             [
              0.6274509803921569,
              "rgb(236,76,61)"
             ],
             [
              0.6901960784313725,
              "rgb(242,107,73)"
             ],
             [
              0.7529411764705882,
              "rgb(244,135,95)"
             ],
             [
              0.8156862745098039,
              "rgb(245,162,122)"
             ],
             [
              0.8784313725490196,
              "rgb(246,188,153)"
             ],
             [
              0.9411764705882353,
              "rgb(247,212,187)"
             ],
             [
              1,
              "rgb(250,234,220)"
             ]
            ],
            "type": "surface"
           }
          ],
          "table": [
           {
            "cells": {
             "fill": {
              "color": "rgb(231,231,240)"
             },
             "line": {
              "color": "white"
             }
            },
            "header": {
             "fill": {
              "color": "rgb(183,183,191)"
             },
             "line": {
              "color": "white"
             }
            },
            "type": "table"
           }
          ]
         },
         "layout": {
          "annotationdefaults": {
           "arrowcolor": "rgb(67,103,167)"
          },
          "autotypenumbers": "strict",
          "coloraxis": {
           "colorbar": {
            "outlinewidth": 0,
            "tickcolor": "rgb(36,36,36)",
            "ticklen": 8,
            "ticks": "outside",
            "tickwidth": 2
           }
          },
          "colorscale": {
           "sequential": [
            [
             0,
             "rgb(2,4,25)"
            ],
            [
             0.06274509803921569,
             "rgb(24,15,41)"
            ],
            [
             0.12549019607843137,
             "rgb(47,23,57)"
            ],
            [
             0.18823529411764706,
             "rgb(71,28,72)"
            ],
            [
             0.25098039215686274,
             "rgb(97,30,82)"
            ],
            [
             0.3137254901960784,
             "rgb(123,30,89)"
            ],
            [
             0.3764705882352941,
             "rgb(150,27,91)"
            ],
            [
             0.4392156862745098,
             "rgb(177,22,88)"
            ],
            [
             0.5019607843137255,
             "rgb(203,26,79)"
            ],
            [
             0.5647058823529412,
             "rgb(223,47,67)"
            ],
            [
             0.6274509803921569,
             "rgb(236,76,61)"
            ],
            [
             0.6901960784313725,
             "rgb(242,107,73)"
            ],
            [
             0.7529411764705882,
             "rgb(244,135,95)"
            ],
            [
             0.8156862745098039,
             "rgb(245,162,122)"
            ],
            [
             0.8784313725490196,
             "rgb(246,188,153)"
            ],
            [
             0.9411764705882353,
             "rgb(247,212,187)"
            ],
            [
             1,
             "rgb(250,234,220)"
            ]
           ],
           "sequentialminus": [
            [
             0,
             "rgb(2,4,25)"
            ],
            [
             0.06274509803921569,
             "rgb(24,15,41)"
            ],
            [
             0.12549019607843137,
             "rgb(47,23,57)"
            ],
            [
             0.18823529411764706,
             "rgb(71,28,72)"
            ],
            [
             0.25098039215686274,
             "rgb(97,30,82)"
            ],
            [
             0.3137254901960784,
             "rgb(123,30,89)"
            ],
            [
             0.3764705882352941,
             "rgb(150,27,91)"
            ],
            [
             0.4392156862745098,
             "rgb(177,22,88)"
            ],
            [
             0.5019607843137255,
             "rgb(203,26,79)"
            ],
            [
             0.5647058823529412,
             "rgb(223,47,67)"
            ],
            [
             0.6274509803921569,
             "rgb(236,76,61)"
            ],
            [
             0.6901960784313725,
             "rgb(242,107,73)"
            ],
            [
             0.7529411764705882,
             "rgb(244,135,95)"
            ],
            [
             0.8156862745098039,
             "rgb(245,162,122)"
            ],
            [
             0.8784313725490196,
             "rgb(246,188,153)"
            ],
            [
             0.9411764705882353,
             "rgb(247,212,187)"
            ],
            [
             1,
             "rgb(250,234,220)"
            ]
           ]
          },
          "colorway": [
           "rgb(76,114,176)",
           "rgb(221,132,82)",
           "rgb(85,168,104)",
           "rgb(196,78,82)",
           "rgb(129,114,179)",
           "rgb(147,120,96)",
           "rgb(218,139,195)",
           "rgb(140,140,140)",
           "rgb(204,185,116)",
           "rgb(100,181,205)"
          ],
          "font": {
           "color": "rgb(36,36,36)"
          },
          "geo": {
           "bgcolor": "white",
           "lakecolor": "white",
           "landcolor": "rgb(234,234,242)",
           "showlakes": true,
           "showland": true,
           "subunitcolor": "white"
          },
          "hoverlabel": {
           "align": "left"
          },
          "hovermode": "closest",
          "paper_bgcolor": "white",
          "plot_bgcolor": "rgb(234,234,242)",
          "polar": {
           "angularaxis": {
            "gridcolor": "white",
            "linecolor": "white",
            "showgrid": true,
            "ticks": ""
           },
           "bgcolor": "rgb(234,234,242)",
           "radialaxis": {
            "gridcolor": "white",
            "linecolor": "white",
            "showgrid": true,
            "ticks": ""
           }
          },
          "scene": {
           "xaxis": {
            "backgroundcolor": "rgb(234,234,242)",
            "gridcolor": "white",
            "gridwidth": 2,
            "linecolor": "white",
            "showbackground": true,
            "showgrid": true,
            "ticks": "",
            "zerolinecolor": "white"
           },
           "yaxis": {
            "backgroundcolor": "rgb(234,234,242)",
            "gridcolor": "white",
            "gridwidth": 2,
            "linecolor": "white",
            "showbackground": true,
            "showgrid": true,
            "ticks": "",
            "zerolinecolor": "white"
           },
           "zaxis": {
            "backgroundcolor": "rgb(234,234,242)",
            "gridcolor": "white",
            "gridwidth": 2,
            "linecolor": "white",
            "showbackground": true,
            "showgrid": true,
            "ticks": "",
            "zerolinecolor": "white"
           }
          },
          "shapedefaults": {
           "fillcolor": "rgb(67,103,167)",
           "line": {
            "width": 0
           },
           "opacity": 0.5
          },
          "ternary": {
           "aaxis": {
            "gridcolor": "white",
            "linecolor": "white",
            "showgrid": true,
            "ticks": ""
           },
           "baxis": {
            "gridcolor": "white",
            "linecolor": "white",
            "showgrid": true,
            "ticks": ""
           },
           "bgcolor": "rgb(234,234,242)",
           "caxis": {
            "gridcolor": "white",
            "linecolor": "white",
            "showgrid": true,
            "ticks": ""
           }
          },
          "xaxis": {
           "automargin": true,
           "gridcolor": "white",
           "linecolor": "white",
           "showgrid": true,
           "ticks": "",
           "title": {
            "standoff": 15
           },
           "zerolinecolor": "white"
          },
          "yaxis": {
           "automargin": true,
           "gridcolor": "white",
           "linecolor": "white",
           "showgrid": true,
           "ticks": "",
           "title": {
            "standoff": 15
           },
           "zerolinecolor": "white"
          }
         }
        },
        "title": {
         "text": "p = 6"
        },
        "width": 800,
        "xaxis": {
         "anchor": "y",
         "domain": [
          0,
          1
         ],
         "title": {
          "text": "x"
         }
        },
        "yaxis": {
         "anchor": "x",
         "domain": [
          0,
          1
         ],
         "title": {
          "text": "y"
         }
        }
       }
      }
     },
     "metadata": {}
    },
    {
     "output_type": "stream",
     "name": "stdout",
     "text": [
      "[[ 1.00000000e+00 -1.50000000e+01  2.25000000e+02 -3.37500000e+03\n   5.06250000e+04 -7.59375000e+05  1.13906250e+07 -1.70859375e+08]\n [ 1.00000000e+00 -1.47474747e+01  2.17488011e+02 -3.20739896e+03\n   4.73010351e+04 -6.97570821e+05  1.02874081e+07 -1.51713291e+08]\n [ 1.00000000e+00 -1.44949495e+01  2.10103561e+02 -3.04544050e+03\n   4.41435063e+04 -6.39857894e+05  9.27470786e+06 -1.34436422e+08]\n [ 1.00000000e+00 -1.42424242e+01  2.02846648e+02 -2.88902802e+03\n   4.11467627e+04 -5.86029651e+05  8.34648291e+06 -1.18874151e+08]\n [ 1.00000000e+00 -1.39898990e+01  1.95717274e+02 -2.73806489e+03\n   3.83052512e+04 -5.35886596e+05  7.49699934e+06 -1.04882264e+08]\n [ 1.00000000e+00 -1.37373737e+01  1.88715437e+02 -2.59245449e+03\n   3.56135162e+04 -4.89236183e+05  6.72082029e+06 -9.23264201e+07]\n [ 1.00000000e+00 -1.34848485e+01  1.81841139e+02 -2.45210020e+03\n   3.30661997e+04 -4.45892693e+05  6.01279541e+06 -8.10816350e+07]\n [ 1.00000000e+00 -1.32323232e+01  1.75094378e+02 -2.31690541e+03\n   3.06580413e+04 -4.05677112e+05  5.36805067e+06 -7.10317816e+07]\n [ 1.00000000e+00 -1.29797980e+01  1.68475156e+02 -2.18677348e+03\n   2.83838781e+04 -3.68417003e+05  4.78197827e+06 -6.20691119e+07]\n [ 1.00000000e+00 -1.27272727e+01  1.61983471e+02 -2.06160781e+03\n   2.62386449e+04 -3.33946390e+05  4.25022678e+06 -5.40937953e+07]\n [ 1.00000000e+00 -1.24747475e+01  1.55619325e+02 -1.94131178e+03\n   2.42173742e+04 -3.02105627e+05  3.76869141e+06 -4.70134737e+07]\n [ 1.00000000e+00 -1.22222222e+01  1.49382716e+02 -1.82578875e+03\n   2.23151959e+04 -2.72741283e+05  3.33350457e+06 -4.07428336e+07]\n [ 1.00000000e+00 -1.19696970e+01  1.43273646e+02 -1.71494212e+03\n   2.05273375e+04 -2.45706010e+05  2.94102648e+06 -3.52031957e+07]\n [ 1.00000000e+00 -1.17171717e+01  1.37292113e+02 -1.60867526e+03\n   1.88491243e+04 -2.20858426e+05  2.58783611e+06 -3.03221200e+07]\n [ 1.00000000e+00 -1.14646465e+01  1.31438119e+02 -1.50689156e+03\n   1.72759790e+04 -1.98062992e+05  2.27072218e+06 -2.60330270e+07]\n [ 1.00000000e+00 -1.12121212e+01  1.25711662e+02 -1.40949439e+03\n   1.58034220e+04 -1.77189883e+05  1.98667444e+06 -2.22748347e+07]\n [ 1.00000000e+00 -1.09595960e+01  1.20112744e+02 -1.31638714e+03\n   1.44270712e+04 -1.58114871e+05  1.73287510e+06 -1.89916110e+07]\n [ 1.00000000e+00 -1.07070707e+01  1.14641363e+02 -1.22747318e+03\n   1.31426421e+04 -1.40719199e+05  1.50669041e+06 -1.61322408e+07]\n [ 1.00000000e+00 -1.04545455e+01  1.09297521e+02 -1.14265590e+03\n   1.19459480e+04 -1.24889457e+05  1.30566250e+06 -1.36501080e+07]\n [ 1.00000000e+00 -1.02020202e+01  1.04081216e+02 -1.06183867e+03\n   1.08328996e+04 -1.10517460e+05  1.12750136e+06 -1.15027917e+07]\n [ 1.00000000e+00 -9.94949495e+00  9.89924498e+01 -9.84924879e+02\n   9.79950511e+03 -9.75001266e+04  9.70077017e+05 -9.65177638e+06]\n [ 1.00000000e+00 -9.69696970e+00  9.40312213e+01 -9.11817904e+02\n   8.84187058e+03 -8.57393511e+04  8.31411889e+05 -8.06217590e+06]\n [ 1.00000000e+00 -9.44444444e+00  8.91975309e+01 -8.42421125e+02\n   7.95619951e+03 -7.51418843e+04  7.09673352e+05 -6.70247054e+06]\n [ 1.00000000e+00 -9.19191919e+00  8.44913784e+01 -7.76637923e+02\n   7.13879303e+03 -6.56192087e+04  6.03166463e+05 -5.54425739e+06]\n [ 1.00000000e+00 -8.93939394e+00  7.99127640e+01 -7.14371678e+02\n   6.38604985e+03 -5.70874153e+04  5.10326895e+05 -4.56201315e+06]\n [ 1.00000000e+00 -8.68686869e+00  7.54616876e+01 -6.55525771e+02\n   5.69446629e+03 -4.94670809e+04  4.29714036e+05 -3.73286941e+06]\n [ 1.00000000e+00 -8.43434343e+00  7.11381492e+01 -6.00003581e+02\n   5.06063627e+03 -4.26831443e+04  3.60004298e+05 -3.03639988e+06]\n [ 1.00000000e+00 -8.18181818e+00  6.69421488e+01 -5.47708490e+02\n   4.48125128e+03 -3.66647832e+04  2.99984590e+05 -2.45441937e+06]\n [ 1.00000000e+00 -7.92929293e+00  6.28736864e+01 -4.98543877e+02\n   3.95310044e+03 -3.13452913e+04  2.48545997e+05 -1.97079402e+06]\n [ 1.00000000e+00 -7.67676768e+00  5.89327620e+01 -4.52413122e+02\n   3.47307043e+03 -2.66619548e+04  2.04677633e+05 -1.57126264e+06]\n [ 1.00000000e+00 -7.42424242e+00  5.51193756e+01 -4.09219607e+02\n   3.03814556e+03 -2.25559292e+04  1.67460686e+05 -1.24326873e+06]\n [ 1.00000000e+00 -7.17171717e+00  5.14335272e+01 -3.68866710e+02\n   2.64540772e+03 -1.89721160e+04  1.36062650e+05 -9.75802842e+05]\n [ 1.00000000e+00 -6.91919192e+00  4.78752168e+01 -3.31257813e+02\n   2.29203639e+03 -1.58590396e+04  1.09731739e+05 -7.59254961e+05]\n [ 1.00000000e+00 -6.66666667e+00  4.44444444e+01 -2.96296296e+02\n   1.97530864e+03 -1.31687243e+04  8.77914952e+04 -5.85276635e+05]\n [ 1.00000000e+00 -6.41414141e+00  4.11412101e+01 -2.63885539e+02\n   1.69259917e+03 -1.08565704e+04  6.96355779e+04 -4.46652444e+05]\n [ 1.00000000e+00 -6.16161616e+00  3.79655137e+01 -2.33928923e+02\n   1.44138023e+03 -8.88123173e+03  5.47227410e+04 -3.37180525e+05]\n [ 1.00000000e+00 -5.90909091e+00  3.49173554e+01 -2.06329827e+02\n   1.21922171e+03 -7.20449190e+03  4.25719976e+04 -2.51561804e+05]\n [ 1.00000000e+00 -5.65656566e+00  3.19967350e+01 -1.80991632e+02\n   1.02379105e+03 -5.79114131e+03  3.27579710e+04 -1.85297614e+05]\n [ 1.00000000e+00 -5.40404040e+00  2.92036527e+01 -1.57817719e+02\n   8.52853330e+02 -4.60885386e+03  2.49064325e+04 -1.34595367e+05]\n [ 1.00000000e+00 -5.15151515e+00  2.65381084e+01 -1.36711467e+02\n   7.04271195e+02 -3.62806373e+03  1.86900253e+04 -9.62819485e+04]\n [ 1.00000000e+00 -4.89898990e+00  2.40001020e+01 -1.17576257e+02\n   5.76004897e+02 -2.82184217e+03  1.38241763e+04 -6.77245001e+04]\n [ 1.00000000e+00 -4.64646465e+00  2.15896337e+01 -1.00315470e+02\n   4.66112284e+02 -2.16577425e+03  1.00631935e+04 -4.67582727e+04]\n [ 1.00000000e+00 -4.39393939e+00  1.93067034e+01 -8.48324846e+01\n   3.72748796e+02 -1.63783562e+03  7.19655045e+03 -3.16212065e+04]\n [ 1.00000000e+00 -4.14141414e+00  1.71513111e+01 -7.10306823e+01\n   2.94167472e+02 -1.21826933e+03  5.04535783e+03 -2.08949163e+04]\n [ 1.00000000e+00 -3.88888889e+00  1.51234568e+01 -5.88134431e+01\n   2.28718945e+02 -8.89462565e+02  3.45902109e+03 -1.34517487e+04]\n [ 1.00000000e+00 -3.63636364e+00  1.32231405e+01 -4.80841473e+01\n   1.74851445e+02 -6.35823435e+02  2.31208522e+03 -8.40758261e+03]\n [ 1.00000000e+00 -3.38383838e+00  1.14503622e+01 -3.87461751e+01\n   1.31110795e+02 -4.43657740e+02  1.50126609e+03 -5.08004181e+03]\n [ 1.00000000e+00 -3.13131313e+00  9.80512193e+00 -3.07029070e+01\n   9.61404160e+01 -3.01045747e+02  9.42668501e+02 -2.95179026e+03]\n [ 1.00000000e+00 -2.87878788e+00  8.28741965e+00 -2.38577232e+01\n   6.86813245e+01 -1.97718964e+02  5.69190958e+02 -1.63858003e+03]\n [ 1.00000000e+00 -2.62626263e+00  6.89725538e+00 -1.81140040e+01\n   4.75721318e+01 -1.24936912e+02  3.28117142e+02 -8.61721787e+02]\n [ 1.00000000e+00 -2.37373737e+00  5.63462912e+00 -1.33751297e+01\n   3.17490453e+01 -7.53638954e+01  1.78894095e+02 -4.24647600e+02]\n [ 1.00000000e+00 -2.12121212e+00  4.49954086e+00 -9.54448062e+00\n   2.02458680e+01 -4.29457806e+01  9.10971103e+01 -1.93236295e+02]\n [ 1.00000000e+00 -1.86868687e+00  3.49199061e+00 -6.52543700e+00\n   1.21939984e+01 -2.27867648e+01  4.25813281e+01 -7.95711687e+01]\n [ 1.00000000e+00 -1.61616162e+00  2.61197837e+00 -4.22137918e+00\n   6.82243100e+00 -1.10261511e+01  1.78200422e+01 -2.88000682e+01]\n [ 1.00000000e+00 -1.36363636e+00  1.85950413e+00 -2.53568745e+00\n   3.45775562e+00 -4.71512130e+00  6.42971086e+00 -8.76778754e+00]\n [ 1.00000000e+00 -1.11111111e+00  1.23456790e+00 -1.37174211e+00\n   1.52415790e+00 -1.69350878e+00  1.88167642e+00 -2.09075158e+00]\n [ 1.00000000e+00 -8.58585859e-01  7.37169677e-01 -6.32923460e-01\n   5.43419132e-01 -4.66571982e-01  4.00592106e-01 -3.43942717e-01]\n [ 1.00000000e+00 -6.06060606e-01  3.67309458e-01 -2.22611793e-01\n   1.34916238e-01 -8.17674170e-02  4.95560103e-02 -3.00339456e-02]\n [ 1.00000000e+00 -3.53535354e-01  1.24987246e-01 -4.41874103e-02\n   1.56218117e-02 -5.52286273e-03  1.95252723e-03 -6.90287403e-04]\n [ 1.00000000e+00 -1.01010101e-01  1.02030405e-02 -1.03061015e-03\n   1.04102036e-04 -1.05153571e-05  1.06215729e-06 -1.07288615e-07]\n [ 1.00000000e+00  1.51515152e-01  2.29568411e-02  3.47830926e-03\n   5.27016555e-04  7.98509932e-05  1.20986353e-05  1.83312657e-06]\n [ 1.00000000e+00  4.04040404e-01  1.63248648e-01  6.59590497e-02\n   2.66501211e-02  1.07677257e-02  4.35059624e-03  1.75781666e-03]\n [ 1.00000000e+00  6.56565657e-01  4.31078461e-01  2.83031313e-01\n   1.85828640e-01  1.22008703e-01  8.01067242e-02  5.25953239e-02]\n [ 1.00000000e+00  9.09090909e-01  8.26446281e-01  7.51314801e-01\n   6.83013455e-01  6.20921323e-01  5.64473930e-01  5.13158118e-01]\n [ 1.00000000e+00  1.16161616e+00  1.34935211e+00  1.56742922e+00\n   1.82075111e+00  2.11501391e+00  2.45683434e+00  2.85389848e+00]\n [ 1.00000000e+00  1.41414141e+00  1.99979594e+00  2.82799426e+00\n   3.99918380e+00  5.65541143e+00  7.99755152e+00  1.13096688e+01]\n [ 1.00000000e+00  1.66666667e+00  2.77777778e+00  4.62962963e+00\n   7.71604938e+00  1.28600823e+01  2.14334705e+01  3.57224508e+01]\n [ 1.00000000e+00  1.91919192e+00  3.68329762e+00  7.06895503e+00\n   1.35666814e+01  2.60370653e+01  4.99701253e+01  9.59022606e+01]\n [ 1.00000000e+00  2.17171717e+00  4.71635547e+00  1.02425902e+01\n   2.22440090e+01  4.83076962e+01  1.04910653e+02  2.27836267e+02]\n [ 1.00000000e+00  2.42424242e+00  5.87695133e+00  1.42471547e+01\n   3.45385570e+01  8.37298350e+01  2.02981418e+02  4.92076166e+02]\n [ 1.00000000e+00  2.67676768e+00  7.16508520e+00  1.91792685e+01\n   5.13384459e+01  1.37421092e+02  3.67844338e+02  9.84633835e+02]\n [ 1.00000000e+00  2.92929293e+00  8.58075707e+00  2.51355510e+01\n   7.36293918e+01  2.15682057e+02  6.31795924e+02  1.85071533e+03]\n [ 1.00000000e+00  3.18181818e+00  1.01239669e+01  3.22126221e+01\n   1.02494707e+02  3.26119521e+02  1.03765302e+03  3.30162325e+03]\n [ 1.00000000e+00  3.43434343e+00  1.17947148e+01  4.05071014e+01\n   1.39115298e+02  4.77769710e+02  1.64082527e+03  5.63515748e+03]\n [ 1.00000000e+00  3.68686869e+00  1.35930007e+01  5.01156087e+01\n   1.84769668e+02  6.81221505e+02  2.51157423e+03  9.25984440e+03]\n [ 1.00000000e+00  3.93939394e+00  1.55188246e+01  6.11347636e+01\n   2.40833917e+02  9.48739674e+02  3.73745932e+03  1.47233246e+04]\n [ 1.00000000e+00  4.19191919e+00  1.75721865e+01  7.36611859e+01\n   3.08781739e+02  1.29438810e+03  5.42597031e+03  2.27452291e+04]\n [ 1.00000000e+00  4.44444444e+00  1.97530864e+01  8.77914952e+01\n   3.90184423e+02  1.73415299e+03  7.70734663e+03  3.42548739e+04]\n [ 1.00000000e+00  4.69696970e+00  2.20615243e+01  1.03622311e+02\n   4.86710856e+02  2.28606614e+03  1.07375834e+04  5.04341038e+04]\n [ 1.00000000e+00  4.94949495e+00  2.44975003e+01  1.21250254e+02\n   6.00127519e+02  2.97032812e+03  1.47016240e+04  7.27656140e+04]\n [ 1.00000000e+00  5.20202020e+00  2.70610142e+01  1.40771942e+02\n   7.32298489e+02  3.80943153e+03  1.98167398e+04  1.03087081e+05]\n [ 1.00000000e+00  5.45454545e+00  2.97520661e+01  1.62283997e+02\n   8.85185438e+02  4.82828421e+03  2.63360957e+04  1.43651431e+05]\n [ 1.00000000e+00  5.70707071e+00  3.25706561e+01  1.85883037e+02\n   1.06084764e+03  6.05433247e+03  3.45525035e+04  1.97193580e+05]\n [ 1.00000000e+00  5.95959596e+00  3.55167840e+01  2.11665682e+02\n   1.26144195e+03  7.51768432e+03  4.48023611e+04  2.67003970e+05]\n [ 1.00000000e+00  6.21212121e+00  3.85904500e+01  2.39728553e+02\n   1.48922283e+03  9.25123272e+03  5.74697790e+04  3.57009233e+05]\n [ 1.00000000e+00  6.46464646e+00  4.17916539e+01  2.70168268e+02\n   1.74654234e+03  1.12907787e+04  7.29908929e+04  4.71860318e+05]\n [ 1.00000000e+00  6.71717172e+00  4.51203959e+01  3.03081447e+02\n   2.03585012e+03  1.36751549e+04  9.18583636e+04  6.17028402e+05]\n [ 1.00000000e+00  6.96969697e+00  4.85766758e+01  3.38564710e+02\n   2.35969344e+03  1.64463482e+04  1.14626063e+05  7.98908925e+05]\n [ 1.00000000e+00  7.22222222e+00  5.21604938e+01  3.76714678e+02\n   2.72071712e+03  1.96496236e+04  1.41913948e+05  1.02493407e+06]\n [ 1.00000000e+00  7.47474747e+00  5.58718498e+01  4.17627968e+02\n   3.12166360e+03  2.33336471e+04  1.74413120e+05  1.30369403e+06]\n [ 1.00000000e+00  7.72727273e+00  5.97107438e+01  4.61401202e+02\n   3.56537293e+03  2.75506090e+04  2.12891069e+05  1.64506735e+06]\n [ 1.00000000e+00  7.97979798e+00  6.36771758e+01  5.08130999e+02\n   4.05478272e+03  3.23563469e+04  2.58197112e+05  2.06036079e+06]\n [ 1.00000000e+00  8.23232323e+00  6.77711458e+01  5.57913978e+02\n   4.59292820e+03  3.78104696e+04  3.11268007e+05  2.56245884e+06]\n [ 1.00000000e+00  8.48484848e+00  7.19926538e+01  6.10846760e+02\n   5.18294220e+03  4.39764793e+04  3.73133764e+05  3.16598345e+06]\n [ 1.00000000e+00  8.73737374e+00  7.63416998e+01  6.67025963e+02\n   5.82805513e+03  5.09218959e+04  4.44923635e+05  3.88746409e+06]\n [ 1.00000000e+00  8.98989899e+00  8.08182838e+01  7.26548208e+02\n   6.53159500e+03  5.87183793e+04  5.27872299e+05  4.74551865e+06]\n [ 1.00000000e+00  9.24242424e+00  8.54224059e+01  7.89510115e+02\n   7.29698743e+03  6.74418535e+04  6.23326222e+05  5.76104538e+06]\n [ 1.00000000e+00  9.49494949e+00  9.01540659e+01  8.56008303e+02\n   8.12775560e+03  7.71726289e+04  7.32750214e+05  6.95742628e+06]\n [ 1.00000000e+00  9.74747475e+00  9.50132640e+01  9.26139391e+02\n   9.02752033e+03  8.79955264e+04  8.57734172e+05  8.36074218e+06]\n [ 1.00000000e+00  1.00000000e+01  1.00000000e+02  1.00000000e+03\n   1.00000000e+04  1.00000000e+05  1.00000000e+06  1.00000000e+07]]\n"
     ]
    },
    {
     "output_type": "display_data",
     "data": {
      "application/vnd.plotly.v1+json": {
       "config": {
        "plotlyServerURL": "https://plot.ly"
       },
       "data": [
        {
         "hoverinfo": "skip",
         "hovertemplate": "x=%{x}<br>y=%{y}<extra></extra>",
         "legendgroup": "",
         "marker": {
          "color": "red",
          "line": {
           "color": "black",
           "width": 2
          },
          "size": 8,
          "symbol": "circle"
         },
         "mode": "markers",
         "name": "",
         "orientation": "v",
         "showlegend": false,
         "type": "scatter",
         "x": [
          -15,
          -14.747474747474747,
          -14.494949494949495,
          -14.242424242424242,
          -13.98989898989899,
          -13.737373737373737,
          -13.484848484848484,
          -13.232323232323232,
          -12.97979797979798,
          -12.727272727272727,
          -12.474747474747474,
          -12.222222222222221,
          -11.969696969696969,
          -11.717171717171716,
          -11.464646464646464,
          -11.212121212121211,
          -10.959595959595958,
          -10.707070707070706,
          -10.454545454545453,
          -10.2020202020202,
          -9.949494949494948,
          -9.696969696969695,
          -9.444444444444443,
          -9.19191919191919,
          -8.93939393939394,
          -8.686868686868687,
          -8.434343434343434,
          -8.181818181818182,
          -7.929292929292929,
          -7.6767676767676765,
          -7.424242424242424,
          -7.171717171717171,
          -6.919191919191919,
          -6.666666666666666,
          -6.4141414141414135,
          -6.161616161616161,
          -5.909090909090908,
          -5.656565656565656,
          -5.404040404040403,
          -5.1515151515151505,
          -4.898989898989898,
          -4.646464646464645,
          -4.393939393939393,
          -4.14141414141414,
          -3.8888888888888875,
          -3.636363636363635,
          -3.3838383838383823,
          -3.1313131313131297,
          -2.878787878787879,
          -2.6262626262626263,
          -2.3737373737373737,
          -2.121212121212121,
          -1.8686868686868685,
          -1.616161616161616,
          -1.3636363636363633,
          -1.1111111111111107,
          -0.8585858585858581,
          -0.6060606060606055,
          -0.3535353535353529,
          -0.10101010101010033,
          0.15151515151515227,
          0.40404040404040487,
          0.6565656565656575,
          0.9090909090909101,
          1.1616161616161627,
          1.4141414141414153,
          1.6666666666666679,
          1.9191919191919204,
          2.171717171717173,
          2.4242424242424256,
          2.6767676767676782,
          2.929292929292931,
          3.1818181818181834,
          3.434343434343436,
          3.6868686868686886,
          3.9393939393939412,
          4.191919191919194,
          4.444444444444446,
          4.696969696969699,
          4.949494949494952,
          5.202020202020204,
          5.454545454545457,
          5.707070707070709,
          5.959595959595962,
          6.212121212121215,
          6.464646464646467,
          6.71717171717172,
          6.969696969696972,
          7.222222222222225,
          7.474747474747478,
          7.72727272727273,
          7.979797979797983,
          8.232323232323235,
          8.484848484848488,
          8.73737373737374,
          8.989898989898993,
          9.242424242424242,
          9.494949494949495,
          9.747474747474747,
          10
         ],
         "xaxis": "x",
         "y": [
          78.8145264368132,
          76.57044197789587,
          70.71559763799429,
          64.98242118444067,
          60.370093944052115,
          65.3427399586452,
          61.61156788395709,
          54.159247074743384,
          58.003581512239464,
          58.3834879095741,
          48.33128578835695,
          36.795974355843946,
          47.0866395724152,
          44.707615558827655,
          35.45226293095519,
          37.09552798829185,
          42.57067476156927,
          30.528245748188354,
          40.415136228881224,
          29.05062722816826,
          28.33758137203389,
          36.28738010218093,
          20.652213387430965,
          26.807644591640848,
          18.164942561966704,
          20.033392459458913,
          17.660222217380895,
          18.282461990297072,
          19.49881119963429,
          11.674908941600714,
          12.573047648824778,
          9.619463523387886,
          15.65352303049416,
          13.972213091561857,
          16.612273532730647,
          7.309122023985634,
          9.49300323493813,
          12.979187122866433,
          12.257189707075586,
          5.971458400976415,
          9.8259333842476,
          4.651954537633046,
          5.199575042174219,
          5.772809120976745,
          7.62186870652512,
          3.103457491597879,
          9.16553203739803,
          3.9524184687017723,
          2.1313608348936883,
          7.337828209406968,
          4.113500561421851,
          8.677871546454561,
          5.1104962781614836,
          15.909683590566768,
          7.277602132779751,
          9.322184880051765,
          14.94174351810746,
          3.9064409293766484,
          17.28984052489481,
          10.620963769116443,
          15.913051080291453,
          11.81360694188862,
          9.773092742100097,
          16.49480186168052,
          17.0008304335297,
          8.882807212985732,
          20.970693279156148,
          14.210734303365376,
          21.276883472494152,
          20.36286777557737,
          17.105467148917633,
          22.046274741345126,
          22.179681727674854,
          23.28883766257723,
          32.93056811313294,
          36.0481138345626,
          34.0362534113516,
          33.383138880805774,
          25.123437456387563,
          33.50118312435098,
          40.22941412798667,
          41.09572522747814,
          43.65965170427655,
          46.970072422070174,
          46.80935287333976,
          53.003991219261195,
          54.79572060002411,
          59.21494030077444,
          56.24193074865577,
          61.29686359911075,
          64.21716354422281,
          68.61993315578066,
          70.11748307935183,
          71.05469017203949,
          73.9101430107204,
          75.28309256555329,
          77.97079594339958,
          85.97823411409078,
          86.96671875950356,
          94.5060568412618
         ],
         "yaxis": "y"
        },
        {
         "line": {
          "color": "green"
         },
         "mode": "lines",
         "name": "Aproximation",
         "type": "scatter",
         "x": [
          -15,
          -14.747474747474747,
          -14.494949494949495,
          -14.242424242424242,
          -13.98989898989899,
          -13.737373737373737,
          -13.484848484848484,
          -13.232323232323232,
          -12.97979797979798,
          -12.727272727272727,
          -12.474747474747474,
          -12.222222222222221,
          -11.969696969696969,
          -11.717171717171716,
          -11.464646464646464,
          -11.212121212121211,
          -10.959595959595958,
          -10.707070707070706,
          -10.454545454545453,
          -10.2020202020202,
          -9.949494949494948,
          -9.696969696969695,
          -9.444444444444443,
          -9.19191919191919,
          -8.93939393939394,
          -8.686868686868687,
          -8.434343434343434,
          -8.181818181818182,
          -7.929292929292929,
          -7.6767676767676765,
          -7.424242424242424,
          -7.171717171717171,
          -6.919191919191919,
          -6.666666666666666,
          -6.4141414141414135,
          -6.161616161616161,
          -5.909090909090908,
          -5.656565656565656,
          -5.404040404040403,
          -5.1515151515151505,
          -4.898989898989898,
          -4.646464646464645,
          -4.393939393939393,
          -4.14141414141414,
          -3.8888888888888875,
          -3.636363636363635,
          -3.3838383838383823,
          -3.1313131313131297,
          -2.878787878787879,
          -2.6262626262626263,
          -2.3737373737373737,
          -2.121212121212121,
          -1.8686868686868685,
          -1.616161616161616,
          -1.3636363636363633,
          -1.1111111111111107,
          -0.8585858585858581,
          -0.6060606060606055,
          -0.3535353535353529,
          -0.10101010101010033,
          0.15151515151515227,
          0.40404040404040487,
          0.6565656565656575,
          0.9090909090909101,
          1.1616161616161627,
          1.4141414141414153,
          1.6666666666666679,
          1.9191919191919204,
          2.171717171717173,
          2.4242424242424256,
          2.6767676767676782,
          2.929292929292931,
          3.1818181818181834,
          3.434343434343436,
          3.6868686868686886,
          3.9393939393939412,
          4.191919191919194,
          4.444444444444446,
          4.696969696969699,
          4.949494949494952,
          5.202020202020204,
          5.454545454545457,
          5.707070707070709,
          5.959595959595962,
          6.212121212121215,
          6.464646464646467,
          6.71717171717172,
          6.969696969696972,
          7.222222222222225,
          7.474747474747478,
          7.72727272727273,
          7.979797979797983,
          8.232323232323235,
          8.484848484848488,
          8.73737373737374,
          8.989898989898993,
          9.242424242424242,
          9.494949494949495,
          9.747474747474747,
          10
         ],
         "y": [
          77.82399794931973,
          74.46341309311217,
          71.24993670155126,
          68.16953972180578,
          65.20991774246545,
          62.3603488783558,
          59.61155868749401,
          56.95559196064964,
          54.3856912239769,
          51.89618179518298,
          49.48236323369811,
          47.14040702531271,
          44.86726034174687,
          42.66055571561757,
          40.51852647126898,
          38.439927751931236,
          36.423962983672894,
          34.47021561661264,
          32.57858598385538,
          30.749233118618232,
          28.982521370011604,
          27.278971657940943,
          25.6392172075942,
          24.063963603980632,
          22.553953006986188,
          21.109932367410693,
          19.7326254844525,
          18.4227087451056,
          17.180790385934785,
          16.00739311769417,
          14.902939953254307,
          13.867743079303338,
          12.90199561228762,
          12.00576607905694,
          11.178995462679884,
          10.421496653894607,
          9.732956148660385,
          9.112937832275263,
          8.56088869052521,
          8.076146288330069,
          7.6579478563516865,
          7.305440826029555,
          7.017694653509354,
          6.793713772929658,
          6.632451519532277,
          6.532824863061464,
          6.493729791917409,
          6.514057188529357,
          6.5927090364136935,
          6.728614799382332,
          6.9207478133667895,
          7.1681415313232515,
          7.469905461684037,
          7.825240640820739,
          8.233454479984468,
          8.693974827188496,
          9.206363084498637,
          9.770326221196798,
          10.385727523282936,
          11.052595919780872,
          11.771133726313236,
          12.54172264641095,
          13.364927871022543,
          14.241500116688712,
          15.172375442847418,
          16.158672688734903,
          17.201688370347952,
          18.302888877932812,
          19.463899814465996,
          20.686492315592456,
          21.9725661914864,
          23.324129731100093,
          24.74327600926605,
          26.232155537117922,
          27.792945096295412,
          29.42781259739866,
          31.138877803157317,
          32.928168756779776,
          34.797573755947795,
          36.74878871292202,
          38.783259741223624,
          40.90212080935731,
          43.106126302041424,
          45.39557832941013,
          47.77024862465304,
          50.22929487055797,
          52.77117129542178,
          55.39353337879486,
          58.093136507524584,
          60.86572842256309,
          63.7059352970046,
          66.60714128581789,
          69.56136138773898,
          72.55910745978959,
          75.5892472248867,
          78.63885611300833,
          81.69306177638119,
          84.73488111915562,
          87.7450496820324,
          90.70184322230811
         ]
        },
        {
         "line": {
          "color": "royalblue",
          "dash": "dash"
         },
         "mode": "lines",
         "name": "Fg(x)",
         "type": "scatter",
         "x": [
          -15,
          -14.747474747474747,
          -14.494949494949495,
          -14.242424242424242,
          -13.98989898989899,
          -13.737373737373737,
          -13.484848484848484,
          -13.232323232323232,
          -12.97979797979798,
          -12.727272727272727,
          -12.474747474747474,
          -12.222222222222221,
          -11.969696969696969,
          -11.717171717171716,
          -11.464646464646464,
          -11.212121212121211,
          -10.959595959595958,
          -10.707070707070706,
          -10.454545454545453,
          -10.2020202020202,
          -9.949494949494948,
          -9.696969696969695,
          -9.444444444444443,
          -9.19191919191919,
          -8.93939393939394,
          -8.686868686868687,
          -8.434343434343434,
          -8.181818181818182,
          -7.929292929292929,
          -7.6767676767676765,
          -7.424242424242424,
          -7.171717171717171,
          -6.919191919191919,
          -6.666666666666666,
          -6.4141414141414135,
          -6.161616161616161,
          -5.909090909090908,
          -5.656565656565656,
          -5.404040404040403,
          -5.1515151515151505,
          -4.898989898989898,
          -4.646464646464645,
          -4.393939393939393,
          -4.14141414141414,
          -3.8888888888888875,
          -3.636363636363635,
          -3.3838383838383823,
          -3.1313131313131297,
          -2.878787878787879,
          -2.6262626262626263,
          -2.3737373737373737,
          -2.121212121212121,
          -1.8686868686868685,
          -1.616161616161616,
          -1.3636363636363633,
          -1.1111111111111107,
          -0.8585858585858581,
          -0.6060606060606055,
          -0.3535353535353529,
          -0.10101010101010033,
          0.15151515151515227,
          0.40404040404040487,
          0.6565656565656575,
          0.9090909090909101,
          1.1616161616161627,
          1.4141414141414153,
          1.6666666666666679,
          1.9191919191919204,
          2.171717171717173,
          2.4242424242424256,
          2.6767676767676782,
          2.929292929292931,
          3.1818181818181834,
          3.434343434343436,
          3.6868686868686886,
          3.9393939393939412,
          4.191919191919194,
          4.444444444444446,
          4.696969696969699,
          4.949494949494952,
          5.202020202020204,
          5.454545454545457,
          5.707070707070709,
          5.959595959595962,
          6.212121212121215,
          6.464646464646467,
          6.71717171717172,
          6.969696969696972,
          7.222222222222225,
          7.474747474747478,
          7.72727272727273,
          7.979797979797983,
          8.232323232323235,
          8.484848484848488,
          8.73737373737374,
          8.989898989898993,
          9.242424242424242,
          9.494949494949495,
          9.747474747474747,
          10
         ],
         "y": [
          77.5,
          74.50158147127843,
          71.56693194571983,
          68.69605142332415,
          65.88893990409142,
          63.14559738802162,
          60.466023875114786,
          57.85021936537087,
          55.29818385878991,
          52.8099173553719,
          50.38541985511682,
          48.02469135802469,
          45.72773186409549,
          43.49454137332925,
          41.32511988572594,
          39.21946740128558,
          37.17758392000815,
          35.199469441893676,
          33.28512396694214,
          31.434547495153545,
          29.6477400265279,
          27.924701561065184,
          26.265432098765423,
          24.6699316396286,
          23.138200183654725,
          21.670237730843787,
          20.266044281195796,
          18.925619834710744,
          17.64896439138863,
          16.436077951229464,
          15.28696051423324,
          14.201612080399954,
          13.180032649729615,
          12.222222222222218,
          11.328180797877764,
          10.497908376696252,
          9.731404958677683,
          9.028670543822054,
          8.38970513212937,
          7.81450872359963,
          7.303081318232831,
          6.855422916028974,
          6.47153351698806,
          6.151413121110089,
          5.895061728395061,
          5.702479338842974,
          5.573665952453831,
          5.508621569227629,
          5.507346189164371,
          5.569839812264055,
          5.696102438526681,
          5.88613406795225,
          6.139934700540762,
          6.4575043362922155,
          6.838842975206612,
          7.283950617283951,
          7.792827262524233,
          8.365472910927458,
          9.001887562493625,
          9.702071217222734,
          10.466023875114786,
          11.293745536169782,
          12.185236200387719,
          13.1404958677686,
          14.159524538312422,
          15.242322212019186,
          16.388888888888893,
          17.599224568921546,
          18.873329252117138,
          20.211202938475672,
          21.612845627997153,
          23.078257320681573,
          24.607438016528935,
          26.200387715539243,
          27.85710641771249,
          29.57759412304868,
          31.361850831547812,
          33.20987654320989,
          35.12167125803491,
          37.097234976022875,
          39.136567697173774,
          41.23966942148762,
          43.40654014896441,
          45.63717987960415,
          47.93158861340682,
          50.28976635037243,
          52.71171309050099,
          55.1974288337925,
          57.74691358024694,
          60.360167329864325,
          63.037190082644656,
          65.77798183858793,
          68.58254259769414,
          71.4508723599633,
          74.3829711253954,
          77.37883889399045,
          80.4384756657484,
          83.56188144066931,
          86.7490562187532,
          90
         ]
        }
       ],
       "layout": {
        "height": 700,
        "legend": {
         "tracegroupgap": 0
        },
        "template": {
         "data": {
          "bar": [
           {
            "error_x": {
             "color": "rgb(36,36,36)"
            },
            "error_y": {
             "color": "rgb(36,36,36)"
            },
            "marker": {
             "line": {
              "color": "rgb(234,234,242)",
              "width": 0.5
             }
            },
            "type": "bar"
           }
          ],
          "barpolar": [
           {
            "marker": {
             "line": {
              "color": "rgb(234,234,242)",
              "width": 0.5
             }
            },
            "type": "barpolar"
           }
          ],
          "carpet": [
           {
            "aaxis": {
             "endlinecolor": "rgb(36,36,36)",
             "gridcolor": "white",
             "linecolor": "white",
             "minorgridcolor": "white",
             "startlinecolor": "rgb(36,36,36)"
            },
            "baxis": {
             "endlinecolor": "rgb(36,36,36)",
             "gridcolor": "white",
             "linecolor": "white",
             "minorgridcolor": "white",
             "startlinecolor": "rgb(36,36,36)"
            },
            "type": "carpet"
           }
          ],
          "choropleth": [
           {
            "colorbar": {
             "outlinewidth": 0,
             "tickcolor": "rgb(36,36,36)",
             "ticklen": 8,
             "ticks": "outside",
             "tickwidth": 2
            },
            "type": "choropleth"
           }
          ],
          "contour": [
           {
            "colorbar": {
             "outlinewidth": 0,
             "tickcolor": "rgb(36,36,36)",
             "ticklen": 8,
             "ticks": "outside",
             "tickwidth": 2
            },
            "colorscale": [
             [
              0,
              "rgb(2,4,25)"
             ],
             [
              0.06274509803921569,
              "rgb(24,15,41)"
             ],
             [
              0.12549019607843137,
              "rgb(47,23,57)"
             ],
             [
              0.18823529411764706,
              "rgb(71,28,72)"
             ],
             [
              0.25098039215686274,
              "rgb(97,30,82)"
             ],
             [
              0.3137254901960784,
              "rgb(123,30,89)"
             ],
             [
              0.3764705882352941,
              "rgb(150,27,91)"
             ],
             [
              0.4392156862745098,
              "rgb(177,22,88)"
             ],
             [
              0.5019607843137255,
              "rgb(203,26,79)"
             ],
             [
              0.5647058823529412,
              "rgb(223,47,67)"
             ],
             [
              0.6274509803921569,
              "rgb(236,76,61)"
             ],
             [
              0.6901960784313725,
              "rgb(242,107,73)"
             ],
             [
              0.7529411764705882,
              "rgb(244,135,95)"
             ],
             [
              0.8156862745098039,
              "rgb(245,162,122)"
             ],
             [
              0.8784313725490196,
              "rgb(246,188,153)"
             ],
             [
              0.9411764705882353,
              "rgb(247,212,187)"
             ],
             [
              1,
              "rgb(250,234,220)"
             ]
            ],
            "type": "contour"
           }
          ],
          "contourcarpet": [
           {
            "colorbar": {
             "outlinewidth": 0,
             "tickcolor": "rgb(36,36,36)",
             "ticklen": 8,
             "ticks": "outside",
             "tickwidth": 2
            },
            "type": "contourcarpet"
           }
          ],
          "heatmap": [
           {
            "colorbar": {
             "outlinewidth": 0,
             "tickcolor": "rgb(36,36,36)",
             "ticklen": 8,
             "ticks": "outside",
             "tickwidth": 2
            },
            "colorscale": [
             [
              0,
              "rgb(2,4,25)"
             ],
             [
              0.06274509803921569,
              "rgb(24,15,41)"
             ],
             [
              0.12549019607843137,
              "rgb(47,23,57)"
             ],
             [
              0.18823529411764706,
              "rgb(71,28,72)"
             ],
             [
              0.25098039215686274,
              "rgb(97,30,82)"
             ],
             [
              0.3137254901960784,
              "rgb(123,30,89)"
             ],
             [
              0.3764705882352941,
              "rgb(150,27,91)"
             ],
             [
              0.4392156862745098,
              "rgb(177,22,88)"
             ],
             [
              0.5019607843137255,
              "rgb(203,26,79)"
             ],
             [
              0.5647058823529412,
              "rgb(223,47,67)"
             ],
             [
              0.6274509803921569,
              "rgb(236,76,61)"
             ],
             [
              0.6901960784313725,
              "rgb(242,107,73)"
             ],
             [
              0.7529411764705882,
              "rgb(244,135,95)"
             ],
             [
              0.8156862745098039,
              "rgb(245,162,122)"
             ],
             [
              0.8784313725490196,
              "rgb(246,188,153)"
             ],
             [
              0.9411764705882353,
              "rgb(247,212,187)"
             ],
             [
              1,
              "rgb(250,234,220)"
             ]
            ],
            "type": "heatmap"
           }
          ],
          "heatmapgl": [
           {
            "colorbar": {
             "outlinewidth": 0,
             "tickcolor": "rgb(36,36,36)",
             "ticklen": 8,
             "ticks": "outside",
             "tickwidth": 2
            },
            "colorscale": [
             [
              0,
              "rgb(2,4,25)"
             ],
             [
              0.06274509803921569,
              "rgb(24,15,41)"
             ],
             [
              0.12549019607843137,
              "rgb(47,23,57)"
             ],
             [
              0.18823529411764706,
              "rgb(71,28,72)"
             ],
             [
              0.25098039215686274,
              "rgb(97,30,82)"
             ],
             [
              0.3137254901960784,
              "rgb(123,30,89)"
             ],
             [
              0.3764705882352941,
              "rgb(150,27,91)"
             ],
             [
              0.4392156862745098,
              "rgb(177,22,88)"
             ],
             [
              0.5019607843137255,
              "rgb(203,26,79)"
             ],
             [
              0.5647058823529412,
              "rgb(223,47,67)"
             ],
             [
              0.6274509803921569,
              "rgb(236,76,61)"
             ],
             [
              0.6901960784313725,
              "rgb(242,107,73)"
             ],
             [
              0.7529411764705882,
              "rgb(244,135,95)"
             ],
             [
              0.8156862745098039,
              "rgb(245,162,122)"
             ],
             [
              0.8784313725490196,
              "rgb(246,188,153)"
             ],
             [
              0.9411764705882353,
              "rgb(247,212,187)"
             ],
             [
              1,
              "rgb(250,234,220)"
             ]
            ],
            "type": "heatmapgl"
           }
          ],
          "histogram": [
           {
            "marker": {
             "colorbar": {
              "outlinewidth": 0,
              "tickcolor": "rgb(36,36,36)",
              "ticklen": 8,
              "ticks": "outside",
              "tickwidth": 2
             }
            },
            "type": "histogram"
           }
          ],
          "histogram2d": [
           {
            "colorbar": {
             "outlinewidth": 0,
             "tickcolor": "rgb(36,36,36)",
             "ticklen": 8,
             "ticks": "outside",
             "tickwidth": 2
            },
            "colorscale": [
             [
              0,
              "rgb(2,4,25)"
             ],
             [
              0.06274509803921569,
              "rgb(24,15,41)"
             ],
             [
              0.12549019607843137,
              "rgb(47,23,57)"
             ],
             [
              0.18823529411764706,
              "rgb(71,28,72)"
             ],
             [
              0.25098039215686274,
              "rgb(97,30,82)"
             ],
             [
              0.3137254901960784,
              "rgb(123,30,89)"
             ],
             [
              0.3764705882352941,
              "rgb(150,27,91)"
             ],
             [
              0.4392156862745098,
              "rgb(177,22,88)"
             ],
             [
              0.5019607843137255,
              "rgb(203,26,79)"
             ],
             [
              0.5647058823529412,
              "rgb(223,47,67)"
             ],
             [
              0.6274509803921569,
              "rgb(236,76,61)"
             ],
             [
              0.6901960784313725,
              "rgb(242,107,73)"
             ],
             [
              0.7529411764705882,
              "rgb(244,135,95)"
             ],
             [
              0.8156862745098039,
              "rgb(245,162,122)"
             ],
             [
              0.8784313725490196,
              "rgb(246,188,153)"
             ],
             [
              0.9411764705882353,
              "rgb(247,212,187)"
             ],
             [
              1,
              "rgb(250,234,220)"
             ]
            ],
            "type": "histogram2d"
           }
          ],
          "histogram2dcontour": [
           {
            "colorbar": {
             "outlinewidth": 0,
             "tickcolor": "rgb(36,36,36)",
             "ticklen": 8,
             "ticks": "outside",
             "tickwidth": 2
            },
            "colorscale": [
             [
              0,
              "rgb(2,4,25)"
             ],
             [
              0.06274509803921569,
              "rgb(24,15,41)"
             ],
             [
              0.12549019607843137,
              "rgb(47,23,57)"
             ],
             [
              0.18823529411764706,
              "rgb(71,28,72)"
             ],
             [
              0.25098039215686274,
              "rgb(97,30,82)"
             ],
             [
              0.3137254901960784,
              "rgb(123,30,89)"
             ],
             [
              0.3764705882352941,
              "rgb(150,27,91)"
             ],
             [
              0.4392156862745098,
              "rgb(177,22,88)"
             ],
             [
              0.5019607843137255,
              "rgb(203,26,79)"
             ],
             [
              0.5647058823529412,
              "rgb(223,47,67)"
             ],
             [
              0.6274509803921569,
              "rgb(236,76,61)"
             ],
             [
              0.6901960784313725,
              "rgb(242,107,73)"
             ],
             [
              0.7529411764705882,
              "rgb(244,135,95)"
             ],
             [
              0.8156862745098039,
              "rgb(245,162,122)"
             ],
             [
              0.8784313725490196,
              "rgb(246,188,153)"
             ],
             [
              0.9411764705882353,
              "rgb(247,212,187)"
             ],
             [
              1,
              "rgb(250,234,220)"
             ]
            ],
            "type": "histogram2dcontour"
           }
          ],
          "mesh3d": [
           {
            "colorbar": {
             "outlinewidth": 0,
             "tickcolor": "rgb(36,36,36)",
             "ticklen": 8,
             "ticks": "outside",
             "tickwidth": 2
            },
            "type": "mesh3d"
           }
          ],
          "parcoords": [
           {
            "line": {
             "colorbar": {
              "outlinewidth": 0,
              "tickcolor": "rgb(36,36,36)",
              "ticklen": 8,
              "ticks": "outside",
              "tickwidth": 2
             }
            },
            "type": "parcoords"
           }
          ],
          "pie": [
           {
            "automargin": true,
            "type": "pie"
           }
          ],
          "scatter": [
           {
            "marker": {
             "colorbar": {
              "outlinewidth": 0,
              "tickcolor": "rgb(36,36,36)",
              "ticklen": 8,
              "ticks": "outside",
              "tickwidth": 2
             }
            },
            "type": "scatter"
           }
          ],
          "scatter3d": [
           {
            "line": {
             "colorbar": {
              "outlinewidth": 0,
              "tickcolor": "rgb(36,36,36)",
              "ticklen": 8,
              "ticks": "outside",
              "tickwidth": 2
             }
            },
            "marker": {
             "colorbar": {
              "outlinewidth": 0,
              "tickcolor": "rgb(36,36,36)",
              "ticklen": 8,
              "ticks": "outside",
              "tickwidth": 2
             }
            },
            "type": "scatter3d"
           }
          ],
          "scattercarpet": [
           {
            "marker": {
             "colorbar": {
              "outlinewidth": 0,
              "tickcolor": "rgb(36,36,36)",
              "ticklen": 8,
              "ticks": "outside",
              "tickwidth": 2
             }
            },
            "type": "scattercarpet"
           }
          ],
          "scattergeo": [
           {
            "marker": {
             "colorbar": {
              "outlinewidth": 0,
              "tickcolor": "rgb(36,36,36)",
              "ticklen": 8,
              "ticks": "outside",
              "tickwidth": 2
             }
            },
            "type": "scattergeo"
           }
          ],
          "scattergl": [
           {
            "marker": {
             "colorbar": {
              "outlinewidth": 0,
              "tickcolor": "rgb(36,36,36)",
              "ticklen": 8,
              "ticks": "outside",
              "tickwidth": 2
             }
            },
            "type": "scattergl"
           }
          ],
          "scattermapbox": [
           {
            "marker": {
             "colorbar": {
              "outlinewidth": 0,
              "tickcolor": "rgb(36,36,36)",
              "ticklen": 8,
              "ticks": "outside",
              "tickwidth": 2
             }
            },
            "type": "scattermapbox"
           }
          ],
          "scatterpolar": [
           {
            "marker": {
             "colorbar": {
              "outlinewidth": 0,
              "tickcolor": "rgb(36,36,36)",
              "ticklen": 8,
              "ticks": "outside",
              "tickwidth": 2
             }
            },
            "type": "scatterpolar"
           }
          ],
          "scatterpolargl": [
           {
            "marker": {
             "colorbar": {
              "outlinewidth": 0,
              "tickcolor": "rgb(36,36,36)",
              "ticklen": 8,
              "ticks": "outside",
              "tickwidth": 2
             }
            },
            "type": "scatterpolargl"
           }
          ],
          "scatterternary": [
           {
            "marker": {
             "colorbar": {
              "outlinewidth": 0,
              "tickcolor": "rgb(36,36,36)",
              "ticklen": 8,
              "ticks": "outside",
              "tickwidth": 2
             }
            },
            "type": "scatterternary"
           }
          ],
          "surface": [
           {
            "colorbar": {
             "outlinewidth": 0,
             "tickcolor": "rgb(36,36,36)",
             "ticklen": 8,
             "ticks": "outside",
             "tickwidth": 2
            },
            "colorscale": [
             [
              0,
              "rgb(2,4,25)"
             ],
             [
              0.06274509803921569,
              "rgb(24,15,41)"
             ],
             [
              0.12549019607843137,
              "rgb(47,23,57)"
             ],
             [
              0.18823529411764706,
              "rgb(71,28,72)"
             ],
             [
              0.25098039215686274,
              "rgb(97,30,82)"
             ],
             [
              0.3137254901960784,
              "rgb(123,30,89)"
             ],
             [
              0.3764705882352941,
              "rgb(150,27,91)"
             ],
             [
              0.4392156862745098,
              "rgb(177,22,88)"
             ],
             [
              0.5019607843137255,
              "rgb(203,26,79)"
             ],
             [
              0.5647058823529412,
              "rgb(223,47,67)"
             ],
             [
              0.6274509803921569,
              "rgb(236,76,61)"
             ],
             [
              0.6901960784313725,
              "rgb(242,107,73)"
             ],
             [
              0.7529411764705882,
              "rgb(244,135,95)"
             ],
             [
              0.8156862745098039,
              "rgb(245,162,122)"
             ],
             [
              0.8784313725490196,
              "rgb(246,188,153)"
             ],
             [
              0.9411764705882353,
              "rgb(247,212,187)"
             ],
             [
              1,
              "rgb(250,234,220)"
             ]
            ],
            "type": "surface"
           }
          ],
          "table": [
           {
            "cells": {
             "fill": {
              "color": "rgb(231,231,240)"
             },
             "line": {
              "color": "white"
             }
            },
            "header": {
             "fill": {
              "color": "rgb(183,183,191)"
             },
             "line": {
              "color": "white"
             }
            },
            "type": "table"
           }
          ]
         },
         "layout": {
          "annotationdefaults": {
           "arrowcolor": "rgb(67,103,167)"
          },
          "autotypenumbers": "strict",
          "coloraxis": {
           "colorbar": {
            "outlinewidth": 0,
            "tickcolor": "rgb(36,36,36)",
            "ticklen": 8,
            "ticks": "outside",
            "tickwidth": 2
           }
          },
          "colorscale": {
           "sequential": [
            [
             0,
             "rgb(2,4,25)"
            ],
            [
             0.06274509803921569,
             "rgb(24,15,41)"
            ],
            [
             0.12549019607843137,
             "rgb(47,23,57)"
            ],
            [
             0.18823529411764706,
             "rgb(71,28,72)"
            ],
            [
             0.25098039215686274,
             "rgb(97,30,82)"
            ],
            [
             0.3137254901960784,
             "rgb(123,30,89)"
            ],
            [
             0.3764705882352941,
             "rgb(150,27,91)"
            ],
            [
             0.4392156862745098,
             "rgb(177,22,88)"
            ],
            [
             0.5019607843137255,
             "rgb(203,26,79)"
            ],
            [
             0.5647058823529412,
             "rgb(223,47,67)"
            ],
            [
             0.6274509803921569,
             "rgb(236,76,61)"
            ],
            [
             0.6901960784313725,
             "rgb(242,107,73)"
            ],
            [
             0.7529411764705882,
             "rgb(244,135,95)"
            ],
            [
             0.8156862745098039,
             "rgb(245,162,122)"
            ],
            [
             0.8784313725490196,
             "rgb(246,188,153)"
            ],
            [
             0.9411764705882353,
             "rgb(247,212,187)"
            ],
            [
             1,
             "rgb(250,234,220)"
            ]
           ],
           "sequentialminus": [
            [
             0,
             "rgb(2,4,25)"
            ],
            [
             0.06274509803921569,
             "rgb(24,15,41)"
            ],
            [
             0.12549019607843137,
             "rgb(47,23,57)"
            ],
            [
             0.18823529411764706,
             "rgb(71,28,72)"
            ],
            [
             0.25098039215686274,
             "rgb(97,30,82)"
            ],
            [
             0.3137254901960784,
             "rgb(123,30,89)"
            ],
            [
             0.3764705882352941,
             "rgb(150,27,91)"
            ],
            [
             0.4392156862745098,
             "rgb(177,22,88)"
            ],
            [
             0.5019607843137255,
             "rgb(203,26,79)"
            ],
            [
             0.5647058823529412,
             "rgb(223,47,67)"
            ],
            [
             0.6274509803921569,
             "rgb(236,76,61)"
            ],
            [
             0.6901960784313725,
             "rgb(242,107,73)"
            ],
            [
             0.7529411764705882,
             "rgb(244,135,95)"
            ],
            [
             0.8156862745098039,
             "rgb(245,162,122)"
            ],
            [
             0.8784313725490196,
             "rgb(246,188,153)"
            ],
            [
             0.9411764705882353,
             "rgb(247,212,187)"
            ],
            [
             1,
             "rgb(250,234,220)"
            ]
           ]
          },
          "colorway": [
           "rgb(76,114,176)",
           "rgb(221,132,82)",
           "rgb(85,168,104)",
           "rgb(196,78,82)",
           "rgb(129,114,179)",
           "rgb(147,120,96)",
           "rgb(218,139,195)",
           "rgb(140,140,140)",
           "rgb(204,185,116)",
           "rgb(100,181,205)"
          ],
          "font": {
           "color": "rgb(36,36,36)"
          },
          "geo": {
           "bgcolor": "white",
           "lakecolor": "white",
           "landcolor": "rgb(234,234,242)",
           "showlakes": true,
           "showland": true,
           "subunitcolor": "white"
          },
          "hoverlabel": {
           "align": "left"
          },
          "hovermode": "closest",
          "paper_bgcolor": "white",
          "plot_bgcolor": "rgb(234,234,242)",
          "polar": {
           "angularaxis": {
            "gridcolor": "white",
            "linecolor": "white",
            "showgrid": true,
            "ticks": ""
           },
           "bgcolor": "rgb(234,234,242)",
           "radialaxis": {
            "gridcolor": "white",
            "linecolor": "white",
            "showgrid": true,
            "ticks": ""
           }
          },
          "scene": {
           "xaxis": {
            "backgroundcolor": "rgb(234,234,242)",
            "gridcolor": "white",
            "gridwidth": 2,
            "linecolor": "white",
            "showbackground": true,
            "showgrid": true,
            "ticks": "",
            "zerolinecolor": "white"
           },
           "yaxis": {
            "backgroundcolor": "rgb(234,234,242)",
            "gridcolor": "white",
            "gridwidth": 2,
            "linecolor": "white",
            "showbackground": true,
            "showgrid": true,
            "ticks": "",
            "zerolinecolor": "white"
           },
           "zaxis": {
            "backgroundcolor": "rgb(234,234,242)",
            "gridcolor": "white",
            "gridwidth": 2,
            "linecolor": "white",
            "showbackground": true,
            "showgrid": true,
            "ticks": "",
            "zerolinecolor": "white"
           }
          },
          "shapedefaults": {
           "fillcolor": "rgb(67,103,167)",
           "line": {
            "width": 0
           },
           "opacity": 0.5
          },
          "ternary": {
           "aaxis": {
            "gridcolor": "white",
            "linecolor": "white",
            "showgrid": true,
            "ticks": ""
           },
           "baxis": {
            "gridcolor": "white",
            "linecolor": "white",
            "showgrid": true,
            "ticks": ""
           },
           "bgcolor": "rgb(234,234,242)",
           "caxis": {
            "gridcolor": "white",
            "linecolor": "white",
            "showgrid": true,
            "ticks": ""
           }
          },
          "xaxis": {
           "automargin": true,
           "gridcolor": "white",
           "linecolor": "white",
           "showgrid": true,
           "ticks": "",
           "title": {
            "standoff": 15
           },
           "zerolinecolor": "white"
          },
          "yaxis": {
           "automargin": true,
           "gridcolor": "white",
           "linecolor": "white",
           "showgrid": true,
           "ticks": "",
           "title": {
            "standoff": 15
           },
           "zerolinecolor": "white"
          }
         }
        },
        "title": {
         "text": "p = 7"
        },
        "width": 800,
        "xaxis": {
         "anchor": "y",
         "domain": [
          0,
          1
         ],
         "title": {
          "text": "x"
         }
        },
        "yaxis": {
         "anchor": "x",
         "domain": [
          0,
          1
         ],
         "title": {
          "text": "y"
         }
        }
       }
      }
     },
     "metadata": {}
    },
    {
     "output_type": "stream",
     "name": "stdout",
     "text": [
      "[[ 1.00000000e+00 -1.50000000e+01  2.25000000e+02 -3.37500000e+03\n   5.06250000e+04 -7.59375000e+05  1.13906250e+07 -1.70859375e+08\n   2.56289062e+09]\n [ 1.00000000e+00 -1.47474747e+01  2.17488011e+02 -3.20739896e+03\n   4.73010351e+04 -6.97570821e+05  1.02874081e+07 -1.51713291e+08\n   2.23738792e+09]\n [ 1.00000000e+00 -1.44949495e+01  2.10103561e+02 -3.04544050e+03\n   4.41435063e+04 -6.39857894e+05  9.27470786e+06 -1.34436422e+08\n   1.94864915e+09]\n [ 1.00000000e+00 -1.42424242e+01  2.02846648e+02 -2.88902802e+03\n   4.11467627e+04 -5.86029651e+05  8.34648291e+06 -1.18874151e+08\n   1.69305608e+09]\n [ 1.00000000e+00 -1.39898990e+01  1.95717274e+02 -2.73806489e+03\n   3.83052512e+04 -5.35886596e+05  7.49699934e+06 -1.04882264e+08\n   1.46729227e+09]\n [ 1.00000000e+00 -1.37373737e+01  1.88715437e+02 -2.59245449e+03\n   3.56135162e+04 -4.89236183e+05  6.72082029e+06 -9.23264201e+07\n   1.26832254e+09]\n [ 1.00000000e+00 -1.34848485e+01  1.81841139e+02 -2.45210020e+03\n   3.30661997e+04 -4.45892693e+05  6.01279541e+06 -8.10816350e+07\n   1.09337356e+09]\n [ 1.00000000e+00 -1.32323232e+01  1.75094378e+02 -2.31690541e+03\n   3.06580413e+04 -4.05677112e+05  5.36805067e+06 -7.10317816e+07\n   9.39915493e+08]\n [ 1.00000000e+00 -1.29797980e+01  1.68475156e+02 -2.18677348e+03\n   2.83838781e+04 -3.68417003e+05  4.78197827e+06 -6.20691119e+07\n   8.05644533e+08]\n [ 1.00000000e+00 -1.27272727e+01  1.61983471e+02 -2.06160781e+03\n   2.62386449e+04 -3.33946390e+05  4.25022678e+06 -5.40937953e+07\n   6.88466486e+08]\n [ 1.00000000e+00 -1.24747475e+01  1.55619325e+02 -1.94131178e+03\n   2.42173742e+04 -3.02105627e+05  3.76869141e+06 -4.70134737e+07\n   5.86481212e+08]\n [ 1.00000000e+00 -1.22222222e+01  1.49382716e+02 -1.82578875e+03\n   2.23151959e+04 -2.72741283e+05  3.33350457e+06 -4.07428336e+07\n   4.97967966e+08]\n [ 1.00000000e+00 -1.19696970e+01  1.43273646e+02 -1.71494212e+03\n   2.05273375e+04 -2.45706010e+05  2.94102648e+06 -3.52031957e+07\n   4.21371585e+08]\n [ 1.00000000e+00 -1.17171717e+01  1.37292113e+02 -1.60867526e+03\n   1.88491243e+04 -2.20858426e+05  2.58783611e+06 -3.03221200e+07\n   3.55289487e+08]\n [ 1.00000000e+00 -1.14646465e+01  1.31438119e+02 -1.50689156e+03\n   1.72759790e+04 -1.98062992e+05  2.27072218e+06 -2.60330270e+07\n   2.98459451e+08]\n [ 1.00000000e+00 -1.12121212e+01  1.25711662e+02 -1.40949439e+03\n   1.58034220e+04 -1.77189883e+05  1.98667444e+06 -2.22748347e+07\n   2.49748146e+08]\n [ 1.00000000e+00 -1.09595960e+01  1.20112744e+02 -1.31638714e+03\n   1.44270712e+04 -1.58114871e+05  1.73287510e+06 -1.89916110e+07\n   2.08140383e+08]\n [ 1.00000000e+00 -1.07070707e+01  1.14641363e+02 -1.22747318e+03\n   1.31426421e+04 -1.40719199e+05  1.50669041e+06 -1.61322408e+07\n   1.72729042e+08]\n [ 1.00000000e+00 -1.04545455e+01  1.09297521e+02 -1.14265590e+03\n   1.19459480e+04 -1.24889457e+05  1.30566250e+06 -1.36501080e+07\n   1.42705674e+08]\n [ 1.00000000e+00 -1.02020202e+01  1.04081216e+02 -1.06183867e+03\n   1.08328996e+04 -1.10517460e+05  1.12750136e+06 -1.15027917e+07\n   1.17351713e+08]\n [ 1.00000000e+00 -9.94949495e+00  9.89924498e+01 -9.84924879e+02\n   9.79950511e+03 -9.75001266e+04  9.70077017e+05 -9.65177638e+06\n   9.60303004e+07]\n [ 1.00000000e+00 -9.69696970e+00  9.40312213e+01 -9.11817904e+02\n   8.84187058e+03 -8.57393511e+04  8.31411889e+05 -8.06217590e+06\n   7.81786754e+07]\n [ 1.00000000e+00 -9.44444444e+00  8.91975309e+01 -8.42421125e+02\n   7.95619951e+03 -7.51418843e+04  7.09673352e+05 -6.70247054e+06\n   6.33011107e+07]\n [ 1.00000000e+00 -9.19191919e+00  8.44913784e+01 -7.76637923e+02\n   7.13879303e+03 -6.56192087e+04  6.03166463e+05 -5.54425739e+06\n   5.09623659e+07]\n [ 1.00000000e+00 -8.93939394e+00  7.99127640e+01 -7.14371678e+02\n   6.38604985e+03 -5.70874153e+04  5.10326895e+05 -4.56201315e+06\n   4.07816327e+07]\n [ 1.00000000e+00 -8.68686869e+00  7.54616876e+01 -6.55525771e+02\n   5.69446629e+03 -4.94670809e+04  4.29714036e+05 -3.73286941e+06\n   3.24269464e+07]\n [ 1.00000000e+00 -8.43434343e+00  7.11381492e+01 -6.00003581e+02\n   5.06063627e+03 -4.26831443e+04  3.60004298e+05 -3.03639988e+06\n   2.56100394e+07]\n [ 1.00000000e+00 -8.18181818e+00  6.69421488e+01 -5.47708490e+02\n   4.48125128e+03 -3.66647832e+04  2.99984590e+05 -2.45441937e+06\n   2.00816130e+07]\n [ 1.00000000e+00 -7.92929293e+00  6.28736864e+01 -4.98543877e+02\n   3.95310044e+03 -3.13452913e+04  2.48545997e+05 -1.97079402e+06\n   1.56270031e+07]\n [ 1.00000000e+00 -7.67676768e+00  5.89327620e+01 -4.52413122e+02\n   3.47307043e+03 -2.66619548e+04  2.04677633e+05 -1.57126264e+06\n   1.20622182e+07]\n [ 1.00000000e+00 -7.42424242e+00  5.51193756e+01 -4.09219607e+02\n   3.03814556e+03 -2.25559292e+04  1.67460686e+05 -1.24326873e+06\n   9.23032847e+06]\n [ 1.00000000e+00 -7.17171717e+00  5.14335272e+01 -3.68866710e+02\n   2.64540772e+03 -1.89721160e+04  1.36062650e+05 -9.75802842e+05\n   6.99818200e+06]\n [ 1.00000000e+00 -6.91919192e+00  4.78752168e+01 -3.31257813e+02\n   2.29203639e+03 -1.58590396e+04  1.09731739e+05 -7.59254961e+05\n   5.25343079e+06]\n [ 1.00000000e+00 -6.66666667e+00  4.44444444e+01 -2.96296296e+02\n   1.97530864e+03 -1.31687243e+04  8.77914952e+04 -5.85276635e+05\n   3.90184423e+06]\n [ 1.00000000e+00 -6.41414141e+00  4.11412101e+01 -2.63885539e+02\n   1.69259917e+03 -1.08565704e+04  6.96355779e+04 -4.46652444e+05\n   2.86489194e+06]\n [ 1.00000000e+00 -6.16161616e+00  3.79655137e+01 -2.33928923e+02\n   1.44138023e+03 -8.88123173e+03  5.47227410e+04 -3.37180525e+05\n   2.07757697e+06]\n [ 1.00000000e+00 -5.90909091e+00  3.49173554e+01 -2.06329827e+02\n   1.21922171e+03 -7.20449190e+03  4.25719976e+04 -2.51561804e+05\n   1.48650157e+06]\n [ 1.00000000e+00 -5.65656566e+00  3.19967350e+01 -1.80991632e+02\n   1.02379105e+03 -5.79114131e+03  3.27579710e+04 -1.85297614e+05\n   1.04814812e+06]\n [ 1.00000000e+00 -5.40404040e+00  2.92036527e+01 -1.57817719e+02\n   8.52853330e+02 -4.60885386e+03  2.49064325e+04 -1.34595367e+05\n   7.27358803e+05]\n [ 1.00000000e+00 -5.15151515e+00  2.65381084e+01 -1.36711467e+02\n   7.04271195e+02 -3.62806373e+03  1.86900253e+04 -9.62819485e+04\n   4.95997916e+05]\n [ 1.00000000e+00 -4.89898990e+00  2.40001020e+01 -1.17576257e+02\n   5.76004897e+02 -2.82184217e+03  1.38241763e+04 -6.77245001e+04\n   3.31781642e+05]\n [ 1.00000000e+00 -4.64646465e+00  2.15896337e+01 -1.00315470e+02\n   4.66112284e+02 -2.16577425e+03  1.00631935e+04 -4.67582727e+04\n   2.17260661e+05]\n [ 1.00000000e+00 -4.39393939e+00  1.93067034e+01 -8.48324846e+01\n   3.72748796e+02 -1.63783562e+03  7.19655045e+03 -3.16212065e+04\n   1.38941665e+05]\n [ 1.00000000e+00 -4.14141414e+00  1.71513111e+01 -7.10306823e+01\n   2.94167472e+02 -1.21826933e+03  5.04535783e+03 -2.08949163e+04\n   8.65345017e+04]\n [ 1.00000000e+00 -3.88888889e+00  1.51234568e+01 -5.88134431e+01\n   2.28718945e+02 -8.89462565e+02  3.45902109e+03 -1.34517487e+04\n   5.23123559e+04]\n [ 1.00000000e+00 -3.63636364e+00  1.32231405e+01 -4.80841473e+01\n   1.74851445e+02 -6.35823435e+02  2.31208522e+03 -8.40758261e+03\n   3.05730277e+04]\n [ 1.00000000e+00 -3.38383838e+00  1.14503622e+01 -3.87461751e+01\n   1.31110795e+02 -4.43657740e+02  1.50126609e+03 -5.08004181e+03\n   1.71900405e+04]\n [ 1.00000000e+00 -3.13131313e+00  9.80512193e+00 -3.07029070e+01\n   9.61404160e+01 -3.01045747e+02  9.42668501e+02 -2.95179026e+03\n   9.24297959e+03]\n [ 1.00000000e+00 -2.87878788e+00  8.28741965e+00 -2.38577232e+01\n   6.86813245e+01 -1.97718964e+02  5.69190958e+02 -1.63858003e+03\n   4.71712433e+03]\n [ 1.00000000e+00 -2.62626263e+00  6.89725538e+00 -1.81140040e+01\n   4.75721318e+01 -1.24936912e+02  3.28117142e+02 -8.61721787e+02\n   2.26310772e+03]\n [ 1.00000000e+00 -2.37373737e+00  5.63462912e+00 -1.33751297e+01\n   3.17490453e+01 -7.53638954e+01  1.78894095e+02 -4.24647600e+02\n   1.00800188e+03]\n [ 1.00000000e+00 -2.12121212e+00  4.49954086e+00 -9.54448062e+00\n   2.02458680e+01 -4.29457806e+01  9.10971103e+01 -1.93236295e+02\n   4.09895170e+02]\n [ 1.00000000e+00 -1.86868687e+00  3.49199061e+00 -6.52543700e+00\n   1.21939984e+01 -2.27867648e+01  4.25813281e+01 -7.95711687e+01\n   1.48693598e+02]\n [ 1.00000000e+00 -1.61616162e+00  2.61197837e+00 -4.22137918e+00\n   6.82243100e+00 -1.10261511e+01  1.78200422e+01 -2.88000682e+01\n   4.65455648e+01]\n [ 1.00000000e+00 -1.36363636e+00  1.85950413e+00 -2.53568745e+00\n   3.45775562e+00 -4.71512130e+00  6.42971086e+00 -8.76778754e+00\n   1.19560739e+01]\n [ 1.00000000e+00 -1.11111111e+00  1.23456790e+00 -1.37174211e+00\n   1.52415790e+00 -1.69350878e+00  1.88167642e+00 -2.09075158e+00\n   2.32305731e+00]\n [ 1.00000000e+00 -8.58585859e-01  7.37169677e-01 -6.32923460e-01\n   5.43419132e-01 -4.66571982e-01  4.00592106e-01 -3.43942717e-01\n   2.95304353e-01]\n [ 1.00000000e+00 -6.06060606e-01  3.67309458e-01 -2.22611793e-01\n   1.34916238e-01 -8.17674170e-02  4.95560103e-02 -3.00339456e-02\n   1.82023913e-02]\n [ 1.00000000e+00 -3.53535354e-01  1.24987246e-01 -4.41874103e-02\n   1.56218117e-02 -5.52286273e-03  1.95252723e-03 -6.90287403e-04\n   2.44041001e-04]\n [ 1.00000000e+00 -1.01010101e-01  1.02030405e-02 -1.03061015e-03\n   1.04102036e-04 -1.05153571e-05  1.06215729e-06 -1.07288615e-07\n   1.08372338e-08]\n [ 1.00000000e+00  1.51515152e-01  2.29568411e-02  3.47830926e-03\n   5.27016555e-04  7.98509932e-05  1.20986353e-05  1.83312657e-06\n   2.77746449e-07]\n [ 1.00000000e+00  4.04040404e-01  1.63248648e-01  6.59590497e-02\n   2.66501211e-02  1.07677257e-02  4.35059624e-03  1.75781666e-03\n   7.10228955e-04]\n [ 1.00000000e+00  6.56565657e-01  4.31078461e-01  2.83031313e-01\n   1.85828640e-01  1.22008703e-01  8.01067242e-02  5.25953239e-02\n   3.45322834e-02]\n [ 1.00000000e+00  9.09090909e-01  8.26446281e-01  7.51314801e-01\n   6.83013455e-01  6.20921323e-01  5.64473930e-01  5.13158118e-01\n   4.66507380e-01]\n [ 1.00000000e+00  1.16161616e+00  1.34935211e+00  1.56742922e+00\n   1.82075111e+00  2.11501391e+00  2.45683434e+00  2.85389848e+00\n   3.31513460e+00]\n [ 1.00000000e+00  1.41414141e+00  1.99979594e+00  2.82799426e+00\n   3.99918380e+00  5.65541143e+00  7.99755152e+00  1.13096688e+01\n   1.59934711e+01]\n [ 1.00000000e+00  1.66666667e+00  2.77777778e+00  4.62962963e+00\n   7.71604938e+00  1.28600823e+01  2.14334705e+01  3.57224508e+01\n   5.95374181e+01]\n [ 1.00000000e+00  1.91919192e+00  3.68329762e+00  7.06895503e+00\n   1.35666814e+01  2.60370653e+01  4.99701253e+01  9.59022606e+01\n   1.84054844e+02]\n [ 1.00000000e+00  2.17171717e+00  4.71635547e+00  1.02425902e+01\n   2.22440090e+01  4.83076962e+01  1.04910653e+02  2.27836267e+02\n   4.94795934e+02]\n [ 1.00000000e+00  2.42424242e+00  5.87695133e+00  1.42471547e+01\n   3.45385570e+01  8.37298350e+01  2.02981418e+02  4.92076166e+02\n   1.19291192e+03]\n [ 1.00000000e+00  2.67676768e+00  7.16508520e+00  1.91792685e+01\n   5.13384459e+01  1.37421092e+02  3.67844338e+02  9.84633835e+02\n   2.63563602e+03]\n [ 1.00000000e+00  2.92929293e+00  8.58075707e+00  2.51355510e+01\n   7.36293918e+01  2.15682057e+02  6.31795924e+02  1.85071533e+03\n   5.42128734e+03]\n [ 1.00000000e+00  3.18181818e+00  1.01239669e+01  3.22126221e+01\n   1.02494707e+02  3.26119521e+02  1.03765302e+03  3.30162325e+03\n   1.05051649e+04]\n [ 1.00000000e+00  3.43434343e+00  1.17947148e+01  4.05071014e+01\n   1.39115298e+02  4.77769710e+02  1.64082527e+03  5.63515748e+03\n   1.93530661e+04]\n [ 1.00000000e+00  3.68686869e+00  1.35930007e+01  5.01156087e+01\n   1.84769668e+02  6.81221505e+02  2.51157423e+03  9.25984440e+03\n   3.41398304e+04]\n [ 1.00000000e+00  3.93939394e+00  1.55188246e+01  6.11347636e+01\n   2.40833917e+02  9.48739674e+02  3.73745932e+03  1.47233246e+04\n   5.80009757e+04]\n [ 1.00000000e+00  4.19191919e+00  1.75721865e+01  7.36611859e+01\n   3.08781739e+02  1.29438810e+03  5.42597031e+03  2.27452291e+04\n   9.53461622e+04]\n [ 1.00000000e+00  4.44444444e+00  1.97530864e+01  8.77914952e+01\n   3.90184423e+02  1.73415299e+03  7.70734663e+03  3.42548739e+04\n   1.52243884e+05]\n [ 1.00000000e+00  4.69696970e+00  2.20615243e+01  1.03622311e+02\n   4.86710856e+02  2.28606614e+03  1.07375834e+04  5.04341038e+04\n   2.36887457e+05]\n [ 1.00000000e+00  4.94949495e+00  2.44975003e+01  1.21250254e+02\n   6.00127519e+02  2.97032812e+03  1.47016240e+04  7.27656140e+04\n   3.60153039e+05]\n [ 1.00000000e+00  5.20202020e+00  2.70610142e+01  1.40771942e+02\n   7.32298489e+02  3.80943153e+03  1.98167398e+04  1.03087081e+05\n   5.36261076e+05]\n [ 1.00000000e+00  5.45454545e+00  2.97520661e+01  1.62283997e+02\n   8.85185438e+02  4.82828421e+03  2.63360957e+04  1.43651431e+05\n   7.83553260e+05]\n [ 1.00000000e+00  5.70707071e+00  3.25706561e+01  1.85883037e+02\n   1.06084764e+03  6.05433247e+03  3.45525035e+04  1.97193580e+05\n   1.12539771e+06]\n [ 1.00000000e+00  5.95959596e+00  3.55167840e+01  2.11665682e+02\n   1.26144195e+03  7.51768432e+03  4.48023611e+04  2.67003970e+05\n   1.59123578e+06]\n [ 1.00000000e+00  6.21212121e+00  3.85904500e+01  2.39728553e+02\n   1.48922283e+03  9.25123272e+03  5.74697790e+04  3.57009233e+05\n   2.21778463e+06]\n [ 1.00000000e+00  6.46464646e+00  4.17916539e+01  2.70168268e+02\n   1.74654234e+03  1.12907787e+04  7.29908929e+04  4.71860318e+05\n   3.05041013e+06]\n [ 1.00000000e+00  6.71717172e+00  4.51203959e+01  3.03081447e+02\n   2.03585012e+03  1.36751549e+04  9.18583636e+04  6.17028402e+05\n   4.14468573e+06]\n [ 1.00000000e+00  6.96969697e+00  4.85766758e+01  3.38564710e+02\n   2.35969344e+03  1.64463482e+04  1.14626063e+05  7.98908925e+05\n   5.56815311e+06]\n [ 1.00000000e+00  7.22222222e+00  5.21604938e+01  3.76714678e+02\n   2.72071712e+03  1.96496236e+04  1.41913948e+05  1.02493407e+06\n   7.40230163e+06]\n [ 1.00000000e+00  7.47474747e+00  5.58718498e+01  4.17627968e+02\n   3.12166360e+03  2.33336471e+04  1.74413120e+05  1.30369403e+06\n   9.74478364e+06]\n [ 1.00000000e+00  7.72727273e+00  5.97107438e+01  4.61401202e+02\n   3.56537293e+03  2.75506090e+04  2.12891069e+05  1.64506735e+06\n   1.27118841e+07]\n [ 1.00000000e+00  7.97979798e+00  6.36771758e+01  5.08130999e+02\n   4.05478272e+03  3.23563469e+04  2.58197112e+05  2.06036079e+06\n   1.64412629e+07]\n [ 1.00000000e+00  8.23232323e+00  6.77711458e+01  5.57913978e+02\n   4.59292820e+03  3.78104696e+04  3.11268007e+05  2.56245884e+06\n   2.10949895e+07]\n [ 1.00000000e+00  8.48484848e+00  7.19926538e+01  6.10846760e+02\n   5.18294220e+03  4.39764793e+04  3.73133764e+05  3.16598345e+06\n   2.68628899e+07]\n [ 1.00000000e+00  8.73737374e+00  7.63416998e+01  6.67025963e+02\n   5.82805513e+03  5.09218959e+04  4.44923635e+05  3.88746409e+06\n   3.39662266e+07]\n [ 1.00000000e+00  8.98989899e+00  8.08182838e+01  7.26548208e+02\n   6.53159500e+03  5.87183793e+04  5.27872299e+05  4.74551865e+06\n   4.26617333e+07]\n [ 1.00000000e+00  9.24242424e+00  8.54224059e+01  7.89510115e+02\n   7.29698743e+03  6.74418535e+04  6.23326222e+05  5.76104538e+06\n   5.32460255e+07]\n [ 1.00000000e+00  9.49494949e+00  9.01540659e+01  8.56008303e+02\n   8.12775560e+03  7.71726289e+04  7.32750214e+05  6.95742628e+06\n   6.60604111e+07]\n [ 1.00000000e+00  9.74747475e+00  9.50132640e+01  9.26139391e+02\n   9.02752033e+03  8.79955264e+04  8.57734172e+05  8.36074218e+06\n   8.14961233e+07]\n [ 1.00000000e+00  1.00000000e+01  1.00000000e+02  1.00000000e+03\n   1.00000000e+04  1.00000000e+05  1.00000000e+06  1.00000000e+07\n   1.00000000e+08]]\n"
     ]
    },
    {
     "output_type": "display_data",
     "data": {
      "application/vnd.plotly.v1+json": {
       "config": {
        "plotlyServerURL": "https://plot.ly"
       },
       "data": [
        {
         "hoverinfo": "skip",
         "hovertemplate": "x=%{x}<br>y=%{y}<extra></extra>",
         "legendgroup": "",
         "marker": {
          "color": "red",
          "line": {
           "color": "black",
           "width": 2
          },
          "size": 8,
          "symbol": "circle"
         },
         "mode": "markers",
         "name": "",
         "orientation": "v",
         "showlegend": false,
         "type": "scatter",
         "x": [
          -15,
          -14.747474747474747,
          -14.494949494949495,
          -14.242424242424242,
          -13.98989898989899,
          -13.737373737373737,
          -13.484848484848484,
          -13.232323232323232,
          -12.97979797979798,
          -12.727272727272727,
          -12.474747474747474,
          -12.222222222222221,
          -11.969696969696969,
          -11.717171717171716,
          -11.464646464646464,
          -11.212121212121211,
          -10.959595959595958,
          -10.707070707070706,
          -10.454545454545453,
          -10.2020202020202,
          -9.949494949494948,
          -9.696969696969695,
          -9.444444444444443,
          -9.19191919191919,
          -8.93939393939394,
          -8.686868686868687,
          -8.434343434343434,
          -8.181818181818182,
          -7.929292929292929,
          -7.6767676767676765,
          -7.424242424242424,
          -7.171717171717171,
          -6.919191919191919,
          -6.666666666666666,
          -6.4141414141414135,
          -6.161616161616161,
          -5.909090909090908,
          -5.656565656565656,
          -5.404040404040403,
          -5.1515151515151505,
          -4.898989898989898,
          -4.646464646464645,
          -4.393939393939393,
          -4.14141414141414,
          -3.8888888888888875,
          -3.636363636363635,
          -3.3838383838383823,
          -3.1313131313131297,
          -2.878787878787879,
          -2.6262626262626263,
          -2.3737373737373737,
          -2.121212121212121,
          -1.8686868686868685,
          -1.616161616161616,
          -1.3636363636363633,
          -1.1111111111111107,
          -0.8585858585858581,
          -0.6060606060606055,
          -0.3535353535353529,
          -0.10101010101010033,
          0.15151515151515227,
          0.40404040404040487,
          0.6565656565656575,
          0.9090909090909101,
          1.1616161616161627,
          1.4141414141414153,
          1.6666666666666679,
          1.9191919191919204,
          2.171717171717173,
          2.4242424242424256,
          2.6767676767676782,
          2.929292929292931,
          3.1818181818181834,
          3.434343434343436,
          3.6868686868686886,
          3.9393939393939412,
          4.191919191919194,
          4.444444444444446,
          4.696969696969699,
          4.949494949494952,
          5.202020202020204,
          5.454545454545457,
          5.707070707070709,
          5.959595959595962,
          6.212121212121215,
          6.464646464646467,
          6.71717171717172,
          6.969696969696972,
          7.222222222222225,
          7.474747474747478,
          7.72727272727273,
          7.979797979797983,
          8.232323232323235,
          8.484848484848488,
          8.73737373737374,
          8.989898989898993,
          9.242424242424242,
          9.494949494949495,
          9.747474747474747,
          10
         ],
         "xaxis": "x",
         "y": [
          78.8145264368132,
          76.57044197789587,
          70.71559763799429,
          64.98242118444067,
          60.370093944052115,
          65.3427399586452,
          61.61156788395709,
          54.159247074743384,
          58.003581512239464,
          58.3834879095741,
          48.33128578835695,
          36.795974355843946,
          47.0866395724152,
          44.707615558827655,
          35.45226293095519,
          37.09552798829185,
          42.57067476156927,
          30.528245748188354,
          40.415136228881224,
          29.05062722816826,
          28.33758137203389,
          36.28738010218093,
          20.652213387430965,
          26.807644591640848,
          18.164942561966704,
          20.033392459458913,
          17.660222217380895,
          18.282461990297072,
          19.49881119963429,
          11.674908941600714,
          12.573047648824778,
          9.619463523387886,
          15.65352303049416,
          13.972213091561857,
          16.612273532730647,
          7.309122023985634,
          9.49300323493813,
          12.979187122866433,
          12.257189707075586,
          5.971458400976415,
          9.8259333842476,
          4.651954537633046,
          5.199575042174219,
          5.772809120976745,
          7.62186870652512,
          3.103457491597879,
          9.16553203739803,
          3.9524184687017723,
          2.1313608348936883,
          7.337828209406968,
          4.113500561421851,
          8.677871546454561,
          5.1104962781614836,
          15.909683590566768,
          7.277602132779751,
          9.322184880051765,
          14.94174351810746,
          3.9064409293766484,
          17.28984052489481,
          10.620963769116443,
          15.913051080291453,
          11.81360694188862,
          9.773092742100097,
          16.49480186168052,
          17.0008304335297,
          8.882807212985732,
          20.970693279156148,
          14.210734303365376,
          21.276883472494152,
          20.36286777557737,
          17.105467148917633,
          22.046274741345126,
          22.179681727674854,
          23.28883766257723,
          32.93056811313294,
          36.0481138345626,
          34.0362534113516,
          33.383138880805774,
          25.123437456387563,
          33.50118312435098,
          40.22941412798667,
          41.09572522747814,
          43.65965170427655,
          46.970072422070174,
          46.80935287333976,
          53.003991219261195,
          54.79572060002411,
          59.21494030077444,
          56.24193074865577,
          61.29686359911075,
          64.21716354422281,
          68.61993315578066,
          70.11748307935183,
          71.05469017203949,
          73.9101430107204,
          75.28309256555329,
          77.97079594339958,
          85.97823411409078,
          86.96671875950356,
          94.5060568412618
         ],
         "yaxis": "y"
        },
        {
         "line": {
          "color": "green"
         },
         "mode": "lines",
         "name": "Aproximation",
         "type": "scatter",
         "x": [
          -15,
          -14.747474747474747,
          -14.494949494949495,
          -14.242424242424242,
          -13.98989898989899,
          -13.737373737373737,
          -13.484848484848484,
          -13.232323232323232,
          -12.97979797979798,
          -12.727272727272727,
          -12.474747474747474,
          -12.222222222222221,
          -11.969696969696969,
          -11.717171717171716,
          -11.464646464646464,
          -11.212121212121211,
          -10.959595959595958,
          -10.707070707070706,
          -10.454545454545453,
          -10.2020202020202,
          -9.949494949494948,
          -9.696969696969695,
          -9.444444444444443,
          -9.19191919191919,
          -8.93939393939394,
          -8.686868686868687,
          -8.434343434343434,
          -8.181818181818182,
          -7.929292929292929,
          -7.6767676767676765,
          -7.424242424242424,
          -7.171717171717171,
          -6.919191919191919,
          -6.666666666666666,
          -6.4141414141414135,
          -6.161616161616161,
          -5.909090909090908,
          -5.656565656565656,
          -5.404040404040403,
          -5.1515151515151505,
          -4.898989898989898,
          -4.646464646464645,
          -4.393939393939393,
          -4.14141414141414,
          -3.8888888888888875,
          -3.636363636363635,
          -3.3838383838383823,
          -3.1313131313131297,
          -2.878787878787879,
          -2.6262626262626263,
          -2.3737373737373737,
          -2.121212121212121,
          -1.8686868686868685,
          -1.616161616161616,
          -1.3636363636363633,
          -1.1111111111111107,
          -0.8585858585858581,
          -0.6060606060606055,
          -0.3535353535353529,
          -0.10101010101010033,
          0.15151515151515227,
          0.40404040404040487,
          0.6565656565656575,
          0.9090909090909101,
          1.1616161616161627,
          1.4141414141414153,
          1.6666666666666679,
          1.9191919191919204,
          2.171717171717173,
          2.4242424242424256,
          2.6767676767676782,
          2.929292929292931,
          3.1818181818181834,
          3.434343434343436,
          3.6868686868686886,
          3.9393939393939412,
          4.191919191919194,
          4.444444444444446,
          4.696969696969699,
          4.949494949494952,
          5.202020202020204,
          5.454545454545457,
          5.707070707070709,
          5.959595959595962,
          6.212121212121215,
          6.464646464646467,
          6.71717171717172,
          6.969696969696972,
          7.222222222222225,
          7.474747474747478,
          7.72727272727273,
          7.979797979797983,
          8.232323232323235,
          8.484848484848488,
          8.73737373737374,
          8.989898989898993,
          9.242424242424242,
          9.494949494949495,
          9.747474747474747,
          10
         ],
         "y": [
          79.19807597310677,
          74.83816163480054,
          70.98225913662736,
          67.5353922692093,
          64.41695745776045,
          61.55919702449282,
          58.90578259334295,
          56.41050372586139,
          54.03605698040671,
          51.75293069008002,
          49.5383808581325,
          47.375493672874164,
          45.252330247409716,
          43.16114929282112,
          41.09770353671438,
          39.06060580234413,
          37.0507607668241,
          35.07085852022983,
          33.12492615069431,
          31.217933683894646,
          29.355450808622848,
          27.543350923431,
          25.787559142636333,
          24.093841003268285,
          22.467628717835794,
          20.913881921088684,
          19.43697996224387,
          18.040642897442492,
          16.72787844050066,
          15.500952233312507,
          14.36137890056013,
          13.30993145668154,
          12.346666736343439,
          11.470964622961983,
          10.681578953110757,
          9.976698077951255,
          9.354013166117374,
          8.810792435781376,
          8.343959606925067,
          7.950174968135931,
          7.625917555544105,
          7.367567044812241,
          7.171484060386276,
          7.034087709511454,
          6.95192925181385,
          6.921760918543862,
          6.940598998874292,
          7.005780413941601,
          7.115012102615189,
          7.266412646275592,
          7.458545663178581,
          7.690444606278308,
          7.961628701678741,
          8.272109868178706,
          8.622390561672043,
          9.01345259146041,
          9.44673705883243,
          9.924115671558988,
          10.447853791250596,
          11.020565673818819,
          11.645162466579915,
          12.324793628834943,
          13.062782546056683,
          13.862557211109849,
          14.727576949227174,
          15.661256266760061,
          16.666887007018612,
          17.747560099811974,
          18.90608829459597,
          20.144931370431273,
          21.46612541925124,
          22.871217902234903,
          24.361210282376522,
          25.936510139639317,
          27.596894778377095,
          29.341488440003555,
          31.16875533718528,
          33.07651082913033,
          35.06195316084072,
          37.12171829249305,
          39.25196044840745,
          41.448461118361664,
          43.706769347302675,
          46.022376252804506,
          48.390926812917364,
          50.808472070348586,
          53.27176500221294,
          55.778603407885065,
          58.32822327078355,
          60.92174615321184,
          63.56268428667781,
          66.25750712340921,
          69.016273218079,
          71.8533314120503,
          74.788095395747,
          77.84589582805184,
          81.05891429493043,
          84.46720349277572,
          88.11979812526212,
          92.07592110579759
         ]
        },
        {
         "line": {
          "color": "royalblue",
          "dash": "dash"
         },
         "mode": "lines",
         "name": "Fg(x)",
         "type": "scatter",
         "x": [
          -15,
          -14.747474747474747,
          -14.494949494949495,
          -14.242424242424242,
          -13.98989898989899,
          -13.737373737373737,
          -13.484848484848484,
          -13.232323232323232,
          -12.97979797979798,
          -12.727272727272727,
          -12.474747474747474,
          -12.222222222222221,
          -11.969696969696969,
          -11.717171717171716,
          -11.464646464646464,
          -11.212121212121211,
          -10.959595959595958,
          -10.707070707070706,
          -10.454545454545453,
          -10.2020202020202,
          -9.949494949494948,
          -9.696969696969695,
          -9.444444444444443,
          -9.19191919191919,
          -8.93939393939394,
          -8.686868686868687,
          -8.434343434343434,
          -8.181818181818182,
          -7.929292929292929,
          -7.6767676767676765,
          -7.424242424242424,
          -7.171717171717171,
          -6.919191919191919,
          -6.666666666666666,
          -6.4141414141414135,
          -6.161616161616161,
          -5.909090909090908,
          -5.656565656565656,
          -5.404040404040403,
          -5.1515151515151505,
          -4.898989898989898,
          -4.646464646464645,
          -4.393939393939393,
          -4.14141414141414,
          -3.8888888888888875,
          -3.636363636363635,
          -3.3838383838383823,
          -3.1313131313131297,
          -2.878787878787879,
          -2.6262626262626263,
          -2.3737373737373737,
          -2.121212121212121,
          -1.8686868686868685,
          -1.616161616161616,
          -1.3636363636363633,
          -1.1111111111111107,
          -0.8585858585858581,
          -0.6060606060606055,
          -0.3535353535353529,
          -0.10101010101010033,
          0.15151515151515227,
          0.40404040404040487,
          0.6565656565656575,
          0.9090909090909101,
          1.1616161616161627,
          1.4141414141414153,
          1.6666666666666679,
          1.9191919191919204,
          2.171717171717173,
          2.4242424242424256,
          2.6767676767676782,
          2.929292929292931,
          3.1818181818181834,
          3.434343434343436,
          3.6868686868686886,
          3.9393939393939412,
          4.191919191919194,
          4.444444444444446,
          4.696969696969699,
          4.949494949494952,
          5.202020202020204,
          5.454545454545457,
          5.707070707070709,
          5.959595959595962,
          6.212121212121215,
          6.464646464646467,
          6.71717171717172,
          6.969696969696972,
          7.222222222222225,
          7.474747474747478,
          7.72727272727273,
          7.979797979797983,
          8.232323232323235,
          8.484848484848488,
          8.73737373737374,
          8.989898989898993,
          9.242424242424242,
          9.494949494949495,
          9.747474747474747,
          10
         ],
         "y": [
          77.5,
          74.50158147127843,
          71.56693194571983,
          68.69605142332415,
          65.88893990409142,
          63.14559738802162,
          60.466023875114786,
          57.85021936537087,
          55.29818385878991,
          52.8099173553719,
          50.38541985511682,
          48.02469135802469,
          45.72773186409549,
          43.49454137332925,
          41.32511988572594,
          39.21946740128558,
          37.17758392000815,
          35.199469441893676,
          33.28512396694214,
          31.434547495153545,
          29.6477400265279,
          27.924701561065184,
          26.265432098765423,
          24.6699316396286,
          23.138200183654725,
          21.670237730843787,
          20.266044281195796,
          18.925619834710744,
          17.64896439138863,
          16.436077951229464,
          15.28696051423324,
          14.201612080399954,
          13.180032649729615,
          12.222222222222218,
          11.328180797877764,
          10.497908376696252,
          9.731404958677683,
          9.028670543822054,
          8.38970513212937,
          7.81450872359963,
          7.303081318232831,
          6.855422916028974,
          6.47153351698806,
          6.151413121110089,
          5.895061728395061,
          5.702479338842974,
          5.573665952453831,
          5.508621569227629,
          5.507346189164371,
          5.569839812264055,
          5.696102438526681,
          5.88613406795225,
          6.139934700540762,
          6.4575043362922155,
          6.838842975206612,
          7.283950617283951,
          7.792827262524233,
          8.365472910927458,
          9.001887562493625,
          9.702071217222734,
          10.466023875114786,
          11.293745536169782,
          12.185236200387719,
          13.1404958677686,
          14.159524538312422,
          15.242322212019186,
          16.388888888888893,
          17.599224568921546,
          18.873329252117138,
          20.211202938475672,
          21.612845627997153,
          23.078257320681573,
          24.607438016528935,
          26.200387715539243,
          27.85710641771249,
          29.57759412304868,
          31.361850831547812,
          33.20987654320989,
          35.12167125803491,
          37.097234976022875,
          39.136567697173774,
          41.23966942148762,
          43.40654014896441,
          45.63717987960415,
          47.93158861340682,
          50.28976635037243,
          52.71171309050099,
          55.1974288337925,
          57.74691358024694,
          60.360167329864325,
          63.037190082644656,
          65.77798183858793,
          68.58254259769414,
          71.4508723599633,
          74.3829711253954,
          77.37883889399045,
          80.4384756657484,
          83.56188144066931,
          86.7490562187532,
          90
         ]
        }
       ],
       "layout": {
        "height": 700,
        "legend": {
         "tracegroupgap": 0
        },
        "template": {
         "data": {
          "bar": [
           {
            "error_x": {
             "color": "rgb(36,36,36)"
            },
            "error_y": {
             "color": "rgb(36,36,36)"
            },
            "marker": {
             "line": {
              "color": "rgb(234,234,242)",
              "width": 0.5
             }
            },
            "type": "bar"
           }
          ],
          "barpolar": [
           {
            "marker": {
             "line": {
              "color": "rgb(234,234,242)",
              "width": 0.5
             }
            },
            "type": "barpolar"
           }
          ],
          "carpet": [
           {
            "aaxis": {
             "endlinecolor": "rgb(36,36,36)",
             "gridcolor": "white",
             "linecolor": "white",
             "minorgridcolor": "white",
             "startlinecolor": "rgb(36,36,36)"
            },
            "baxis": {
             "endlinecolor": "rgb(36,36,36)",
             "gridcolor": "white",
             "linecolor": "white",
             "minorgridcolor": "white",
             "startlinecolor": "rgb(36,36,36)"
            },
            "type": "carpet"
           }
          ],
          "choropleth": [
           {
            "colorbar": {
             "outlinewidth": 0,
             "tickcolor": "rgb(36,36,36)",
             "ticklen": 8,
             "ticks": "outside",
             "tickwidth": 2
            },
            "type": "choropleth"
           }
          ],
          "contour": [
           {
            "colorbar": {
             "outlinewidth": 0,
             "tickcolor": "rgb(36,36,36)",
             "ticklen": 8,
             "ticks": "outside",
             "tickwidth": 2
            },
            "colorscale": [
             [
              0,
              "rgb(2,4,25)"
             ],
             [
              0.06274509803921569,
              "rgb(24,15,41)"
             ],
             [
              0.12549019607843137,
              "rgb(47,23,57)"
             ],
             [
              0.18823529411764706,
              "rgb(71,28,72)"
             ],
             [
              0.25098039215686274,
              "rgb(97,30,82)"
             ],
             [
              0.3137254901960784,
              "rgb(123,30,89)"
             ],
             [
              0.3764705882352941,
              "rgb(150,27,91)"
             ],
             [
              0.4392156862745098,
              "rgb(177,22,88)"
             ],
             [
              0.5019607843137255,
              "rgb(203,26,79)"
             ],
             [
              0.5647058823529412,
              "rgb(223,47,67)"
             ],
             [
              0.6274509803921569,
              "rgb(236,76,61)"
             ],
             [
              0.6901960784313725,
              "rgb(242,107,73)"
             ],
             [
              0.7529411764705882,
              "rgb(244,135,95)"
             ],
             [
              0.8156862745098039,
              "rgb(245,162,122)"
             ],
             [
              0.8784313725490196,
              "rgb(246,188,153)"
             ],
             [
              0.9411764705882353,
              "rgb(247,212,187)"
             ],
             [
              1,
              "rgb(250,234,220)"
             ]
            ],
            "type": "contour"
           }
          ],
          "contourcarpet": [
           {
            "colorbar": {
             "outlinewidth": 0,
             "tickcolor": "rgb(36,36,36)",
             "ticklen": 8,
             "ticks": "outside",
             "tickwidth": 2
            },
            "type": "contourcarpet"
           }
          ],
          "heatmap": [
           {
            "colorbar": {
             "outlinewidth": 0,
             "tickcolor": "rgb(36,36,36)",
             "ticklen": 8,
             "ticks": "outside",
             "tickwidth": 2
            },
            "colorscale": [
             [
              0,
              "rgb(2,4,25)"
             ],
             [
              0.06274509803921569,
              "rgb(24,15,41)"
             ],
             [
              0.12549019607843137,
              "rgb(47,23,57)"
             ],
             [
              0.18823529411764706,
              "rgb(71,28,72)"
             ],
             [
              0.25098039215686274,
              "rgb(97,30,82)"
             ],
             [
              0.3137254901960784,
              "rgb(123,30,89)"
             ],
             [
              0.3764705882352941,
              "rgb(150,27,91)"
             ],
             [
              0.4392156862745098,
              "rgb(177,22,88)"
             ],
             [
              0.5019607843137255,
              "rgb(203,26,79)"
             ],
             [
              0.5647058823529412,
              "rgb(223,47,67)"
             ],
             [
              0.6274509803921569,
              "rgb(236,76,61)"
             ],
             [
              0.6901960784313725,
              "rgb(242,107,73)"
             ],
             [
              0.7529411764705882,
              "rgb(244,135,95)"
             ],
             [
              0.8156862745098039,
              "rgb(245,162,122)"
             ],
             [
              0.8784313725490196,
              "rgb(246,188,153)"
             ],
             [
              0.9411764705882353,
              "rgb(247,212,187)"
             ],
             [
              1,
              "rgb(250,234,220)"
             ]
            ],
            "type": "heatmap"
           }
          ],
          "heatmapgl": [
           {
            "colorbar": {
             "outlinewidth": 0,
             "tickcolor": "rgb(36,36,36)",
             "ticklen": 8,
             "ticks": "outside",
             "tickwidth": 2
            },
            "colorscale": [
             [
              0,
              "rgb(2,4,25)"
             ],
             [
              0.06274509803921569,
              "rgb(24,15,41)"
             ],
             [
              0.12549019607843137,
              "rgb(47,23,57)"
             ],
             [
              0.18823529411764706,
              "rgb(71,28,72)"
             ],
             [
              0.25098039215686274,
              "rgb(97,30,82)"
             ],
             [
              0.3137254901960784,
              "rgb(123,30,89)"
             ],
             [
              0.3764705882352941,
              "rgb(150,27,91)"
             ],
             [
              0.4392156862745098,
              "rgb(177,22,88)"
             ],
             [
              0.5019607843137255,
              "rgb(203,26,79)"
             ],
             [
              0.5647058823529412,
              "rgb(223,47,67)"
             ],
             [
              0.6274509803921569,
              "rgb(236,76,61)"
             ],
             [
              0.6901960784313725,
              "rgb(242,107,73)"
             ],
             [
              0.7529411764705882,
              "rgb(244,135,95)"
             ],
             [
              0.8156862745098039,
              "rgb(245,162,122)"
             ],
             [
              0.8784313725490196,
              "rgb(246,188,153)"
             ],
             [
              0.9411764705882353,
              "rgb(247,212,187)"
             ],
             [
              1,
              "rgb(250,234,220)"
             ]
            ],
            "type": "heatmapgl"
           }
          ],
          "histogram": [
           {
            "marker": {
             "colorbar": {
              "outlinewidth": 0,
              "tickcolor": "rgb(36,36,36)",
              "ticklen": 8,
              "ticks": "outside",
              "tickwidth": 2
             }
            },
            "type": "histogram"
           }
          ],
          "histogram2d": [
           {
            "colorbar": {
             "outlinewidth": 0,
             "tickcolor": "rgb(36,36,36)",
             "ticklen": 8,
             "ticks": "outside",
             "tickwidth": 2
            },
            "colorscale": [
             [
              0,
              "rgb(2,4,25)"
             ],
             [
              0.06274509803921569,
              "rgb(24,15,41)"
             ],
             [
              0.12549019607843137,
              "rgb(47,23,57)"
             ],
             [
              0.18823529411764706,
              "rgb(71,28,72)"
             ],
             [
              0.25098039215686274,
              "rgb(97,30,82)"
             ],
             [
              0.3137254901960784,
              "rgb(123,30,89)"
             ],
             [
              0.3764705882352941,
              "rgb(150,27,91)"
             ],
             [
              0.4392156862745098,
              "rgb(177,22,88)"
             ],
             [
              0.5019607843137255,
              "rgb(203,26,79)"
             ],
             [
              0.5647058823529412,
              "rgb(223,47,67)"
             ],
             [
              0.6274509803921569,
              "rgb(236,76,61)"
             ],
             [
              0.6901960784313725,
              "rgb(242,107,73)"
             ],
             [
              0.7529411764705882,
              "rgb(244,135,95)"
             ],
             [
              0.8156862745098039,
              "rgb(245,162,122)"
             ],
             [
              0.8784313725490196,
              "rgb(246,188,153)"
             ],
             [
              0.9411764705882353,
              "rgb(247,212,187)"
             ],
             [
              1,
              "rgb(250,234,220)"
             ]
            ],
            "type": "histogram2d"
           }
          ],
          "histogram2dcontour": [
           {
            "colorbar": {
             "outlinewidth": 0,
             "tickcolor": "rgb(36,36,36)",
             "ticklen": 8,
             "ticks": "outside",
             "tickwidth": 2
            },
            "colorscale": [
             [
              0,
              "rgb(2,4,25)"
             ],
             [
              0.06274509803921569,
              "rgb(24,15,41)"
             ],
             [
              0.12549019607843137,
              "rgb(47,23,57)"
             ],
             [
              0.18823529411764706,
              "rgb(71,28,72)"
             ],
             [
              0.25098039215686274,
              "rgb(97,30,82)"
             ],
             [
              0.3137254901960784,
              "rgb(123,30,89)"
             ],
             [
              0.3764705882352941,
              "rgb(150,27,91)"
             ],
             [
              0.4392156862745098,
              "rgb(177,22,88)"
             ],
             [
              0.5019607843137255,
              "rgb(203,26,79)"
             ],
             [
              0.5647058823529412,
              "rgb(223,47,67)"
             ],
             [
              0.6274509803921569,
              "rgb(236,76,61)"
             ],
             [
              0.6901960784313725,
              "rgb(242,107,73)"
             ],
             [
              0.7529411764705882,
              "rgb(244,135,95)"
             ],
             [
              0.8156862745098039,
              "rgb(245,162,122)"
             ],
             [
              0.8784313725490196,
              "rgb(246,188,153)"
             ],
             [
              0.9411764705882353,
              "rgb(247,212,187)"
             ],
             [
              1,
              "rgb(250,234,220)"
             ]
            ],
            "type": "histogram2dcontour"
           }
          ],
          "mesh3d": [
           {
            "colorbar": {
             "outlinewidth": 0,
             "tickcolor": "rgb(36,36,36)",
             "ticklen": 8,
             "ticks": "outside",
             "tickwidth": 2
            },
            "type": "mesh3d"
           }
          ],
          "parcoords": [
           {
            "line": {
             "colorbar": {
              "outlinewidth": 0,
              "tickcolor": "rgb(36,36,36)",
              "ticklen": 8,
              "ticks": "outside",
              "tickwidth": 2
             }
            },
            "type": "parcoords"
           }
          ],
          "pie": [
           {
            "automargin": true,
            "type": "pie"
           }
          ],
          "scatter": [
           {
            "marker": {
             "colorbar": {
              "outlinewidth": 0,
              "tickcolor": "rgb(36,36,36)",
              "ticklen": 8,
              "ticks": "outside",
              "tickwidth": 2
             }
            },
            "type": "scatter"
           }
          ],
          "scatter3d": [
           {
            "line": {
             "colorbar": {
              "outlinewidth": 0,
              "tickcolor": "rgb(36,36,36)",
              "ticklen": 8,
              "ticks": "outside",
              "tickwidth": 2
             }
            },
            "marker": {
             "colorbar": {
              "outlinewidth": 0,
              "tickcolor": "rgb(36,36,36)",
              "ticklen": 8,
              "ticks": "outside",
              "tickwidth": 2
             }
            },
            "type": "scatter3d"
           }
          ],
          "scattercarpet": [
           {
            "marker": {
             "colorbar": {
              "outlinewidth": 0,
              "tickcolor": "rgb(36,36,36)",
              "ticklen": 8,
              "ticks": "outside",
              "tickwidth": 2
             }
            },
            "type": "scattercarpet"
           }
          ],
          "scattergeo": [
           {
            "marker": {
             "colorbar": {
              "outlinewidth": 0,
              "tickcolor": "rgb(36,36,36)",
              "ticklen": 8,
              "ticks": "outside",
              "tickwidth": 2
             }
            },
            "type": "scattergeo"
           }
          ],
          "scattergl": [
           {
            "marker": {
             "colorbar": {
              "outlinewidth": 0,
              "tickcolor": "rgb(36,36,36)",
              "ticklen": 8,
              "ticks": "outside",
              "tickwidth": 2
             }
            },
            "type": "scattergl"
           }
          ],
          "scattermapbox": [
           {
            "marker": {
             "colorbar": {
              "outlinewidth": 0,
              "tickcolor": "rgb(36,36,36)",
              "ticklen": 8,
              "ticks": "outside",
              "tickwidth": 2
             }
            },
            "type": "scattermapbox"
           }
          ],
          "scatterpolar": [
           {
            "marker": {
             "colorbar": {
              "outlinewidth": 0,
              "tickcolor": "rgb(36,36,36)",
              "ticklen": 8,
              "ticks": "outside",
              "tickwidth": 2
             }
            },
            "type": "scatterpolar"
           }
          ],
          "scatterpolargl": [
           {
            "marker": {
             "colorbar": {
              "outlinewidth": 0,
              "tickcolor": "rgb(36,36,36)",
              "ticklen": 8,
              "ticks": "outside",
              "tickwidth": 2
             }
            },
            "type": "scatterpolargl"
           }
          ],
          "scatterternary": [
           {
            "marker": {
             "colorbar": {
              "outlinewidth": 0,
              "tickcolor": "rgb(36,36,36)",
              "ticklen": 8,
              "ticks": "outside",
              "tickwidth": 2
             }
            },
            "type": "scatterternary"
           }
          ],
          "surface": [
           {
            "colorbar": {
             "outlinewidth": 0,
             "tickcolor": "rgb(36,36,36)",
             "ticklen": 8,
             "ticks": "outside",
             "tickwidth": 2
            },
            "colorscale": [
             [
              0,
              "rgb(2,4,25)"
             ],
             [
              0.06274509803921569,
              "rgb(24,15,41)"
             ],
             [
              0.12549019607843137,
              "rgb(47,23,57)"
             ],
             [
              0.18823529411764706,
              "rgb(71,28,72)"
             ],
             [
              0.25098039215686274,
              "rgb(97,30,82)"
             ],
             [
              0.3137254901960784,
              "rgb(123,30,89)"
             ],
             [
              0.3764705882352941,
              "rgb(150,27,91)"
             ],
             [
              0.4392156862745098,
              "rgb(177,22,88)"
             ],
             [
              0.5019607843137255,
              "rgb(203,26,79)"
             ],
             [
              0.5647058823529412,
              "rgb(223,47,67)"
             ],
             [
              0.6274509803921569,
              "rgb(236,76,61)"
             ],
             [
              0.6901960784313725,
              "rgb(242,107,73)"
             ],
             [
              0.7529411764705882,
              "rgb(244,135,95)"
             ],
             [
              0.8156862745098039,
              "rgb(245,162,122)"
             ],
             [
              0.8784313725490196,
              "rgb(246,188,153)"
             ],
             [
              0.9411764705882353,
              "rgb(247,212,187)"
             ],
             [
              1,
              "rgb(250,234,220)"
             ]
            ],
            "type": "surface"
           }
          ],
          "table": [
           {
            "cells": {
             "fill": {
              "color": "rgb(231,231,240)"
             },
             "line": {
              "color": "white"
             }
            },
            "header": {
             "fill": {
              "color": "rgb(183,183,191)"
             },
             "line": {
              "color": "white"
             }
            },
            "type": "table"
           }
          ]
         },
         "layout": {
          "annotationdefaults": {
           "arrowcolor": "rgb(67,103,167)"
          },
          "autotypenumbers": "strict",
          "coloraxis": {
           "colorbar": {
            "outlinewidth": 0,
            "tickcolor": "rgb(36,36,36)",
            "ticklen": 8,
            "ticks": "outside",
            "tickwidth": 2
           }
          },
          "colorscale": {
           "sequential": [
            [
             0,
             "rgb(2,4,25)"
            ],
            [
             0.06274509803921569,
             "rgb(24,15,41)"
            ],
            [
             0.12549019607843137,
             "rgb(47,23,57)"
            ],
            [
             0.18823529411764706,
             "rgb(71,28,72)"
            ],
            [
             0.25098039215686274,
             "rgb(97,30,82)"
            ],
            [
             0.3137254901960784,
             "rgb(123,30,89)"
            ],
            [
             0.3764705882352941,
             "rgb(150,27,91)"
            ],
            [
             0.4392156862745098,
             "rgb(177,22,88)"
            ],
            [
             0.5019607843137255,
             "rgb(203,26,79)"
            ],
            [
             0.5647058823529412,
             "rgb(223,47,67)"
            ],
            [
             0.6274509803921569,
             "rgb(236,76,61)"
            ],
            [
             0.6901960784313725,
             "rgb(242,107,73)"
            ],
            [
             0.7529411764705882,
             "rgb(244,135,95)"
            ],
            [
             0.8156862745098039,
             "rgb(245,162,122)"
            ],
            [
             0.8784313725490196,
             "rgb(246,188,153)"
            ],
            [
             0.9411764705882353,
             "rgb(247,212,187)"
            ],
            [
             1,
             "rgb(250,234,220)"
            ]
           ],
           "sequentialminus": [
            [
             0,
             "rgb(2,4,25)"
            ],
            [
             0.06274509803921569,
             "rgb(24,15,41)"
            ],
            [
             0.12549019607843137,
             "rgb(47,23,57)"
            ],
            [
             0.18823529411764706,
             "rgb(71,28,72)"
            ],
            [
             0.25098039215686274,
             "rgb(97,30,82)"
            ],
            [
             0.3137254901960784,
             "rgb(123,30,89)"
            ],
            [
             0.3764705882352941,
             "rgb(150,27,91)"
            ],
            [
             0.4392156862745098,
             "rgb(177,22,88)"
            ],
            [
             0.5019607843137255,
             "rgb(203,26,79)"
            ],
            [
             0.5647058823529412,
             "rgb(223,47,67)"
            ],
            [
             0.6274509803921569,
             "rgb(236,76,61)"
            ],
            [
             0.6901960784313725,
             "rgb(242,107,73)"
            ],
            [
             0.7529411764705882,
             "rgb(244,135,95)"
            ],
            [
             0.8156862745098039,
             "rgb(245,162,122)"
            ],
            [
             0.8784313725490196,
             "rgb(246,188,153)"
            ],
            [
             0.9411764705882353,
             "rgb(247,212,187)"
            ],
            [
             1,
             "rgb(250,234,220)"
            ]
           ]
          },
          "colorway": [
           "rgb(76,114,176)",
           "rgb(221,132,82)",
           "rgb(85,168,104)",
           "rgb(196,78,82)",
           "rgb(129,114,179)",
           "rgb(147,120,96)",
           "rgb(218,139,195)",
           "rgb(140,140,140)",
           "rgb(204,185,116)",
           "rgb(100,181,205)"
          ],
          "font": {
           "color": "rgb(36,36,36)"
          },
          "geo": {
           "bgcolor": "white",
           "lakecolor": "white",
           "landcolor": "rgb(234,234,242)",
           "showlakes": true,
           "showland": true,
           "subunitcolor": "white"
          },
          "hoverlabel": {
           "align": "left"
          },
          "hovermode": "closest",
          "paper_bgcolor": "white",
          "plot_bgcolor": "rgb(234,234,242)",
          "polar": {
           "angularaxis": {
            "gridcolor": "white",
            "linecolor": "white",
            "showgrid": true,
            "ticks": ""
           },
           "bgcolor": "rgb(234,234,242)",
           "radialaxis": {
            "gridcolor": "white",
            "linecolor": "white",
            "showgrid": true,
            "ticks": ""
           }
          },
          "scene": {
           "xaxis": {
            "backgroundcolor": "rgb(234,234,242)",
            "gridcolor": "white",
            "gridwidth": 2,
            "linecolor": "white",
            "showbackground": true,
            "showgrid": true,
            "ticks": "",
            "zerolinecolor": "white"
           },
           "yaxis": {
            "backgroundcolor": "rgb(234,234,242)",
            "gridcolor": "white",
            "gridwidth": 2,
            "linecolor": "white",
            "showbackground": true,
            "showgrid": true,
            "ticks": "",
            "zerolinecolor": "white"
           },
           "zaxis": {
            "backgroundcolor": "rgb(234,234,242)",
            "gridcolor": "white",
            "gridwidth": 2,
            "linecolor": "white",
            "showbackground": true,
            "showgrid": true,
            "ticks": "",
            "zerolinecolor": "white"
           }
          },
          "shapedefaults": {
           "fillcolor": "rgb(67,103,167)",
           "line": {
            "width": 0
           },
           "opacity": 0.5
          },
          "ternary": {
           "aaxis": {
            "gridcolor": "white",
            "linecolor": "white",
            "showgrid": true,
            "ticks": ""
           },
           "baxis": {
            "gridcolor": "white",
            "linecolor": "white",
            "showgrid": true,
            "ticks": ""
           },
           "bgcolor": "rgb(234,234,242)",
           "caxis": {
            "gridcolor": "white",
            "linecolor": "white",
            "showgrid": true,
            "ticks": ""
           }
          },
          "xaxis": {
           "automargin": true,
           "gridcolor": "white",
           "linecolor": "white",
           "showgrid": true,
           "ticks": "",
           "title": {
            "standoff": 15
           },
           "zerolinecolor": "white"
          },
          "yaxis": {
           "automargin": true,
           "gridcolor": "white",
           "linecolor": "white",
           "showgrid": true,
           "ticks": "",
           "title": {
            "standoff": 15
           },
           "zerolinecolor": "white"
          }
         }
        },
        "title": {
         "text": "p = 8"
        },
        "width": 800,
        "xaxis": {
         "anchor": "y",
         "domain": [
          0,
          1
         ],
         "title": {
          "text": "x"
         }
        },
        "yaxis": {
         "anchor": "x",
         "domain": [
          0,
          1
         ],
         "title": {
          "text": "y"
         }
        }
       }
      }
     },
     "metadata": {}
    }
   ],
   "source": [
    "print('N = 100')\n",
    "apromixate(100)"
   ]
  },
  {
   "cell_type": "code",
   "execution_count": null,
   "metadata": {},
   "outputs": [],
   "source": []
  }
 ]
}